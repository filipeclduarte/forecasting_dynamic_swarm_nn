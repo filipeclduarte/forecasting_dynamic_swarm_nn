{
 "cells": [
  {
   "cell_type": "code",
   "execution_count": 8,
   "metadata": {},
   "outputs": [],
   "source": [
    "import pandas as pd\n",
    "import numpy as np\n",
    "\n",
    "import matplotlib.pyplot as plt\n",
    "\n",
    "%matplotlib inline\n",
    "plt.rcParams['figure.figsize'] = (12.0, 9.0) # set default size of plots"
   ]
  },
  {
   "cell_type": "code",
   "execution_count": 32,
   "metadata": {},
   "outputs": [],
   "source": [
    "###  Modelo para Regressão Com backpropagation\n",
    "\n",
    "def layer_sizes2(X, Y, n_h=4):\n",
    "    \"\"\"\n",
    "    Argumentos:\n",
    "    X -- shape do input (quantidade de features, quantidade de exemplos)\n",
    "    Y -- shape do target (1, quantidade de exemplos)\n",
    "    \"\"\"\n",
    "    n_x = X.shape[0]\n",
    "    n_y = Y.shape[0]\n",
    "    return (n_x, n_h, n_y)\n",
    "\n",
    "def initialize_parameters2(n_x, n_h, n_y):\n",
    "    \"\"\"\n",
    "    Argument:\n",
    "    n_x -- tamanho da camada de entrada\n",
    "    n_h -- tamanho da camada escondida\n",
    "    n_y -- tamanho da camada de saída\n",
    "    \n",
    "    Retorna:\n",
    "    params -- dicionário com os parâmetros (pesos) iniciais do modelo:\n",
    "                    W1 -- weight matrix of shape (n_h, n_x)\n",
    "                    b1 -- bias vector of shape (n_h, 1)\n",
    "                    W2 -- weight matrix of shape (n_y, n_h)\n",
    "                    b2 -- bias vector of shape (n_y, 1)\n",
    "    \"\"\"\n",
    "    \n",
    "\n",
    "    W1 = np.random.uniform(low = -1/np.sqrt(n_h), high = 1/np.sqrt(n_h), size = (n_h, n_x))\n",
    "    #W1 = np.random.uniform(low = -1/np.sqrt(n_h), high = 1/np.sqrt(n_h), size = (n_h, n_x)) * 0.01\n",
    "    #b1 = np.zeros((n_h, 1))\n",
    "    b1 = np.random.uniform(low = -1/np.sqrt(n_h), high = 1/np.sqrt(n_h),size = (n_h, 1))\n",
    "    W2 = np.random.uniform(low = -1/np.sqrt(n_y), high = 1/np.sqrt(n_y),size = (n_y, n_h))\n",
    "    #b2 = np.zeros((n_y, 1))\n",
    "    b2 = np.random.uniform(low = -1/np.sqrt(n_y), high = 1/np.sqrt(n_y),size = (n_y, 1))\n",
    "    \n",
    "    \n",
    "    assert (W1.shape == (n_h, n_x))\n",
    "    assert (b1.shape == (n_h, 1))\n",
    "    assert (W2.shape == (n_y, n_h))\n",
    "    assert (b2.shape == (n_y, 1))\n",
    "    \n",
    "    parameters = {\"W1\": W1,\n",
    "                  \"b1\": b1,\n",
    "                  \"W2\": W2,\n",
    "                  \"b2\": b2}\n",
    "    \n",
    "    return parameters\n",
    "\n",
    "def forward_propagation2(X, parameters):\n",
    "    \"\"\"\n",
    "    Argumentos:\n",
    "    X -- input de tamanho (n_x, m)\n",
    "    parametros -- python dicionário contendo os parâmetros (saída da função de inicialização dos parametros)\n",
    "    \n",
    "    Retorna:\n",
    "    A2 -- A saída da função sigmoidal ou tangente hiberbólica ou relu\n",
    "    cache -- dicionário contendo \"Z1\", \"A1\", \"Z2\" e \"A2\"\n",
    "    \"\"\"\n",
    "\n",
    "    # Recupere cada parâmetro do dicionário parameters\n",
    "    W1 = parameters['W1']\n",
    "    b1 = parameters['b1']\n",
    "    W2 = parameters['W2']\n",
    "    b2 = parameters['b2']\n",
    "    \n",
    "    # Implementando a Forward Propagation para calcular A1 tanh e A2 linear\n",
    "    Z1 = np.dot(W1,X) + b1\n",
    "    A1 = Z1 # linear\n",
    "    Z2 = np.dot(W2, A1) + b2\n",
    "    A2 = 1.7159*np.tanh(2/3 * Z2)\n",
    "    \n",
    "    assert(A2.shape == (1, X.shape[1]))\n",
    "    \n",
    "    cache = {\"Z1\": Z1,\n",
    "             \"A1\": A1,\n",
    "             \"Z2\": Z2,\n",
    "             \"A2\": A2}\n",
    "    \n",
    "    return A2, cache\n",
    "\n",
    "\n",
    "def compute_cost2(A2, Y, parameters):\n",
    "    \"\"\"\n",
    "    Computa o custo dado os argumentos\n",
    "    \n",
    "    Arguments:\n",
    "    A2 -- Saída linear da segunda ativação de shape (1, qtd de exemplos)\n",
    "    Y -- Valor verdadeiro do rótulo de shape (1, qtd de exemplos)\n",
    "    parameters -- dicionário contendo os parâmetros W1, b1, W2 and b2\n",
    "    \n",
    "    Retorna:\n",
    "    cost\n",
    "    \n",
    "    \"\"\"\n",
    "    \n",
    "    m = Y.shape[1] # quantidade de exemplos\n",
    "\n",
    "    # Computa o custo (cost)\n",
    "    err = A2 - Y\n",
    "    cost = 1/m * np.sum(err**2)\n",
    "    \n",
    "    cost = float(np.squeeze(cost))  # garanta que o custo tem a dimensão esperada\n",
    "    assert(isinstance(cost, float))\n",
    "    \n",
    "    return cost\n",
    "\n",
    "def backward_propagation2(parameters, cache, X, Y):\n",
    "    \"\"\"\n",
    "    Implementa a retropropagação \n",
    "    \n",
    "    Argumentos:\n",
    "    parameters -- dicionário contendo os parâmetros\n",
    "    cache -- dicionário contendo \"Z1\", \"A1\", \"Z2\" and \"A2\".\n",
    "    X -- input de shape (qtd de features, qtd de examplos)\n",
    "    Y -- valor verdadeiro do rótulo de shape (1, qtd de examplos)\n",
    "    \n",
    "    Retorna:\n",
    "    grads -- dicionário contendo os gradientes em relação aos diferentes parâmetros\n",
    "    \"\"\"\n",
    "    m = X.shape[1]\n",
    "    \n",
    "    # Primeiro, recuperamos W1 e W2 do dicinário \"parameters\"\n",
    "    W1 = parameters['W1']\n",
    "    W2 = parameters['W2']\n",
    "        \n",
    "    # Recuperamos também A1 e A2 do dicionário \"cache\".\n",
    "    A1 = cache['A1']\n",
    "    A2 = cache['A2']\n",
    "    Z2 = cache['Z2']\n",
    "    \n",
    "    # Retropropagação: calcula-se dW1, db1, dW2, db2.\n",
    "    dZ2 = (A2 - Y)* (2/3/1.7159 - np.tanh(2/3*Z2)**2)\n",
    "    #dZ2 = (A2 - Y)*(1.14393 - (A2**2)/1.5)\n",
    "    dW2 = 1/m * np.dot(dZ2,A1.T)\n",
    "    db2 = 1/m * np.sum(dZ2, axis = 1, keepdims=True)\n",
    "    #dZ1 = np.dot(W2.T, dZ2) * (1-np.power(A1, 2))\n",
    "    #dZ1 = np.dot(W2.T, dZ2) * A1\n",
    "    dZ1 = np.dot(W2.T, dZ2)\n",
    "    dW1 = 1/m * np.dot(dZ1, X.T)\n",
    "    db1 = 1/m * np.sum(dZ1, axis = 1, keepdims=True)\n",
    "    \n",
    "\n",
    "    grads = {\"dW1\": dW1,\n",
    "             \"db1\": db1,\n",
    "             \"dW2\": dW2,\n",
    "             \"db2\": db2}\n",
    "    \n",
    "    return grads\n",
    "\n",
    "def update_parameters2(parameters, grads, learning_rate = 1.2):\n",
    "    \"\"\"\n",
    "    Atualiza os parâmetros utilizando o gradient descendente \n",
    "    \n",
    "    Argumentos:\n",
    "    parameters -- dicionário contendo os parâmetros\n",
    "    grads -- dicionário contendo os gradientes\n",
    "    \n",
    "    Retorna:\n",
    "    parameters -- dicionário contendo os parâmetros atualizados\n",
    "    \"\"\"\n",
    "    # Recupera-se cada parâmetro do dicionário \"parameters\"\n",
    "    W1 = parameters['W1']\n",
    "    b1 = parameters['b1']\n",
    "    W2 = parameters['W2']\n",
    "    b2 = parameters['b2']\n",
    "    \n",
    "    # Recupera-se cada gradiente do dicionário \"grads\"\n",
    "    dW1 = grads['dW1']\n",
    "    db1 = grads['db1']\n",
    "    dW2 = grads['dW2']\n",
    "    db2 = grads['db2']\n",
    "    \n",
    "    # Regra de atualização para cada parâmetro\n",
    "    W1 = W1 - learning_rate * dW1\n",
    "    b1 = b1 - learning_rate * db1\n",
    "    W2 = W2 - learning_rate * dW2\n",
    "    b2 = b2 - learning_rate * db2\n",
    "    \n",
    "    parameters = {\"W1\": W1,\n",
    "                  \"b1\": b1,\n",
    "                  \"W2\": W2,\n",
    "                  \"b2\": b2}\n",
    "    \n",
    "    return parameters\n",
    "\n",
    "\n",
    "def nn_model2(X, Y, n_h, num_iteracoes, perc_treino, perc_val,print_cost = False):\n",
    "#def nn_model2(X, Y, X_val, Y_val, X_test, Y_test, n_h, num_iteracoes, print_cost=False):\n",
    "    \"\"\"\n",
    "    Argumentos:\n",
    "    X -- dataset de shape (2, qtd de examplos)\n",
    "    Y -- labels de shape (1, qtd de examplos)\n",
    "    n_h -- tamanho da camada escondida\n",
    "    num_iteracoes\n",
    "    print_cost -- se True, mostra o custo a cada 1000 iterações\n",
    "    \n",
    "    Retorna:\n",
    "    parameters -- parâmetros aprendidos pelo modelo. Eles podem ser utilizados para fazer previsões (predict).\n",
    "    \"\"\"\n",
    "    \n",
    "    treino_mse = []\n",
    "    val_mse = []\n",
    "    teste_mse = []\n",
    "    \n",
    "#     n_x = layer_sizes2(X, Y)[0]\n",
    "#     n_y = layer_sizes2(X, Y)[2]\n",
    "    \n",
    "    n_x = layer_sizes2(X[0].T, Y[0].T)[0]\n",
    "    n_y = layer_sizes2(X[0].T, Y[0].T)[2]\n",
    "\n",
    "    # Inicialização dos parâmetros\n",
    "    parameters = initialize_parameters2(n_x, n_h, n_y)\n",
    "    \n",
    "    for janela in np.arange(len(Y)):\n",
    "        X_treino, Y_treino, X_teste, Y_teste, X_val, Y_val = divisao_dados_temporais(X[janela], Y[janela], perc_treino, perc_val)\n",
    "        \n",
    "        X_tv = np.hstack((X_treino.T, X_val.T))\n",
    "        Y_tv = np.hstack((Y_treino.T, Y_val.T))\n",
    "        \n",
    "        # Gradiente descendente (loop)\n",
    "        for i in range(0, num_iteracoes):\n",
    "        \n",
    "            # Forward propagation. Inputs: \"X, parameters\". Outputs: \"A2, cache\".\n",
    "            A2, cache = forward_propagation2(X_treino.T, parameters)\n",
    "        \n",
    "            # Função de custo. Inputs: \"A2, Y, parameters\". Outputs: \"cost\".\n",
    "            cost = compute_cost2(A2, Y_treino.T, parameters)\n",
    " \n",
    "            # Retropropagação (Backpropagation). Inputs: \"parameters, cache, X, Y\". Outputs: \"grads\".\n",
    "            grads = backward_propagation2(parameters, cache, X_treino.T, Y_treino.T)\n",
    " \n",
    "            # Atualização dos parâmetros pelo gradiente descendente. Inputs: \"parameters, grads\". Outputs: \"parameters\".\n",
    "            parameters = update_parameters2(parameters, grads, learning_rate=1.2)\n",
    "        \n",
    "            # computando mse de treino, teste e validacao\n",
    "            ## validacao\n",
    "            A2_val = predict2(parameters, X_val.T)\n",
    "            mse_val_temp = compute_cost2(A2_val, Y_val.T, parameters)\n",
    "            val_mse.append(mse_val_temp)\n",
    "        \n",
    "            ## treino e val\n",
    "            A2_tv = predict2(parameters, X_tv)\n",
    "            mse_tv_temp = compute_cost2(A2_tv, Y_tv, parameters)\n",
    "            treino_mse.append(mse_tv_temp)\n",
    "        \n",
    "            ## teste\n",
    "            A2_test = predict2(parameters, X_teste.T)\n",
    "            mse_test_temp = compute_cost2(A2_test, Y_teste.T, parameters)\n",
    "            teste_mse.append(mse_test_temp)\n",
    "        \n",
    "    return parameters, treino_mse, val_mse, teste_mse\n",
    "\n",
    "def predict2(parameters, X):\n",
    "    \"\"\"\n",
    "    Utiliza os parâmetros aprendidos para prever o valor da saída para cada exemplo X \n",
    "    \n",
    "    Argumentos:\n",
    "    parameters -- dicionário contendo os parâmetros\n",
    "    X -- input de tamanho (n_x, m)\n",
    "    \n",
    "    Retorna\n",
    "    predictions -- vetor de valores previstos do modelo treinado\n",
    "    \"\"\"\n",
    "    \n",
    "    A2, cache = forward_propagation2(X, parameters)\n",
    "    predictions = A2\n",
    "    \n",
    "    return predictions"
   ]
  },
  {
   "cell_type": "code",
   "execution_count": 33,
   "metadata": {},
   "outputs": [],
   "source": [
    "#### Resilient Backpropagation RProp ####\n",
    "\n",
    "def rprop_update(parameter, grad_old, grad_new, step_size,learning_rate_max, learning_rate_min):\n",
    "    \n",
    "    # dimensões\n",
    "    n_i = parameter.shape[0]\n",
    "    n_j = parameter.shape[1]\n",
    "\n",
    "    # transformando em vetor\n",
    "    parameter.reshape(-1, 1)\n",
    "    grad_old.reshape(-1, 1)\n",
    "    grad_new.reshape(-1, 1)\n",
    "    step_size.reshape(-1, 1)\n",
    "\n",
    "    diffs = np.multiply(grad_old, grad_new)\n",
    "    pos_indexes = np.where(diffs > 0)\n",
    "    neg_indexes = np.where(diffs < 0)\n",
    "    zero_indexes = np.where(diffs == 0)\n",
    "\n",
    "    # positive\n",
    "    if np.any(pos_indexes):\n",
    "        # calcular o peso do step size\n",
    "        step_size[pos_indexes] = np.minimum(step_size[pos_indexes] * learning_rate_max, step_size.max())       \n",
    "        # calcular a direção do peso do step size\n",
    "        grad_new[pos_indexes] = np.multiply(-np.sign(grad_new[pos_indexes]), step_size[pos_indexes])\n",
    "\n",
    "        # calcular o novo peso do parâmetro\n",
    "        parameter[pos_indexes] += grad_new[pos_indexes]\n",
    "\n",
    "\n",
    "    if np.any(neg_indexes):\n",
    "        # calcular o peso do step size\n",
    "        step_size[neg_indexes] = np.maximum(step_size[neg_indexes] * learning_rate_min, step_size.min())\n",
    "            \n",
    "        # calcular a direção do peso \n",
    "        grad_new[neg_indexes] = 0 \n",
    "\n",
    "    if np.any(zero_indexes):\n",
    "        # calcular o peso do step size\n",
    "        grad_new[zero_indexes] = np.multiply(-np.sign(grad_new[zero_indexes]), step_size[zero_indexes])\n",
    "        parameter[zero_indexes] += grad_new[zero_indexes]\n",
    "    \n",
    "\n",
    "    parameter.reshape(n_i, n_j)\n",
    "    grad_old.reshape(n_i, n_j)\n",
    "    grad_new.reshape(n_i, n_j)\n",
    "    step_size.reshape(n_i, n_j)\n",
    "\n",
    "    return parameter, grad_new, step_size\n",
    "    \n",
    "\n",
    "def update_parameters_rprop2(parameters, grads_old, grads_new, step_size,learning_rate_max = 1.2, learning_rate_min = 0.5):\n",
    "    \"\"\"\n",
    "    Atualiza os parâmetros utilizando o Resilient backpropagation\n",
    "    \n",
    "    Argumentos:\n",
    "    parameters -- dicionário contendo os parâmetros\n",
    "    grads -- dicionário contendo os gradientes\n",
    "    \n",
    "    Retorna:\n",
    "    parameters -- dicionário contendo os parâmetros atualizados\n",
    "    \"\"\"\n",
    "    # Recupera-se cada parâmetro do dicionário \"parameters\"\n",
    "    W1 = parameters['W1']\n",
    "    b1 = parameters['b1']\n",
    "    W2 = parameters['W2']\n",
    "    b2 = parameters['b2']\n",
    "    \n",
    "    # Recupera-se cada gradiente do dicionário \"grads_old\" e \"grads_new\"\n",
    "    dW1_old = grads_old['dW1']\n",
    "    db1_old = grads_old['db1']\n",
    "    dW2_old = grads_old['dW2']\n",
    "    db2_old = grads_old['db2']\n",
    "\n",
    "    dW1_new = grads_new['dW1']\n",
    "    db1_new = grads_new['db1']\n",
    "    dW2_new = grads_new['dW2']\n",
    "    db2_new = grads_new['db2']\n",
    "\n",
    "    W1_step = step_size['W1']\n",
    "    b1_step = step_size['b1']\n",
    "    W2_step = step_size['W2']\n",
    "    b2_step = step_size['b2']\n",
    "\n",
    "    W2, dW2_new, W2_step = rprop_update(W2,dW2_old, dW2_new, W2_step, learning_rate_max, learning_rate_min)\n",
    "    b2, db2_new, b2_step = rprop_update(b2,db2_old, db2_new, b2_step, learning_rate_max, learning_rate_min)\n",
    "    W1, dW1_new, W1_step = rprop_update(W1, dW1_old, dW1_new, W1_step, learning_rate_max, learning_rate_min)\n",
    "    b1, db1_new, b1_step = rprop_update(b1,db1_old, db1_new, b1_step, learning_rate_max, learning_rate_min) \n",
    "\n",
    "    parameters = {\"W1\": W1,\n",
    "                  \"b1\": b1,\n",
    "                  \"W2\": W2,\n",
    "                  \"b2\": b2}\n",
    "    \n",
    "    grads = {\"dW1\": dW1_new,\n",
    "             \"db1\": db1_new,\n",
    "             \"dW2\": dW2_new,\n",
    "             \"db2\": db2_new}\n",
    "\n",
    "    step_size = {\"W1\": W1_step,\n",
    "                 \"b1\": b1_step,\n",
    "                 \"W2\": W2_step,\n",
    "                 \"b2\": b2_step}\n",
    "\n",
    "    return parameters, grads, step_size\n",
    "\n",
    "def nn_model_rprop(X, Y, n_h, num_iteracoes, print_cost=False):\n",
    "    \"\"\"\n",
    "    Argumentos:\n",
    "    X -- dataset de shape (2, qtd de examplos)\n",
    "    Y -- labels de shape (1, qtd de examplos)\n",
    "    n_h -- tamanho da camada escondida\n",
    "    num_iteracoes -- quantidade de iterações do gradiente descendente\n",
    "    print_cost -- se True, mostra o custo a cada 1000 iterações\n",
    "    \n",
    "    Retorna:\n",
    "    parameters -- parâmetros aprendidos pelo modelo. Eles podem ser utilizados para fazer previsões (predict).\n",
    "    \"\"\"\n",
    "    \n",
    "    n_x = layer_sizes2(X, Y)[0]\n",
    "    n_y = layer_sizes2(X, Y)[2]\n",
    "    \n",
    "    # Inicialização dos parâmetros\n",
    "    parameters = initialize_parameters2(n_x, n_h, n_y)\n",
    "    \n",
    "    # Gradiente descendente (loop)\n",
    "    grads_old = {\"dW1\": np.zeros((n_h, n_x)),\n",
    "                 \"db1\": np.zeros((n_h, 1)),\n",
    "                 \"dW2\": np.zeros((n_y, n_h)),\n",
    "                 \"db2\": np.zeros((n_y, 1))}\n",
    "\n",
    "    step_size = {\"W1\": np.random.rand(n_h, n_x),\n",
    "                \"b1\": np.random.rand(n_h, 1),\n",
    "                \"W2\": np.random.rand(n_y, n_h),\n",
    "                \"b2\": np.random.rand(n_y, 1)}\n",
    "\n",
    "    for i in range(0, num_iteracoes):\n",
    "         \n",
    "        # Forward propagation. Inputs: \"X, parameters\". Outputs: \"A2, cache\".\n",
    "        A2, cache = forward_propagation2(X, parameters)\n",
    "        \n",
    "        # Função de custo. Inputs: \"A2, Y, parameters\". Outputs: \"cost\".\n",
    "        cost = compute_cost2(A2, Y, parameters)\n",
    " \n",
    "        # Retropropagação (Backpropagation). Inputs: \"parameters, cache, X, Y\". Outputs: \"grads\".\n",
    "        grads_new = backward_propagation2(parameters, cache, X, Y)\n",
    " \n",
    "        # Atualização dos parâmetros pelo gradiente descendente. Inputs: \"parameters, grads\". Outputs: \"parameters\".\n",
    "        parameters, grads_old, step_size = update_parameters_rprop2(parameters, grads_old, grads_new, step_size, learning_rate_max=1.2, learning_rate_min=0.5)\n",
    "\n",
    "        # Print o custo (cost) a cada 1000 iterações\n",
    "        if print_cost and i % 1000 == 0:\n",
    "            print (\"Custo após iteração %i: %f\" %(i, cost))\n",
    "\n",
    "    return parameters\n"
   ]
  },
  {
   "cell_type": "code",
   "execution_count": 34,
   "metadata": {
    "tags": []
   },
   "outputs": [],
   "source": [
    "### Estruturando os dados de dicionário para numpy array e de numpy array para dicionário\n",
    "def parameter_dim_tot(parameter):\n",
    "    '''\n",
    "    Argumentos:\n",
    "    parameter - array de parâmetros\n",
    "\n",
    "    Retorna:\n",
    "    dim_tot - dimensão total dos parâmetris \n",
    "    '''\n",
    "    dim_tot = np.array(parameter.shape).prod()\n",
    "\n",
    "    return dim_tot\n",
    "\n",
    "def parameter_reshape_coluna(parameter):\n",
    "    '''\n",
    "    Argumentos:\n",
    "    parameter - array de parâmetros\n",
    "\n",
    "    Retorna:\n",
    "    parameter_reshaped - array coluna dos parâmetros\n",
    "    '''\n",
    "    param_dim_tot = parameter_dim_tot(parameter)\n",
    "    parameter_reshaped = parameter.reshape(1, param_dim_tot)\n",
    "\n",
    "    return parameter_reshaped\n",
    "\n",
    "def parameters_stack(parameters):\n",
    "    '''\n",
    "    Argumentos: \n",
    "    parameters - lista com os parâmetros em array \n",
    "\n",
    "    Retorna:\n",
    "    parametros_stack - array coluna com parâmetros empilhados\n",
    "    '''\n",
    "    params_list = []\n",
    "    param_temp = 0\n",
    "    \n",
    "    for param in parameters:\n",
    "        param_temp = parameter_reshape_coluna(param)\n",
    "        params_list.append(param_temp)\n",
    "    \n",
    "    params_stack = np.concatenate(tuple(params_list), axis = 1)\n",
    "\n",
    "    return params_stack\n",
    "\n",
    "# Unstack os parâmetros com base na dimensão dos atributos (matrizes de pesos)\n",
    "def parameters_unstack(parameters_stack, atributos_dim):\n",
    "    '''\n",
    "    Argumentos:\n",
    "    parameters_stack - array dos parâmetros no formato empilhado por colunas para trabalhar no PSO\n",
    "    atributos_dim - lista com dimensão total dos atributos \n",
    "\n",
    "    Retorna:\n",
    "    params - lista com parâmetros no formato de lista\n",
    "    '''\n",
    "    params = []\n",
    "    i = atributos_dim[0]\n",
    "    params.append(parameters_stack[:, :i])\n",
    "\n",
    "    for dim in atributos_dim[1:]:\n",
    "        params.append(parameters_stack[:, i:i+dim])\n",
    "        i += dim\n",
    "\n",
    "    return params\n",
    "\n",
    "# Reshape para o formato do dicionário (parameters)\n",
    "def parameters_reshape_dictionary(parameters_dict, parameters_unstacked):\n",
    "    '''\n",
    "    Argumentos:\n",
    "    parameters_dict - dicionário com parâmetros\n",
    "    parameters_unstacked - parâmetros no formato array ts: 'X_val', 'Y_val', 'X_test', 'Y_test'\n",
    "\n",
    "    retorna:\n",
    "    parameters_reshaped - lista com os parâmetros formatados para o dicionário 'parameters'\n",
    "    '''\n",
    "    w1_shape = parameters_dict['W1'].shape\n",
    "    b1_shape = parameters_dict['b1'].shape\n",
    "    w2_shape = parameters_dict['W2'].shape\n",
    "    b2_shape = parameters_dict['b2'].shape\n",
    "\n",
    "    parameters_reshaped = parameters_dict.copy()\n",
    "\n",
    "    w1_reshaped = parameters_unstacked[0].reshape(w1_shape)\n",
    "    b1_reshaped = parameters_unstacked[1].reshape(b1_shape)\n",
    "    w2_reshaped = parameters_unstacked[2].reshape(w2_shape)\n",
    "    b2_reshaped = parameters_unstacked[3].reshape(b2_shape)\n",
    "\n",
    "    parameters_reshaped['W1'] = w1_reshaped\n",
    "    parameters_reshaped['b1'] = b1_reshaped\n",
    "    parameters_reshaped['W2'] = w2_reshaped\n",
    "    parameters_reshaped['b2'] = b2_reshaped\n",
    "\n",
    "    return parameters_reshaped"
   ]
  },
  {
   "cell_type": "code",
   "execution_count": 37,
   "metadata": {},
   "outputs": [],
   "source": [
    "#### PSO para otimizar todos os parâmetros de uma só vez \n",
    "    \n",
    "def PSO_todos(X,parameters_stacked, best_cost, fun, A2, Y, parameters, qtd_particulas, atributos_dim, min_i, max_i, \n",
    "                max_epoch, perc_treino, perc_val, w_in=0.7, w_fim = 0.2, c1=1.496, c2=1.496):\n",
    "    '''\n",
    "        Função do Algoritmo SWARM PSO. \n",
    "        Inputs:\n",
    "        - fun_opt: Função de fitness a ser otimizada\n",
    "        - qtd_particulas: Quantidade de partículas\n",
    "        - atributos_dim: Dimensão do Vetor de atributos \n",
    "        - min: intervalo inferior do domínio da função  \n",
    "        - max: intervalo superior do domínio da função\n",
    "        - w: inércia \n",
    "        - c1: influência do pbest (termo cognitivo)\n",
    "        - c2: influência do gbest (termo do aprendizado social)\n",
    "    '''\n",
    "    \n",
    "    treino_mse = []\n",
    "    val_mse = []\n",
    "    teste_mse = []\n",
    "    \n",
    "#     X_tv = np.hstack([X, X_val])\n",
    "#     Y_tv = np.hstack([Y, Y_val])\n",
    "    \n",
    "    def weight_decay(w_in, w_fim, iter, iter_max):\n",
    "        \n",
    "        return w_in + w_fim * (1 - (iter/iter_max))\n",
    "\n",
    "    \n",
    "    atributos_dim_sum = sum(atributos_dim)\n",
    "\n",
    "    # inicializar as partículas em posições aleatórias\n",
    "    particulas = np.random.uniform(low = min_i, high = max_i, size = (qtd_particulas, atributos_dim_sum))\n",
    "\n",
    "    # inicializar a velocidade\n",
    "    velocidade = np.zeros((qtd_particulas, atributos_dim_sum))\n",
    "\n",
    "    # inicializar o pbest em zero\n",
    "    pbest = np.zeros((qtd_particulas,atributos_dim_sum))\n",
    "\n",
    "    gbest_value = best_cost\n",
    "    #print('Custo gbest inicio PSO = ', gbest_value)\n",
    "\n",
    "    gbest = 0\n",
    "    #particulas[gbest,:] = parameters_stacked\n",
    "    \n",
    "    parameters_gbest_dict = parameters.copy()\n",
    "    parameters_dict = parameters.copy()\n",
    "\n",
    "    # Extrair a posição do gbest \n",
    "    for z in np.arange(qtd_particulas):\n",
    "        parameters_temp = particulas[[z],:]\n",
    "        parameters_temp_unstacked = parameters_unstack(parameters_temp, atributos_dim)\n",
    "        parameters_temp_dict = parameters_reshape_dictionary(parameters_dict, parameters_temp_unstacked)\n",
    "        A2 = predict2(parameters_temp_dict, X[0].T)\n",
    "        new_value = fun(A2, Y[0], parameters_temp_dict)\n",
    "\n",
    "        if new_value < gbest_value:\n",
    "            gbest_value = new_value\n",
    "            gbest = z\n",
    "            parameters_gbest_dict = parameters_temp_dict\n",
    "\n",
    "    # print(parameters_gbest_dict)\n",
    "    #print('gbest', gbest)\n",
    "    \n",
    "    for janela in np.arange(len(Y)):\n",
    "        \n",
    "        X_treino, Y_treino, X_teste, Y_teste, X_val, Y_val = divisao_dados_temporais(X[janela], Y[janela], perc_treino, perc_val)\n",
    "        \n",
    "        X_tv = np.hstack((X_treino.T, X_val.T))\n",
    "        Y_tv = np.hstack((Y_treino.T, Y_val.T))\n",
    "        \n",
    "        for k in np.arange(max_epoch):\n",
    "        #print('Iteração: ', k)\n",
    "        # Atualização do decaimento do peso\n",
    "            w = weight_decay(w_in, w_fim,k, max_epoch)                \n",
    "        \n",
    "        # Iterar para atualizar o pbest e gbest para cada partrícula\n",
    "            for j in np.arange(qtd_particulas):\n",
    "        \n",
    "            # transformando as partículas no formato de dicionário\n",
    "                parameters_temp = particulas[[j],:]\n",
    "                parameters_temp_unstacked = parameters_unstack(parameters_temp, atributos_dim)\n",
    "                parameters_temp_dict = parameters_reshape_dictionary(parameters_dict, parameters_temp_unstacked)\n",
    "\n",
    "                parameters_pbest_temp = pbest[[j],:]\n",
    "                parameters_pbest_temp_unstacked = parameters_unstack(parameters_pbest_temp, atributos_dim)\n",
    "                parameters_pbest_dict = parameters_reshape_dictionary(parameters_dict, parameters_temp_unstacked)\n",
    "\n",
    "                A2_part = predict2(parameters_temp_dict, X_treino.T)\n",
    "                A2_pbest = predict2(parameters_pbest_dict, X_treino.T)\n",
    "            \n",
    "                # pbest\n",
    "                if fun(A2_part, Y_treino.T, parameters_temp_dict) < fun(A2_pbest, Y_treino.T, parameters_pbest_dict):\n",
    "                    pbest[j,:] = particulas[j,:]\n",
    "\n",
    "            # gbest\n",
    "                if fun(A2_part, Y_treino.T, parameters_temp_dict) < gbest_value:\n",
    "                    if np.abs(fun(A2_part, Y_treino.T, parameters_temp_dict) - gbest_value) < 0.00001:\n",
    "                    #print('Parar o algoritmo pois o gbest não melhorou')\n",
    "                        gbest_value = fun(A2_part, Y_treino.T, parameters_temp_dict)\n",
    "                        gbest = j\n",
    "                        parameters_gbest_dict = parameters_temp_dict\n",
    "                        break\n",
    "        \n",
    "                    gbest = j\n",
    "                    gbest_value = fun(A2_part, Y_treino.T, parameters_temp_dict)\n",
    "                    parameters_gbest_dict = parameters_temp_dict\n",
    "                                      \n",
    "         # Iteração para atualizar as posições das partículas\n",
    "            for i in np.arange(qtd_particulas):\n",
    "                r1, r2 = np.random.rand(), np.random.rand()\n",
    "                velocidade[i, :] = w * velocidade[i, :] + c1 * r1 * (pbest[i, :] - particulas[i, :]) + c2 * r2 * (particulas[gbest, :] - particulas[i, :])\n",
    "                # Atualizar partículas\n",
    "                particulas[i, :] = particulas[i, :] + velocidade[i, :]\n",
    "\n",
    "            # lidar com limites das partículas\n",
    "                for dim in np.arange(atributos_dim_sum):\n",
    "                    if particulas[i, dim] < min_i:\n",
    "                        particulas[i, dim] = min_i\n",
    "                    elif particulas[i, dim] > max_i:\n",
    "                        particulas[i, dim] = max_i\n",
    "        \n",
    "\n",
    "            # treino e validacao mse\n",
    "            A2_gbest_tv = predict2(parameters_gbest_dict, X_tv)\n",
    "            mse_tv = fun(A2_gbest_tv, Y_tv, parameters_gbest_dict)\n",
    "            treino_mse.append(mse_tv)\n",
    "        \n",
    "            # validacao mse\n",
    "            A2_gbest_v = predict2(parameters_gbest_dict, X_val.T)\n",
    "            mse_v = fun(A2_gbest_v, Y_val.T, parameters_gbest_dict)\n",
    "            val_mse.append(mse_v)\n",
    "        \n",
    "            # teste\n",
    "            A2_gbest_t = predict2(parameters_gbest_dict, X_teste.T)\n",
    "            mse_t = fun(A2_gbest_t, Y_teste.T, parameters_gbest_dict)\n",
    "            teste_mse.append(mse_t)\n",
    "        \n",
    "    return parameters_gbest_dict, treino_mse, val_mse, teste_mse\n",
    "\n",
    "def update_parameters_pso_todos(X, parameters, best_cost, compute_cost2, A2, Y, perc_treino, perc_val, num_iteracoes):\n",
    "    '''\n",
    "    Argumentos:\n",
    "    parameters - dicionário contendo os parâmetros do modelo\n",
    "    compute_cost2 - função a ser minimizada, neste caso a função de custo\n",
    "    A2 - previsão feita pelo modelo\n",
    "    Y - rótulo \n",
    "\n",
    "    Retorna:\n",
    "    parameters - parâmetros atualizados a partir do PSO\n",
    "    '''\n",
    "\n",
    "    # Extrair os parâmetros do dicionário para calcular a dimensão total e para criar o array colunas\n",
    "    W1 = parameters['W1']\n",
    "    b1 = parameters['b1']\n",
    "    W2 = parameters['W2']\n",
    "    b2 = parameters['b2']\n",
    "\n",
    "    # Extrair a dimensão total \n",
    "    W1_dim = np.array(W1.shape).prod()\n",
    "    b1_dim = np.array(b1.shape).prod()\n",
    "    W2_dim = np.array(W2.shape).prod()\n",
    "    b2_dim = np.array(b2.shape).prod()\n",
    "\n",
    "    # lista com parâmetros\n",
    "    parametros = [W1, b1, W2, b2]\n",
    "    # parâmetros no formato array colunas\n",
    "    parameters_stacked = parameters_stack(parametros)\n",
    "\n",
    "    atributos_dim = [W1_dim, b1_dim, W2_dim, b2_dim]\n",
    "\n",
    "    qtd_particulas_dim = (W1.shape[1] + 1)* W1.shape[0] + (W1.shape[0] + 1)*W2.shape[0]\n",
    "\n",
    "    parameters_pso, treino_mse, val_mse, teste_mse = PSO_todos(X, parameters_stacked, \n",
    "                               best_cost,compute_cost2, A2, Y, parameters, qtd_particulas = qtd_particulas_dim, \n",
    "                               atributos_dim = atributos_dim, min_i = -1, max_i = 1, max_epoch = num_iteracoes, perc_treino = perc_treino, perc_val=perc_val)\n",
    "\n",
    "    return parameters_pso, treino_mse, val_mse, teste_mse\n",
    "\n",
    "def nn_model_pso_todos(X, Y, n_h, num_iteracoes, perc_treino, perc_val, print_cost=False):\n",
    "    \"\"\"\n",
    "    Argumentos:\n",
    "    X -- dataset de shape (2, qtd de exemplos)\n",
    "    Y -- labels de shape (1, qtd de exemplos)\n",
    "    n_h -- tamanho da camada escondida\n",
    "    num_iteracoes\n",
    "    print_cost -- se True, mostra o custo a cada 1000 iterações\n",
    "    \n",
    "    Retorna:\n",
    "    parameters -- parâmetros aprendidos pelo pso. Eles podem ser utilizados para fazer previsões (predict).\n",
    "    \"\"\"\n",
    "    \n",
    "    n_x = layer_sizes2(X[0].T, Y[0].T)[0]\n",
    "    n_y = layer_sizes2(X[0].T, Y[0].T)[2]\n",
    "    \n",
    "#     n_x = layer_sizes2(X, Y)[0]\n",
    "#     n_y = layer_sizes2(X, Y)[2]\n",
    "    \n",
    "    # Inicialização dos parâmetros\n",
    "    parameters = initialize_parameters2(n_x, n_h, n_y)\n",
    "    \n",
    "    A2, _ = forward_propagation2(X[0].T, parameters)\n",
    "\n",
    "    best_cost = compute_cost2(A2, Y[0].T, parameters)\n",
    "    \n",
    "    # Atualização dos parâmetros pelo gradiente descendente. Inputs: \"parameters, compute_cost2, A2, Y\". Outputs: \"parameters\".\n",
    "    parameters, treino_mse, val_mse, teste_mse = update_parameters_pso_todos(X=X, parameters=parameters, best_cost=best_cost,compute_cost2=compute_cost2, \n",
    "                                                                             A2=A2, Y=Y, num_iteracoes=num_iteracoes, perc_treino=perc_treino, perc_val=perc_val)\n",
    "\n",
    "#     # Forward propagation. Inputs: \"X, parameters\". Outputs: \"A2, cache\".\n",
    "#     A2, _ = forward_propagation2(X, parameters)\n",
    "\n",
    "#     # Função de custo. Inputs: \"A2, Y, parameters\". Outputs: \"cost\".\n",
    "#     cost_new = compute_cost2(A2, Y, parameters)\n",
    "    \n",
    "    return parameters, treino_mse, val_mse, teste_mse\n",
    "    "
   ]
  },
  {
   "cell_type": "code",
   "execution_count": null,
   "metadata": {},
   "outputs": [],
   "source": [
    "#### PSO para otimizar todos os parâmetros de uma só vez \n",
    " \n",
    "def CQSO_todos(X, parameters_stacked, best_cost, fun, A2, Y, parameters, qtd_particulas, atributos_dim, min_i, max_i, max_epoch, perc_treino, \n",
    "              perc_val, w_in=0.7, w_fim=0.2, c1 = 1.496, c2 = 1.496, n_sub_swarms, neutral_p, rcloud, show_iter):\n",
    "    '''\n",
    "    CQSO algorithm to optimize neural networks weights and biases \n",
    "    '''\n",
    "    # Initialization\n",
    "    def weight_decay(w_in, w_fim, iter, iter_max):\n",
    "        return w_in + w_fim * (1 - (iter/iter_max))\n",
    "        \n",
    "    \n",
    "    # Divide the dimensions per subswarm\n",
    "    num, div = atributos_dim, n_sub_swarms\n",
    "    dimensions_list = [num // div + (1 if x < num % div else 0)  for x in range (div)]\n",
    "\n",
    "    if not atributos_dim % n_sub_swarms == 0:\n",
    "        print(\"We can't continue, the number of dimensions isn't divisible by the number of subswarms\")\n",
    "    return False\n",
    "\n",
    "    # Initialization\n",
    "    context_vector = np.empty(n_sub_swarms, dtype=object)\n",
    "\n",
    "    ## Create a multiswarm and his velocities\n",
    "    multi_swarm_vector = np.empty((n_sub_swarms,qtd_particulas), dtype=object)\n",
    "    velocity_vector = np.empty((n_sub_swarms,qtd_particulas), dtype=object)\n",
    "    \n",
    "    ### Change None values for random numbers\n",
    "    for i_subswarm in range(n_sub_swarms):\n",
    "        context_vector[i_subswarm] = np.random.uniform(min_i,max_i,(dimensions_list[i_subswarm]))\n",
    "        for i_particle in range(qtd_particulas):\n",
    "            multi_swarm_vector[i_subswarm][i_particle] = np.random.uniform(min_i,max_i,(dimensions_list[i_subswarm]))\n",
    "            velocity_vector[i_subswarm][i_particle] = np.zeros(dimensions_list[i_subswarm])\n",
    "  \n",
    "    ## Create fitness for pbest and gbest\n",
    "    gbest = np.copy(multi_swarm_vector[0][0])\n",
    "    pbest = np.copy(multi_swarm_vector[0][0])\n",
    "    \n",
    "    sub_swarm_pbest = np.copy(context_vector)\n",
    "    \n",
    "    ## transformando lista em dicionário para calcular fitness\n",
    "    context_vector_unstacked = parameters_unstack(context_vector, atributos_dim)\n",
    "    context_vector_dict = parameters_reshape_dictionary(parameters_dict, context_vector_unstacked)\n",
    "    A2 = predict2(context_vector_dict, X[0].T)\n",
    "    pbest_value = fun(A2, Y[0].T, context_vector_dict)\n",
    "    gbest_value = pbest_value\n",
    "    \n",
    "    parameters_gbest_dict = context_vector_dict\n",
    "     \n",
    "    iteration = 0\n",
    "    \n",
    "    result_list = []\n",
    "    \n",
    "    treino_mse = []\n",
    "    val_mse = []\n",
    "    teste_mse = []\n",
    "\n",
    "    for janela in np.arange(len(Y)):\n",
    "    \n",
    "        X_treino, Y_treino, X_teste, Y_teste, X_val, Y_val = divisao_dados_temporais(X[janela], Y[janela], perc_treino, perc_val)\n",
    "        \n",
    "        X_tv = np.hstack((X_treino.T, X_val.T))\n",
    "        Y_tv = np.hstack((Y_treino.T, Y_val.T))\n",
    "    \n",
    "        while iteration < max_epoch:\n",
    "        \n",
    "            w = weight_decay(w_in, w_fim,iteration, max_epoch)       \n",
    "            \n",
    "        # Iterations\n",
    "        # for sub_swarm in multi_swarm_vector:\n",
    "        \n",
    "            for i_sub_swarm in range(n_sub_swarms):\n",
    "            # for particle in sub_swarm:\n",
    "            \n",
    "                for i_particle in range(qtd_particulas):\n",
    "                # Calculate the fitness\n",
    "                # Vamos calcular o fitness da particula dentro do vetor contextos\n",
    "                \n",
    "                    context_copy = np.copy(context_vector)\n",
    "                    particle = multi_swarm_vector[i_sub_swarm][i_particle]\n",
    "                    context_copy[i_sub_swarm] = particle\n",
    "                    \n",
    "                    parameters_temp_unstacked = parameters_unstack(np.concatenate(context_copy), atributos_dim)\n",
    "                    parameters_temp_dict = parameters_reshape_dictionary(parameters_dict, parameters_temp_unstacked)\n",
    "                    \n",
    "                    A2_part = predict2(parameters_temp_dict, X_treino.T)\n",
    "                    fitness_candidate = fun(A2_part, Y_treino.T)\n",
    "                \n",
    "                    if fitness_candidate < pbest_value:\n",
    "                    # Se o fitness da nova particula for melhor ela vira o pbest\n",
    "                        pbest = np.copy(multi_swarm_vector[i_sub_swarm][i_particle])\n",
    "                        pbest_value = fitness_candidate\n",
    "                        sub_swarm_pbest = np.copy(context_copy)\n",
    "                        # Feito o pbest devemos atualizar as posicoes das particulas\n",
    "                \n",
    "                    if i_particle <= (neutral_p - 1):\n",
    "                    # Atualiza como PSO vanilla\n",
    "                        new_velocity = (w * velocity_vector[i_sub_swarm][i_particle]) + \\\n",
    "                        ((c1 * random.random()) * (pbest - multi_swarm_vector[i_sub_swarm][i_particle])) + \\\n",
    "                        ((c2 * random.random()) * (gbest - multi_swarm_vector[i_sub_swarm][i_particle]))\n",
    "                        new_position = new_velocity + multi_swarm_vector[i_sub_swarm][i_particle]\n",
    "                \n",
    "                    else:\n",
    "                    # Atualiza como QSO\n",
    "                        dist = cmath.sqrt(sum((multi_swarm_vector[i_sub_swarm][i_particle] - gbest)**2))\n",
    "                        normal = np.random.normal(0, 1, dimensions_list[i_subswarm])\n",
    "                        uniform = random.choice(np.random.uniform(0, 1, dimensions_list[i_subswarm]))\n",
    "                        left_size_form = rcloud * normal\n",
    "                \n",
    "                        if dist == 0:\n",
    "                            break\n",
    "                    \n",
    "                        right_size_form = (uniform ** (1/dimensions_list[i_subswarm]))/ dist\n",
    "                        new_position = left_size_form * right_size_form\n",
    "                \n",
    "                # Check if the positions is var_min<x<var_max\n",
    "                    for value in new_position:\n",
    "                        index = list(new_position).index(value)\n",
    "                        new_position[index] = np.max([var_min, value])\n",
    "                        new_position[index] = np.min([var_max, new_position[index]])\n",
    "                    multi_swarm_vector[i_sub_swarm][i_particle] = new_position\n",
    "      \n",
    "                # Visto todas as particulas do subswarm eu comparo o gbest\n",
    "                if pbest_value < gbest_value:\n",
    "                    gbest = np.copy(pbest)\n",
    "                    gbest_value = pbest_value\n",
    "                    context_vector = np.copy(sub_swarm_pbest)\n",
    "                    \n",
    "                    parameters_gbest_unstacked = parameters_unstack(np.concatenate(context_vector), atributos_dim)\n",
    "                    parameters_gbest_dict = parameters_reshape_dictionary(parameters_dict, parameters_gbest_unstacked)\n",
    "                    \n",
    "            result_list.append(gbest_value)\n",
    "            iteration += 1\n",
    "            \n",
    "            # treino e validacao mse\n",
    "            A2_gbest_tv = predict2(parameters_gbest_dict, X_tv)\n",
    "            mse_tv = fun(A2_gbest_tv, Y_tv, parameters_gbest_dict)\n",
    "            treino_mse.append(mse_tv)\n",
    "        \n",
    "            # validacao mse\n",
    "            A2_gbest_v = predict2(parameters_gbest_dict, X_val.T)\n",
    "            mse_v = fun(A2_gbest_v, Y_val.T, parameters_gbest_dict)\n",
    "            val_mse.append(mse_v)\n",
    "        \n",
    "            # teste\n",
    "            A2_gbest_t = predict2(parameters_gbest_dict, X_teste.T)\n",
    "            mse_t = fun(A2_gbest_t, Y_teste.T, parameters_gbest_dict)\n",
    "            teste_mse.append(mse_t)\n",
    "    \n",
    "    \n",
    "    return result_list, parameters_gbest_dict, treino_mse, val_mse, teste_mse\n",
    "    \n",
    "    \n",
    "def update_parameters_cqso_todos(X, parameters, best_cost, compute_cost2, A2, Y, perc_treino, perc_val, num_iteracoes):\n",
    "    '''\n",
    "    Argumentos:\n",
    "    parameters - dicionário contendo os parâmetros do modelo\n",
    "    compute_cost2 - função a ser minimizada, neste caso a função de custo\n",
    "    A2 - previsão feita pelo modelo\n",
    "    Y - rótulo \n",
    "\n",
    "    Retorna:\n",
    "    parameters - parâmetros atualizados a partir do PSO\n",
    "    '''\n",
    "\n",
    "    # Extrair os parâmetros do dicionário para calcular a dimensão total e para criar o array colunas\n",
    "    W1 = parameters['W1']\n",
    "    b1 = parameters['b1']\n",
    "    W2 = parameters['W2']\n",
    "    b2 = parameters['b2']\n",
    "\n",
    "    # Extrair a dimensão total \n",
    "    W1_dim = np.array(W1.shape).prod()\n",
    "    b1_dim = np.array(b1.shape).prod()\n",
    "    W2_dim = np.array(W2.shape).prod()\n",
    "    b2_dim = np.array(b2.shape).prod()\n",
    "\n",
    "    # lista com parâmetros\n",
    "    parametros = [W1, b1, W2, b2]\n",
    "    # parâmetros no formato array colunas\n",
    "    parameters_stacked = parameters_stack(parametros)\n",
    "\n",
    "    atributos_dim = [W1_dim, b1_dim, W2_dim, b2_dim]\n",
    "\n",
    "    qtd_particulas_dim = (W1.shape[1] + 1)* W1.shape[0] + (W1.shape[0] + 1)*W2.shape[0]\n",
    "\n",
    "    result_list, parameters_cqso, treino_mse, val_mse, teste_mse = CQSO_todos(X, parameters_stacked, \n",
    "                               best_cost,compute_cost2, A2, Y, parameters, qtd_particulas = qtd_particulas_dim, \n",
    "                               atributos_dim = atributos_dim, min_i = -1, max_i = 1, max_epoch = num_iteracoes, perc_treino = perc_treino, perc_val=perc_val,\n",
    "                                                                           n_sub_swarms, neutral_p, rcloud, show_iter)\n",
    "\n",
    "    return parameters_cqso, treino_mse, val_mse, teste_mse\n",
    "\n",
    "def nn_model_cqso_todos(X, Y, n_h, num_iteracoes, perc_treino, perc_val, print_cost=False):\n",
    "    \"\"\"\n",
    "    Argumentos:\n",
    "    X -- dataset de shape (2, qtd de exemplos)\n",
    "    Y -- labels de shape (1, qtd de exemplos)\n",
    "    n_h -- tamanho da camada escondida\n",
    "    num_iteracoes\n",
    "    print_cost -- se True, mostra o custo a cada 1000 iterações\n",
    "    \n",
    "    Retorna:\n",
    "    parameters -- parâmetros aprendidos pelo pso. Eles podem ser utilizados para fazer previsões (predict).\n",
    "    \"\"\"\n",
    "    \n",
    "    n_x = layer_sizes2(X[0].T, Y[0].T)[0]\n",
    "    n_y = layer_sizes2(X[0].T, Y[0].T)[2]\n",
    "    \n",
    "    # Inicialização dos parâmetros\n",
    "    parameters = initialize_parameters2(n_x, n_h, n_y)\n",
    "    \n",
    "    A2, _ = forward_propagation2(X[0].T, parameters)\n",
    "\n",
    "    best_cost = compute_cost2(A2, Y[0].T, parameters)\n",
    "    \n",
    "    # Atualização dos parâmetros pelo gradiente descendente. Inputs: \"parameters, compute_cost2, A2, Y\". Outputs: \"parameters\".\n",
    "    parameters, treino_mse, val_mse, teste_mse = update_parameters_cqso_todos(X=X, parameters=parameters, best_cost=best_cost,compute_cost2=compute_cost2, \n",
    "                                                                             A2=A2, Y=Y, num_iteracoes=num_iteracoes, perc_treino=perc_treino, perc_val=perc_val)\n",
    "    \n",
    "    return parameters, treino_mse, val_mse, teste_mse"
   ]
  },
  {
   "cell_type": "code",
   "execution_count": 38,
   "metadata": {},
   "outputs": [],
   "source": [
    "### Experimento com as as séries do artigo \n",
    "\n",
    "## Importar funções para pre-processar os dados\n",
    "from funcoes import split_sequence, divisao_dados_temporais, normalizar_serie, desnormalizar, cenarios_dinamicos"
   ]
  },
  {
   "cell_type": "markdown",
   "metadata": {},
   "source": [
    "## 1. Sunspot annual measure time series (SAM)\n",
    "\n",
    "* 289 obs\n",
    "* 1770 to 1988\n",
    "\n",
    "Série anual inputs: 10"
   ]
  },
  {
   "cell_type": "code",
   "execution_count": 19,
   "metadata": {},
   "outputs": [
    {
     "data": {
      "text/plain": [
       "0     5.0\n",
       "1    11.0\n",
       "2    16.0\n",
       "3    23.0\n",
       "4    36.0\n",
       "Name: valor, dtype: float64"
      ]
     },
     "execution_count": 19,
     "metadata": {},
     "output_type": "execute_result"
    }
   ],
   "source": [
    "## Sunspot\n",
    "sunspot = pd.read_csv('dados/sunspot.csv')\n",
    "sunspot = sunspot['valor']\n",
    "sunspot.head()"
   ]
  },
  {
   "cell_type": "code",
   "execution_count": 20,
   "metadata": {
    "tags": []
   },
   "outputs": [],
   "source": [
    "sunspot_norm = normalizar_serie(sunspot)\n",
    "X, y = split_sequence(sunspot_norm.values, 10, 1)\n",
    "\n",
    "#X_treino, y_treino, X_teste, y_teste, X_val, y_val = divisao_dados_temporais(X, y, perc_treino = 0.56, perc_val = 0.24)\n",
    "# para avaliar mse\n",
    "#y_teste_ = desnormalizar(y_teste, sunspot)"
   ]
  },
  {
   "cell_type": "code",
   "execution_count": 295,
   "metadata": {
    "tags": []
   },
   "outputs": [
    {
     "name": "stdout",
     "output_type": "stream",
     "text": [
      "Execução 0\n",
      "Custo após iteração 0: 0.573288\n",
      "MSE validação = 2.8307333703032778\n"
     ]
    }
   ],
   "source": [
    "### Treinar rede neural com Rprop\n",
    "\n",
    "##### Testar 5 neurônios na camada escondida e 10 execuções\n",
    "best_model = 0\n",
    "best_mse = np.inf\n",
    "\n",
    "for exec in range(1):\n",
    "    print('Execução ' + str(exec))\n",
    "    parameters = nn_model_rprop(X_treino.T, y_treino.T, n_h=5, num_iteracoes = 1000,print_cost=True)\n",
    "    y_pred = predict2(parameters, X_val.T)\n",
    "    mse_exec = compute_cost2(y_pred,y_val.T, parameters)\n",
    "    \n",
    "    if mse_exec < best_mse:\n",
    "        best_model = parameters \n",
    "        best_mse = mse_exec\n",
    "\n",
    "    print('MSE validação = ' + str(mse_exec))\n"
   ]
  },
  {
   "cell_type": "code",
   "execution_count": 296,
   "metadata": {
    "tags": []
   },
   "outputs": [
    {
     "name": "stdout",
     "output_type": "stream",
     "text": [
      "mse de teste =  2.8915579716097066\n"
     ]
    }
   ],
   "source": [
    "# Desnormalizar\n",
    "y_pred_teste = predict2(best_model, X_teste.T).reshape(-1,1)\n",
    "\n",
    "# mse de teste\n",
    "print(\"mse de teste = \",((y_pred_teste - y_teste)**2).mean())\n",
    "\n",
    "y_pred_teste = desnormalizar(y_pred_teste, sunspot)"
   ]
  },
  {
   "cell_type": "code",
   "execution_count": 297,
   "metadata": {},
   "outputs": [
    {
     "data": {
      "image/png": "[encoded data removed]",
      "text/plain": [
       "<Figure size 864x648 with 1 Axes>"
      ]
     },
     "metadata": {
      "needs_background": "light"
     },
     "output_type": "display_data"
    }
   ],
   "source": [
    "# Plot\n",
    "plt.plot(y_teste_, color = 'blue')\n",
    "plt.plot(y_pred_teste, color = 'coral');"
   ]
  },
  {
   "cell_type": "code",
   "execution_count": 324,
   "metadata": {
    "tags": []
   },
   "outputs": [
    {
     "name": "stdout",
     "output_type": "stream",
     "text": [
      "Neurônios:  2\n",
      "Execução 0\n"
     ]
    },
    {
     "ename": "TypeError",
     "evalue": "tuple indices must be integers or slices, not str",
     "output_type": "error",
     "traceback": [
      "\u001b[0;31m---------------------------------------------------------------------------\u001b[0m",
      "\u001b[0;31mTypeError\u001b[0m                                 Traceback (most recent call last)",
      "\u001b[0;32m<ipython-input-324-d366b4f15f4a>\u001b[0m in \u001b[0;36m<module>\u001b[0;34m\u001b[0m\n\u001b[1;32m     13\u001b[0m         \u001b[0mprint\u001b[0m\u001b[0;34m(\u001b[0m\u001b[0;34m'Execução '\u001b[0m \u001b[0;34m+\u001b[0m \u001b[0mstr\u001b[0m\u001b[0;34m(\u001b[0m\u001b[0mexec\u001b[0m\u001b[0;34m)\u001b[0m\u001b[0;34m)\u001b[0m\u001b[0;34m\u001b[0m\u001b[0;34m\u001b[0m\u001b[0m\n\u001b[1;32m     14\u001b[0m         \u001b[0mparameters\u001b[0m \u001b[0;34m=\u001b[0m \u001b[0mnn_model2\u001b[0m\u001b[0;34m(\u001b[0m\u001b[0mX_treino\u001b[0m\u001b[0;34m.\u001b[0m\u001b[0mT\u001b[0m\u001b[0;34m,\u001b[0m \u001b[0my_treino\u001b[0m\u001b[0;34m.\u001b[0m\u001b[0mT\u001b[0m\u001b[0;34m,\u001b[0m \u001b[0mX_val\u001b[0m\u001b[0;34m.\u001b[0m\u001b[0mT\u001b[0m\u001b[0;34m,\u001b[0m \u001b[0my_val\u001b[0m\u001b[0;34m.\u001b[0m\u001b[0mT\u001b[0m\u001b[0;34m,\u001b[0m \u001b[0mX_teste\u001b[0m\u001b[0;34m.\u001b[0m\u001b[0mT\u001b[0m\u001b[0;34m,\u001b[0m \u001b[0my_teste\u001b[0m\u001b[0;34m.\u001b[0m\u001b[0mT\u001b[0m\u001b[0;34m,\u001b[0m\u001b[0mn_h\u001b[0m \u001b[0;34m=\u001b[0m \u001b[0mi\u001b[0m\u001b[0;34m,\u001b[0m \u001b[0mnum_iteracoes\u001b[0m \u001b[0;34m=\u001b[0m \u001b[0;36m1000\u001b[0m\u001b[0;34m,\u001b[0m \u001b[0mprint_cost\u001b[0m \u001b[0;34m=\u001b[0m \u001b[0;32mTrue\u001b[0m\u001b[0;34m)\u001b[0m\u001b[0;34m\u001b[0m\u001b[0;34m\u001b[0m\u001b[0m\n\u001b[0;32m---> 15\u001b[0;31m         \u001b[0my_pred\u001b[0m \u001b[0;34m=\u001b[0m \u001b[0mpredict2\u001b[0m\u001b[0;34m(\u001b[0m\u001b[0mparameters\u001b[0m\u001b[0;34m,\u001b[0m \u001b[0mX_val\u001b[0m\u001b[0;34m.\u001b[0m\u001b[0mT\u001b[0m\u001b[0;34m)\u001b[0m\u001b[0;34m\u001b[0m\u001b[0;34m\u001b[0m\u001b[0m\n\u001b[0m\u001b[1;32m     16\u001b[0m         \u001b[0mmse_exec\u001b[0m \u001b[0;34m=\u001b[0m \u001b[0mcompute_cost2\u001b[0m\u001b[0;34m(\u001b[0m\u001b[0my_pred\u001b[0m\u001b[0;34m,\u001b[0m\u001b[0my_val\u001b[0m\u001b[0;34m.\u001b[0m\u001b[0mT\u001b[0m\u001b[0;34m,\u001b[0m \u001b[0mparameters\u001b[0m\u001b[0;34m)\u001b[0m\u001b[0;34m\u001b[0m\u001b[0;34m\u001b[0m\u001b[0m\n\u001b[1;32m     17\u001b[0m \u001b[0;34m\u001b[0m\u001b[0m\n",
      "\u001b[0;32m<ipython-input-144-fc860d31880f>\u001b[0m in \u001b[0;36mpredict2\u001b[0;34m(parameters, X)\u001b[0m\n\u001b[1;32m    260\u001b[0m     \"\"\"\n\u001b[1;32m    261\u001b[0m \u001b[0;34m\u001b[0m\u001b[0m\n\u001b[0;32m--> 262\u001b[0;31m     \u001b[0mA2\u001b[0m\u001b[0;34m,\u001b[0m \u001b[0mcache\u001b[0m \u001b[0;34m=\u001b[0m \u001b[0mforward_propagation2\u001b[0m\u001b[0;34m(\u001b[0m\u001b[0mX\u001b[0m\u001b[0;34m,\u001b[0m \u001b[0mparameters\u001b[0m\u001b[0;34m)\u001b[0m\u001b[0;34m\u001b[0m\u001b[0;34m\u001b[0m\u001b[0m\n\u001b[0m\u001b[1;32m    263\u001b[0m     \u001b[0mpredictions\u001b[0m \u001b[0;34m=\u001b[0m \u001b[0mA2\u001b[0m\u001b[0;34m\u001b[0m\u001b[0;34m\u001b[0m\u001b[0m\n\u001b[1;32m    264\u001b[0m \u001b[0;34m\u001b[0m\u001b[0m\n",
      "\u001b[0;32m<ipython-input-144-fc860d31880f>\u001b[0m in \u001b[0;36mforward_propagation2\u001b[0;34m(X, parameters)\u001b[0m\n\u001b[1;32m     60\u001b[0m \u001b[0;34m\u001b[0m\u001b[0m\n\u001b[1;32m     61\u001b[0m     \u001b[0;31m# Recupere cada parâmetro do dicionário parameters\u001b[0m\u001b[0;34m\u001b[0m\u001b[0;34m\u001b[0m\u001b[0;34m\u001b[0m\u001b[0m\n\u001b[0;32m---> 62\u001b[0;31m     \u001b[0mW1\u001b[0m \u001b[0;34m=\u001b[0m \u001b[0mparameters\u001b[0m\u001b[0;34m[\u001b[0m\u001b[0;34m'W1'\u001b[0m\u001b[0;34m]\u001b[0m\u001b[0;34m\u001b[0m\u001b[0;34m\u001b[0m\u001b[0m\n\u001b[0m\u001b[1;32m     63\u001b[0m     \u001b[0mb1\u001b[0m \u001b[0;34m=\u001b[0m \u001b[0mparameters\u001b[0m\u001b[0;34m[\u001b[0m\u001b[0;34m'b1'\u001b[0m\u001b[0;34m]\u001b[0m\u001b[0;34m\u001b[0m\u001b[0;34m\u001b[0m\u001b[0m\n\u001b[1;32m     64\u001b[0m     \u001b[0mW2\u001b[0m \u001b[0;34m=\u001b[0m \u001b[0mparameters\u001b[0m\u001b[0;34m[\u001b[0m\u001b[0;34m'W2'\u001b[0m\u001b[0;34m]\u001b[0m\u001b[0;34m\u001b[0m\u001b[0;34m\u001b[0m\u001b[0m\n",
      "\u001b[0;31mTypeError\u001b[0m: tuple indices must be integers or slices, not str"
     ]
    }
   ],
   "source": [
    "### Treinar rede neural com backprop\n",
    "\n",
    "##### Testar 4 neurônios na camada escondida e 10000 epocas com 30 execuções\n",
    "best_model = 0\n",
    "best_mse = np.inf\n",
    "\n",
    "#neuronios = [2, 3, 4, 5, 6, 7, 8, 9, 10, 11, 12, 13, 14, 15, 16, 17, 18, 19, 20, 21, 22, 23, 24, 25]\n",
    "neuronios = [2, 3, 4, 5, 6, 7, 8, 9, 10]\n",
    "for i in neuronios:\n",
    "    print('Neurônios: ', i)\n",
    "\n",
    "    for exec in np.arange(1):\n",
    "        print('Execução ' + str(exec))\n",
    "        parameters = nn_model2(X_treino.T, y_treino.T, X_val.T, y_val.T, X_teste.T, y_teste.T,n_h = i, num_iteracoes = 1000, print_cost = True)\n",
    "        y_pred = predict2(parameters, X_val.T)\n",
    "        mse_exec = compute_cost2(y_pred,y_val.T, parameters)\n",
    "    \n",
    "        if mse_exec < best_mse:\n",
    "            best_model = parameters \n",
    "            best_mse = mse_exec\n",
    "            print('Melhor MSE: ', best_mse)\n",
    "            qtd_neuronios = i\n",
    "\n",
    "    \n",
    "    print('MSE validação = ' + str(mse_exec))"
   ]
  },
  {
   "cell_type": "code",
   "execution_count": null,
   "metadata": {
    "tags": []
   },
   "outputs": [],
   "source": [
    "# melhor configuração\n",
    "print('NN com {} neurônios na camada escondida'.format(qtd_neuronios))"
   ]
  },
  {
   "cell_type": "code",
   "execution_count": 299,
   "metadata": {
    "tags": []
   },
   "outputs": [
    {
     "name": "stdout",
     "output_type": "stream",
     "text": [
      "0\n"
     ]
    }
   ],
   "source": [
    "print(best_model)"
   ]
  },
  {
   "cell_type": "code",
   "execution_count": 300,
   "metadata": {
    "tags": []
   },
   "outputs": [
    {
     "ename": "TypeError",
     "evalue": "'int' object is not subscriptable",
     "output_type": "error",
     "traceback": [
      "\u001b[0;31m---------------------------------------------------------------------------\u001b[0m",
      "\u001b[0;31mTypeError\u001b[0m                                 Traceback (most recent call last)",
      "\u001b[0;32m<ipython-input-300-26f687147d84>\u001b[0m in \u001b[0;36m<module>\u001b[0;34m\u001b[0m\n\u001b[1;32m      1\u001b[0m \u001b[0;31m# Desnormalizar\u001b[0m\u001b[0;34m\u001b[0m\u001b[0;34m\u001b[0m\u001b[0;34m\u001b[0m\u001b[0m\n\u001b[0;32m----> 2\u001b[0;31m \u001b[0my_pred_teste\u001b[0m \u001b[0;34m=\u001b[0m \u001b[0mpredict2\u001b[0m\u001b[0;34m(\u001b[0m\u001b[0mbest_model\u001b[0m\u001b[0;34m,\u001b[0m \u001b[0mX_teste\u001b[0m\u001b[0;34m.\u001b[0m\u001b[0mT\u001b[0m\u001b[0;34m)\u001b[0m\u001b[0;34m.\u001b[0m\u001b[0mreshape\u001b[0m\u001b[0;34m(\u001b[0m\u001b[0;34m-\u001b[0m\u001b[0;36m1\u001b[0m\u001b[0;34m,\u001b[0m\u001b[0;36m1\u001b[0m\u001b[0;34m)\u001b[0m\u001b[0;34m\u001b[0m\u001b[0;34m\u001b[0m\u001b[0m\n\u001b[0m\u001b[1;32m      3\u001b[0m \u001b[0;34m\u001b[0m\u001b[0m\n\u001b[1;32m      4\u001b[0m \u001b[0;31m# mse de teste\u001b[0m\u001b[0;34m\u001b[0m\u001b[0;34m\u001b[0m\u001b[0;34m\u001b[0m\u001b[0m\n\u001b[1;32m      5\u001b[0m \u001b[0mprint\u001b[0m\u001b[0;34m(\u001b[0m\u001b[0;34m\"mse de teste = \"\u001b[0m\u001b[0;34m,\u001b[0m\u001b[0;34m(\u001b[0m\u001b[0;34m(\u001b[0m\u001b[0my_pred_teste\u001b[0m \u001b[0;34m-\u001b[0m \u001b[0my_teste\u001b[0m\u001b[0;34m)\u001b[0m\u001b[0;34m**\u001b[0m\u001b[0;36m2\u001b[0m\u001b[0;34m)\u001b[0m\u001b[0;34m.\u001b[0m\u001b[0mmean\u001b[0m\u001b[0;34m(\u001b[0m\u001b[0;34m)\u001b[0m\u001b[0;34m)\u001b[0m\u001b[0;34m\u001b[0m\u001b[0;34m\u001b[0m\u001b[0m\n",
      "\u001b[0;32m<ipython-input-144-fc860d31880f>\u001b[0m in \u001b[0;36mpredict2\u001b[0;34m(parameters, X)\u001b[0m\n\u001b[1;32m    260\u001b[0m     \"\"\"\n\u001b[1;32m    261\u001b[0m \u001b[0;34m\u001b[0m\u001b[0m\n\u001b[0;32m--> 262\u001b[0;31m     \u001b[0mA2\u001b[0m\u001b[0;34m,\u001b[0m \u001b[0mcache\u001b[0m \u001b[0;34m=\u001b[0m \u001b[0mforward_propagation2\u001b[0m\u001b[0;34m(\u001b[0m\u001b[0mX\u001b[0m\u001b[0;34m,\u001b[0m \u001b[0mparameters\u001b[0m\u001b[0;34m)\u001b[0m\u001b[0;34m\u001b[0m\u001b[0;34m\u001b[0m\u001b[0m\n\u001b[0m\u001b[1;32m    263\u001b[0m     \u001b[0mpredictions\u001b[0m \u001b[0;34m=\u001b[0m \u001b[0mA2\u001b[0m\u001b[0;34m\u001b[0m\u001b[0;34m\u001b[0m\u001b[0m\n\u001b[1;32m    264\u001b[0m \u001b[0;34m\u001b[0m\u001b[0m\n",
      "\u001b[0;32m<ipython-input-144-fc860d31880f>\u001b[0m in \u001b[0;36mforward_propagation2\u001b[0;34m(X, parameters)\u001b[0m\n\u001b[1;32m     60\u001b[0m \u001b[0;34m\u001b[0m\u001b[0m\n\u001b[1;32m     61\u001b[0m     \u001b[0;31m# Recupere cada parâmetro do dicionário parameters\u001b[0m\u001b[0;34m\u001b[0m\u001b[0;34m\u001b[0m\u001b[0;34m\u001b[0m\u001b[0m\n\u001b[0;32m---> 62\u001b[0;31m     \u001b[0mW1\u001b[0m \u001b[0;34m=\u001b[0m \u001b[0mparameters\u001b[0m\u001b[0;34m[\u001b[0m\u001b[0;34m'W1'\u001b[0m\u001b[0;34m]\u001b[0m\u001b[0;34m\u001b[0m\u001b[0;34m\u001b[0m\u001b[0m\n\u001b[0m\u001b[1;32m     63\u001b[0m     \u001b[0mb1\u001b[0m \u001b[0;34m=\u001b[0m \u001b[0mparameters\u001b[0m\u001b[0;34m[\u001b[0m\u001b[0;34m'b1'\u001b[0m\u001b[0;34m]\u001b[0m\u001b[0;34m\u001b[0m\u001b[0;34m\u001b[0m\u001b[0m\n\u001b[1;32m     64\u001b[0m     \u001b[0mW2\u001b[0m \u001b[0;34m=\u001b[0m \u001b[0mparameters\u001b[0m\u001b[0;34m[\u001b[0m\u001b[0;34m'W2'\u001b[0m\u001b[0;34m]\u001b[0m\u001b[0;34m\u001b[0m\u001b[0;34m\u001b[0m\u001b[0m\n",
      "\u001b[0;31mTypeError\u001b[0m: 'int' object is not subscriptable"
     ]
    }
   ],
   "source": [
    "# Desnormalizar\n",
    "y_pred_teste = predict2(best_model, X_teste.T).reshape(-1,1)\n",
    "\n",
    "# mse de teste\n",
    "print(\"mse de teste = \",((y_pred_teste - y_teste)**2).mean())\n",
    "\n",
    "y_pred_teste = desnormalizar(y_pred_teste, sunspot)"
   ]
  },
  {
   "cell_type": "code",
   "execution_count": 301,
   "metadata": {},
   "outputs": [
    {
     "data": {
      "image/png": "[encoded data removed]",
      "text/plain": [
       "<Figure size 864x648 with 1 Axes>"
      ]
     },
     "metadata": {
      "needs_background": "light"
     },
     "output_type": "display_data"
    }
   ],
   "source": [
    "# Plot\n",
    "plt.plot(y_teste_, label = 'Teste')\n",
    "plt.plot(y_pred_teste, color = 'coral', label = 'NN com Backprop')\n",
    "plt.legend();"
   ]
  },
  {
   "cell_type": "code",
   "execution_count": 305,
   "metadata": {
    "collapsed": true,
    "jupyter": {
     "outputs_hidden": true
    },
    "tags": []
   },
   "outputs": [
    {
     "name": "stdout",
     "output_type": "stream",
     "text": [
      "Neurônios:  2\n",
      "Execução 0\n",
      "Melhor MSE:  0.00033146349683058155\n",
      "Neurônios2 -> MSE validação = 0.00033146349683058155\n",
      "Neurônios:  3\n",
      "Execução 0\n",
      "Melhor MSE:  0.0002663546169062784\n",
      "Neurônios3 -> MSE validação = 0.0002663546169062784\n",
      "Neurônios:  4\n",
      "Execução 0\n",
      "Melhor MSE:  0.00016739130804147823\n",
      "Neurônios4 -> MSE validação = 0.00016739130804147823\n",
      "Neurônios:  5\n",
      "Execução 0\n",
      "Neurônios5 -> MSE validação = 0.0002718595857494363\n",
      "Neurônios:  6\n",
      "Execução 0\n",
      "Melhor MSE:  0.00012066681157049927\n",
      "Neurônios6 -> MSE validação = 0.00012066681157049927\n",
      "Neurônios:  7\n",
      "Execução 0\n",
      "Neurônios7 -> MSE validação = 0.00017045964953381432\n",
      "Neurônios:  8\n",
      "Execução 0\n",
      "Neurônios8 -> MSE validação = 0.00014722056703168334\n",
      "Neurônios:  9\n",
      "Execução 0\n",
      "Neurônios9 -> MSE validação = 0.00017963905847451073\n",
      "Neurônios:  10\n",
      "Execução 0\n",
      "Neurônios10 -> MSE validação = 0.00023551533175229227\n",
      "Neurônios:  11\n",
      "Execução 0\n",
      "Neurônios11 -> MSE validação = 0.00028683085890535777\n",
      "Neurônios:  12\n",
      "Execução 0\n",
      "Neurônios12 -> MSE validação = 0.00024258410651444056\n",
      "Neurônios:  13\n",
      "Execução 0\n",
      "Neurônios13 -> MSE validação = 0.0001663175991398879\n",
      "Neurônios:  14\n",
      "Execução 0\n",
      "Neurônios14 -> MSE validação = 0.00017025793913093024\n",
      "Neurônios:  15\n",
      "Execução 0\n",
      "Neurônios15 -> MSE validação = 0.00021606064309302603\n",
      "Neurônios:  16\n",
      "Execução 0\n",
      "Neurônios16 -> MSE validação = 0.00031893253111095585\n",
      "Neurônios:  17\n",
      "Execução 0\n",
      "Melhor MSE:  0.00011322914857726136\n",
      "Neurônios17 -> MSE validação = 0.00011322914857726136\n",
      "Neurônios:  18\n",
      "Execução 0\n",
      "Neurônios18 -> MSE validação = 0.00017046310044717034\n",
      "Neurônios:  19\n",
      "Execução 0\n",
      "Neurônios19 -> MSE validação = 0.00012158552488100038\n",
      "Neurônios:  20\n",
      "Execução 0\n",
      "Melhor MSE:  9.182311856053076e-05\n",
      "Neurônios20 -> MSE validação = 9.182311856053076e-05\n",
      "Neurônios:  21\n",
      "Execução 0\n",
      "Neurônios21 -> MSE validação = 0.00015964382907133443\n",
      "Neurônios:  22\n",
      "Execução 0\n",
      "Neurônios22 -> MSE validação = 0.00021401559900461768\n",
      "Neurônios:  23\n",
      "Execução 0\n",
      "Neurônios23 -> MSE validação = 0.00020783516774687845\n",
      "Neurônios:  24\n",
      "Execução 0\n",
      "Neurônios24 -> MSE validação = 0.00018698138080038232\n",
      "Neurônios:  25\n",
      "Execução 0\n",
      "Neurônios25 -> MSE validação = 0.00011468748437780616\n"
     ]
    }
   ],
   "source": [
    "### Treinar rede neural com pso\n",
    "\n",
    "##### Testar 5 neurônios na camada escondida\n",
    "best_model = 0\n",
    "best_mse = np.inf\n",
    "\n",
    "neuronios = [2, 3, 4, 5, 6, 7, 8, 9, 10, 11, 12, 13, 14, 15, 16, 17, 18, 19, 20, 21, 22, 23, 24, 25]\n",
    "#neuronios = [2, 3, 4, 5, 6, 7, 8, 9, 10]\n",
    "for i in neuronios:\n",
    "    print('Neurônios: ', i)\n",
    "\n",
    "    for exec in np.arange(1):\n",
    "\n",
    "        print('Execução ' + str(exec))\n",
    "        parameters, treino_mse, val_mse, teste_mse = nn_model_pso_todos(X_treino.T, y_treino.T, X_val.T,y_val.T,X_teste.T,y_teste.T, n_h = i, num_iteracoes = 100)\n",
    "    \n",
    "        y_pred = predict2(parameters, X_val.T)\n",
    "        mse_exec = compute_cost2(y_pred, y_val.T,parameters)\n",
    "    \n",
    "        if mse_exec < best_mse:\n",
    "            best_model = parameters \n",
    "            \n",
    "            best_mse = mse_exec\n",
    "            print('Melhor MSE: ', best_mse)\n",
    "            qtd_neuronios = i\n",
    "\n",
    "        print('Neurônios' + str(i) + ' -> MSE validação = ' + str(mse_exec))"
   ]
  },
  {
   "cell_type": "code",
   "execution_count": 306,
   "metadata": {
    "tags": []
   },
   "outputs": [
    {
     "name": "stdout",
     "output_type": "stream",
     "text": [
      "NN com 20 neurônios na camada escondida\n"
     ]
    }
   ],
   "source": [
    "print('NN com {} neurônios na camada escondida'.format(qtd_neuronios))"
   ]
  },
  {
   "cell_type": "code",
   "execution_count": 307,
   "metadata": {
    "tags": []
   },
   "outputs": [
    {
     "name": "stdout",
     "output_type": "stream",
     "text": [
      "mse de teste =  0.0002281236991516211\n"
     ]
    }
   ],
   "source": [
    "# Desnormalizar\n",
    "y_pred_teste = predict2(best_model, X_teste.T).reshape(-1,1)\n",
    "\n",
    "# mse de teste\n",
    "print(\"mse de teste = \",((y_pred_teste - y_teste)**2).mean())\n",
    "\n",
    "y_pred_teste = desnormalizar(y_pred_teste, sunspot)"
   ]
  },
  {
   "cell_type": "code",
   "execution_count": 309,
   "metadata": {
    "tags": []
   },
   "outputs": [
    {
     "data": {
      "image/png": "[encoded data removed]",
      "text/plain": [
       "<Figure size 864x648 with 1 Axes>"
      ]
     },
     "metadata": {
      "needs_background": "light"
     },
     "output_type": "display_data"
    }
   ],
   "source": [
    "# Plot\n",
    "plt.plot(y_teste_, label = 'Teste')\n",
    "plt.plot(y_pred_teste, label='NN com PSO')\n",
    "#plt.plot(y_teste_, color = 'blue', legend = 'Teste')\n",
    "#plt.plot(y_pred_teste, color = 'coral', legend = 'NN com PSO')\n",
    "plt.legend();"
   ]
  },
  {
   "cell_type": "markdown",
   "metadata": {},
   "source": [
    "### Cenário I - Sunspot\n",
    "\n",
    "Testando Cenário I\n",
    "\n",
    "* w = 60\n",
    "* s = 10\n",
    "* f = 50"
   ]
  },
  {
   "cell_type": "code",
   "execution_count": 21,
   "metadata": {},
   "outputs": [],
   "source": [
    "# janelamento para cenários dinâmicos\n",
    "def cenarios_dinamicos(serie, window_size, step_size):\n",
    "    '''\n",
    "    Janelamento móvel que envolve selecionar o tamanho da janela (window_size) e o tamanho do passo (step_size).\n",
    "    \n",
    "    '''\n",
    "    w = window_size\n",
    "    s = step_size\n",
    "    t = len(serie)\n",
    "    \n",
    "    cenarios = []\n",
    "    \n",
    "    i_max = int((t - w)/s)\n",
    "\n",
    "    for i in range(i_max):\n",
    "        s_temp = serie[(i*s):((i*s)+w)]\n",
    "        cenarios.append(s_temp)\n",
    "        \n",
    "    return cenarios\n"
   ]
  },
  {
   "cell_type": "code",
   "execution_count": 22,
   "metadata": {},
   "outputs": [],
   "source": [
    "# Criando cenários\n",
    "def cenarios_execucoes(X, y, w, s, f, modelo, perc_treino, perc_val,qtd_execucoes = 30):\n",
    "    \n",
    "    # gerando os cenários dinâmicos\n",
    "    X_I = cenarios_dinamicos(X, w, s)\n",
    "    y_I = cenarios_dinamicos(y, w, s)\n",
    " \n",
    "    # calculando a quantidade de iterações\n",
    "    T = int(f/s*(len(y)-w)+f)\n",
    "    \n",
    "    neuronios = np.arange(2, 26)\n",
    "    \n",
    "    mse_treino = np.zeros((qtd_execucoes, len(neuronios),len(y_I) * f))\n",
    "    mse_val = np.zeros((qtd_execucoes, len(neuronios), len(y_I) * f))\n",
    "    mse_teste = np.zeros((qtd_execucoes, len(neuronios),len(y_I) * f))\n",
    "\n",
    "    execucoes = np.arange(qtd_execucoes)\n",
    "\n",
    "    for execucao in execucoes:\n",
    "        print('Execução: ', execucao)\n",
    "\n",
    "        # Neuronios\n",
    "        for j,z in zip(neuronios, np.arange(len(neuronios))):\n",
    "            \n",
    "            parameters, mse_treino_lista_temp, mse_val_lista_temp, mse_teste_lista_temp = modelo(X_I, y_I, n_h = j, num_iteracoes = f, perc_treino=perc_treino, perc_val=perc_val)\n",
    "\n",
    "            # salvar lista com os mse de treino para todas as iterações\n",
    "            mse_treino[execucao, z,:] = np.array(mse_treino_lista_temp)\n",
    "            # salvar lista com os mse de validacao para todas as iteracoes\n",
    "            mse_val[execucao, z,:] = np.array(mse_val_lista_temp)\n",
    "            # salvar lista com os mse de teste para todas as iterações\n",
    "            mse_teste[execucao, z,:] = np.array(mse_teste_lista_temp)\n",
    "\n",
    "    return mse_treino, mse_val, mse_teste\n",
    "\n"
   ]
  },
  {
   "cell_type": "code",
   "execution_count": 23,
   "metadata": {},
   "outputs": [],
   "source": [
    "def avaliacao_resultados(mse_treino_cenarios, mse_val_cenarios, mse_teste_cenarios, f, quantidade_janelas, execucoes):\n",
    "    \n",
    "    mse_treino = np.zeros((execucoes, quantidade_janelas*f))\n",
    "    mse_teste = np.zeros((execucoes, quantidade_janelas*f))\n",
    "\n",
    "    for ex in np.arange(execucoes):\n",
    "        id_neuronios = [np.nanargmin(mse_val_cenarios[ex,:,f*janela]) for janela in range(quantidade_janelas)]\n",
    "        for jan in np.arange(quantidade_janelas):\n",
    "            mse_treino[ex, f*jan:f*jan+f] = mse_treino_cenarios[ex, id_neuronios[jan], f*jan:f*jan+f]\n",
    "            mse_teste[ex, f*jan:f*jan+f] = mse_teste_cenarios[ex, id_neuronios[jan], f*jan:f*jan+f]\n",
    "    \n",
    "    qtd_iteracoes = mse_treino.shape[1]\n",
    "    # Calculando CMF\n",
    "    te = mse_treino.sum(axis=1)/qtd_iteracoes\n",
    "    ge = mse_teste.sum(axis=1)/qtd_iteracoes\n",
    "\n",
    "    # calcular a métrica fator de generalização\n",
    "    gf = ge/te\n",
    "\n",
    "    # Média e desvio padrão\n",
    "    te_medio = te.mean()\n",
    "    te_std = te.std()\n",
    "\n",
    "    ge_medio = ge.mean()\n",
    "    ge_std = ge.std()\n",
    "\n",
    "    gf_medio = gf.mean()\n",
    "    gf_std = gf.std()\n",
    "\n",
    "    print('TE medio: ', te_medio)\n",
    "    print('TE desvio: ', te_std)\n",
    "    print('GE medio: ', ge_medio)\n",
    "    print('GE desvio: ', ge_std)\n",
    "    print('GF medio: ', gf_medio)\n",
    "    print('GF desvio: ', gf_std)\n",
    "    \n",
    "    resultados = {'TE medio': te_medio,\n",
    "    'TE desvio': te_std,\n",
    "    'GE medio': ge_medio,\n",
    "    'GE desvio':ge_std,\n",
    "    'GF medio':gf_medio,\n",
    "    'GF desvio':gf_std}\n",
    "    \n",
    "    return resultados, mse_treino, mse_teste"
   ]
  },
  {
   "cell_type": "code",
   "execution_count": 24,
   "metadata": {},
   "outputs": [],
   "source": [
    "# Quantidade total de iterações para o primeiro cenário\n",
    "\n",
    "# Seed\n",
    "np.random.seed(3)\n",
    "\n",
    "w = 60 # tamanho da janela\n",
    "s = 10 # tamanho do passo\n",
    "f = 50 # quantidade de iterações para a janela\n",
    "T = int(f/s*(len(y)-w)+f)\n",
    "\n",
    "quantidade_janelas = int((len(y) - w)/s)"
   ]
  },
  {
   "cell_type": "code",
   "execution_count": 856,
   "metadata": {},
   "outputs": [
    {
     "name": "stdout",
     "output_type": "stream",
     "text": [
      "BACKPROP\n",
      "Execução:  0\n"
     ]
    },
    {
     "name": "stderr",
     "output_type": "stream",
     "text": [
      "/mnt/sdb1/discohd/miniconda3/lib/python3.7/site-packages/numpy/core/fromnumeric.py:90: RuntimeWarning: overflow encountered in reduce\n",
      "  return ufunc.reduce(obj, axis, dtype, out, **passkwargs)\n"
     ]
    },
    {
     "name": "stdout",
     "output_type": "stream",
     "text": [
      "Execução:  1\n",
      "Execução:  2\n",
      "Execução:  3\n",
      "Execução:  4\n",
      "Execução:  5\n",
      "Execução:  6\n",
      "Execução:  7\n",
      "Execução:  8\n",
      "Execução:  9\n",
      "Execução:  10\n",
      "Execução:  11\n",
      "Execução:  12\n",
      "Execução:  13\n",
      "Execução:  14\n",
      "Execução:  15\n",
      "Execução:  16\n",
      "Execução:  17\n",
      "Execução:  18\n",
      "Execução:  19\n",
      "Execução:  20\n",
      "Execução:  21\n",
      "Execução:  22\n",
      "Execução:  23\n",
      "Execução:  24\n",
      "Execução:  25\n",
      "Execução:  26\n",
      "Execução:  27\n",
      "Execução:  28\n",
      "Execução:  29\n",
      "Tempo de execução para o backprop 88.20006513595581\n",
      "PSO\n",
      "Execução:  0\n",
      "Execução:  1\n",
      "Execução:  2\n",
      "Execução:  3\n",
      "Execução:  4\n",
      "Execução:  5\n",
      "Execução:  6\n",
      "Execução:  7\n",
      "Execução:  8\n",
      "Execução:  9\n",
      "Execução:  10\n",
      "Execução:  11\n",
      "Execução:  12\n",
      "Execução:  13\n",
      "Execução:  14\n",
      "Execução:  15\n",
      "Execução:  16\n",
      "Execução:  17\n",
      "Execução:  18\n",
      "Execução:  19\n",
      "Execução:  20\n",
      "Execução:  21\n",
      "Execução:  22\n",
      "Execução:  23\n",
      "Execução:  24\n",
      "Execução:  25\n",
      "Execução:  26\n",
      "Execução:  27\n",
      "Execução:  28\n",
      "Execução:  29\n",
      "Tempo de execução para o PSO 28026.30951166153\n"
     ]
    }
   ],
   "source": [
    "import time\n",
    "\n",
    "tic = time.time()\n",
    "#backprop\n",
    "print('BACKPROP')\n",
    "mse_treino_1_backprop, mse_val_1_backprop, mse_teste_1_backprop = cenarios_execucoes(X, y, w, s, f, modelo = nn_model2, perc_treino=0.54, perc_val=0.24)\n",
    "resultados_1_backprop, resultados_mse_treino_1_backprop, resultados_mse_teste_1_backprop = avaliacao_resultados(mse_treino_1_backprop, mse_val_1_backprop,mse_teste_1_backprop, f, quantidade_janelas, execucoes = 30) \n",
    "tac = time.time()\n",
    "print('Tempo de execução para o backprop', (tac - tic))\n",
    "\n",
    "print('PSO')\n",
    "# pso\n",
    "tic = time.time()\n",
    "mse_treino_1_pso, mse_val_1_pso, mse_teste_1_pso = cenarios_execucoes(X, y, w, s, f,modelo = nn_model_pso_todos, perc_treino=0.54, perc_val=0.24)\n",
    "resultados_1_pso, resultados_mse_treino_1_pso, resultados_mse_teste_1_pso = avaliacao_resultados(mse_treino_1_pso, mse_val_1_pso,mse_teste_1_pso, f, quantidade_janelas, execucoes = 30) \n",
    "tac = time.time()\n",
    "print('Tempo de execução para o PSO', (tac - tic))"
   ]
  },
  {
   "cell_type": "code",
   "execution_count": 949,
   "metadata": {},
   "outputs": [
    {
     "data": {
      "image/png": "[encoded data removed]",
      "text/plain": [
       "<Figure size 864x648 with 1 Axes>"
      ]
     },
     "metadata": {
      "needs_background": "light"
     },
     "output_type": "display_data"
    }
   ],
   "source": [
    "pd.Series(mse_treino_1_backprop[0, 0, :]).plot(label = 'Treino')\n",
    "pd.Series(mse_val_1_backprop[0, 0, :]).plot(label = 'Validação')\n",
    "pd.Series(mse_teste_1_backprop[0, 0, :]).plot(label = 'Generalização')\n",
    "plt.legend()\n",
    "plt.show()"
   ]
  },
  {
   "cell_type": "code",
   "execution_count": 966,
   "metadata": {},
   "outputs": [
    {
     "name": "stdout",
     "output_type": "stream",
     "text": [
      "21\n"
     ]
    }
   ],
   "source": [
    "w = 60 # tamanho da janela\n",
    "s = 10 # tamanho do passo\n",
    "f = 50 # quantidade de iterações para a janela\n",
    "T = int(f/s*(len(y)-w)+f)\n",
    "quantidade_janelas = int((len(y) - w)/s)\n",
    "print(quantidade_janelas)"
   ]
  },
  {
   "cell_type": "code",
   "execution_count": 988,
   "metadata": {},
   "outputs": [
    {
     "name": "stdout",
     "output_type": "stream",
     "text": [
      "TE medio:  0.0008029115315847185\n",
      "TE desvio:  0.0015057558331148496\n",
      "GE medio:  0.0009633184078614854\n",
      "GE desvio:  0.001520693117032644\n",
      "GF medio:  1.6129063925295313\n",
      "GF desvio:  0.3494683883890184\n",
      "TE medio:  0.00016264567595420483\n",
      "TE desvio:  1.4685921113804935e-05\n",
      "GE medio:  0.00025675535856606655\n",
      "GE desvio:  2.833006628793918e-05\n",
      "GF medio:  1.5818164805858907\n",
      "GF desvio:  0.1423409776295274\n"
     ]
    }
   ],
   "source": [
    "resultados_1_backprop, resultados_mse_treino_1_backprop, resultados_mse_teste_1_backprop = avaliacao_resultados(mse_treino_1_backprop, mse_val_1_backprop,mse_teste_1_backprop, f, quantidade_janelas, execucoes = 30) \n",
    "resultados_1_pso, resultados_mse_treino_1_pso, resultados_mse_teste_1_pso = avaliacao_resultados(mse_treino_1_pso, mse_val_1_pso,mse_teste_1_pso, f, quantidade_janelas, execucoes = 30) "
   ]
  },
  {
   "cell_type": "markdown",
   "metadata": {},
   "source": [
    "### Cenário II - Sunspot\n",
    "\n",
    "Testando Cenário II\n",
    "\n",
    "* w = 60\n",
    "* s = 20\n",
    "* f = 100"
   ]
  },
  {
   "cell_type": "code",
   "execution_count": 990,
   "metadata": {},
   "outputs": [
    {
     "name": "stdout",
     "output_type": "stream",
     "text": [
      "Quantidade total de iterações:  1195\n"
     ]
    }
   ],
   "source": [
    "w = 60 # tamanho da janela\n",
    "s = 20 # tamanho do passo\n",
    "f = 100 # quantidade de iterações para a janela\n",
    "T = int(f/s*(len(y)-w)+f)\n",
    "print('Quantidade total de iterações: ', T)\n",
    "\n",
    "quantidade_janelas = int((len(y) - w)/s)"
   ]
  },
  {
   "cell_type": "code",
   "execution_count": 991,
   "metadata": {},
   "outputs": [
    {
     "name": "stdout",
     "output_type": "stream",
     "text": [
      "TE medio:  0.002396178591764062\n",
      "TE desvio:  0.0031102902206599425\n",
      "GE medio:  0.0025359915254798363\n",
      "GE desvio:  0.003128869084910376\n",
      "GF medio:  1.3215906408670035\n",
      "GF desvio:  0.32539054099848147\n",
      "TE medio:  0.00017554380667822927\n",
      "TE desvio:  2.3358930911989593e-05\n",
      "GE medio:  0.0002256516771522555\n",
      "GE desvio:  4.4206201521042465e-05\n",
      "GF medio:  1.290718700183811\n",
      "GF desvio:  0.23149723149158644\n"
     ]
    }
   ],
   "source": [
    "# # backprop\n",
    "print('BACKPROP')\n",
    "tic = time.time()\n",
    "mse_treino_2_backprop, mse_val_2_backprop, mse_teste_2_backprop = cenarios_execucoes(X, y, w, s, f, modelo = nn_model2,perc_treino=0.54, perc_val=0.24)\n",
    "resultados_2_backprop, resultados_mse_treino_2_backprop, resultados_mse_teste_2_backprop = avaliacao_resultados(mse_treino_2_backprop, mse_val_2_backprop,mse_teste_2_backprop, f, quantidade_janelas, execucoes = 30) \n",
    "\n",
    "tac = time.time()\n",
    "print('Tempo de execução para o backprop', (tac - tic))\n",
    "\n",
    "print('PSO')\n",
    "# pso\n",
    "tic = time.time()\n",
    "mse_treino_2_pso, mse_val_2_pso, mse_teste_2_pso = cenarios_execucoes(X, y, w, s, f, modelo = nn_model_pso_todos,perc_treino=0.54, perc_val=0.24)\n",
    "resultados_2_pso,resultados_mse_treino_2_pso, resultados_mse_teste_2_pso = avaliacao_resultados(mse_treino_2_pso, mse_val_2_pso,mse_teste_2_pso, f, quantidade_janelas, execucoes = 30) \n",
    "tac = time.time()\n",
    "print('Tempo de execução para o backprop', (tac - tic))"
   ]
  },
  {
   "cell_type": "markdown",
   "metadata": {},
   "source": [
    "### Cenário III - Sunspot\n",
    "\n",
    "Testando Cenário III\n",
    "\n",
    "* w = 60\n",
    "* s = 40\n",
    "* f = 150"
   ]
  },
  {
   "cell_type": "code",
   "execution_count": 992,
   "metadata": {},
   "outputs": [
    {
     "name": "stdout",
     "output_type": "stream",
     "text": [
      "Quantidade total de iterações:  1008\n"
     ]
    }
   ],
   "source": [
    "w = 60 # tamanho da janela\n",
    "s = 40 # tamanho do passo\n",
    "f = 150 # quantidade de iterações para a janela\n",
    "T = int(f/s*(len(sunspot)-w)+f)\n",
    "print('Quantidade total de iterações: ', T)\n",
    "quantidade_janelas = int((len(y) - w)/s)"
   ]
  },
  {
   "cell_type": "code",
   "execution_count": 993,
   "metadata": {},
   "outputs": [
    {
     "name": "stdout",
     "output_type": "stream",
     "text": [
      "BACKPROP\n",
      "TE medio:  0.022270029077120525\n",
      "TE desvio:  0.10780935594822738\n",
      "GE medio:  0.022481094670036568\n",
      "GE desvio:  0.10756932260229685\n",
      "GF medio:  1.8206920656578163\n",
      "GF desvio:  0.6751733282937792\n",
      "Tempo de execução para o backprop 0.010563850402832031\n",
      "PSO\n",
      "TE medio:  0.0001797773127344158\n",
      "TE desvio:  2.809526514545138e-05\n",
      "GE medio:  0.000252815575650583\n",
      "GE desvio:  6.826987171402129e-05\n",
      "GF medio:  1.4182730328238329\n",
      "GF desvio:  0.3523441542115729\n",
      "Tempo de execução para o backprop 0.008844375610351562\n"
     ]
    }
   ],
   "source": [
    "# backprop\n",
    "print('BACKPROP')\n",
    "tic = time.time()\n",
    "mse_treino_3_backprop, mse_val_3_backprop, mse_teste_3_backprop = cenarios_execucoes(X, y, w, s, f, modelo = nn_model2,perc_treino=0.54, perc_val=0.24)\n",
    "resultados_3_backprop,resultados_mse_treino_3_backprop, resultados_mse_teste_3_backprop = avaliacao_resultados(mse_treino_3_backprop, mse_val_3_backprop,mse_teste_3_backprop, f, quantidade_janelas, execucoes = 30) \n",
    "\n",
    "tac = time.time()\n",
    "print('Tempo de execução para o backprop', (tac - tic))\n",
    "\n",
    "print('PSO')\n",
    "# pso\n",
    "tic = time.time()\n",
    "mse_treino_3_pso, mse_val_3_pso, mse_teste_3_pso = cenarios_execucoes(X, y, w, s, f, modelo = nn_model_pso_todos,perc_treino=0.54, perc_val=0.24)\n",
    "resultados_3_pso,resultados_mse_treino_3_pso, resultados_mse_teste_3_pso = avaliacao_resultados(mse_treino_3_pso, mse_val_3_pso,mse_teste_3_pso, f, quantidade_janelas, execucoes = 30) \n",
    "tac = time.time()\n",
    "print('Tempo de execução para o backprop', (tac - tic))"
   ]
  },
  {
   "cell_type": "markdown",
   "metadata": {},
   "source": [
    "### Cenário IV - Sunspot\n",
    "\n",
    "Testando Cenário IV\n",
    "\n",
    "* w = 60\n",
    "* s = 60\n",
    "* f = 100"
   ]
  },
  {
   "cell_type": "code",
   "execution_count": 994,
   "metadata": {},
   "outputs": [
    {
     "name": "stdout",
     "output_type": "stream",
     "text": [
      "Quantidade total de iterações:  481\n"
     ]
    }
   ],
   "source": [
    "w = 60 # tamanho da janela\n",
    "s = 60 # tamanho do passo\n",
    "f = 100 # quantidade de iterações para a janela\n",
    "T = int(f/s*(len(sunspot)-w)+f)\n",
    "print('Quantidade total de iterações: ', T)\n",
    "quantidade_janelas = int((len(y) - w)/s)"
   ]
  },
  {
   "cell_type": "code",
   "execution_count": 995,
   "metadata": {},
   "outputs": [
    {
     "name": "stdout",
     "output_type": "stream",
     "text": [
      "BACKPROP\n",
      "TE medio:  0.035536110286018725\n",
      "TE desvio:  0.15022286299249318\n",
      "GE medio:  0.03542626154591878\n",
      "GE desvio:  0.15059483062933732\n",
      "GF medio:  0.7383390924989047\n",
      "GF desvio:  0.21912874570521368\n",
      "Tempo de execução para o backprop 0.005394458770751953\n",
      "PSO\n",
      "TE medio:  0.00026407130835666946\n",
      "TE desvio:  4.946547357974254e-05\n",
      "GE medio:  0.00015020792107457603\n",
      "GE desvio:  4.429137245576915e-05\n",
      "GF medio:  0.5777771467606319\n",
      "GF desvio:  0.16605722659302105\n",
      "Tempo de execução para o backprop 0.0034742355346679688\n"
     ]
    }
   ],
   "source": [
    "# backprop\n",
    "print('BACKPROP')\n",
    "tic = time.time()\n",
    "mse_treino_4_backprop, mse_val_4_backprop, mse_teste_4_backprop = cenarios_execucoes(X, y, w, s, f, modelo = nn_model2,perc_treino=0.54, perc_val=0.24)\n",
    "resultados_4_backprop,resultados_mse_treino_4_backprop, resultados_mse_teste_4_backprop = avaliacao_resultados(mse_treino_4_backprop, mse_val_4_backprop,mse_teste_4_backprop, f, quantidade_janelas, execucoes = 30) \n",
    "\n",
    "tac = time.time()\n",
    "print('Tempo de execução para o backprop', (tac - tic))\n",
    "\n",
    "print('PSO')\n",
    "# pso\n",
    "tic = time.time()\n",
    "mse_treino_4_pso, mse_val_4_pso, mse_teste_4_pso = cenarios_execucoes(X, y, w, s, f, modelo = nn_model_pso_todos,perc_treino=0.54, perc_val=0.24)\n",
    "resultados_4_pso,resultados_mse_treino_4_pso, resultados_mse_teste_4_pso = avaliacao_resultados(mse_treino_4_pso, mse_val_4_pso, mse_teste_4_pso,f, quantidade_janelas, execucoes = 30) \n",
    "tac = time.time()\n",
    "print('Tempo de execução para o backprop', (tac - tic))"
   ]
  },
  {
   "cell_type": "markdown",
   "metadata": {},
   "source": [
    "## 2. International Airline Time Series (IAP)\n",
    "\n",
    "* 144 obs\n",
    "* jan 1949 to dez 1960\n",
    "\n",
    "Série mensal inputs: 12\n"
   ]
  },
  {
   "cell_type": "code",
   "execution_count": 25,
   "metadata": {},
   "outputs": [
    {
     "data": {
      "text/plain": [
       "0    112\n",
       "1    118\n",
       "2    132\n",
       "3    129\n",
       "4    121\n",
       "Name: valor, dtype: int64"
      ]
     },
     "execution_count": 25,
     "metadata": {},
     "output_type": "execute_result"
    }
   ],
   "source": [
    "## Airline Passenger\n",
    "airline = pd.read_csv('dados/airline_passengers.csv')\n",
    "airline = airline['valor']\n",
    "airline.head()"
   ]
  },
  {
   "cell_type": "code",
   "execution_count": 26,
   "metadata": {},
   "outputs": [],
   "source": [
    "qtd_inputs = 12\n",
    "airline_norm = normalizar_serie(airline)\n",
    "X, y = split_sequence(airline_norm.values, qtd_inputs, 1)"
   ]
  },
  {
   "cell_type": "markdown",
   "metadata": {},
   "source": [
    "### Cenário I - Airline\n",
    "\n",
    "* w = 32\n",
    "* s = 5\n",
    "* f = 50"
   ]
  },
  {
   "cell_type": "code",
   "execution_count": 27,
   "metadata": {},
   "outputs": [
    {
     "name": "stdout",
     "output_type": "stream",
     "text": [
      "1170\n"
     ]
    }
   ],
   "source": [
    "w = 32 # tamanho da janela\n",
    "s = 5 # tamanho do passo\n",
    "f = 50 # quantidade de iterações para a janela\n",
    "T = int(f/s*(len(airline)-w)+f)\n",
    "print(T)\n",
    "quantidade_janelas = int((len(y) - w)/s)"
   ]
  },
  {
   "cell_type": "code",
   "execution_count": 999,
   "metadata": {},
   "outputs": [
    {
     "name": "stdout",
     "output_type": "stream",
     "text": [
      "BACKPROP\n",
      "TE medio:  0.005441512617307008\n",
      "TE desvio:  0.02198085322590901\n",
      "GE medio:  0.005895019769752208\n",
      "GE desvio:  0.0222885808773483\n",
      "GF medio:  3.075666885817548\n",
      "GF desvio:  1.4592008190767676\n",
      "Tempo de execução para o backprop 0.01511693000793457\n",
      "PSO\n",
      "TE medio:  8.997804934401913e-05\n",
      "TE desvio:  3.234760404112135e-05\n",
      "GE medio:  0.00018453342311606092\n",
      "GE desvio:  7.562831634600328e-05\n",
      "GF medio:  2.012263161234637\n",
      "GF desvio:  0.20569917889859665\n",
      "Tempo de execução para o backprop 0.01508951187133789\n"
     ]
    }
   ],
   "source": [
    "# backprop\n",
    "print('BACKPROP')\n",
    "tic = time.time()\n",
    "airline_mse_treino_1_backprop, airline_mse_val_1_backprop, airline_mse_teste_1_backprop = cenarios_execucoes(X, y, w, s, f, modelo = nn_model2,perc_treino=0.54, perc_val=0.24)\n",
    "airline_resultados_1_backprop, airline_resultados_mse_treino_1_backprop, airline_resultados_mse_teste_1_backprop = avaliacao_resultados(airline_mse_treino_1_backprop, \n",
    "                                                                                                                                       airline_mse_val_1_backprop,\n",
    "                                                                                                                                       airline_mse_teste_1_backprop, \n",
    "                                                                                                                                       f, quantidade_janelas, execucoes = 30) \n",
    "\n",
    "tac = time.time()\n",
    "print('Tempo de execução para o backprop', (tac - tic))\n",
    "\n",
    "\n",
    "print('PSO')\n",
    "# pso\n",
    "tic = time.time()\n",
    "airline_mse_treino_1_pso, airline_mse_val_1_pso, airline_mse_teste_1_pso = cenarios_execucoes(X, y, w, s, f, modelo = nn_model_pso_todos,perc_treino=0.54, perc_val=0.24)\n",
    "airline_resultados_1_pso,resultados_mse_treino_1_pso, airline_resultados_mse_teste_1_pso = avaliacao_resultados(airline_mse_treino_1_pso, \n",
    "                                                                                                                airline_mse_val_1_pso, \n",
    "                                                                                                                airline_mse_teste_1_pso,f, quantidade_janelas, execucoes = 30) \n",
    "tac = time.time()\n",
    "print('Tempo de execução para o backprop', (tac - tic))"
   ]
  },
  {
   "cell_type": "markdown",
   "metadata": {},
   "source": [
    "### Cenário II - Airline\n",
    "\n",
    "* w = 32\n",
    "* s = 10\n",
    "* f = 100"
   ]
  },
  {
   "cell_type": "code",
   "execution_count": 28,
   "metadata": {},
   "outputs": [
    {
     "name": "stdout",
     "output_type": "stream",
     "text": [
      "1220\n"
     ]
    }
   ],
   "source": [
    "w = 32 # tamanho da janela\n",
    "s = 10 # tamanho do passo\n",
    "f = 100 # quantidade de iterações para a janela\n",
    "T = int(f/s*(len(airline)-w)+f)\n",
    "print(T)\n",
    "quantidade_janelas = int((len(y) - w)/s)"
   ]
  },
  {
   "cell_type": "code",
   "execution_count": 39,
   "metadata": {},
   "outputs": [
    {
     "name": "stdout",
     "output_type": "stream",
     "text": [
      "BACKPROP\n",
      "Execução:  0\n",
      "Execução:  1\n",
      "Execução:  2\n",
      "Execução:  3\n",
      "Execução:  4\n",
      "Execução:  5\n",
      "Execução:  6\n",
      "Execução:  7\n",
      "Execução:  8\n",
      "Execução:  9\n",
      "Execução:  10\n",
      "Execução:  11\n",
      "Execução:  12\n",
      "Execução:  13\n",
      "Execução:  14\n",
      "Execução:  15\n",
      "Execução:  16\n",
      "Execução:  17\n",
      "Execução:  18\n",
      "Execução:  19\n",
      "Execução:  20\n",
      "Execução:  21\n",
      "Execução:  22\n",
      "Execução:  23\n",
      "Execução:  24\n",
      "Execução:  25\n",
      "Execução:  26\n",
      "Execução:  27\n",
      "Execução:  28\n",
      "Execução:  29\n",
      "TE medio:  0.016781057010760887\n",
      "TE desvio:  0.0612934177644099\n",
      "GE medio:  0.01739576063141424\n",
      "GE desvio:  0.062182833036114486\n",
      "GF medio:  3.3329457265057685\n",
      "GF desvio:  1.273748756928503\n",
      "Tempo de execução para o backprop 135.53500819206238\n",
      "PSO\n",
      "Execução:  0\n",
      "Execução:  1\n",
      "Execução:  2\n",
      "Execução:  3\n",
      "Execução:  4\n",
      "Execução:  5\n",
      "Execução:  6\n",
      "Execução:  7\n",
      "Execução:  8\n",
      "Execução:  9\n",
      "Execução:  10\n",
      "Execução:  11\n",
      "Execução:  12\n",
      "Execução:  13\n",
      "Execução:  14\n",
      "Execução:  15\n",
      "Execução:  16\n",
      "Execução:  17\n",
      "Execução:  18\n",
      "Execução:  19\n",
      "Execução:  20\n",
      "Execução:  21\n",
      "Execução:  22\n",
      "Execução:  23\n",
      "Execução:  24\n",
      "Execução:  25\n",
      "Execução:  26\n",
      "Execução:  27\n",
      "Execução:  28\n",
      "Execução:  29\n",
      "TE medio:  7.748987999530131e-05\n",
      "TE desvio:  2.1835065608556304e-05\n",
      "GE medio:  0.0001772054685374856\n",
      "GE desvio:  5.054524023438912e-05\n",
      "GF medio:  2.297908913872948\n",
      "GF desvio:  0.3220997028331147\n",
      "Tempo de execução para o backprop 61389.66520404816\n"
     ]
    }
   ],
   "source": [
    "# backprop\n",
    "print('BACKPROP')\n",
    "tic = time.time()\n",
    "airline_mse_treino_2_backprop, airline_mse_val_2_backprop, airline_mse_teste_2_backprop = cenarios_execucoes(X, y, w, s, f, modelo = nn_model2,perc_treino=0.54, perc_val=0.24)\n",
    "airline_resultados_2_backprop, airline_resultados_mse_treino_2_backprop, airline_resultados_mse_teste_2_backprop = avaliacao_resultados(airline_mse_treino_2_backprop, \n",
    "                                                                                                                                       airline_mse_val_2_backprop,\n",
    "                                                                                                                                       airline_mse_teste_2_backprop, \n",
    "                                                                                                                                       f, quantidade_janelas, execucoes = 30) \n",
    "\n",
    "tac = time.time()\n",
    "print('Tempo de execução para o backprop', (tac - tic))\n",
    "\n",
    "\n",
    "print('PSO')\n",
    "# pso\n",
    "tic = time.time()\n",
    "airline_mse_treino_2_pso, airline_mse_val_2_pso, airline_mse_teste_2_pso = cenarios_execucoes(X, y, w, s, f, modelo = nn_model_pso_todos,perc_treino=0.54, perc_val=0.24)\n",
    "airline_resultados_2_pso,resultados_mse_treino_2_pso, airline_resultados_mse_teste_2_pso = avaliacao_resultados(airline_mse_treino_2_pso, \n",
    "                                                                                                                airline_mse_val_2_pso, \n",
    "                                                                                                                airline_mse_teste_2_pso,f, quantidade_janelas, execucoes = 30) \n",
    "tac = time.time()\n",
    "print('Tempo de execução para o backprop', (tac - tic))"
   ]
  },
  {
   "cell_type": "markdown",
   "metadata": {},
   "source": [
    "### Cenário III - Airline\n",
    "\n",
    "* w = 32\n",
    "* s = 25\n",
    "* f = 150"
   ]
  },
  {
   "cell_type": "code",
   "execution_count": 40,
   "metadata": {},
   "outputs": [
    {
     "name": "stdout",
     "output_type": "stream",
     "text": [
      "822\n"
     ]
    }
   ],
   "source": [
    "w = 32 # tamanho da janela\n",
    "s = 25 # tamanho do passo\n",
    "f = 150 # quantidade de iterações para a janela\n",
    "T = int(f/s*(len(airline)-w)+f)\n",
    "print(T)\n",
    "quantidade_janelas = int((len(y) - w)/s)"
   ]
  },
  {
   "cell_type": "code",
   "execution_count": 41,
   "metadata": {},
   "outputs": [
    {
     "name": "stdout",
     "output_type": "stream",
     "text": [
      "BACKPROP\n",
      "Execução:  0\n",
      "Execução:  1\n",
      "Execução:  2\n",
      "Execução:  3\n",
      "Execução:  4\n",
      "Execução:  5\n",
      "Execução:  6\n",
      "Execução:  7\n",
      "Execução:  8\n",
      "Execução:  9\n",
      "Execução:  10\n",
      "Execução:  11\n",
      "Execução:  12\n",
      "Execução:  13\n",
      "Execução:  14\n",
      "Execução:  15\n",
      "Execução:  16\n",
      "Execução:  17\n",
      "Execução:  18\n",
      "Execução:  19\n",
      "Execução:  20\n",
      "Execução:  21\n",
      "Execução:  22\n",
      "Execução:  23\n",
      "Execução:  24\n",
      "Execução:  25\n",
      "Execução:  26\n",
      "Execução:  27\n",
      "Execução:  28\n",
      "Execução:  29\n",
      "TE medio:  0.024696719585208488\n",
      "TE desvio:  0.11976604543908348\n",
      "GE medio:  0.025602323066225136\n",
      "GE desvio:  0.12152243125211004\n",
      "GF medio:  3.113192896201931\n",
      "GF desvio:  1.5460513498807484\n",
      "Tempo de execução para o backprop 78.69016909599304\n",
      "PSO\n",
      "Execução:  0\n",
      "Execução:  1\n",
      "Execução:  2\n",
      "Execução:  3\n",
      "Execução:  4\n",
      "Execução:  5\n",
      "Execução:  6\n",
      "Execução:  7\n",
      "Execução:  8\n",
      "Execução:  9\n",
      "Execução:  10\n",
      "Execução:  11\n",
      "Execução:  12\n",
      "Execução:  13\n",
      "Execução:  14\n",
      "Execução:  15\n",
      "Execução:  16\n",
      "Execução:  17\n",
      "Execução:  18\n",
      "Execução:  19\n",
      "Execução:  20\n",
      "Execução:  21\n",
      "Execução:  22\n",
      "Execução:  23\n",
      "Execução:  24\n",
      "Execução:  25\n",
      "Execução:  26\n",
      "Execução:  27\n",
      "Execução:  28\n",
      "Execução:  29\n",
      "TE medio:  9.603075453793459e-05\n",
      "TE desvio:  3.491621043098889e-05\n",
      "GE medio:  0.00019632648930350088\n",
      "GE desvio:  7.368974310710167e-05\n",
      "GF medio:  2.078766687853544\n",
      "GF desvio:  0.34581454995995653\n",
      "Tempo de execução para o backprop 36942.876389980316\n"
     ]
    }
   ],
   "source": [
    "# backprop\n",
    "print('BACKPROP')\n",
    "tic = time.time()\n",
    "airline_mse_treino_3_backprop, airline_mse_val_3_backprop, airline_mse_teste_3_backprop = cenarios_execucoes(X, y, w, s, f, modelo = nn_model2,perc_treino=0.54, perc_val=0.24)\n",
    "airline_resultados_3_backprop, airline_resultados_mse_treino_3_backprop, airline_resultados_mse_teste_3_backprop = avaliacao_resultados(airline_mse_treino_3_backprop, \n",
    "                                                                                                                                       airline_mse_val_3_backprop,\n",
    "                                                                                                                                       airline_mse_teste_3_backprop, \n",
    "                                                                                                                                       f, quantidade_janelas, execucoes = 30) \n",
    "\n",
    "tac = time.time()\n",
    "print('Tempo de execução para o backprop', (tac - tic))\n",
    "\n",
    "\n",
    "print('PSO')\n",
    "# pso\n",
    "tic = time.time()\n",
    "airline_mse_treino_3_pso, airline_mse_val_3_pso, airline_mse_teste_3_pso = cenarios_execucoes(X, y, w, s, f, modelo = nn_model_pso_todos,perc_treino=0.54, perc_val=0.24)\n",
    "airline_resultados_3_pso,resultados_mse_treino_3_pso, airline_resultados_mse_teste_3_pso = avaliacao_resultados(airline_mse_treino_3_pso, \n",
    "                                                                                                                airline_mse_val_3_pso, \n",
    "                                                                                                                airline_mse_teste_3_pso,f, quantidade_janelas, execucoes = 30) \n",
    "tac = time.time()\n",
    "print('Tempo de execução para o backprop', (tac - tic))"
   ]
  },
  {
   "cell_type": "markdown",
   "metadata": {},
   "source": [
    "### Cenário IV - Airline\n",
    "\n",
    "* w = 32\n",
    "* s = 32\n",
    "* f = 100"
   ]
  },
  {
   "cell_type": "code",
   "execution_count": 42,
   "metadata": {},
   "outputs": [
    {
     "name": "stdout",
     "output_type": "stream",
     "text": [
      "450\n"
     ]
    }
   ],
   "source": [
    "w = 32\n",
    "s = 32\n",
    "f = 100\n",
    "T = int(f/s*(len(airline)-w)+f)\n",
    "print(T)\n",
    "quantidade_janelas = int((len(y) - w)/s)"
   ]
  },
  {
   "cell_type": "code",
   "execution_count": 43,
   "metadata": {},
   "outputs": [
    {
     "name": "stdout",
     "output_type": "stream",
     "text": [
      "BACKPROP\n",
      "Execução:  0\n",
      "Execução:  1\n",
      "Execução:  2\n",
      "Execução:  3\n",
      "Execução:  4\n",
      "Execução:  5\n",
      "Execução:  6\n",
      "Execução:  7\n",
      "Execução:  8\n",
      "Execução:  9\n",
      "Execução:  10\n",
      "Execução:  11\n",
      "Execução:  12\n",
      "Execução:  13\n",
      "Execução:  14\n",
      "Execução:  15\n",
      "Execução:  16\n",
      "Execução:  17\n",
      "Execução:  18\n",
      "Execução:  19\n",
      "Execução:  20\n",
      "Execução:  21\n",
      "Execução:  22\n",
      "Execução:  23\n",
      "Execução:  24\n",
      "Execução:  25\n",
      "Execução:  26\n",
      "Execução:  27\n",
      "Execução:  28\n",
      "Execução:  29\n",
      "TE medio:  0.09207347305387278\n",
      "TE desvio:  0.26036211095346484\n",
      "GE medio:  0.09363136507326646\n",
      "GE desvio:  0.2643177234526674\n",
      "GF medio:  1.9382825995907453\n",
      "GF desvio:  1.1024030467026755\n",
      "Tempo de execução para o backprop 40.0218391418457\n",
      "PSO\n",
      "Execução:  0\n",
      "Execução:  1\n",
      "Execução:  2\n",
      "Execução:  3\n",
      "Execução:  4\n",
      "Execução:  5\n",
      "Execução:  6\n",
      "Execução:  7\n",
      "Execução:  8\n",
      "Execução:  9\n",
      "Execução:  10\n",
      "Execução:  11\n",
      "Execução:  12\n",
      "Execução:  13\n",
      "Execução:  14\n",
      "Execução:  15\n",
      "Execução:  16\n",
      "Execução:  17\n",
      "Execução:  18\n",
      "Execução:  19\n",
      "Execução:  20\n",
      "Execução:  21\n",
      "Execução:  22\n",
      "Execução:  23\n",
      "Execução:  24\n",
      "Execução:  25\n",
      "Execução:  26\n",
      "Execução:  27\n",
      "Execução:  28\n",
      "Execução:  29\n",
      "TE medio:  9.60550579365041e-05\n",
      "TE desvio:  3.720678805079087e-05\n",
      "GE medio:  0.0002206938366847668\n",
      "GE desvio:  0.0001026379681209696\n",
      "GF medio:  2.250209071423102\n",
      "GF desvio:  0.35696234800117227\n",
      "Tempo de execução para o backprop 18262.619400024414\n"
     ]
    }
   ],
   "source": [
    "# backprop\n",
    "print('BACKPROP')\n",
    "tic = time.time()\n",
    "airline_mse_treino_4_backprop, airline_mse_val_4_backprop, airline_mse_teste_4_backprop = cenarios_execucoes(X, y, w, s, f, modelo = nn_model2,perc_treino=0.54, perc_val=0.24)\n",
    "airline_resultados_4_backprop, airline_resultados_mse_treino_4_backprop, airline_resultados_mse_teste_4_backprop = avaliacao_resultados(airline_mse_treino_4_backprop, \n",
    "                                                                                                                                       airline_mse_val_4_backprop,\n",
    "                                                                                                                                       airline_mse_teste_4_backprop, \n",
    "                                                                                                                                       f, quantidade_janelas, execucoes = 30) \n",
    "\n",
    "tac = time.time()\n",
    "print('Tempo de execução para o backprop', (tac - tic))\n",
    "\n",
    "\n",
    "print('PSO')\n",
    "# pso\n",
    "tic = time.time()\n",
    "airline_mse_treino_4_pso, airline_mse_val_4_pso, airline_mse_teste_4_pso = cenarios_execucoes(X, y, w, s, f, modelo = nn_model_pso_todos,perc_treino=0.54, perc_val=0.24)\n",
    "airline_resultados_4_pso,resultados_mse_treino_4_pso, airline_resultados_mse_teste_4_pso = avaliacao_resultados(airline_mse_treino_4_pso, \n",
    "                                                                                                                airline_mse_val_4_pso, \n",
    "                                                                                                                airline_mse_teste_4_pso,f, quantidade_janelas, execucoes = 30) \n",
    "tac = time.time()\n",
    "print('Tempo de execução para o backprop', (tac - tic))"
   ]
  },
  {
   "cell_type": "markdown",
   "metadata": {},
   "source": [
    "## 3. Australian wine sales time series (AWS)\n",
    "\n",
    "* 187 obs. \n",
    "* jan 1980 to july 1995\n",
    "\n",
    "Série mensal inputs: 12"
   ]
  },
  {
   "cell_type": "code",
   "execution_count": 44,
   "metadata": {},
   "outputs": [
    {
     "data": {
      "text/plain": [
       "0    1954\n",
       "1    2302\n",
       "2    3054\n",
       "3    2414\n",
       "4    2226\n",
       "Name: valor, dtype: int64"
      ]
     },
     "execution_count": 44,
     "metadata": {},
     "output_type": "execute_result"
    }
   ],
   "source": [
    "## AWS\n",
    "aws = pd.read_csv('dados/wine_sales.csv')\n",
    "aws = aws['valor']\n",
    "aws.head()"
   ]
  },
  {
   "cell_type": "code",
   "execution_count": 45,
   "metadata": {},
   "outputs": [],
   "source": [
    "qtd_inputs = 12\n",
    "aws_norm = normalizar_serie(aws)\n",
    "X, y = split_sequence(aws_norm.values, qtd_inputs, 1)"
   ]
  },
  {
   "cell_type": "markdown",
   "metadata": {},
   "source": [
    "### Cenário I - AWS\n",
    "\n",
    "* w = 42 \n",
    "* s = 5\n",
    "* f = 50"
   ]
  },
  {
   "cell_type": "code",
   "execution_count": 46,
   "metadata": {},
   "outputs": [
    {
     "name": "stdout",
     "output_type": "stream",
     "text": [
      "1500\n"
     ]
    }
   ],
   "source": [
    "w = 42 # tamanho da janela\n",
    "s = 5 # tamanho do passo\n",
    "f = 50 # quantidade de iterações para a janela\n",
    "T = int(f/s*(len(aws)-w)+f)\n",
    "print(T)\n",
    "quantidade_janelas = int((len(y) - w)/s)"
   ]
  },
  {
   "cell_type": "code",
   "execution_count": null,
   "metadata": {},
   "outputs": [
    {
     "name": "stdout",
     "output_type": "stream",
     "text": [
      "BACKPROP\n",
      "Execução:  0\n",
      "Execução:  1\n",
      "Execução:  2\n",
      "Execução:  3\n",
      "Execução:  4\n",
      "Execução:  5\n",
      "Execução:  6\n",
      "Execução:  7\n",
      "Execução:  8\n",
      "Execução:  9\n",
      "Execução:  10\n",
      "Execução:  11\n",
      "Execução:  12\n",
      "Execução:  13\n",
      "Execução:  14\n",
      "Execução:  15\n",
      "Execução:  16\n",
      "Execução:  17\n",
      "Execução:  18\n",
      "Execução:  19\n",
      "Execução:  20\n",
      "Execução:  21\n",
      "Execução:  22\n",
      "Execução:  23\n",
      "Execução:  24\n",
      "Execução:  25\n",
      "Execução:  26\n",
      "Execução:  27\n",
      "Execução:  28\n",
      "Execução:  29\n",
      "TE medio:  0.000963962494129946\n",
      "TE desvio:  0.0016806782464134685\n",
      "GE medio:  0.0012101576458909728\n",
      "GE desvio:  0.0016648816226733304\n",
      "GF medio:  1.5576217999812656\n",
      "GF desvio:  0.23199039624594034\n",
      "Tempo de execução para o backprop 221.44372510910034\n",
      "PSO\n",
      "Execução:  0\n",
      "Execução:  1\n",
      "Execução:  2\n",
      "Execução:  3\n",
      "Execução:  4\n",
      "Execução:  5\n",
      "Execução:  6\n",
      "Execução:  7\n",
      "Execução:  8\n",
      "Execução:  9\n",
      "Execução:  10\n",
      "Execução:  11\n",
      "Execução:  12\n",
      "Execução:  13\n",
      "Execução:  14\n",
      "Execução:  15\n",
      "Execução:  16\n",
      "Execução:  17\n",
      "Execução:  18\n",
      "Execução:  19\n",
      "Execução:  20\n"
     ]
    }
   ],
   "source": [
    "# backprop\n",
    "print('BACKPROP')\n",
    "tic = time.time()\n",
    "aws_mse_treino_1_backprop, aws_mse_val_1_backprop, aws_mse_teste_1_backprop = cenarios_execucoes(X, y, w, s, f, modelo = nn_model2,perc_treino=0.54, perc_val=0.24)\n",
    "aws_resultados_1_backprop, aws_resultados_mse_treino_1_backprop, aws_resultados_mse_teste_1_backprop = avaliacao_resultados(aws_mse_treino_1_backprop, \n",
    "                                                                                                                                       aws_mse_val_1_backprop,\n",
    "                                                                                                                                       aws_mse_teste_1_backprop, \n",
    "                                                                                                                                       f, quantidade_janelas, execucoes = 30) \n",
    "\n",
    "tac = time.time()\n",
    "print('Tempo de execução para o backprop', (tac - tic))\n",
    "\n",
    "\n",
    "print('PSO')\n",
    "# pso\n",
    "tic = time.time()\n",
    "aws_mse_treino_1_pso, aws_mse_val_1_pso, aws_mse_teste_1_pso = cenarios_execucoes(X, y, w, s, f, modelo = nn_model_pso_todos,perc_treino=0.54, perc_val=0.24)\n",
    "aws_resultados_1_pso,resultados_mse_treino_1_pso, aws_resultados_mse_teste_1_pso = avaliacao_resultados(aws_mse_treino_1_pso, \n",
    "                                                                                                                aws_mse_val_1_pso, \n",
    "                                                                                                                aws_mse_teste_1_pso,f, quantidade_janelas, execucoes = 30) \n",
    "tac = time.time()\n",
    "print('Tempo de execução para o backprop', (tac - tic))"
   ]
  },
  {
   "cell_type": "markdown",
   "metadata": {},
   "source": [
    "### Cenário II - AWS\n",
    "\n",
    "* w = 42\n",
    "* s = 20\n",
    "* f = 100"
   ]
  },
  {
   "cell_type": "code",
   "execution_count": null,
   "metadata": {},
   "outputs": [],
   "source": [
    "w = 42 # tamanho da janela\n",
    "s = 20 # tamanho do passo\n",
    "f = 100 # quantidade de iterações para a janela\n",
    "T = int(f/s*(len(aws)-w)+f)\n",
    "print(T)"
   ]
  },
  {
   "cell_type": "code",
   "execution_count": null,
   "metadata": {},
   "outputs": [],
   "source": [
    "\n",
    "# backprop\n",
    "print('BACKPROP')\n",
    "tic = time.time()\n",
    "aws_mse_treino_2_backprop, aws_mse_val_2_backprop, aws_mse_teste_2_backprop = cenarios_execucoes(X, y, w, s, f, modelo = nn_model2,perc_treino=0.54, perc_val=0.24)\n",
    "aws_resultados_2_backprop, aws_resultados_mse_treino_2_backprop, aws_resultados_mse_teste_2_backprop = avaliacao_resultados(aws_mse_treino_2_backprop, \n",
    "                                                                                                                                       aws_mse_val_2_backprop,\n",
    "                                                                                                                                       aws_mse_teste_2_backprop, \n",
    "                                                                                                                                       f, quantidade_janelas, execucoes = 30) \n",
    "\n",
    "tac = time.time()\n",
    "print('Tempo de execução para o backprop', (tac - tic))\n",
    "\n",
    "\n",
    "print('PSO')\n",
    "# pso\n",
    "tic = time.time()\n",
    "aws_mse_treino_2_pso, aws_mse_val_2_pso, aws_mse_teste_2_pso = cenarios_execucoes(X, y, w, s, f, modelo = nn_model_pso_todos,perc_treino=0.54, perc_val=0.24)\n",
    "aws_resultados_2_pso,resultados_mse_treino_2_pso, aws_resultados_mse_teste_2_pso = avaliacao_resultados(aws_mse_treino_2_pso, \n",
    "                                                                                                                aws_mse_val_2_pso, \n",
    "                                                                                                                aws_mse_teste_2_pso,f, quantidade_janelas, execucoes = 30) \n",
    "tac = time.time()\n",
    "print('Tempo de execução para o backprop', (tac - tic))\n",
    "\n"
   ]
  },
  {
   "cell_type": "markdown",
   "metadata": {},
   "source": [
    "### Cenário III - AWS\n",
    "\n",
    "* w = 42\n",
    "* s = 35\n",
    "* f = 150"
   ]
  },
  {
   "cell_type": "code",
   "execution_count": null,
   "metadata": {},
   "outputs": [],
   "source": [
    "w = 42 # tamanho da janela\n",
    "s = 35 # tamanho do passo\n",
    "f = 150 # quantidade de iterações para a janela\n",
    "T = int(f/s*(len(aws)-w)+f)\n",
    "print(T)"
   ]
  },
  {
   "cell_type": "code",
   "execution_count": null,
   "metadata": {},
   "outputs": [],
   "source": [
    "# backprop\n",
    "print('BACKPROP')\n",
    "tic = time.time()\n",
    "aws_mse_treino_3_backprop, aws_mse_val_3_backprop, aws_mse_teste_3_backprop = cenarios_execucoes(X, y, w, s, f, modelo = nn_model2,perc_treino=0.54, perc_val=0.24)\n",
    "aws_resultados_3_backprop, aws_resultados_mse_treino_3_backprop, aws_resultados_mse_teste_3_backprop = avaliacao_resultados(aws_mse_treino_3_backprop, \n",
    "                                                                                                                                       aws_mse_val_3_backprop,\n",
    "                                                                                                                                       aws_mse_teste_3_backprop, \n",
    "                                                                                                                                       f, quantidade_janelas, execucoes = 30) \n",
    "\n",
    "tac = time.time()\n",
    "print('Tempo de execução para o backprop', (tac - tic))\n",
    "\n",
    "\n",
    "print('PSO')\n",
    "# pso\n",
    "tic = time.time()\n",
    "aws_mse_treino_3_pso, aws_mse_val_3_pso, aws_mse_teste_3_pso = cenarios_execucoes(X, y, w, s, f, modelo = nn_model_pso_todos,perc_treino=0.54, perc_val=0.24)\n",
    "aws_resultados_3_pso,resultados_mse_treino_3_pso, aws_resultados_mse_teste_3_pso = avaliacao_resultados(aws_mse_treino_3_pso, \n",
    "                                                                                                                aws_mse_val_3_pso, \n",
    "                                                                                                                aws_mse_teste_3_pso,f, quantidade_janelas, execucoes = 30) \n",
    "tac = time.time()\n",
    "print('Tempo de execução para o backprop', (tac - tic))\n",
    "\n"
   ]
  },
  {
   "cell_type": "markdown",
   "metadata": {},
   "source": [
    "### Cenário IV - AWS\n",
    "\n",
    "* w = 42\n",
    "* s = 32\n",
    "* f = 100"
   ]
  },
  {
   "cell_type": "code",
   "execution_count": null,
   "metadata": {},
   "outputs": [],
   "source": [
    "w = 42 # tamanho da janela\n",
    "s = 32 # tamanho do passo\n",
    "f = 100 # quantidade de iterações para a janela\n",
    "T = int(f/s*(len(aws)-w)+f)\n",
    "print(T)"
   ]
  },
  {
   "cell_type": "code",
   "execution_count": null,
   "metadata": {},
   "outputs": [],
   "source": [
    "# backprop\n",
    "print('BACKPROP')\n",
    "tic = time.time()\n",
    "aws_mse_treino_4_backprop, aws_mse_val_4_backprop, aws_mse_teste_4_backprop = cenarios_execucoes(X, y, w, s, f, modelo = nn_model2,perc_treino=0.54, perc_val=0.24)\n",
    "aws_resultados_4_backprop, aws_resultados_mse_treino_4_backprop, aws_resultados_mse_teste_4_backprop = avaliacao_resultados(aws_mse_treino_4_backprop, \n",
    "                                                                                                                                       aws_mse_val_4_backprop,\n",
    "                                                                                                                                       aws_mse_teste_4_backprop, \n",
    "                                                                                                                                       f, quantidade_janelas, execucoes = 30) \n",
    "\n",
    "tac = time.time()\n",
    "print('Tempo de execução para o backprop', (tac - tic))\n",
    "\n",
    "\n",
    "print('PSO')\n",
    "# pso\n",
    "tic = time.time()\n",
    "aws_mse_treino_4_pso, aws_mse_val_4_pso, aws_mse_teste_4_pso = cenarios_execucoes(X, y, w, s, f, modelo = nn_model_pso_todos,perc_treino=0.54, perc_val=0.24)\n",
    "aws_resultados_4_pso,resultados_mse_treino_4_pso, aws_resultados_mse_teste_4_pso = avaliacao_resultados(aws_mse_treino_4_pso, \n",
    "                                                                                                                aws_mse_val_4_pso, \n",
    "                                                                                                                aws_mse_teste_4_pso,f, quantidade_janelas, execucoes = 30) \n",
    "tac = time.time()\n",
    "print('Tempo de execução para o backprop', (tac - tic))\n",
    "\n"
   ]
  },
  {
   "cell_type": "markdown",
   "metadata": {},
   "source": [
    "## 4. Standard and poor 500 indexes (S&P)\n",
    "\n",
    "* 388 obs. \n",
    "* Quarterly\n",
    "*  1990 to july 1996\n",
    "\n",
    "Série trimestral inputs: 4"
   ]
  },
  {
   "cell_type": "code",
   "execution_count": 49,
   "metadata": {},
   "outputs": [
    {
     "data": {
      "text/plain": [
       "0    1.198938\n",
       "1    1.299910\n",
       "2    1.348435\n",
       "3    1.455093\n",
       "4    1.552336\n",
       "Name: valor, dtype: float64"
      ]
     },
     "execution_count": 49,
     "metadata": {},
     "output_type": "execute_result"
    }
   ],
   "source": [
    "## S&P\n",
    "sp500 = pd.read_csv('dados/sp500.csv')\n",
    "sp500 = sp500['valor']\n",
    "sp500.head()"
   ]
  },
  {
   "cell_type": "code",
   "execution_count": 52,
   "metadata": {},
   "outputs": [],
   "source": [
    "qtd_inputs = 4\n",
    "aws_norm = normalizar_serie(aws)\n",
    "X, y = split_sequence(aws_norm.values, qtd_inputs, 1)"
   ]
  },
  {
   "cell_type": "markdown",
   "metadata": {},
   "source": [
    "### Cenário I - S&P\n",
    "\n",
    "* w = 58\n",
    "* s = 10\n",
    "* f = 50"
   ]
  },
  {
   "cell_type": "code",
   "execution_count": 53,
   "metadata": {},
   "outputs": [
    {
     "name": "stdout",
     "output_type": "stream",
     "text": [
      "1700\n"
     ]
    }
   ],
   "source": [
    "w = 58 # tamanho da janela\n",
    "s = 10 # tamanho do passo\n",
    "f = 50 # quantidade de iterações para a janela\n",
    "T = int(f/s*(len(sp500)-w)+f)\n",
    "print(T)"
   ]
  },
  {
   "cell_type": "code",
   "execution_count": null,
   "metadata": {},
   "outputs": [],
   "source": [
    "# backprop\n",
    "print('BACKPROP')\n",
    "tic = time.time()\n",
    "sp500_mse_treino_1_backprop, sp500_mse_val_1_backprop, sp500_mse_teste_1_backprop = cenarios_execucoes(X, y, w, s, f, modelo = nn_model2,perc_treino=0.54, perc_val=0.24)\n",
    "sp500_resultados_1_backprop, sp500_resultados_mse_treino_1_backprop, sp500_resultados_mse_teste_1_backprop = avaliacao_resultados(sp500_mse_treino_1_backprop, \n",
    "                                                                                                                                       sp500_mse_val_1_backprop,\n",
    "                                                                                                                                       sp500_mse_teste_1_backprop, \n",
    "                                                                                                                                       f, quantidade_janelas, execucoes = 30) \n",
    "\n",
    "tac = time.time()\n",
    "print('Tempo de execução para o backprop', (tac - tic))\n",
    "\n",
    "\n",
    "print('PSO')\n",
    "# pso\n",
    "tic = time.time()\n",
    "sp500_mse_treino_1_pso, sp500_mse_val_1_pso, sp500_mse_teste_1_pso = cenarios_execucoes(X, y, w, s, f, modelo = nn_model_pso_todos,perc_treino=0.54, perc_val=0.24)\n",
    "sp500_resultados_1_pso,resultados_mse_treino_1_pso, sp500_resultados_mse_teste_1_pso = avaliacao_resultados(sp500_mse_treino_1_pso, \n",
    "                                                                                                                sp500_mse_val_1_pso, \n",
    "                                                                                                                sp500_mse_teste_1_pso,f, quantidade_janelas, execucoes = 30) \n",
    "tac = time.time()\n",
    "print('Tempo de execução para o backprop', (tac - tic))"
   ]
  },
  {
   "cell_type": "markdown",
   "metadata": {},
   "source": [
    "### Cenário II - S&P\n",
    "\n",
    "* w = 58\n",
    "* s = 20\n",
    "* f = 100"
   ]
  },
  {
   "cell_type": "code",
   "execution_count": 54,
   "metadata": {},
   "outputs": [
    {
     "name": "stdout",
     "output_type": "stream",
     "text": [
      "745\n"
     ]
    }
   ],
   "source": [
    "w = 58 # tamanho da janela\n",
    "s = 20 # tamanho do passo\n",
    "f = 100 # quantidade de iterações para a janela\n",
    "T = int(f/s*(len(aws)-w)+f)\n",
    "print(T)"
   ]
  },
  {
   "cell_type": "code",
   "execution_count": null,
   "metadata": {},
   "outputs": [],
   "source": [
    "# backprop\n",
    "print('BACKPROP')\n",
    "tic = time.time()\n",
    "sp500_mse_treino_2_backprop, sp500_mse_val_2_backprop, sp500_mse_teste_2_backprop = cenarios_execucoes(X, y, w, s, f, modelo = nn_model2,perc_treino=0.54, perc_val=0.24)\n",
    "sp500_resultados_2_backprop, sp500_resultados_mse_treino_2_backprop, sp500_resultados_mse_teste_2_backprop = avaliacao_resultados(sp500_mse_treino_2_backprop, \n",
    "                                                                                                                                       sp500_mse_val_2_backprop,\n",
    "                                                                                                                                       sp500_mse_teste_2_backprop, \n",
    "                                                                                                                                       f, quantidade_janelas, execucoes = 30) \n",
    "\n",
    "tac = time.time()\n",
    "print('Tempo de execução para o backprop', (tac - tic))\n",
    "\n",
    "\n",
    "print('PSO')\n",
    "# pso\n",
    "tic = time.time()\n",
    "sp500_mse_treino_2_pso, sp500_mse_val_2_pso, sp500_mse_teste_2_pso = cenarios_execucoes(X, y, w, s, f, modelo = nn_model_pso_todos,perc_treino=0.54, perc_val=0.24)\n",
    "sp500_resultados_2_pso,resultados_mse_treino_2_pso, sp500_resultados_mse_teste_2_pso = avaliacao_resultados(sp500_mse_treino_2_pso, \n",
    "                                                                                                                sp500_mse_val_2_pso, \n",
    "                                                                                                                sp500_mse_teste_2_pso,f, quantidade_janelas, execucoes = 30) \n",
    "tac = time.time()\n",
    "print('Tempo de execução para o backprop', (tac - tic))"
   ]
  },
  {
   "cell_type": "markdown",
   "metadata": {},
   "source": [
    "### Cenário III - S&P\n",
    "\n",
    "* w = 58\n",
    "* s = 40\n",
    "* f = 150"
   ]
  },
  {
   "cell_type": "code",
   "execution_count": 55,
   "metadata": {},
   "outputs": [
    {
     "name": "stdout",
     "output_type": "stream",
     "text": [
      "633\n"
     ]
    }
   ],
   "source": [
    "w = 58 # tamanho da janela\n",
    "s = 40 # tamanho do passo\n",
    "f = 150 # quantidade de iterações para a janela\n",
    "T = int(f/s*(len(aws)-w)+f)\n",
    "print(T)"
   ]
  },
  {
   "cell_type": "code",
   "execution_count": null,
   "metadata": {},
   "outputs": [],
   "source": [
    "# backprop\n",
    "print('BACKPROP')\n",
    "tic = time.time()\n",
    "sp500_mse_treino_3_backprop, sp500_mse_val_3_backprop, sp500_mse_teste_3_backprop = cenarios_execucoes(X, y, w, s, f, modelo = nn_model2,perc_treino=0.54, perc_val=0.24)\n",
    "sp500_resultados_3_backprop, sp500_resultados_mse_treino_3_backprop, sp500_resultados_mse_teste_3_backprop = avaliacao_resultados(sp500_mse_treino_3_backprop, \n",
    "                                                                                                                                       sp500_mse_val_3_backprop,\n",
    "                                                                                                                                       sp500_mse_teste_3_backprop, \n",
    "                                                                                                                                       f, quantidade_janelas, execucoes = 30) \n",
    "\n",
    "tac = time.time()\n",
    "print('Tempo de execução para o backprop', (tac - tic))\n",
    "\n",
    "\n",
    "print('PSO')\n",
    "# pso\n",
    "tic = time.time()\n",
    "sp500_mse_treino_3_pso, sp500_mse_val_3_pso, sp500_mse_teste_3_pso = cenarios_execucoes(X, y, w, s, f, modelo = nn_model_pso_todos,perc_treino=0.54, perc_val=0.24)\n",
    "sp500_resultados_3_pso,resultados_mse_treino_3_pso, sp500_resultados_mse_teste_3_pso = avaliacao_resultados(sp500_mse_treino_3_pso, \n",
    "                                                                                                                sp500_mse_val_3_pso, \n",
    "                                                                                                                sp500_mse_teste_3_pso,f, quantidade_janelas, execucoes = 30) \n",
    "tac = time.time()\n",
    "print('Tempo de execução para o backprop', (tac - tic))"
   ]
  },
  {
   "cell_type": "markdown",
   "metadata": {},
   "source": [
    "### Cenário IV - S&P\n",
    "\n",
    "* w = 58\n",
    "* s = 58\n",
    "* f = 100"
   ]
  },
  {
   "cell_type": "code",
   "execution_count": 56,
   "metadata": {},
   "outputs": [
    {
     "name": "stdout",
     "output_type": "stream",
     "text": [
      "322\n"
     ]
    }
   ],
   "source": [
    "w = 58 # tamanho da janela\n",
    "s = 58 # tamanho do passo\n",
    "f = 100 # quantidade de iterações para a janela\n",
    "T = int(f/s*(len(aws)-w)+f)\n",
    "print(T)"
   ]
  },
  {
   "cell_type": "code",
   "execution_count": null,
   "metadata": {},
   "outputs": [],
   "source": [
    "# backprop\n",
    "print('BACKPROP')\n",
    "tic = time.time()\n",
    "sp500_mse_treino_4_backprop, sp500_mse_val_4_backprop, sp500_mse_teste_4_backprop = cenarios_execucoes(X, y, w, s, f, modelo = nn_model2,perc_treino=0.54, perc_val=0.24)\n",
    "sp500_resultados_4_backprop, sp500_resultados_mse_treino_4_backprop, sp500_resultados_mse_teste_4_backprop = avaliacao_resultados(sp500_mse_treino_4_backprop, \n",
    "                                                                                                                                       sp500_mse_val_4_backprop,\n",
    "                                                                                                                                       sp500_mse_teste_4_backprop, \n",
    "                                                                                                                                       f, quantidade_janelas, execucoes = 30) \n",
    "\n",
    "tac = time.time()\n",
    "print('Tempo de execução para o backprop', (tac - tic))\n",
    "\n",
    "\n",
    "print('PSO')\n",
    "# pso\n",
    "tic = time.time()\n",
    "sp500_mse_treino_4_pso, sp500_mse_val_4_pso, sp500_mse_teste_4_pso = cenarios_execucoes(X, y, w, s, f, modelo = nn_model_pso_todos,perc_treino=0.54, perc_val=0.24)\n",
    "sp500_resultados_4_pso,resultados_mse_treino_4_pso, sp500_resultados_mse_teste_4_pso = avaliacao_resultados(sp500_mse_treino_4_pso, \n",
    "                                                                                                                sp500_mse_val_4_pso, \n",
    "                                                                                                                sp500_mse_teste_4_pso,f, quantidade_janelas, execucoes = 30) \n",
    "tac = time.time()\n",
    "print('Tempo de execução para o backprop', (tac - tic))"
   ]
  },
  {
   "cell_type": "markdown",
   "metadata": {},
   "source": [
    "## 5. US death time series (USD)\n",
    "\n",
    "* 72 obs. \n",
    "* Jan 1973 to Dez 1978\n",
    "\n",
    "Série mensal inputs: 12"
   ]
  },
  {
   "cell_type": "code",
   "execution_count": 57,
   "metadata": {},
   "outputs": [
    {
     "data": {
      "text/plain": [
       "0     9007\n",
       "1     8106\n",
       "2     8928\n",
       "3     9137\n",
       "4    10017\n",
       "Name: valor, dtype: int64"
      ]
     },
     "execution_count": 57,
     "metadata": {},
     "output_type": "execute_result"
    }
   ],
   "source": [
    "## USD\n",
    "usd = pd.read_csv('dados/usa_accident_death.csv')\n",
    "usd = usd['valor']\n",
    "usd.head()"
   ]
  },
  {
   "cell_type": "code",
   "execution_count": 58,
   "metadata": {},
   "outputs": [],
   "source": [
    "qtd_inputs = 12\n",
    "usd_norm = normalizar_serie(usd)\n",
    "X, y = split_sequence(usd_norm.values, qtd_inputs, 1)"
   ]
  },
  {
   "cell_type": "markdown",
   "metadata": {},
   "source": [
    "### Cenário I - USD\n",
    "\n",
    "* w = 20\n",
    "* s = 2\n",
    "* f = 50"
   ]
  },
  {
   "cell_type": "code",
   "execution_count": 67,
   "metadata": {},
   "outputs": [
    {
     "name": "stdout",
     "output_type": "stream",
     "text": [
      "1350\n"
     ]
    }
   ],
   "source": [
    "w = 20 # tamanho da janela\n",
    "s = 2 # tamanho do passo\n",
    "f = 50 # quantidade de iterações para a janela\n",
    "T = int(f/s*(len(usd)-w)+f)\n",
    "print(T)"
   ]
  },
  {
   "cell_type": "code",
   "execution_count": null,
   "metadata": {},
   "outputs": [],
   "source": [
    "# backprop\n",
    "print('BACKPROP')\n",
    "tic = time.time()\n",
    "usd_mse_treino_1_backprop, usd_mse_val_1_backprop, usd_mse_teste_1_backprop = cenarios_execucoes(X, y, w, s, f, modelo = nn_model2,perc_treino=0.54, perc_val=0.24)\n",
    "usd_resultados_1_backprop, usd_resultados_mse_treino_1_backprop, usd_resultados_mse_teste_1_backprop = avaliacao_resultados(usd_mse_treino_1_backprop, \n",
    "                                                                                                                                       usd_mse_val_1_backprop,\n",
    "                                                                                                                                       usd_mse_teste_1_backprop, \n",
    "                                                                                                                                       f, quantidade_janelas, execucoes = 30) \n",
    "\n",
    "tac = time.time()\n",
    "print('Tempo de execução para o backprop', (tac - tic))\n",
    "\n",
    "\n",
    "print('PSO')\n",
    "# pso\n",
    "tic = time.time()\n",
    "usd_mse_treino_1_pso, usd_mse_val_1_pso, usd_mse_teste_1_pso = cenarios_execucoes(X, y, w, s, f, modelo = nn_model_pso_todos,perc_treino=0.54, perc_val=0.24)\n",
    "usd_resultados_1_pso,resultados_mse_treino_1_pso, usd_resultados_mse_teste_1_pso = avaliacao_resultados(usd_mse_treino_1_pso, \n",
    "                                                                                                                usd_mse_val_1_pso, \n",
    "                                                                                                                usd_mse_teste_1_pso,f, quantidade_janelas, execucoes = 30) \n",
    "tac = time.time()\n",
    "print('Tempo de execução para o backprop', (tac - tic))"
   ]
  },
  {
   "cell_type": "markdown",
   "metadata": {},
   "source": [
    "### Cenário II - USD\n",
    "\n",
    "* w = 20\n",
    "* s = 8\n",
    "* f = 100"
   ]
  },
  {
   "cell_type": "code",
   "execution_count": 68,
   "metadata": {},
   "outputs": [
    {
     "name": "stdout",
     "output_type": "stream",
     "text": [
      "750\n"
     ]
    }
   ],
   "source": [
    "w = 20 # tamanho da janela\n",
    "s = 8 # tamanho do passo\n",
    "f = 100 # quantidade de iterações para a janela\n",
    "T = int(f/s*(len(usd)-w)+f)\n",
    "print(T)"
   ]
  },
  {
   "cell_type": "code",
   "execution_count": null,
   "metadata": {},
   "outputs": [],
   "source": [
    "# backprop\n",
    "print('BACKPROP')\n",
    "tic = time.time()\n",
    "usd_mse_treino_2_backprop, usd_mse_val_2_backprop, usd_mse_teste_2_backprop = cenarios_execucoes(X, y, w, s, f, modelo = nn_model2,perc_treino=0.54, perc_val=0.24)\n",
    "usd_resultados_2_backprop, usd_resultados_mse_treino_2_backprop, usd_resultados_mse_teste_2_backprop = avaliacao_resultados(usd_mse_treino_2_backprop, \n",
    "                                                                                                                                       usd_mse_val_2_backprop,\n",
    "                                                                                                                                       usd_mse_teste_2_backprop, \n",
    "                                                                                                                                       f, quantidade_janelas, execucoes = 30) \n",
    "\n",
    "tac = time.time()\n",
    "print('Tempo de execução para o backprop', (tac - tic))\n",
    "\n",
    "\n",
    "print('PSO')\n",
    "# pso\n",
    "tic = time.time()\n",
    "usd_mse_treino_2_pso, usd_mse_val_2_pso, usd_mse_teste_2_pso = cenarios_execucoes(X, y, w, s, f, modelo = nn_model_pso_todos,perc_treino=0.54, perc_val=0.24)\n",
    "usd_resultados_2_pso,resultados_mse_treino_2_pso, usd_resultados_mse_teste_2_pso = avaliacao_resultados(usd_mse_treino_2_pso, \n",
    "                                                                                                                usd_mse_val_2_pso, \n",
    "                                                                                                                usd_mse_teste_2_pso,f, quantidade_janelas, execucoes = 30) \n",
    "tac = time.time()\n",
    "print('Tempo de execução para o backprop', (tac - tic))"
   ]
  },
  {
   "cell_type": "markdown",
   "metadata": {},
   "source": [
    "### Cenário III - USD\n",
    "\n",
    "* w = 20\n",
    "* s = 16\n",
    "* f = 150"
   ]
  },
  {
   "cell_type": "code",
   "execution_count": 69,
   "metadata": {},
   "outputs": [
    {
     "name": "stdout",
     "output_type": "stream",
     "text": [
      "637\n"
     ]
    }
   ],
   "source": [
    "w = 20 # tamanho da janela\n",
    "s = 16 # tamanho do passo\n",
    "f = 150 # quantidade de iterações para a janela\n",
    "T = int(f/s*(len(usd)-w)+f)\n",
    "print(T)"
   ]
  },
  {
   "cell_type": "code",
   "execution_count": null,
   "metadata": {},
   "outputs": [],
   "source": [
    "# backprop\n",
    "print('BACKPROP')\n",
    "tic = time.time()\n",
    "usd_mse_treino_3_backprop, usd_mse_val_3_backprop, usd_mse_teste_3_backprop = cenarios_execucoes(X, y, w, s, f, modelo = nn_model2,perc_treino=0.54, perc_val=0.24)\n",
    "usd_resultados_3_backprop, usd_resultados_mse_treino_3_backprop, usd_resultados_mse_teste_3_backprop = avaliacao_resultados(usd_mse_treino_3_backprop, \n",
    "                                                                                                                                       usd_mse_val_3_backprop,\n",
    "                                                                                                                                       usd_mse_teste_3_backprop, \n",
    "                                                                                                                                       f, quantidade_janelas, execucoes = 30) \n",
    "\n",
    "tac = time.time()\n",
    "print('Tempo de execução para o backprop', (tac - tic))\n",
    "\n",
    "\n",
    "print('PSO')\n",
    "# pso\n",
    "tic = time.time()\n",
    "usd_mse_treino_3_pso, usd_mse_val_3_pso, usd_mse_teste_3_pso = cenarios_execucoes(X, y, w, s, f, modelo = nn_model_pso_todos,perc_treino=0.54, perc_val=0.24)\n",
    "usd_resultados_3_pso,resultados_mse_treino_3_pso, usd_resultados_mse_teste_3_pso = avaliacao_resultados(usd_mse_treino_3_pso, \n",
    "                                                                                                                usd_mse_val_3_pso, \n",
    "                                                                                                                usd_mse_teste_3_pso,f, quantidade_janelas, execucoes = 30) \n",
    "tac = time.time()\n",
    "print('Tempo de execução para o backprop', (tac - tic))"
   ]
  },
  {
   "cell_type": "markdown",
   "metadata": {},
   "source": [
    "### Cenário IV - USD\n",
    "\n",
    "* w = 20\n",
    "* s = 20\n",
    "* f = 100"
   ]
  },
  {
   "cell_type": "code",
   "execution_count": 70,
   "metadata": {},
   "outputs": [
    {
     "name": "stdout",
     "output_type": "stream",
     "text": [
      "360\n"
     ]
    }
   ],
   "source": [
    "w = 20 # tamanho da janela\n",
    "s = 20 # tamanho do passo\n",
    "f = 100 # quantidade de iterações para a janela\n",
    "T = int(f/s*(len(usd)-w)+f)\n",
    "print(T)"
   ]
  },
  {
   "cell_type": "code",
   "execution_count": null,
   "metadata": {},
   "outputs": [],
   "source": [
    "# backprop\n",
    "print('BACKPROP')\n",
    "tic = time.time()\n",
    "usd_mse_treino_4_backprop, usd_mse_val_4_backprop, usd_mse_teste_4_backprop = cenarios_execucoes(X, y, w, s, f, modelo = nn_model2,perc_treino=0.54, perc_val=0.24)\n",
    "usd_resultados_4_backprop, usd_resultados_mse_treino_4_backprop, usd_resultados_mse_teste_4_backprop = avaliacao_resultados(usd_mse_treino_4_backprop, \n",
    "                                                                                                                                       usd_mse_val_4_backprop,\n",
    "                                                                                                                                       usd_mse_teste_4_backprop, \n",
    "                                                                                                                                       f, quantidade_janelas, execucoes = 30) \n",
    "\n",
    "tac = time.time()\n",
    "print('Tempo de execução para o backprop', (tac - tic))\n",
    "\n",
    "\n",
    "print('PSO')\n",
    "# pso\n",
    "tic = time.time()\n",
    "usd_mse_treino_4_pso, usd_mse_val_4_pso, usd_mse_teste_4_pso = cenarios_execucoes(X, y, w, s, f, modelo = nn_model_pso_todos,perc_treino=0.54, perc_val=0.24)\n",
    "usd_resultados_4_pso,resultados_mse_treino_4_pso, usd_resultados_mse_teste_4_pso = avaliacao_resultados(usd_mse_treino_4_pso, \n",
    "                                                                                                                usd_mse_val_4_pso, \n",
    "                                                                                                                usd_mse_teste_4_pso,f, quantidade_janelas, execucoes = 30) \n",
    "tac = time.time()\n",
    "print('Tempo de execução para o backprop', (tac - tic))"
   ]
  },
  {
   "cell_type": "markdown",
   "metadata": {},
   "source": [
    "## 6. Hourly internet traffic time series (HIT)\n",
    "\n",
    "* 1657 obs.\n",
    "* hourly \n",
    "* 19 nov 2004 at 9:30 and 27 jan 2005 at 11:11\n",
    "\n",
    "Série horária: 24 inputs\n"
   ]
  },
  {
   "cell_type": "code",
   "execution_count": 71,
   "metadata": {},
   "outputs": [
    {
     "data": {
      "text/plain": [
       "0    4838.665376\n",
       "1    4845.176609\n",
       "2    5157.995660\n",
       "3    5637.875537\n",
       "4    5520.689840\n",
       "Name: valor, dtype: float64"
      ]
     },
     "execution_count": 71,
     "metadata": {},
     "output_type": "execute_result"
    }
   ],
   "source": [
    "## HIT\n",
    "hit = pd.read_csv('dados/internet_traffic.csv')\n",
    "hit = hit['valor']\n",
    "hit.head()"
   ]
  },
  {
   "cell_type": "code",
   "execution_count": 72,
   "metadata": {},
   "outputs": [],
   "source": [
    "qtd_inputs = 24\n",
    "hit_norm = normalizar_serie(hit)\n",
    "X, y = split_sequence(hit_norm.values, qtd_inputs, 1)"
   ]
  },
  {
   "cell_type": "markdown",
   "metadata": {},
   "source": [
    "#### Cenário I - HIT\n",
    "\n",
    "* w = 584\n",
    "* s = 100\n",
    "* f = 50"
   ]
  },
  {
   "cell_type": "code",
   "execution_count": 73,
   "metadata": {},
   "outputs": [
    {
     "name": "stdout",
     "output_type": "stream",
     "text": [
      "9702\n"
     ]
    }
   ],
   "source": [
    "w = 584 # tamanho da janela\n",
    "s = 100 # tamanho do passo\n",
    "f = 50 # quantidade de iterações para a janela\n",
    "T = int(f/s*(len(hit)-w)+f)\n",
    "print(T)"
   ]
  },
  {
   "cell_type": "code",
   "execution_count": null,
   "metadata": {},
   "outputs": [],
   "source": [
    "# backprop\n",
    "print('BACKPROP')\n",
    "tic = time.time()\n",
    "hit_mse_treino_1_backprop, hit_mse_val_1_backprop, hit_mse_teste_1_backprop = cenarios_execucoes(X, y, w, s, f, modelo = nn_model2,perc_treino=0.54, perc_val=0.24)\n",
    "hit_resultados_1_backprop, hit_resultados_mse_treino_1_backprop, hit_resultados_mse_teste_1_backprop = avaliacao_resultados(hit_mse_treino_1_backprop, \n",
    "                                                                                                                                       hit_mse_val_1_backprop,\n",
    "                                                                                                                                       hit_mse_teste_1_backprop, \n",
    "                                                                                                                                       f, quantidade_janelas, execucoes = 30) \n",
    "\n",
    "tac = time.time()\n",
    "print('Tempo de execução para o backprop', (tac - tic))\n",
    "\n",
    "\n",
    "print('PSO')\n",
    "# pso\n",
    "tic = time.time()\n",
    "hit_mse_treino_1_pso, hit_mse_val_1_pso, hit_mse_teste_1_pso = cenarios_execucoes(X, y, w, s, f, modelo = nn_model_pso_todos,perc_treino=0.54, perc_val=0.24)\n",
    "hit_resultados_1_pso,resultados_mse_treino_1_pso, hit_resultados_mse_teste_1_pso = avaliacao_resultados(hit_mse_treino_1_pso, \n",
    "                                                                                                                hit_mse_val_1_pso, \n",
    "                                                                                                                hit_mse_teste_1_pso,f, quantidade_janelas, execucoes = 30) \n",
    "tac = time.time()\n",
    "print('Tempo de execução para o backprop', (tac - tic))"
   ]
  },
  {
   "cell_type": "markdown",
   "metadata": {},
   "source": [
    "#### Cenário II - HIT\n",
    "\n",
    "* w = 584\n",
    "* s = 250\n",
    "* f = 100\n"
   ]
  },
  {
   "cell_type": "code",
   "execution_count": 74,
   "metadata": {},
   "outputs": [
    {
     "name": "stdout",
     "output_type": "stream",
     "text": [
      "7821\n"
     ]
    }
   ],
   "source": [
    "w = 584 # tamanho da janela\n",
    "s = 250 # tamanho do passo\n",
    "f = 100 # quantidade de iterações para a janela\n",
    "T = int(f/s*(len(hit)-w)+f)\n",
    "print(T)"
   ]
  },
  {
   "cell_type": "code",
   "execution_count": null,
   "metadata": {},
   "outputs": [],
   "source": [
    "# backprop\n",
    "print('BACKPROP')\n",
    "tic = time.time()\n",
    "hit_mse_treino_2_backprop, hit_mse_val_2_backprop, hit_mse_teste_2_backprop = cenarios_execucoes(X, y, w, s, f, modelo = nn_model2,perc_treino=0.54, perc_val=0.24)\n",
    "hit_resultados_2_backprop, hit_resultados_mse_treino_2_backprop, hit_resultados_mse_teste_2_backprop = avaliacao_resultados(hit_mse_treino_2_backprop, \n",
    "                                                                                                                                       hit_mse_val_2_backprop,\n",
    "                                                                                                                                       hit_mse_teste_2_backprop, \n",
    "                                                                                                                                       f, quantidade_janelas, execucoes = 30) \n",
    "\n",
    "tac = time.time()\n",
    "print('Tempo de execução para o backprop', (tac - tic))\n",
    "\n",
    "\n",
    "print('PSO')\n",
    "# pso\n",
    "tic = time.time()\n",
    "hit_mse_treino_2_pso, hit_mse_val_2_pso, hit_mse_teste_2_pso = cenarios_execucoes(X, y, w, s, f, modelo = nn_model_pso_todos,perc_treino=0.54, perc_val=0.24)\n",
    "hit_resultados_2_pso,resultados_mse_treino_2_pso, hit_resultados_mse_teste_2_pso = avaliacao_resultados(hit_mse_treino_2_pso, \n",
    "                                                                                                                hit_mse_val_2_pso, \n",
    "                                                                                                                hit_mse_teste_2_pso,f, quantidade_janelas, execucoes = 30) \n",
    "tac = time.time()\n",
    "print('Tempo de execução para o backprop', (tac - tic))\n",
    "\n",
    "\n",
    "\n",
    "\n"
   ]
  },
  {
   "cell_type": "markdown",
   "metadata": {},
   "source": [
    "#### Cenário III - HIT\n",
    "\n",
    "* w = 584\n",
    "* s = 500\n",
    "* f = 150\n",
    "\n"
   ]
  },
  {
   "cell_type": "code",
   "execution_count": 75,
   "metadata": {},
   "outputs": [
    {
     "name": "stdout",
     "output_type": "stream",
     "text": [
      "5941\n"
     ]
    }
   ],
   "source": [
    "w = 584 # tamanho da janela\n",
    "s = 500 # tamanho do passo\n",
    "f = 150 # quantidade de iterações para a janela\n",
    "T = int(f/s*(len(hit)-w)+f)\n",
    "print(T)"
   ]
  },
  {
   "cell_type": "code",
   "execution_count": null,
   "metadata": {},
   "outputs": [],
   "source": [
    "# backprop\n",
    "print('BACKPROP')\n",
    "tic = time.time()\n",
    "hit_mse_treino_3_backprop, hit_mse_val_3_backprop, hit_mse_teste_3_backprop = cenarios_execucoes(X, y, w, s, f, modelo = nn_model2,perc_treino=0.54, perc_val=0.24)\n",
    "hit_resultados_3_backprop, hit_resultados_mse_treino_3_backprop, hit_resultados_mse_teste_3_backprop = avaliacao_resultados(hit_mse_treino_3_backprop, \n",
    "                                                                                                                                       hit_mse_val_3_backprop,\n",
    "                                                                                                                                       hit_mse_teste_3_backprop, \n",
    "                                                                                                                                       f, quantidade_janelas, execucoes = 30) \n",
    "\n",
    "tac = time.time()\n",
    "print('Tempo de execução para o backprop', (tac - tic))\n",
    "\n",
    "\n",
    "print('PSO')\n",
    "# pso\n",
    "tic = time.time()\n",
    "hit_mse_treino_3_pso, hit_mse_val_3_pso, hit_mse_teste_3_pso = cenarios_execucoes(X, y, w, s, f, modelo = nn_model_pso_todos,perc_treino=0.54, perc_val=0.24)\n",
    "hit_resultados_3_pso,resultados_mse_treino_3_pso, hit_resultados_mse_teste_3_pso = avaliacao_resultados(hit_mse_treino_3_pso, \n",
    "                                                                                                                hit_mse_val_3_pso, \n",
    "                                                                                                                hit_mse_teste_3_pso,f, quantidade_janelas, execucoes = 30) \n",
    "tac = time.time()\n",
    "print('Tempo de execução para o backprop', (tac - tic))"
   ]
  },
  {
   "cell_type": "markdown",
   "metadata": {},
   "source": [
    "#### Cenário IV - HIT\n",
    "\n",
    "* w = 584\n",
    "* s = 584\n",
    "* f = 100\n",
    "\n"
   ]
  },
  {
   "cell_type": "code",
   "execution_count": 76,
   "metadata": {},
   "outputs": [
    {
     "name": "stdout",
     "output_type": "stream",
     "text": [
      "3405\n"
     ]
    }
   ],
   "source": [
    "w = 584 # tamanho da janela\n",
    "s = 584 # tamanho do passo\n",
    "f = 100 # quantidade de iterações para a janela\n",
    "T = int(f/s*(len(hit)-w)+f)\n",
    "print(T)"
   ]
  },
  {
   "cell_type": "code",
   "execution_count": null,
   "metadata": {},
   "outputs": [],
   "source": [
    "# backprop\n",
    "print('BACKPROP')\n",
    "tic = time.time()\n",
    "hit_mse_treino_4_backprop, hit_mse_val_4_backprop, hit_mse_teste_4_backprop = cenarios_execucoes(X, y, w, s, f, modelo = nn_model2,perc_treino=0.54, perc_val=0.24)\n",
    "hit_resultados_4_backprop, hit_resultados_mse_treino_4_backprop, hit_resultados_mse_teste_4_backprop = avaliacao_resultados(hit_mse_treino_4_backprop, \n",
    "                                                                                                                                       hit_mse_val_4_backprop,\n",
    "                                                                                                                                       hit_mse_teste_4_backprop, \n",
    "                                                                                                                                       f, quantidade_janelas, execucoes = 30) \n",
    "\n",
    "tac = time.time()\n",
    "print('Tempo de execução para o backprop', (tac - tic))\n",
    "\n",
    "\n",
    "print('PSO')\n",
    "# pso\n",
    "tic = time.time()\n",
    "hit_mse_treino_4_pso, hit_mse_val_4_pso, hit_mse_teste_4_pso = cenarios_execucoes(X, y, w, s, f, modelo = nn_model_pso_todos,perc_treino=0.54, perc_val=0.24)\n",
    "hit_resultados_4_pso,resultados_mse_treino_4_pso, hit_resultados_mse_teste_4_pso = avaliacao_resultados(hit_mse_treino_4_pso, \n",
    "                                                                                                                hit_mse_val_4_pso, \n",
    "                                                                                                                hit_mse_teste_4_pso,f, quantidade_janelas, execucoes = 30) \n",
    "tac = time.time()\n",
    "print('Tempo de execução para o backprop', (tac - tic))"
   ]
  },
  {
   "cell_type": "markdown",
   "metadata": {},
   "source": [
    "## 7. Daily minimum temperature time series (DMT)\n",
    "\n",
    "* 3650 obs.\n",
    "* daily - 1981 to 1990\n",
    "\n",
    "Daily time series: 30 inputs"
   ]
  },
  {
   "cell_type": "code",
   "execution_count": 77,
   "metadata": {},
   "outputs": [
    {
     "data": {
      "text/plain": [
       "0    20.7\n",
       "1    17.9\n",
       "2    18.8\n",
       "3    14.6\n",
       "4    15.8\n",
       "Name: valor, dtype: float64"
      ]
     },
     "execution_count": 77,
     "metadata": {},
     "output_type": "execute_result"
    }
   ],
   "source": [
    "## DMT\n",
    "dmt = pd.read_csv('dados/daily_temp.csv')\n",
    "dmt = dmt['valor']\n",
    "dmt.head()"
   ]
  },
  {
   "cell_type": "code",
   "execution_count": 78,
   "metadata": {},
   "outputs": [],
   "source": [
    "qtd_inputs = 30\n",
    "hit_norm = normalizar_serie(hit)\n",
    "X, y = split_sequence(hit_norm.values, qtd_inputs, 1)"
   ]
  },
  {
   "cell_type": "markdown",
   "metadata": {},
   "source": [
    "### Cenário I - DMT\n",
    "\n",
    "* w = 510\n",
    "* s = 100\n",
    "* f = 50"
   ]
  },
  {
   "cell_type": "code",
   "execution_count": 80,
   "metadata": {},
   "outputs": [
    {
     "name": "stdout",
     "output_type": "stream",
     "text": [
      "1620\n"
     ]
    }
   ],
   "source": [
    "w = 510 # tamanho da janela\n",
    "s = 100 # tamanho do passo\n",
    "f = 50 # quantidade de iterações para a janela\n",
    "T = int(f/s*(len(dmt)-w)+f)\n",
    "print(T)"
   ]
  },
  {
   "cell_type": "code",
   "execution_count": null,
   "metadata": {},
   "outputs": [],
   "source": [
    "# backprop\n",
    "print('BACKPROP')\n",
    "tic = time.time()\n",
    "dmt_mse_treino_1_backprop, dmt_mse_val_1_backprop, dmt_mse_teste_1_backprop = cenarios_execucoes(X, y, w, s, f, modelo = nn_model2,perc_treino=0.54, perc_val=0.24)\n",
    "dmt_resultados_1_backprop, dmt_resultados_mse_treino_1_backprop, dmt_resultados_mse_teste_1_backprop = avaliacao_resultados(dmt_mse_treino_1_backprop, \n",
    "                                                                                                                                       dmt_mse_val_1_backprop,\n",
    "                                                                                                                                       dmt_mse_teste_1_backprop, \n",
    "                                                                                                                                       f, quantidade_janelas, execucoes = 30) \n",
    "\n",
    "tac = time.time()\n",
    "print('Tempo de execução para o backprop', (tac - tic))\n",
    "\n",
    "\n",
    "print('PSO')\n",
    "# pso\n",
    "tic = time.time()\n",
    "dmt_mse_treino_1_pso, dmt_mse_val_1_pso, dmt_mse_teste_1_pso = cenarios_execucoes(X, y, w, s, f, modelo = nn_model_pso_todos,perc_treino=0.54, perc_val=0.24)\n",
    "dmt_resultados_1_pso,resultados_mse_treino_1_pso, dmt_resultados_mse_teste_1_pso = avaliacao_resultados(dmt_mse_treino_1_pso, \n",
    "                                                                                                                dmt_mse_val_1_pso, \n",
    "                                                                                                                dmt_mse_teste_1_pso,f, quantidade_janelas, execucoes = 30) \n",
    "tac = time.time()\n",
    "print('Tempo de execução para o backprop', (tac - tic))"
   ]
  },
  {
   "cell_type": "markdown",
   "metadata": {},
   "source": [
    "### Cenário II - DMT\n",
    "\n",
    "* w = 510\n",
    "* s = 200\n",
    "* f = 100"
   ]
  },
  {
   "cell_type": "code",
   "execution_count": 81,
   "metadata": {},
   "outputs": [
    {
     "name": "stdout",
     "output_type": "stream",
     "text": [
      "1670\n"
     ]
    }
   ],
   "source": [
    "w = 510 # tamanho da janela\n",
    "s = 200 # tamanho do passo\n",
    "f = 100 # quantidade de iterações para a janela\n",
    "T = int(f/s*(len(dmt)-w)+f)\n",
    "print(T)"
   ]
  },
  {
   "cell_type": "code",
   "execution_count": null,
   "metadata": {},
   "outputs": [],
   "source": [
    "# backprop\n",
    "print('BACKPROP')\n",
    "tic = time.time()\n",
    "dmt_mse_treino_2_backprop, dmt_mse_val_2_backprop, dmt_mse_teste_2_backprop = cenarios_execucoes(X, y, w, s, f, modelo = nn_model2,perc_treino=0.54, perc_val=0.24)\n",
    "dmt_resultados_2_backprop, dmt_resultados_mse_treino_2_backprop, dmt_resultados_mse_teste_2_backprop = avaliacao_resultados(dmt_mse_treino_2_backprop, \n",
    "                                                                                                                                       dmt_mse_val_2_backprop,\n",
    "                                                                                                                                       dmt_mse_teste_2_backprop, \n",
    "                                                                                                                                       f, quantidade_janelas, execucoes = 30) \n",
    "\n",
    "tac = time.time()\n",
    "print('Tempo de execução para o backprop', (tac - tic))\n",
    "\n",
    "\n",
    "print('PSO')\n",
    "# pso\n",
    "tic = time.time()\n",
    "dmt_mse_treino_2_pso, dmt_mse_val_2_pso, dmt_mse_teste_2_pso = cenarios_execucoes(X, y, w, s, f, modelo = nn_model_pso_todos,perc_treino=0.54, perc_val=0.24)\n",
    "dmt_resultados_2_pso,resultados_mse_treino_2_pso, dmt_resultados_mse_teste_2_pso = avaliacao_resultados(dmt_mse_treino_2_pso, \n",
    "                                                                                                                dmt_mse_val_2_pso, \n",
    "                                                                                                                dmt_mse_teste_2_pso,f, quantidade_janelas, execucoes = 30) \n",
    "tac = time.time()\n",
    "print('Tempo de execução para o backprop', (tac - tic))"
   ]
  },
  {
   "cell_type": "markdown",
   "metadata": {},
   "source": [
    "### Cenário III - DMT\n",
    "\n",
    "* w = 510\n",
    "* s = 400\n",
    "* f = 150"
   ]
  },
  {
   "cell_type": "code",
   "execution_count": 82,
   "metadata": {},
   "outputs": [
    {
     "name": "stdout",
     "output_type": "stream",
     "text": [
      "1327\n"
     ]
    }
   ],
   "source": [
    "w = 510 # tamanho da janela\n",
    "s = 400 # tamanho do passo\n",
    "f = 150 # quantidade de iterações para a janela\n",
    "T = int(f/s*(len(dmt)-w)+f)\n",
    "print(T)"
   ]
  },
  {
   "cell_type": "code",
   "execution_count": null,
   "metadata": {},
   "outputs": [],
   "source": [
    "# backprop\n",
    "print('BACKPROP')\n",
    "tic = time.time()\n",
    "dmt_mse_treino_3_backprop, dmt_mse_val_3_backprop, dmt_mse_teste_3_backprop = cenarios_execucoes(X, y, w, s, f, modelo = nn_model2,perc_treino=0.54, perc_val=0.24)\n",
    "dmt_resultados_3_backprop, dmt_resultados_mse_treino_3_backprop, dmt_resultados_mse_teste_3_backprop = avaliacao_resultados(dmt_mse_treino_3_backprop, \n",
    "                                                                                                                                       dmt_mse_val_3_backprop,\n",
    "                                                                                                                                       dmt_mse_teste_3_backprop, \n",
    "                                                                                                                                       f, quantidade_janelas, execucoes = 30) \n",
    "\n",
    "tac = time.time()\n",
    "print('Tempo de execução para o backprop', (tac - tic))\n",
    "\n",
    "\n",
    "print('PSO')\n",
    "# pso\n",
    "tic = time.time()\n",
    "dmt_mse_treino_3_pso, dmt_mse_val_3_pso, dmt_mse_teste_3_pso = cenarios_execucoes(X, y, w, s, f, modelo = nn_model_pso_todos,perc_treino=0.54, perc_val=0.24)\n",
    "dmt_resultados_3_pso,resultados_mse_treino_3_pso, dmt_resultados_mse_teste_3_pso = avaliacao_resultados(dmt_mse_treino_3_pso, \n",
    "                                                                                                                dmt_mse_val_3_pso, \n",
    "                                                                                                                dmt_mse_teste_3_pso,f, quantidade_janelas, execucoes = 30) \n",
    "tac = time.time()\n",
    "print('Tempo de execução para o backprop', (tac - tic))"
   ]
  },
  {
   "cell_type": "markdown",
   "metadata": {},
   "source": [
    "### Cenário IV - DMT\n",
    "\n",
    "* w = 510\n",
    "* s = 510\n",
    "* f = 100"
   ]
  },
  {
   "cell_type": "code",
   "execution_count": 83,
   "metadata": {},
   "outputs": [
    {
     "name": "stdout",
     "output_type": "stream",
     "text": [
      "715\n"
     ]
    }
   ],
   "source": [
    "w = 510 # tamanho da janela\n",
    "s = 510 # tamanho do passo\n",
    "f = 100 # quantidade de iterações para a janela\n",
    "T = int(f/s*(len(dmt)-w)+f)\n",
    "print(T)"
   ]
  },
  {
   "cell_type": "code",
   "execution_count": null,
   "metadata": {},
   "outputs": [],
   "source": [
    "# backprop\n",
    "print('BACKPROP')\n",
    "tic = time.time()\n",
    "dmt_mse_treino_4_backprop, dmt_mse_val_4_backprop, dmt_mse_teste_4_backprop = cenarios_execucoes(X, y, w, s, f, modelo = nn_model2,perc_treino=0.54, perc_val=0.24)\n",
    "dmt_resultados_4_backprop, dmt_resultados_mse_treino_4_backprop, dmt_resultados_mse_teste_4_backprop = avaliacao_resultados(dmt_mse_treino_4_backprop, \n",
    "                                                                                                                                       dmt_mse_val_4_backprop,\n",
    "                                                                                                                                       dmt_mse_teste_4_backprop, \n",
    "                                                                                                                                       f, quantidade_janelas, execucoes = 30) \n",
    "\n",
    "tac = time.time()\n",
    "print('Tempo de execução para o backprop', (tac - tic))\n",
    "\n",
    "\n",
    "print('PSO')\n",
    "# pso\n",
    "tic = time.time()\n",
    "dmt_mse_treino_4_pso, dmt_mse_val_4_pso, dmt_mse_teste_4_pso = cenarios_execucoes(X, y, w, s, f, modelo = nn_model_pso_todos,perc_treino=0.54, perc_val=0.24)\n",
    "dmt_resultados_4_pso,resultados_mse_treino_4_pso, dmt_resultados_mse_teste_4_pso = avaliacao_resultados(dmt_mse_treino_4_pso, \n",
    "                                                                                                                dmt_mse_val_4_pso, \n",
    "                                                                                                                dmt_mse_teste_4_pso,f, quantidade_janelas, execucoes = 30) \n",
    "tac = time.time()\n",
    "print('Tempo de execução para o backprop', (tac - tic))"
   ]
  },
  {
   "cell_type": "markdown",
   "metadata": {},
   "source": [
    "## SIMULAR AS SÉRIES"
   ]
  },
  {
   "cell_type": "code",
   "execution_count": null,
   "metadata": {},
   "outputs": [],
   "source": []
  },
  {
   "cell_type": "code",
   "execution_count": null,
   "metadata": {},
   "outputs": [],
   "source": []
  },
  {
   "cell_type": "code",
   "execution_count": null,
   "metadata": {},
   "outputs": [],
   "source": []
  }
 ],
 "metadata": {
  "kernelspec": {
   "display_name": "Python 3",
   "language": "python",
   "name": "python3"
  },
  "language_info": {
   "codemirror_mode": {
    "name": "ipython",
    "version": 3
   },
   "file_extension": ".py",
   "mimetype": "text/x-python",
   "name": "python",
   "nbconvert_exporter": "python",
   "pygments_lexer": "ipython3",
   "version": "3.7.5"
  }
 },
 "nbformat": 4,
 "nbformat_minor": 4
}
