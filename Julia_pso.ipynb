{
 "cells": [
  {
   "cell_type": "markdown",
   "metadata": {},
   "source": [
    "# PSO para otimizar pesos de MLP "
   ]
  },
  {
   "cell_type": "code",
   "execution_count": 1,
   "metadata": {},
   "outputs": [],
   "source": [
    "using Distributions\n",
    "using CSV\n",
    "using Plots\n",
    "using DataFrames"
   ]
  },
  {
   "cell_type": "markdown",
   "metadata": {},
   "source": [
    "### MLP"
   ]
  },
  {
   "cell_type": "code",
   "execution_count": 2,
   "metadata": {},
   "outputs": [
    {
     "data": {
      "text/plain": [
       "params_reshape (generic function with 1 method)"
      ]
     },
     "execution_count": 2,
     "metadata": {},
     "output_type": "execute_result"
    }
   ],
   "source": [
    "function init_params(n_in::Int64, n_h::Int64)\n",
    "    W1 = rand(Uniform(-1/sqrt(n_h+n_in),1/sqrt(n_h+n_in)),n_h, n_in)\n",
    "    b1 = rand(Uniform(-1/sqrt(n_h),1/sqrt(n_h)),n_h)\n",
    "    W2 = rand(Uniform(-1/sqrt(1+n_h),1/sqrt(1+n_h)), 1, n_h)\n",
    "    b2 = rand(Uniform(-1,1), 1, 1)\n",
    "    return [W1, b1, W2, b2]\n",
    "end\n",
    "\n",
    "function forward_prop(x, params)\n",
    "    W1 = params[1]\n",
    "    b1 = params[2]\n",
    "    W2 = params[3]\n",
    "    b2 = params[4]\n",
    "    \n",
    "    linear1 = W1 * x .+ b1\n",
    "    linear2 = W2 * linear1 .+ b2\n",
    "    out = 1.7159*tanh.(2/3*linear2)\n",
    "    \n",
    "    return out\n",
    "end\n",
    "\n",
    "function compute_cost(A2, y)\n",
    "    m = size(y)[2]\n",
    "    erro = A2 .- y\n",
    "    cost = 1/m * sum(erro.^2)\n",
    "    return cost\n",
    "end\n",
    "\n",
    "function params_array(params)\n",
    "    W1 = parametros[1]\n",
    "    b1 = parametros[2]\n",
    "    W2 = parametros[3]\n",
    "    b2 = parametros[4]\n",
    "    lista_params = hcat(reshape(W1, 1,prod(size(W1))), reshape(b1, 1,prod(size(b1))), \n",
    "        reshape(W2, 1,prod(size(W2))), reshape(b2, 1,prod(size(b2))))\n",
    "    return lista_params\n",
    "end\n",
    "\n",
    "function params_reshape(lista_params, params)\n",
    "    W1 = params[1]\n",
    "    b1 = params[2]\n",
    "    W2 = params[3]\n",
    "    b2 = params[4]\n",
    "\n",
    "    w1_dim_tot = prod(size(W1))\n",
    "    b1_dim_tot = prod(size(b1))\n",
    "    w2_dim_tot = prod(size(W2))\n",
    "    b2_dim_tot = prod(size(b2))\n",
    "\n",
    "    W1_reshaped = reshape(lista_params[1:w1_dim_tot], size(W1))\n",
    "    id = w1_dim_tot\n",
    "    b1_reshaped = reshape(lista_params[id+1:id+b1_dim_tot], size(b1))\n",
    "    id += b1_dim_tot\n",
    "    W2_reshaped = reshape(lista_params[id+1:id+w2_dim_tot], size(W2))\n",
    "    id += w2_dim_tot\n",
    "    b2_reshaped = reshape(lista_params[id+1:id+b2_dim_tot], size(b2))\n",
    "    \n",
    "    return [W1_reshaped, b1_reshaped, W2_reshaped, b2_reshaped]\n",
    "    \n",
    "end\n",
    "    "
   ]
  },
  {
   "cell_type": "markdown",
   "metadata": {},
   "source": [
    "### Importar dados"
   ]
  },
  {
   "cell_type": "code",
   "execution_count": 3,
   "metadata": {},
   "outputs": [
    {
     "name": "stderr",
     "output_type": "stream",
     "text": [
      "┌ Warning: `CSV.read(input; kw...)` is deprecated in favor of `using DataFrames; CSV.read(input, DataFrame; kw...)\n",
      "│   caller = ip:0x0\n",
      "└ @ Core :-1\n"
     ]
    }
   ],
   "source": [
    "sunspot = CSV.read(\"dados/sunspot.csv\"; delim=\",\");"
   ]
  },
  {
   "cell_type": "code",
   "execution_count": 4,
   "metadata": {},
   "outputs": [
    {
     "name": "stderr",
     "output_type": "stream",
     "text": [
      "┌ Warning: `getindex(df::DataFrame, col_ind::ColumnIndex)` is deprecated, use `df[!, col_ind]` instead.\n",
      "│   caller = top-level scope at In[4]:1\n",
      "└ @ Core In[4]:1\n"
     ]
    }
   ],
   "source": [
    "sunspot_serie = sunspot[\"valor\"];"
   ]
  },
  {
   "cell_type": "code",
   "execution_count": 5,
   "metadata": {},
   "outputs": [
    {
     "data": {
      "text/plain": [
       "10-element Array{Float64,1}:\n",
       "  5.0\n",
       " 11.0\n",
       " 16.0\n",
       " 23.0\n",
       " 36.0\n",
       " 58.0\n",
       " 29.0\n",
       " 20.0\n",
       " 10.0\n",
       "  8.0"
      ]
     },
     "execution_count": 5,
     "metadata": {},
     "output_type": "execute_result"
    }
   ],
   "source": [
    "sunspot_serie[1:10]"
   ]
  },
  {
   "cell_type": "markdown",
   "metadata": {},
   "source": [
    "### Funções de normalização"
   ]
  },
  {
   "cell_type": "code",
   "execution_count": 6,
   "metadata": {},
   "outputs": [
    {
     "data": {
      "text/plain": [
       "desnormalizar (generic function with 1 method)"
      ]
     },
     "execution_count": 6,
     "metadata": {},
     "output_type": "execute_result"
    }
   ],
   "source": [
    "# normalizar serie\n",
    "function normalizar(serie)\n",
    "    max = maximum(serie)\n",
    "    min = minimum(serie)\n",
    "    \n",
    "    y_temp = 2 .* ((serie .- min)) / (max .- min) .- 1\n",
    "    \n",
    "    y = y_temp ./ sqrt(size(serie)[1])\n",
    "    \n",
    "    return y\n",
    "end\n",
    "\n",
    "function desnormalizar(serie_norm, serie)\n",
    "    max = maximum(serie)\n",
    "    min = maximum(serie)\n",
    "    \n",
    "    serie_temp = serie_norm * sqrt(size(serie)[1])\n",
    "    serie_temp2 = (serie_temp .+ 1)/2\n",
    "    serie_temp3 = serie_temp2 * ((max - min) + min)\n",
    "    return serie_temp3 \n",
    "end"
   ]
  },
  {
   "cell_type": "code",
   "execution_count": 7,
   "metadata": {},
   "outputs": [],
   "source": [
    "serie_norm = normalizar(sunspot_serie)\n",
    "se = desnormalizar(serie_norm, sunspot_serie);"
   ]
  },
  {
   "cell_type": "markdown",
   "metadata": {},
   "source": [
    "### Função de dividir os dados em X e Y"
   ]
  },
  {
   "cell_type": "code",
   "execution_count": 8,
   "metadata": {},
   "outputs": [
    {
     "data": {
      "text/plain": [
       "split_sequence (generic function with 1 method)"
      ]
     },
     "execution_count": 8,
     "metadata": {},
     "output_type": "execute_result"
    }
   ],
   "source": [
    "function split_sequence(serie, n_steps_in::Int64)\n",
    "    len = size(serie)[1]\n",
    "    max_iter = len - n_steps_in\n",
    "    seq_x = zeros(max_iter, n_steps_in)\n",
    "    seq_y = zeros(max_iter)\n",
    "    for i in 1:len-n_steps_in\n",
    "        idx = i + n_steps_in - 1\n",
    "        out_idx = idx + 1\n",
    "        if out_idx > len\n",
    "            println(i)\n",
    "            println(\"len = \", len)\n",
    "            println(\"out_idx = \", out_idx)\n",
    "            println(\"Out_idx > len\")\n",
    "            break\n",
    "        end\n",
    "        seq_x[i,:] = serie[i:idx]\n",
    "        seq_y[i] = serie[out_idx]\n",
    "    end\n",
    "    return seq_x, seq_y\n",
    "end"
   ]
  },
  {
   "cell_type": "code",
   "execution_count": 9,
   "metadata": {},
   "outputs": [],
   "source": [
    "X, y = split_sequence(serie_norm, 10);"
   ]
  },
  {
   "cell_type": "markdown",
   "metadata": {},
   "source": [
    "### Função de split treino/val/teste"
   ]
  },
  {
   "cell_type": "code",
   "execution_count": 10,
   "metadata": {},
   "outputs": [
    {
     "data": {
      "text/plain": [
       "divisao_dados_temporais (generic function with 1 method)"
      ]
     },
     "execution_count": 10,
     "metadata": {},
     "output_type": "execute_result"
    }
   ],
   "source": [
    "function divisao_dados_temporais(X, y, perc_treino::Float64, perc_val::Float64)\n",
    "    tam_treino = convert(Int64, floor(perc_treino * size(y)[1]))\n",
    "    \n",
    "    if perc_val > 0\n",
    "        tam_val = convert(Int64, floor(perc_val * size(y)[1]))\n",
    "        X_treino = X[1:tam_treino,:]\n",
    "        y_treino = y[1:tam_treino]\n",
    "        \n",
    "        X_val = X[tam_treino+1:tam_treino+1+tam_val,:]\n",
    "        y_val = y[tam_treino+1:tam_treino+1+tam_val]\n",
    "        \n",
    "        X_teste = X[(tam_treino+tam_val+1):end,:]\n",
    "        y_teste = y[(tam_treino+tam_val+1):end]\n",
    "        \n",
    "        return X_treino, y_treino, X_teste, y_teste,  X_val, y_val\n",
    "        \n",
    "    else\n",
    "        X_treino = X[1:tam_treino,:]\n",
    "        y_treino = y[1:tam_treino]\n",
    "        \n",
    "        X_teste = X[tam_treino+1:end,:]\n",
    "        y_teste = y[tam_treino+1:end]\n",
    "        return X_treino, y_treino, X_teste, y_teste\n",
    "    end\n",
    "end"
   ]
  },
  {
   "cell_type": "markdown",
   "metadata": {},
   "source": [
    "### Função do PSO"
   ]
  },
  {
   "cell_type": "code",
   "execution_count": 11,
   "metadata": {},
   "outputs": [
    {
     "data": {
      "text/plain": [
       "PSO (generic function with 1 method)"
      ]
     },
     "execution_count": 11,
     "metadata": {},
     "output_type": "execute_result"
    }
   ],
   "source": [
    "function PSO(X, y, params, n_particles::Int64, dim, max_iter::Int64, LB::Float64, UB::Float64, perc_treino::Float64, perc_val::Float64)\n",
    "    \n",
    "    mse_treino = zeros(0)\n",
    "    mse_val = zeros(0)\n",
    "    mse_teste = zeros(0)\n",
    "    \n",
    "    particles = rand(n_particles, sum(dim))\n",
    "    velocity = zeros(n_particles, sum(dim))\n",
    "    pbest = particles\n",
    "    gbest = pbest[1,:]\n",
    "    \n",
    "    parametros = params_reshape(gbest, params)\n",
    "    y_pred = forward_prop(X[:,:,1]', parametros)\n",
    "    gbest_value = compute_cost(y_pred, y[:,1]')    \n",
    "\n",
    "    fitness_value = zeros(n_particles)\n",
    "\n",
    "    for i in eachindex(fitness_value)\n",
    "        parametros = params_reshape(particles[i,:], params)\n",
    "        y_pred = forward_prop(X[:,:,1]', parametros)\n",
    "        fitness_value[i] = compute_cost(y_pred, y[:,1]')\n",
    "    end\n",
    "    \n",
    "    wmax = 0.9\n",
    "    wmin = 0.4\n",
    "    c1 = 1.5\n",
    "    c2 = 1.5\n",
    "    for janela in 1:size(y)[2]\n",
    "        \n",
    "        X_treino, Y_treino, X_teste, Y_teste, X_val, Y_val = divisao_dados_temporais(X[:,:,janela], y[:,janela], perc_treino, perc_val)\n",
    "        \n",
    "        X_tv = vcat(X_treino, X_val)'\n",
    "        Y_tv = vcat(Y_treino, Y_val)'\n",
    "\n",
    "        for k in 1:max_iter\n",
    "            w=wmax-(wmax-wmin)*k/max_iter\n",
    "        \n",
    "\n",
    "            for i in 1:n_particles\n",
    "                for j in 1:sum(dim)\n",
    "                    velocity[i, j] = w*velocity[i,j] + c1*rand()*(pbest[i,j] - particles[i,j]) + c2*rand()*(gbest[j] - particles[i,j])\n",
    "                end\n",
    "            end\n",
    "\n",
    "            # update pso position\n",
    "            for i in 1:n_particles\n",
    "                for j in 1:sum(dim)\n",
    "                    particles[i,j] = particles[i,j] + velocity[i,j]\n",
    "                end\n",
    "            end\n",
    "\n",
    "            # handling boundary violations \n",
    "            for i in 1:n_particles\n",
    "                for j in 1:sum(dim)\n",
    "                    if particles[i,j]<LB \n",
    "                        particles[i,j]=LB \n",
    "                    elseif particles[i,j]>UB \n",
    "                        particles[i,j]=UB \n",
    "                    end\n",
    "                end \n",
    "            end \n",
    "\n",
    "            # evaluating fitness\n",
    "            for i in 1:n_particles\n",
    "                parametros = params_reshape(particles[i,:], params)\n",
    "                y_pred = forward_prop(X_treino', parametros)\n",
    "                fitness_value[i] = compute_cost(y_pred, Y_treino')\n",
    "            end\n",
    "\n",
    "            # updating pbest and fitness\n",
    "            for i in 1:n_particles\n",
    "                parametros_pbest = params_reshape(pbest[i, :], params)\n",
    "                y_pred_pbest = forward_prop(X_treino', parametros_pbest)\n",
    "                if fitness_value[i] < compute_cost(y_pred_pbest, Y_treino')\n",
    "                    pbest[i] = particles[i, :]\n",
    "                end\n",
    "            end\n",
    "\n",
    "            # updating gbest \n",
    "            for i in 1:n_particles    \n",
    "                if fitness_value[i] < gbest_value\n",
    "                    gbest_value = fitness_value[i]\n",
    "                    gbest = particles[i,:]   \n",
    "                end\n",
    "            end\n",
    "    \n",
    "            parametros_gbest = params_reshape(gbest, params)\n",
    "            # treino e validacao mse\n",
    "            A2_gbest_tv = forward_prop(X_tv, parametros_gbest)\n",
    "            mse_tv = compute_cost(A2_gbest_tv, Y_tv)\n",
    "            append!(mse_treino,mse_tv)\n",
    "\n",
    "            # validacao mse\n",
    "            A2_gbest_v = forward_prop(X_val', parametros_gbest)\n",
    "            mse_v = compute_cost(A2_gbest_v, Y_val')\n",
    "            append!(mse_val,mse_v)\n",
    "\n",
    "            # teste\n",
    "            A2_gbest_t = forward_prop(X_teste', parametros_gbest)\n",
    "            mse_t = compute_cost(A2_gbest_t, Y_teste')\n",
    "            append!(mse_teste,mse_t)\n",
    "        end\n",
    "    end\n",
    "    return mse_treino, mse_val, mse_teste\n",
    "end"
   ]
  },
  {
   "cell_type": "code",
   "execution_count": 12,
   "metadata": {},
   "outputs": [
    {
     "data": {
      "text/plain": [
       "n_model_pso (generic function with 1 method)"
      ]
     },
     "execution_count": 12,
     "metadata": {},
     "output_type": "execute_result"
    }
   ],
   "source": [
    "function n_model_pso(X, y, n_h::Int64, num_iteracoes::Int64, perc_treino::Float64, perc_val::Float64)\n",
    "    n_in = size(X)[2]\n",
    "    parametros = init_params(n_in, n_h)\n",
    "    \n",
    "#     A2 = forward_prop(X', parametros)\n",
    "\n",
    "#     best_cost = compute_cost(A2, y')\n",
    "    \n",
    "    W1 = parametros[1]\n",
    "    b1 = parametros[2]\n",
    "    W2 = parametros[3]\n",
    "    b2 = parametros[4]\n",
    "    \n",
    "    dim_list = [prod(size(W1)), prod(size(b1)), prod(size(W2)), prod(size(b2))]\n",
    "\n",
    "    mse_treino, mse_val, mse_teste = PSO(X, y, parametros, 10, dim_list, num_iteracoes, -1.0, 1.0, perc_treino, perc_val)\n",
    "        \n",
    "    return mse_treino, mse_val, mse_teste\n",
    "end"
   ]
  },
  {
   "cell_type": "markdown",
   "metadata": {},
   "source": [
    "### Função para criar os cenários dinâmicos"
   ]
  },
  {
   "cell_type": "code",
   "execution_count": 13,
   "metadata": {},
   "outputs": [
    {
     "data": {
      "text/plain": [
       "cenarios_dinamicos (generic function with 1 method)"
      ]
     },
     "execution_count": 13,
     "metadata": {},
     "output_type": "execute_result"
    }
   ],
   "source": [
    "# janelamento para cenários dinâmicos\n",
    "function cenarios_dinamicos(serie, window_size::Int64, step_size::Int64)\n",
    "    \n",
    "    if ndims(serie) == 1\n",
    "        w = window_size\n",
    "        s = step_size\n",
    "        t = size(serie)[1]\n",
    "\n",
    "        i_max = convert(Int64,floor((t-w)/s))\n",
    "\n",
    "        s_temp = serie[(1*s):((1*s)+w-1)]\n",
    "\n",
    "        cenarios = zeros(0)\n",
    "\n",
    "        append!(cenarios, s_temp)\n",
    "\n",
    "        for i in 2:i_max\n",
    "            s_temp = serie[(i*s):((i*s)+w-1)]\n",
    "            cenarios = hcat(cenarios, s_temp)\n",
    "        end\n",
    "        return cenarios\n",
    "    else\n",
    "        w = window_size\n",
    "        s = step_size\n",
    "        t = size(serie)[1]\n",
    "\n",
    "        i_max = convert(Int64,floor((t-w)/s))\n",
    "\n",
    "        s_temp = serie[(1*s):((1*s)+w-1), :]\n",
    "\n",
    "        cenarios = zeros(w, size(X)[2], i_max)\n",
    "\n",
    "        cenarios[:,:, 1] = s_temp\n",
    "\n",
    "        for i in 2:i_max\n",
    "            s_temp = serie[(i*s):((i*s)+w-1),:]\n",
    "            cenarios[:, :, i] = s_temp\n",
    "        end\n",
    "        return cenarios\n",
    "    end\n",
    "end"
   ]
  },
  {
   "cell_type": "markdown",
   "metadata": {},
   "source": [
    "### Função para executar os cenários dinâmicos"
   ]
  },
  {
   "cell_type": "code",
   "execution_count": 14,
   "metadata": {},
   "outputs": [
    {
     "data": {
      "text/plain": [
       "cenarios_execucoes (generic function with 1 method)"
      ]
     },
     "execution_count": 14,
     "metadata": {},
     "output_type": "execute_result"
    }
   ],
   "source": [
    "# Criando cenários\n",
    "function cenarios_execucoes(X, y, w, s, f::Int64, perc_treino::Float64, perc_val::Float64,qtd_execucoes::Int64)\n",
    "    \n",
    "    # gerando os cenários dinâmicos\n",
    "    X_I = cenarios_dinamicos(X, w, s)\n",
    "    y_I = cenarios_dinamicos(y, w, s)\n",
    " \n",
    "    # calculando a quantidade de iterações\n",
    "    T = convert(Int64,floor(f/s*(size(y)[1]-w)+f))\n",
    "\n",
    "    println(\"Quantidade de iterações: \", T)\n",
    "    \n",
    "    neuronios = 2:25\n",
    "    \n",
    "    mse_treino = zeros(qtd_execucoes, size(neuronios)[1], size(y_I)[2] * f)\n",
    "    mse_val = zeros(qtd_execucoes, size(neuronios)[1], size(y_I)[2] * f)\n",
    "    mse_teste = zeros(qtd_execucoes, size(neuronios)[1], size(y_I)[2] * f)\n",
    " \n",
    "    execucoes = 1:qtd_execucoes\n",
    "\n",
    "    for execucao in eachindex(execucoes)\n",
    "\n",
    "        println(\"Execução: \", execucao)\n",
    "        \n",
    "        # Neuronios\n",
    "        for (j,z) in zip(neuronios, eachindex(neuronios))\n",
    "            \n",
    "            mse_treino_lista_temp, mse_val_lista_temp, mse_teste_lista_temp = n_model_pso(X_I, y_I, j, f, perc_treino, perc_val)\n",
    "\n",
    "            # salvar lista com os mse de treino para todas as iterações\n",
    "            mse_treino[execucao, z,:] = mse_treino_lista_temp\n",
    "            # salvar lista com os mse de validacao para todas as iteracoes\n",
    "            mse_val[execucao, z,:] = mse_val_lista_temp\n",
    "            # salvar lista com os mse de teste para todas as iterações\n",
    "            mse_teste[execucao, z,:] = mse_teste_lista_temp\n",
    "\n",
    "        end\n",
    "    end\n",
    "    return mse_treino, mse_val, mse_teste\n",
    "end\n",
    "            "
   ]
  },
  {
   "cell_type": "code",
   "execution_count": null,
   "metadata": {},
   "outputs": [],
   "source": [
    "w = 60\n",
    "s = 10\n",
    "f = 50"
   ]
  },
  {
   "cell_type": "code",
   "execution_count": 18,
   "metadata": {},
   "outputs": [
    {
     "name": "stdout",
     "output_type": "stream",
     "text": [
      "Quantidade de iterações: 1145\n",
      "Execução: 1\n",
      "Execução: 2\n",
      "Execução: 3\n",
      "Execução: 4\n",
      "Execução: 5\n",
      "Execução: 6\n",
      "Execução: 7\n",
      "Execução: 8\n",
      "Execução: 9\n",
      "Execução: 10\n",
      "Execução: 11\n",
      "Execução: 12\n",
      "Execução: 13\n",
      "Execução: 14\n",
      "Execução: 15\n",
      "Execução: 16\n",
      "Execução: 17\n",
      "Execução: 18\n",
      "Execução: 19\n",
      "Execução: 20\n",
      "Execução: 21\n",
      "Execução: 22\n",
      "Execução: 23\n",
      "Execução: 24\n",
      "Execução: 25\n",
      "Execução: 26\n",
      "Execução: 27\n",
      "Execução: 28\n",
      "Execução: 29\n",
      "Execução: 30\n",
      "601.397508 seconds (1.13 G allocations: 234.304 GiB, 3.72% gc time)\n"
     ]
    }
   ],
   "source": [
    "@time mse_treino, mse_val, mse_teste = cenarios_execucoes(X, y, w, s, f, 0.54, 0.24, 30);"
   ]
  },
  {
   "cell_type": "code",
   "execution_count": null,
   "metadata": {},
   "outputs": [],
   "source": [
    "methods(n_model_pso)"
   ]
  },
  {
   "cell_type": "code",
   "execution_count": 47,
   "metadata": {},
   "outputs": [
    {
     "data": {
      "image/svg+xml": [
       "<?xml version=\"1.0\" encoding=\"utf-8\"?>\n",
       "<svg xmlns=\"http://www.w3.org/2000/svg\" xmlns:xlink=\"http://www.w3.org/1999/xlink\" width=\"600\" height=\"400\" viewBox=\"0 0 2400 1600\">\n",
       "<defs>\n",
       "  <clipPath id=\"clip340\">\n",
       "    <rect x=\"0\" y=\"0\" width=\"2400\" height=\"1600\"/>\n",
       "  </clipPath>\n",
       "</defs>\n",
       "<path clip-path=\"url(#clip340)\" d=\"\n",
       "M0 1600 L2400 1600 L2400 0 L0 0  Z\n",
       "  \" fill=\"#ffffff\" fill-rule=\"evenodd\" fill-opacity=\"1\"/>\n",
       "<defs>\n",
       "  <clipPath id=\"clip341\">\n",
       "    <rect x=\"480\" y=\"0\" width=\"1681\" height=\"1600\"/>\n",
       "  </clipPath>\n",
       "</defs>\n",
       "<path clip-path=\"url(#clip340)\" d=\"\n",
       "M201.876 1486.45 L2352.76 1486.45 L2352.76 47.2441 L201.876 47.2441  Z\n",
       "  \" fill=\"#ffffff\" fill-rule=\"evenodd\" fill-opacity=\"1\"/>\n",
       "<defs>\n",
       "  <clipPath id=\"clip342\">\n",
       "    <rect x=\"201\" y=\"47\" width=\"2152\" height=\"1440\"/>\n",
       "  </clipPath>\n",
       "</defs>\n",
       "<polyline clip-path=\"url(#clip342)\" style=\"stroke:#000000; stroke-width:2; stroke-opacity:0.1; fill:none\" points=\"\n",
       "  260.815,1486.45 260.815,47.2441 \n",
       "  \"/>\n",
       "<polyline clip-path=\"url(#clip342)\" style=\"stroke:#000000; stroke-width:2; stroke-opacity:0.1; fill:none\" points=\"\n",
       "  744.403,1486.45 744.403,47.2441 \n",
       "  \"/>\n",
       "<polyline clip-path=\"url(#clip342)\" style=\"stroke:#000000; stroke-width:2; stroke-opacity:0.1; fill:none\" points=\"\n",
       "  1227.99,1486.45 1227.99,47.2441 \n",
       "  \"/>\n",
       "<polyline clip-path=\"url(#clip342)\" style=\"stroke:#000000; stroke-width:2; stroke-opacity:0.1; fill:none\" points=\"\n",
       "  1711.58,1486.45 1711.58,47.2441 \n",
       "  \"/>\n",
       "<polyline clip-path=\"url(#clip342)\" style=\"stroke:#000000; stroke-width:2; stroke-opacity:0.1; fill:none\" points=\"\n",
       "  2195.16,1486.45 2195.16,47.2441 \n",
       "  \"/>\n",
       "<polyline clip-path=\"url(#clip342)\" style=\"stroke:#000000; stroke-width:2; stroke-opacity:0.1; fill:none\" points=\"\n",
       "  201.876,1481.55 2352.76,1481.55 \n",
       "  \"/>\n",
       "<polyline clip-path=\"url(#clip342)\" style=\"stroke:#000000; stroke-width:2; stroke-opacity:0.1; fill:none\" points=\"\n",
       "  201.876,1112.82 2352.76,1112.82 \n",
       "  \"/>\n",
       "<polyline clip-path=\"url(#clip342)\" style=\"stroke:#000000; stroke-width:2; stroke-opacity:0.1; fill:none\" points=\"\n",
       "  201.876,744.084 2352.76,744.084 \n",
       "  \"/>\n",
       "<polyline clip-path=\"url(#clip342)\" style=\"stroke:#000000; stroke-width:2; stroke-opacity:0.1; fill:none\" points=\"\n",
       "  201.876,375.352 2352.76,375.352 \n",
       "  \"/>\n",
       "<polyline clip-path=\"url(#clip340)\" style=\"stroke:#000000; stroke-width:4; stroke-opacity:1; fill:none\" points=\"\n",
       "  201.876,1486.45 2352.76,1486.45 \n",
       "  \"/>\n",
       "<polyline clip-path=\"url(#clip340)\" style=\"stroke:#000000; stroke-width:4; stroke-opacity:1; fill:none\" points=\"\n",
       "  201.876,1486.45 201.876,47.2441 \n",
       "  \"/>\n",
       "<polyline clip-path=\"url(#clip340)\" style=\"stroke:#000000; stroke-width:4; stroke-opacity:1; fill:none\" points=\"\n",
       "  260.815,1486.45 260.815,1469.18 \n",
       "  \"/>\n",
       "<polyline clip-path=\"url(#clip340)\" style=\"stroke:#000000; stroke-width:4; stroke-opacity:1; fill:none\" points=\"\n",
       "  744.403,1486.45 744.403,1469.18 \n",
       "  \"/>\n",
       "<polyline clip-path=\"url(#clip340)\" style=\"stroke:#000000; stroke-width:4; stroke-opacity:1; fill:none\" points=\"\n",
       "  1227.99,1486.45 1227.99,1469.18 \n",
       "  \"/>\n",
       "<polyline clip-path=\"url(#clip340)\" style=\"stroke:#000000; stroke-width:4; stroke-opacity:1; fill:none\" points=\"\n",
       "  1711.58,1486.45 1711.58,1469.18 \n",
       "  \"/>\n",
       "<polyline clip-path=\"url(#clip340)\" style=\"stroke:#000000; stroke-width:4; stroke-opacity:1; fill:none\" points=\"\n",
       "  2195.16,1486.45 2195.16,1469.18 \n",
       "  \"/>\n",
       "<polyline clip-path=\"url(#clip340)\" style=\"stroke:#000000; stroke-width:4; stroke-opacity:1; fill:none\" points=\"\n",
       "  201.876,1481.55 227.686,1481.55 \n",
       "  \"/>\n",
       "<polyline clip-path=\"url(#clip340)\" style=\"stroke:#000000; stroke-width:4; stroke-opacity:1; fill:none\" points=\"\n",
       "  201.876,1112.82 227.686,1112.82 \n",
       "  \"/>\n",
       "<polyline clip-path=\"url(#clip340)\" style=\"stroke:#000000; stroke-width:4; stroke-opacity:1; fill:none\" points=\"\n",
       "  201.876,744.084 227.686,744.084 \n",
       "  \"/>\n",
       "<polyline clip-path=\"url(#clip340)\" style=\"stroke:#000000; stroke-width:4; stroke-opacity:1; fill:none\" points=\"\n",
       "  201.876,375.352 227.686,375.352 \n",
       "  \"/>\n",
       "<path clip-path=\"url(#clip340)\" d=\"M 0 0 M260.815 1508.44 Q257.204 1508.44 255.376 1512 Q253.57 1515.55 253.57 1522.67 Q253.57 1529.78 255.376 1533.35 Q257.204 1536.89 260.815 1536.89 Q264.45 1536.89 266.255 1533.35 Q268.084 1529.78 268.084 1522.67 Q268.084 1515.55 266.255 1512 Q264.45 1508.44 260.815 1508.44 M260.815 1504.73 Q266.626 1504.73 269.681 1509.34 Q272.76 1513.92 272.76 1522.67 Q272.76 1531.4 269.681 1536.01 Q266.626 1540.59 260.815 1540.59 Q255.005 1540.59 251.927 1536.01 Q248.871 1531.4 248.871 1522.67 Q248.871 1513.92 251.927 1509.34 Q255.005 1504.73 260.815 1504.73 Z\" fill=\"#000000\" fill-rule=\"evenodd\" fill-opacity=\"1\" /><path clip-path=\"url(#clip340)\" d=\"M 0 0 M712.539 1535.98 L728.859 1535.98 L728.859 1539.92 L706.914 1539.92 L706.914 1535.98 Q709.576 1533.23 714.16 1528.6 Q718.766 1523.95 719.947 1522.61 Q722.192 1520.08 723.072 1518.35 Q723.975 1516.59 723.975 1514.9 Q723.975 1512.14 722.03 1510.41 Q720.109 1508.67 717.007 1508.67 Q714.808 1508.67 712.354 1509.43 Q709.924 1510.2 707.146 1511.75 L707.146 1507.03 Q709.97 1505.89 712.424 1505.31 Q714.877 1504.73 716.914 1504.73 Q722.285 1504.73 725.479 1507.42 Q728.674 1510.11 728.674 1514.6 Q728.674 1516.73 727.863 1518.65 Q727.076 1520.54 724.97 1523.14 Q724.391 1523.81 721.289 1527.03 Q718.188 1530.22 712.539 1535.98 Z\" fill=\"#000000\" fill-rule=\"evenodd\" fill-opacity=\"1\" /><path clip-path=\"url(#clip340)\" d=\"M 0 0 M733.974 1505.36 L752.331 1505.36 L752.331 1509.3 L738.257 1509.3 L738.257 1517.77 Q739.275 1517.42 740.294 1517.26 Q741.312 1517.07 742.331 1517.07 Q748.118 1517.07 751.498 1520.24 Q754.877 1523.42 754.877 1528.83 Q754.877 1534.41 751.405 1537.51 Q747.933 1540.59 741.613 1540.59 Q739.437 1540.59 737.169 1540.22 Q734.924 1539.85 732.516 1539.11 L732.516 1534.41 Q734.599 1535.54 736.822 1536.1 Q739.044 1536.66 741.521 1536.66 Q745.525 1536.66 747.863 1534.55 Q750.201 1532.44 750.201 1528.83 Q750.201 1525.22 747.863 1523.11 Q745.525 1521.01 741.521 1521.01 Q739.646 1521.01 737.771 1521.42 Q735.919 1521.84 733.974 1522.72 L733.974 1505.36 Z\" fill=\"#000000\" fill-rule=\"evenodd\" fill-opacity=\"1\" /><path clip-path=\"url(#clip340)\" d=\"M 0 0 M769.947 1508.44 Q766.335 1508.44 764.507 1512 Q762.701 1515.55 762.701 1522.67 Q762.701 1529.78 764.507 1533.35 Q766.335 1536.89 769.947 1536.89 Q773.581 1536.89 775.386 1533.35 Q777.215 1529.78 777.215 1522.67 Q777.215 1515.55 775.386 1512 Q773.581 1508.44 769.947 1508.44 M769.947 1504.73 Q775.757 1504.73 778.812 1509.34 Q781.891 1513.92 781.891 1522.67 Q781.891 1531.4 778.812 1536.01 Q775.757 1540.59 769.947 1540.59 Q764.136 1540.59 761.058 1536.01 Q758.002 1531.4 758.002 1522.67 Q758.002 1513.92 761.058 1509.34 Q764.136 1504.73 769.947 1504.73 Z\" fill=\"#000000\" fill-rule=\"evenodd\" fill-opacity=\"1\" /><path clip-path=\"url(#clip340)\" d=\"M 0 0 M1191.25 1505.36 L1209.61 1505.36 L1209.61 1509.3 L1195.54 1509.3 L1195.54 1517.77 Q1196.55 1517.42 1197.57 1517.26 Q1198.59 1517.07 1199.61 1517.07 Q1205.4 1517.07 1208.78 1520.24 Q1212.16 1523.42 1212.16 1528.83 Q1212.16 1534.41 1208.68 1537.51 Q1205.21 1540.59 1198.89 1540.59 Q1196.72 1540.59 1194.45 1540.22 Q1192.2 1539.85 1189.8 1539.11 L1189.8 1534.41 Q1191.88 1535.54 1194.1 1536.1 Q1196.32 1536.66 1198.8 1536.66 Q1202.8 1536.66 1205.14 1534.55 Q1207.48 1532.44 1207.48 1528.83 Q1207.48 1525.22 1205.14 1523.11 Q1202.8 1521.01 1198.8 1521.01 Q1196.93 1521.01 1195.05 1521.42 Q1193.2 1521.84 1191.25 1522.72 L1191.25 1505.36 Z\" fill=\"#000000\" fill-rule=\"evenodd\" fill-opacity=\"1\" /><path clip-path=\"url(#clip340)\" d=\"M 0 0 M1227.23 1508.44 Q1223.61 1508.44 1221.79 1512 Q1219.98 1515.55 1219.98 1522.67 Q1219.98 1529.78 1221.79 1533.35 Q1223.61 1536.89 1227.23 1536.89 Q1230.86 1536.89 1232.67 1533.35 Q1234.49 1529.78 1234.49 1522.67 Q1234.49 1515.55 1232.67 1512 Q1230.86 1508.44 1227.23 1508.44 M1227.23 1504.73 Q1233.04 1504.73 1236.09 1509.34 Q1239.17 1513.92 1239.17 1522.67 Q1239.17 1531.4 1236.09 1536.01 Q1233.04 1540.59 1227.23 1540.59 Q1221.42 1540.59 1218.34 1536.01 Q1215.28 1531.4 1215.28 1522.67 Q1215.28 1513.92 1218.34 1509.34 Q1221.42 1504.73 1227.23 1504.73 Z\" fill=\"#000000\" fill-rule=\"evenodd\" fill-opacity=\"1\" /><path clip-path=\"url(#clip340)\" d=\"M 0 0 M1254.24 1508.44 Q1250.63 1508.44 1248.8 1512 Q1246.99 1515.55 1246.99 1522.67 Q1246.99 1529.78 1248.8 1533.35 Q1250.63 1536.89 1254.24 1536.89 Q1257.87 1536.89 1259.68 1533.35 Q1261.51 1529.78 1261.51 1522.67 Q1261.51 1515.55 1259.68 1512 Q1257.87 1508.44 1254.24 1508.44 M1254.24 1504.73 Q1260.05 1504.73 1263.11 1509.34 Q1266.18 1513.92 1266.18 1522.67 Q1266.18 1531.4 1263.11 1536.01 Q1260.05 1540.59 1254.24 1540.59 Q1248.43 1540.59 1245.35 1536.01 Q1242.3 1531.4 1242.3 1522.67 Q1242.3 1513.92 1245.35 1509.34 Q1248.43 1504.73 1254.24 1504.73 Z\" fill=\"#000000\" fill-rule=\"evenodd\" fill-opacity=\"1\" /><path clip-path=\"url(#clip340)\" d=\"M 0 0 M1673.95 1505.36 L1696.17 1505.36 L1696.17 1507.35 L1683.63 1539.92 L1678.74 1539.92 L1690.55 1509.3 L1673.95 1509.3 L1673.95 1505.36 Z\" fill=\"#000000\" fill-rule=\"evenodd\" fill-opacity=\"1\" /><path clip-path=\"url(#clip340)\" d=\"M 0 0 M1701.29 1505.36 L1719.64 1505.36 L1719.64 1509.3 L1705.57 1509.3 L1705.57 1517.77 Q1706.59 1517.42 1707.61 1517.26 Q1708.63 1517.07 1709.64 1517.07 Q1715.43 1517.07 1718.81 1520.24 Q1722.19 1523.42 1722.19 1528.83 Q1722.19 1534.41 1718.72 1537.51 Q1715.25 1540.59 1708.93 1540.59 Q1706.75 1540.59 1704.48 1540.22 Q1702.24 1539.85 1699.83 1539.11 L1699.83 1534.41 Q1701.91 1535.54 1704.14 1536.1 Q1706.36 1536.66 1708.83 1536.66 Q1712.84 1536.66 1715.18 1534.55 Q1717.51 1532.44 1717.51 1528.83 Q1717.51 1525.22 1715.18 1523.11 Q1712.84 1521.01 1708.83 1521.01 Q1706.96 1521.01 1705.08 1521.42 Q1703.23 1521.84 1701.29 1522.72 L1701.29 1505.36 Z\" fill=\"#000000\" fill-rule=\"evenodd\" fill-opacity=\"1\" /><path clip-path=\"url(#clip340)\" d=\"M 0 0 M1737.26 1508.44 Q1733.65 1508.44 1731.82 1512 Q1730.01 1515.55 1730.01 1522.67 Q1730.01 1529.78 1731.82 1533.35 Q1733.65 1536.89 1737.26 1536.89 Q1740.89 1536.89 1742.7 1533.35 Q1744.53 1529.78 1744.53 1522.67 Q1744.53 1515.55 1742.7 1512 Q1740.89 1508.44 1737.26 1508.44 M1737.26 1504.73 Q1743.07 1504.73 1746.13 1509.34 Q1749.2 1513.92 1749.2 1522.67 Q1749.2 1531.4 1746.13 1536.01 Q1743.07 1540.59 1737.26 1540.59 Q1731.45 1540.59 1728.37 1536.01 Q1725.32 1531.4 1725.32 1522.67 Q1725.32 1513.92 1728.37 1509.34 Q1731.45 1504.73 1737.26 1504.73 Z\" fill=\"#000000\" fill-rule=\"evenodd\" fill-opacity=\"1\" /><path clip-path=\"url(#clip340)\" d=\"M 0 0 M2145.03 1535.98 L2152.66 1535.98 L2152.66 1509.62 L2144.35 1511.29 L2144.35 1507.03 L2152.62 1505.36 L2157.29 1505.36 L2157.29 1535.98 L2164.93 1535.98 L2164.93 1539.92 L2145.03 1539.92 L2145.03 1535.98 Z\" fill=\"#000000\" fill-rule=\"evenodd\" fill-opacity=\"1\" /><path clip-path=\"url(#clip340)\" d=\"M 0 0 M2180 1508.44 Q2176.39 1508.44 2174.56 1512 Q2172.76 1515.55 2172.76 1522.67 Q2172.76 1529.78 2174.56 1533.35 Q2176.39 1536.89 2180 1536.89 Q2183.64 1536.89 2185.44 1533.35 Q2187.27 1529.78 2187.27 1522.67 Q2187.27 1515.55 2185.44 1512 Q2183.64 1508.44 2180 1508.44 M2180 1504.73 Q2185.81 1504.73 2188.87 1509.34 Q2191.95 1513.92 2191.95 1522.67 Q2191.95 1531.4 2188.87 1536.01 Q2185.81 1540.59 2180 1540.59 Q2174.19 1540.59 2171.11 1536.01 Q2168.06 1531.4 2168.06 1522.67 Q2168.06 1513.92 2171.11 1509.34 Q2174.19 1504.73 2180 1504.73 Z\" fill=\"#000000\" fill-rule=\"evenodd\" fill-opacity=\"1\" /><path clip-path=\"url(#clip340)\" d=\"M 0 0 M2207.02 1508.44 Q2203.41 1508.44 2201.58 1512 Q2199.77 1515.55 2199.77 1522.67 Q2199.77 1529.78 2201.58 1533.35 Q2203.41 1536.89 2207.02 1536.89 Q2210.65 1536.89 2212.46 1533.35 Q2214.28 1529.78 2214.28 1522.67 Q2214.28 1515.55 2212.46 1512 Q2210.65 1508.44 2207.02 1508.44 M2207.02 1504.73 Q2212.83 1504.73 2215.88 1509.34 Q2218.96 1513.92 2218.96 1522.67 Q2218.96 1531.4 2215.88 1536.01 Q2212.83 1540.59 2207.02 1540.59 Q2201.21 1540.59 2198.13 1536.01 Q2195.07 1531.4 2195.07 1522.67 Q2195.07 1513.92 2198.13 1509.34 Q2201.21 1504.73 2207.02 1504.73 Z\" fill=\"#000000\" fill-rule=\"evenodd\" fill-opacity=\"1\" /><path clip-path=\"url(#clip340)\" d=\"M 0 0 M2234.03 1508.44 Q2230.42 1508.44 2228.59 1512 Q2226.78 1515.55 2226.78 1522.67 Q2226.78 1529.78 2228.59 1533.35 Q2230.42 1536.89 2234.03 1536.89 Q2237.66 1536.89 2239.47 1533.35 Q2241.3 1529.78 2241.3 1522.67 Q2241.3 1515.55 2239.47 1512 Q2237.66 1508.44 2234.03 1508.44 M2234.03 1504.73 Q2239.84 1504.73 2242.9 1509.34 Q2245.97 1513.92 2245.97 1522.67 Q2245.97 1531.4 2242.9 1536.01 Q2239.84 1540.59 2234.03 1540.59 Q2228.22 1540.59 2225.14 1536.01 Q2222.09 1531.4 2222.09 1522.67 Q2222.09 1513.92 2225.14 1509.34 Q2228.22 1504.73 2234.03 1504.73 Z\" fill=\"#000000\" fill-rule=\"evenodd\" fill-opacity=\"1\" /><path clip-path=\"url(#clip340)\" d=\"M 0 0 M74.9365 1467.35 Q71.3254 1467.35 69.4967 1470.91 Q67.6912 1474.45 67.6912 1481.58 Q67.6912 1488.69 69.4967 1492.25 Q71.3254 1495.8 74.9365 1495.8 Q78.5707 1495.8 80.3763 1492.25 Q82.205 1488.69 82.205 1481.58 Q82.205 1474.45 80.3763 1470.91 Q78.5707 1467.35 74.9365 1467.35 M74.9365 1463.64 Q80.7467 1463.64 83.8022 1468.25 Q86.8809 1472.83 86.8809 1481.58 Q86.8809 1490.31 83.8022 1494.92 Q80.7467 1499.5 74.9365 1499.5 Q69.1264 1499.5 66.0477 1494.92 Q62.9921 1490.31 62.9921 1481.58 Q62.9921 1472.83 66.0477 1468.25 Q69.1264 1463.64 74.9365 1463.64 Z\" fill=\"#000000\" fill-rule=\"evenodd\" fill-opacity=\"1\" /><path clip-path=\"url(#clip340)\" d=\"M 0 0 M91.9503 1492.95 L96.8345 1492.95 L96.8345 1498.83 L91.9503 1498.83 L91.9503 1492.95 Z\" fill=\"#000000\" fill-rule=\"evenodd\" fill-opacity=\"1\" /><path clip-path=\"url(#clip340)\" d=\"M 0 0 M111.904 1467.35 Q108.293 1467.35 106.464 1470.91 Q104.659 1474.45 104.659 1481.58 Q104.659 1488.69 106.464 1492.25 Q108.293 1495.8 111.904 1495.8 Q115.538 1495.8 117.344 1492.25 Q119.172 1488.69 119.172 1481.58 Q119.172 1474.45 117.344 1470.91 Q115.538 1467.35 111.904 1467.35 M111.904 1463.64 Q117.714 1463.64 120.77 1468.25 Q123.848 1472.83 123.848 1481.58 Q123.848 1490.31 120.77 1494.92 Q117.714 1499.5 111.904 1499.5 Q106.094 1499.5 103.015 1494.92 Q99.9595 1490.31 99.9595 1481.58 Q99.9595 1472.83 103.015 1468.25 Q106.094 1463.64 111.904 1463.64 Z\" fill=\"#000000\" fill-rule=\"evenodd\" fill-opacity=\"1\" /><path clip-path=\"url(#clip340)\" d=\"M 0 0 M138.918 1467.35 Q135.307 1467.35 133.478 1470.91 Q131.672 1474.45 131.672 1481.58 Q131.672 1488.69 133.478 1492.25 Q135.307 1495.8 138.918 1495.8 Q142.552 1495.8 144.357 1492.25 Q146.186 1488.69 146.186 1481.58 Q146.186 1474.45 144.357 1470.91 Q142.552 1467.35 138.918 1467.35 M138.918 1463.64 Q144.728 1463.64 147.783 1468.25 Q150.862 1472.83 150.862 1481.58 Q150.862 1490.31 147.783 1494.92 Q144.728 1499.5 138.918 1499.5 Q133.107 1499.5 130.029 1494.92 Q126.973 1490.31 126.973 1481.58 Q126.973 1472.83 130.029 1468.25 Q133.107 1463.64 138.918 1463.64 Z\" fill=\"#000000\" fill-rule=\"evenodd\" fill-opacity=\"1\" /><path clip-path=\"url(#clip340)\" d=\"M 0 0 M165.931 1467.35 Q162.32 1467.35 160.492 1470.91 Q158.686 1474.45 158.686 1481.58 Q158.686 1488.69 160.492 1492.25 Q162.32 1495.8 165.931 1495.8 Q169.566 1495.8 171.371 1492.25 Q173.2 1488.69 173.2 1481.58 Q173.2 1474.45 171.371 1470.91 Q169.566 1467.35 165.931 1467.35 M165.931 1463.64 Q171.742 1463.64 174.797 1468.25 Q177.876 1472.83 177.876 1481.58 Q177.876 1490.31 174.797 1494.92 Q171.742 1499.5 165.931 1499.5 Q160.121 1499.5 157.043 1494.92 Q153.987 1490.31 153.987 1481.58 Q153.987 1472.83 157.043 1468.25 Q160.121 1463.64 165.931 1463.64 Z\" fill=\"#000000\" fill-rule=\"evenodd\" fill-opacity=\"1\" /><path clip-path=\"url(#clip340)\" d=\"M 0 0 M76.1634 1098.61 Q72.5523 1098.61 70.7236 1102.18 Q68.918 1105.72 68.918 1112.85 Q68.918 1119.96 70.7236 1123.52 Q72.5523 1127.06 76.1634 1127.06 Q79.7976 1127.06 81.6031 1123.52 Q83.4318 1119.96 83.4318 1112.85 Q83.4318 1105.72 81.6031 1102.18 Q79.7976 1098.61 76.1634 1098.61 M76.1634 1094.91 Q81.9735 1094.91 85.029 1099.52 Q88.1077 1104.1 88.1077 1112.85 Q88.1077 1121.58 85.029 1126.18 Q81.9735 1130.77 76.1634 1130.77 Q70.3532 1130.77 67.2745 1126.18 Q64.219 1121.58 64.219 1112.85 Q64.219 1104.1 67.2745 1099.52 Q70.3532 1094.91 76.1634 1094.91 Z\" fill=\"#000000\" fill-rule=\"evenodd\" fill-opacity=\"1\" /><path clip-path=\"url(#clip340)\" d=\"M 0 0 M93.1771 1124.22 L98.0614 1124.22 L98.0614 1130.1 L93.1771 1130.1 L93.1771 1124.22 Z\" fill=\"#000000\" fill-rule=\"evenodd\" fill-opacity=\"1\" /><path clip-path=\"url(#clip340)\" d=\"M 0 0 M113.131 1098.61 Q109.52 1098.61 107.691 1102.18 Q105.885 1105.72 105.885 1112.85 Q105.885 1119.96 107.691 1123.52 Q109.52 1127.06 113.131 1127.06 Q116.765 1127.06 118.571 1123.52 Q120.399 1119.96 120.399 1112.85 Q120.399 1105.72 118.571 1102.18 Q116.765 1098.61 113.131 1098.61 M113.131 1094.91 Q118.941 1094.91 121.996 1099.52 Q125.075 1104.1 125.075 1112.85 Q125.075 1121.58 121.996 1126.18 Q118.941 1130.77 113.131 1130.77 Q107.321 1130.77 104.242 1126.18 Q101.186 1121.58 101.186 1112.85 Q101.186 1104.1 104.242 1099.52 Q107.321 1094.91 113.131 1094.91 Z\" fill=\"#000000\" fill-rule=\"evenodd\" fill-opacity=\"1\" /><path clip-path=\"url(#clip340)\" d=\"M 0 0 M140.144 1098.61 Q136.533 1098.61 134.705 1102.18 Q132.899 1105.72 132.899 1112.85 Q132.899 1119.96 134.705 1123.52 Q136.533 1127.06 140.144 1127.06 Q143.779 1127.06 145.584 1123.52 Q147.413 1119.96 147.413 1112.85 Q147.413 1105.72 145.584 1102.18 Q143.779 1098.61 140.144 1098.61 M140.144 1094.91 Q145.955 1094.91 149.01 1099.52 Q152.089 1104.1 152.089 1112.85 Q152.089 1121.58 149.01 1126.18 Q145.955 1130.77 140.144 1130.77 Q134.334 1130.77 131.256 1126.18 Q128.2 1121.58 128.2 1112.85 Q128.2 1104.1 131.256 1099.52 Q134.334 1094.91 140.144 1094.91 Z\" fill=\"#000000\" fill-rule=\"evenodd\" fill-opacity=\"1\" /><path clip-path=\"url(#clip340)\" d=\"M 0 0 M157.968 1126.16 L165.607 1126.16 L165.607 1099.8 L157.297 1101.46 L157.297 1097.2 L165.561 1095.54 L170.237 1095.54 L170.237 1126.16 L177.876 1126.16 L177.876 1130.1 L157.968 1130.1 L157.968 1126.16 Z\" fill=\"#000000\" fill-rule=\"evenodd\" fill-opacity=\"1\" /><path clip-path=\"url(#clip340)\" d=\"M 0 0 M76.5337 729.883 Q72.9226 729.883 71.0939 733.447 Q69.2884 736.989 69.2884 744.119 Q69.2884 751.225 71.0939 754.79 Q72.9226 758.332 76.5337 758.332 Q80.168 758.332 81.9735 754.79 Q83.8022 751.225 83.8022 744.119 Q83.8022 736.989 81.9735 733.447 Q80.168 729.883 76.5337 729.883 M76.5337 726.179 Q82.3439 726.179 85.3994 730.785 Q88.4781 735.369 88.4781 744.119 Q88.4781 752.845 85.3994 757.452 Q82.3439 762.035 76.5337 762.035 Q70.7236 762.035 67.6449 757.452 Q64.5893 752.845 64.5893 744.119 Q64.5893 735.369 67.6449 730.785 Q70.7236 726.179 76.5337 726.179 Z\" fill=\"#000000\" fill-rule=\"evenodd\" fill-opacity=\"1\" /><path clip-path=\"url(#clip340)\" d=\"M 0 0 M93.5475 755.484 L98.4318 755.484 L98.4318 761.364 L93.5475 761.364 L93.5475 755.484 Z\" fill=\"#000000\" fill-rule=\"evenodd\" fill-opacity=\"1\" /><path clip-path=\"url(#clip340)\" d=\"M 0 0 M113.501 729.883 Q109.89 729.883 108.061 733.447 Q106.256 736.989 106.256 744.119 Q106.256 751.225 108.061 754.79 Q109.89 758.332 113.501 758.332 Q117.135 758.332 118.941 754.79 Q120.77 751.225 120.77 744.119 Q120.77 736.989 118.941 733.447 Q117.135 729.883 113.501 729.883 M113.501 726.179 Q119.311 726.179 122.367 730.785 Q125.445 735.369 125.445 744.119 Q125.445 752.845 122.367 757.452 Q119.311 762.035 113.501 762.035 Q107.691 762.035 104.612 757.452 Q101.557 752.845 101.557 744.119 Q101.557 735.369 104.612 730.785 Q107.691 726.179 113.501 726.179 Z\" fill=\"#000000\" fill-rule=\"evenodd\" fill-opacity=\"1\" /><path clip-path=\"url(#clip340)\" d=\"M 0 0 M140.515 729.883 Q136.904 729.883 135.075 733.447 Q133.27 736.989 133.27 744.119 Q133.27 751.225 135.075 754.79 Q136.904 758.332 140.515 758.332 Q144.149 758.332 145.955 754.79 Q147.783 751.225 147.783 744.119 Q147.783 736.989 145.955 733.447 Q144.149 729.883 140.515 729.883 M140.515 726.179 Q146.325 726.179 149.381 730.785 Q152.459 735.369 152.459 744.119 Q152.459 752.845 149.381 757.452 Q146.325 762.035 140.515 762.035 Q134.705 762.035 131.626 757.452 Q128.57 752.845 128.57 744.119 Q128.57 735.369 131.626 730.785 Q134.705 726.179 140.515 726.179 Z\" fill=\"#000000\" fill-rule=\"evenodd\" fill-opacity=\"1\" /><path clip-path=\"url(#clip340)\" d=\"M 0 0 M161.556 757.429 L177.876 757.429 L177.876 761.364 L155.931 761.364 L155.931 757.429 Q158.593 754.674 163.177 750.045 Q167.783 745.392 168.964 744.049 Q171.209 741.526 172.089 739.79 Q172.992 738.031 172.992 736.341 Q172.992 733.586 171.047 731.85 Q169.126 730.114 166.024 730.114 Q163.825 730.114 161.371 730.878 Q158.941 731.642 156.163 733.193 L156.163 728.471 Q158.987 727.336 161.441 726.758 Q163.894 726.179 165.931 726.179 Q171.302 726.179 174.496 728.864 Q177.691 731.549 177.691 736.04 Q177.691 738.17 176.88 740.091 Q176.093 741.989 173.987 744.582 Q173.408 745.253 170.306 748.471 Q167.205 751.665 161.556 757.429 Z\" fill=\"#000000\" fill-rule=\"evenodd\" fill-opacity=\"1\" /><path clip-path=\"url(#clip340)\" d=\"M 0 0 M75.5847 361.151 Q71.9736 361.151 70.1449 364.716 Q68.3393 368.257 68.3393 375.387 Q68.3393 382.493 70.1449 386.058 Q71.9736 389.6 75.5847 389.6 Q79.2189 389.6 81.0244 386.058 Q82.8531 382.493 82.8531 375.387 Q82.8531 368.257 81.0244 364.716 Q79.2189 361.151 75.5847 361.151 M75.5847 357.447 Q81.3948 357.447 84.4503 362.054 Q87.529 366.637 87.529 375.387 Q87.529 384.114 84.4503 388.72 Q81.3948 393.303 75.5847 393.303 Q69.7745 393.303 66.6958 388.72 Q63.6403 384.114 63.6403 375.387 Q63.6403 366.637 66.6958 362.054 Q69.7745 357.447 75.5847 357.447 Z\" fill=\"#000000\" fill-rule=\"evenodd\" fill-opacity=\"1\" /><path clip-path=\"url(#clip340)\" d=\"M 0 0 M92.5984 386.753 L97.4827 386.753 L97.4827 392.632 L92.5984 392.632 L92.5984 386.753 Z\" fill=\"#000000\" fill-rule=\"evenodd\" fill-opacity=\"1\" /><path clip-path=\"url(#clip340)\" d=\"M 0 0 M112.552 361.151 Q108.941 361.151 107.112 364.716 Q105.307 368.257 105.307 375.387 Q105.307 382.493 107.112 386.058 Q108.941 389.6 112.552 389.6 Q116.186 389.6 117.992 386.058 Q119.821 382.493 119.821 375.387 Q119.821 368.257 117.992 364.716 Q116.186 361.151 112.552 361.151 M112.552 357.447 Q118.362 357.447 121.418 362.054 Q124.496 366.637 124.496 375.387 Q124.496 384.114 121.418 388.72 Q118.362 393.303 112.552 393.303 Q106.742 393.303 103.663 388.72 Q100.608 384.114 100.608 375.387 Q100.608 366.637 103.663 362.054 Q106.742 357.447 112.552 357.447 Z\" fill=\"#000000\" fill-rule=\"evenodd\" fill-opacity=\"1\" /><path clip-path=\"url(#clip340)\" d=\"M 0 0 M139.566 361.151 Q135.955 361.151 134.126 364.716 Q132.32 368.257 132.32 375.387 Q132.32 382.493 134.126 386.058 Q135.955 389.6 139.566 389.6 Q143.2 389.6 145.006 386.058 Q146.834 382.493 146.834 375.387 Q146.834 368.257 145.006 364.716 Q143.2 361.151 139.566 361.151 M139.566 357.447 Q145.376 357.447 148.431 362.054 Q151.51 366.637 151.51 375.387 Q151.51 384.114 148.431 388.72 Q145.376 393.303 139.566 393.303 Q133.756 393.303 130.677 388.72 Q127.621 384.114 127.621 375.387 Q127.621 366.637 130.677 362.054 Q133.756 357.447 139.566 357.447 Z\" fill=\"#000000\" fill-rule=\"evenodd\" fill-opacity=\"1\" /><path clip-path=\"url(#clip340)\" d=\"M 0 0 M170.746 373.998 Q174.103 374.716 175.978 376.984 Q177.876 379.253 177.876 382.586 Q177.876 387.702 174.357 390.503 Q170.839 393.303 164.357 393.303 Q162.181 393.303 159.867 392.864 Q157.575 392.447 155.121 391.59 L155.121 387.077 Q157.066 388.211 159.38 388.79 Q161.695 389.368 164.218 389.368 Q168.617 389.368 170.908 387.632 Q173.223 385.896 173.223 382.586 Q173.223 379.53 171.07 377.817 Q168.941 376.081 165.121 376.081 L161.093 376.081 L161.093 372.239 L165.306 372.239 Q168.755 372.239 170.584 370.873 Q172.413 369.484 172.413 366.892 Q172.413 364.23 170.515 362.817 Q168.64 361.382 165.121 361.382 Q163.2 361.382 161.001 361.799 Q158.802 362.216 156.163 363.095 L156.163 358.929 Q158.825 358.188 161.14 357.818 Q163.478 357.447 165.538 357.447 Q170.862 357.447 173.964 359.878 Q177.066 362.285 177.066 366.405 Q177.066 369.276 175.422 371.267 Q173.779 373.234 170.746 373.998 Z\" fill=\"#000000\" fill-rule=\"evenodd\" fill-opacity=\"1\" /><polyline clip-path=\"url(#clip342)\" style=\"stroke:#009af9; stroke-width:4; stroke-opacity:1; fill:none\" points=\"\n",
       "  262.75,511.444 264.684,511.444 266.618,511.444 268.553,511.444 270.487,511.444 272.421,553.57 274.356,553.57 276.29,553.57 278.225,553.57 280.159,553.57 \n",
       "  282.093,666.595 284.028,666.595 285.962,666.595 287.896,666.595 289.831,1006.89 291.765,1006.89 293.699,914.193 295.634,1116.22 297.568,1116.22 299.502,1412.15 \n",
       "  301.437,1412.15 303.371,1412.15 305.305,1412.15 307.24,1412.15 309.174,1412.15 311.108,1412.15 313.043,1412.15 314.977,1412.15 316.912,1412.15 318.846,1412.15 \n",
       "  320.78,1412.15 322.715,1412.15 324.649,1416.26 326.583,1416.26 328.518,1416.26 330.452,1419.69 332.386,1424.45 334.321,1424.45 336.255,1423.76 338.189,1428.23 \n",
       "  340.124,1428.8 342.058,1428.8 343.992,1428.8 345.927,1428.8 347.861,1429.1 349.795,1429.1 351.73,1429.13 353.664,1429.23 355.598,1429.6 357.533,1429.7 \n",
       "  359.467,1424.72 361.402,1425.39 363.336,1425.96 365.27,1426.88 367.205,1427.68 369.139,1428.27 371.073,1428.98 373.008,1429.75 374.942,1430.11 376.876,1430.63 \n",
       "  378.811,1431.6 380.745,1432.46 382.679,1432.46 384.614,1433.32 386.548,1433.32 388.482,1433.32 390.417,1434.02 392.351,1434.02 394.285,1434.52 396.22,1434.7 \n",
       "  398.154,1434.99 400.089,1435.18 402.023,1435.42 403.957,1435.64 405.892,1435.88 407.826,1436 409.76,1436.28 411.695,1436.48 413.629,1436.59 415.563,1436.81 \n",
       "  417.498,1436.99 419.432,1437.16 421.366,1437.31 423.301,1437.43 425.235,1437.6 427.169,1437.68 429.104,1437.77 431.038,1437.84 432.972,1437.89 434.907,1437.93 \n",
       "  436.841,1437.98 438.776,1438.03 440.71,1438.06 442.644,1438.1 444.579,1438.13 446.513,1438.13 448.447,1438.16 450.382,1438.16 452.316,1438.17 454.25,1438.18 \n",
       "  456.185,1401.4 458.119,1401.4 460.053,1401.4 461.988,1401.4 463.922,1401.4 465.856,1401.4 467.791,1401.4 469.725,1401.4 471.659,1401.4 473.594,1401.4 \n",
       "  475.528,1401.4 477.462,1401.4 479.397,1401.4 481.331,1401.4 483.266,1401.4 485.2,1401.4 487.134,1401.4 489.069,1401.4 491.003,1401.4 492.937,1401.4 \n",
       "  494.872,1401.4 496.806,1401.4 498.74,1401.4 500.675,1401.4 502.609,1401.4 504.543,1401.4 506.478,1401.4 508.412,1401.4 510.346,1401.4 512.281,1401.4 \n",
       "  514.215,1401.4 516.149,1401.4 518.084,1401.4 520.018,1401.4 521.953,1401.4 523.887,1401.4 525.821,1401.4 527.756,1401.4 529.69,1401.4 531.624,1401.4 \n",
       "  533.559,1401.4 535.493,1401.4 537.427,1401.4 539.362,1401.4 541.296,1401.4 543.23,1401.4 545.165,1401.4 547.099,1401.4 549.033,1401.4 550.968,1401.4 \n",
       "  552.902,1383.89 554.836,1383.89 556.771,1383.89 558.705,1383.89 560.639,1383.89 562.574,1383.89 564.508,1383.89 566.443,1383.89 568.377,1383.89 570.311,1383.89 \n",
       "  572.246,1383.89 574.18,1383.89 576.114,1383.89 578.049,1383.89 579.983,1383.89 581.917,1383.89 583.852,1383.89 585.786,1383.89 587.72,1383.89 589.655,1383.89 \n",
       "  591.589,1383.89 593.523,1383.89 595.458,1383.89 597.392,1383.89 599.326,1383.89 601.261,1383.89 603.195,1383.89 605.13,1383.89 607.064,1383.89 608.998,1383.89 \n",
       "  610.933,1383.89 612.867,1383.89 614.801,1383.89 616.736,1383.89 618.67,1383.89 620.604,1383.89 622.539,1383.89 624.473,1383.89 626.407,1383.89 628.342,1383.89 \n",
       "  630.276,1383.89 632.21,1383.89 634.145,1383.89 636.079,1383.89 638.013,1383.89 639.948,1383.89 641.882,1383.89 643.817,1383.89 645.751,1383.89 647.685,1383.89 \n",
       "  649.62,1356.11 651.554,1356.11 653.488,1356.11 655.423,1356.11 657.357,1356.11 659.291,1356.11 661.226,1356.11 663.16,1356.11 665.094,1356.11 667.029,1356.11 \n",
       "  668.963,1356.11 670.897,1356.11 672.832,1356.11 674.766,1356.11 676.7,1356.11 678.635,1356.11 680.569,1356.11 682.503,1356.11 684.438,1356.11 686.372,1356.11 \n",
       "  688.307,1356.11 690.241,1356.11 692.175,1356.11 694.11,1356.11 696.044,1356.11 697.978,1356.11 699.913,1356.11 701.847,1356.11 703.781,1356.11 705.716,1356.11 \n",
       "  707.65,1356.11 709.584,1356.11 711.519,1356.11 713.453,1356.11 715.387,1356.11 717.322,1356.11 719.256,1356.11 721.19,1356.11 723.125,1356.11 725.059,1356.11 \n",
       "  726.994,1356.11 728.928,1356.11 730.862,1356.11 732.797,1356.11 734.731,1356.11 736.665,1356.11 738.6,1356.11 740.534,1356.11 742.468,1356.11 744.403,1356.11 \n",
       "  746.337,1358.67 748.271,1358.67 750.206,1358.67 752.14,1358.67 754.074,1358.67 756.009,1358.67 757.943,1358.67 759.877,1358.67 761.812,1358.67 763.746,1358.67 \n",
       "  765.681,1358.67 767.615,1358.67 769.549,1358.67 771.484,1358.67 773.418,1358.67 775.352,1358.67 777.287,1358.67 779.221,1358.67 781.155,1358.67 783.09,1358.67 \n",
       "  785.024,1358.67 786.958,1358.67 788.893,1358.67 790.827,1358.67 792.761,1358.67 794.696,1358.67 796.63,1358.67 798.564,1358.67 800.499,1358.67 802.433,1358.67 \n",
       "  804.367,1358.67 806.302,1358.67 808.236,1358.67 810.171,1358.67 812.105,1358.67 814.039,1358.67 815.974,1358.67 817.908,1358.67 819.842,1358.67 821.777,1358.67 \n",
       "  823.711,1358.67 825.645,1358.67 827.58,1358.67 829.514,1358.67 831.448,1358.67 833.383,1358.67 835.317,1358.67 837.251,1358.67 839.186,1358.67 841.12,1358.67 \n",
       "  843.054,1368.26 844.989,1368.26 846.923,1368.26 848.858,1368.26 850.792,1368.26 852.726,1368.26 854.661,1368.26 856.595,1368.26 858.529,1368.26 860.464,1368.26 \n",
       "  862.398,1368.26 864.332,1368.26 866.267,1368.26 868.201,1368.26 870.135,1368.26 872.07,1368.26 874.004,1368.26 875.938,1368.26 877.873,1368.26 879.807,1368.26 \n",
       "  881.741,1368.26 883.676,1368.26 885.61,1368.26 887.544,1368.26 889.479,1368.26 891.413,1368.26 893.348,1368.26 895.282,1368.26 897.216,1368.26 899.151,1368.26 \n",
       "  901.085,1368.26 903.019,1368.26 904.954,1368.26 906.888,1368.26 908.822,1368.26 910.757,1368.26 912.691,1368.26 914.625,1368.26 916.56,1368.26 918.494,1368.26 \n",
       "  920.428,1368.26 922.363,1368.26 924.297,1368.26 926.231,1368.26 928.166,1368.26 930.1,1368.26 932.035,1368.26 933.969,1368.26 935.903,1368.26 937.838,1368.26 \n",
       "  939.772,1382.76 941.706,1382.76 943.641,1382.76 945.575,1382.76 947.509,1382.76 949.444,1382.76 951.378,1382.76 953.312,1382.76 955.247,1382.76 957.181,1382.76 \n",
       "  959.115,1382.76 961.05,1382.76 962.984,1382.76 964.918,1382.76 966.853,1382.76 968.787,1382.76 970.722,1382.76 972.656,1382.76 974.59,1382.76 976.525,1382.76 \n",
       "  978.459,1382.76 980.393,1382.76 982.328,1382.76 984.262,1382.76 986.196,1382.76 988.131,1382.76 990.065,1382.76 991.999,1382.76 993.934,1382.76 995.868,1382.76 \n",
       "  997.802,1382.76 999.737,1382.76 1001.67,1382.76 1003.61,1382.76 1005.54,1382.76 1007.47,1382.76 1009.41,1382.76 1011.34,1382.76 1013.28,1382.76 1015.21,1382.76 \n",
       "  1017.15,1382.76 1019.08,1382.76 1021.01,1382.76 1022.95,1382.76 1024.88,1382.76 1026.82,1382.76 1028.75,1382.76 1030.69,1382.76 1032.62,1382.76 1034.56,1382.76 \n",
       "  1036.49,1391.22 1038.42,1391.22 1040.36,1391.22 1042.29,1391.22 1044.23,1391.22 1046.16,1391.22 1048.1,1391.22 1050.03,1391.22 1051.96,1391.22 1053.9,1391.22 \n",
       "  1055.83,1391.22 1057.77,1391.22 1059.7,1391.22 1061.64,1391.22 1063.57,1391.22 1065.5,1391.22 1067.44,1391.22 1069.37,1391.22 1071.31,1391.22 1073.24,1391.22 \n",
       "  1075.18,1391.22 1077.11,1391.22 1079.05,1391.22 1080.98,1391.22 1082.91,1391.22 1084.85,1391.22 1086.78,1391.22 1088.72,1391.22 1090.65,1391.22 1092.59,1391.22 \n",
       "  1094.52,1391.22 1096.45,1391.22 1098.39,1391.22 1100.32,1391.22 1102.26,1391.22 1104.19,1391.22 1106.13,1391.22 1108.06,1391.22 1109.99,1391.22 1111.93,1391.22 \n",
       "  1113.86,1391.22 1115.8,1391.22 1117.73,1391.22 1119.67,1391.22 1121.6,1391.22 1123.54,1391.22 1125.47,1391.22 1127.4,1391.22 1129.34,1391.22 1131.27,1391.22 \n",
       "  1133.21,1391.43 1135.14,1391.43 1137.08,1391.43 1139.01,1391.43 1140.94,1391.43 1142.88,1391.43 1144.81,1391.43 1146.75,1391.43 1148.68,1391.43 1150.62,1391.43 \n",
       "  1152.55,1391.43 1154.48,1391.43 1156.42,1391.43 1158.35,1391.43 1160.29,1391.43 1162.22,1391.43 1164.16,1391.43 1166.09,1391.43 1168.03,1391.43 1169.96,1391.43 \n",
       "  1171.89,1391.43 1173.83,1391.43 1175.76,1391.43 1177.7,1391.43 1179.63,1391.43 1181.57,1391.43 1183.5,1391.43 1185.43,1391.43 1187.37,1391.43 1189.3,1391.43 \n",
       "  1191.24,1391.43 1193.17,1391.43 1195.11,1391.43 1197.04,1391.43 1198.97,1391.43 1200.91,1391.43 1202.84,1391.43 1204.78,1391.43 1206.71,1391.43 1208.65,1391.43 \n",
       "  1210.58,1391.43 1212.52,1391.43 1214.45,1391.43 1216.38,1391.43 1218.32,1391.43 1220.25,1391.43 1222.19,1391.43 1224.12,1391.43 1226.06,1391.43 1227.99,1391.43 \n",
       "  1229.92,1395.76 1231.86,1395.76 1233.79,1395.76 1235.73,1395.76 1237.66,1395.76 1239.6,1395.76 1241.53,1395.76 1243.46,1395.76 1245.4,1395.76 1247.33,1395.76 \n",
       "  1249.27,1395.76 1251.2,1395.76 1253.14,1395.76 1255.07,1395.76 1257.01,1395.76 1258.94,1395.76 1260.87,1395.76 1262.81,1395.76 1264.74,1395.76 1266.68,1395.76 \n",
       "  1268.61,1395.76 1270.55,1395.76 1272.48,1395.76 1274.41,1395.76 1276.35,1395.76 1278.28,1395.76 1280.22,1395.76 1282.15,1395.76 1284.09,1395.76 1286.02,1395.76 \n",
       "  1287.95,1395.76 1289.89,1395.76 1291.82,1395.76 1293.76,1395.76 1295.69,1395.76 1297.63,1395.76 1299.56,1395.76 1301.5,1395.76 1303.43,1395.76 1305.36,1395.76 \n",
       "  1307.3,1395.76 1309.23,1395.76 1311.17,1395.76 1313.1,1395.76 1315.04,1395.76 1316.97,1395.76 1318.9,1395.76 1320.84,1395.76 1322.77,1395.76 1324.71,1395.76 \n",
       "  1326.64,1390.11 1328.58,1390.11 1330.51,1390.11 1332.44,1390.11 1334.38,1390.11 1336.31,1390.11 1338.25,1390.11 1340.18,1390.11 1342.12,1390.11 1344.05,1390.11 \n",
       "  1345.99,1390.11 1347.92,1390.11 1349.85,1390.11 1351.79,1390.11 1353.72,1390.11 1355.66,1390.11 1357.59,1390.11 1359.53,1390.11 1361.46,1390.11 1363.39,1390.11 \n",
       "  1365.33,1390.11 1367.26,1390.11 1369.2,1390.11 1371.13,1390.11 1373.07,1390.11 1375,1390.11 1376.93,1390.11 1378.87,1390.11 1380.8,1390.11 1382.74,1390.11 \n",
       "  1384.67,1390.11 1386.61,1390.11 1388.54,1390.11 1390.48,1390.11 1392.41,1390.11 1394.34,1390.11 1396.28,1390.11 1398.21,1390.11 1400.15,1390.11 1402.08,1390.11 \n",
       "  1404.02,1390.11 1405.95,1390.11 1407.88,1390.11 1409.82,1390.11 1411.75,1390.11 1413.69,1390.11 1415.62,1390.11 1417.56,1390.11 1419.49,1390.11 1421.42,1390.11 \n",
       "  1423.36,1407.28 1425.29,1407.28 1427.23,1407.28 1429.16,1407.28 1431.1,1407.28 1433.03,1407.28 1434.97,1407.28 1436.9,1407.28 1438.83,1407.28 1440.77,1407.28 \n",
       "  1442.7,1407.28 1444.64,1407.28 1446.57,1407.28 1448.51,1407.28 1450.44,1407.28 1452.37,1407.28 1454.31,1407.28 1456.24,1407.28 1458.18,1407.28 1460.11,1407.28 \n",
       "  1462.05,1407.28 1463.98,1407.28 1465.91,1407.28 1467.85,1407.28 1469.78,1407.28 1471.72,1407.28 1473.65,1407.28 1475.59,1407.28 1477.52,1407.28 1479.46,1407.28 \n",
       "  1481.39,1407.28 1483.32,1407.28 1485.26,1407.28 1487.19,1407.28 1489.13,1407.28 1491.06,1407.28 1493,1407.28 1494.93,1407.28 1496.86,1407.28 1498.8,1407.28 \n",
       "  1500.73,1407.28 1502.67,1407.28 1504.6,1407.28 1506.54,1407.28 1508.47,1407.28 1510.4,1407.28 1512.34,1407.28 1514.27,1407.28 1516.21,1407.28 1518.14,1407.28 \n",
       "  1520.08,1418.48 1522.01,1418.48 1523.95,1418.48 1525.88,1418.48 1527.81,1418.48 1529.75,1418.48 1531.68,1418.48 1533.62,1418.48 1535.55,1418.48 1537.49,1418.48 \n",
       "  1539.42,1418.48 1541.35,1418.48 1543.29,1418.48 1545.22,1418.48 1547.16,1418.48 1549.09,1418.48 1551.03,1418.48 1552.96,1418.48 1554.89,1418.48 1556.83,1418.48 \n",
       "  1558.76,1418.48 1560.7,1418.48 1562.63,1418.48 1564.57,1418.48 1566.5,1418.48 1568.44,1418.48 1570.37,1418.48 1572.3,1418.48 1574.24,1418.48 1576.17,1418.48 \n",
       "  1578.11,1418.48 1580.04,1418.48 1581.98,1418.48 1583.91,1418.48 1585.84,1418.48 1587.78,1418.48 1589.71,1418.48 1591.65,1418.48 1593.58,1418.48 1595.52,1418.48 \n",
       "  1597.45,1418.48 1599.38,1418.48 1601.32,1418.48 1603.25,1418.48 1605.19,1418.48 1607.12,1418.48 1609.06,1418.48 1610.99,1418.48 1612.93,1418.48 1614.86,1418.48 \n",
       "  1616.79,1424.61 1618.73,1424.61 1620.66,1424.61 1622.6,1424.61 1624.53,1424.61 1626.47,1424.61 1628.4,1424.61 1630.33,1424.61 1632.27,1424.61 1634.2,1424.61 \n",
       "  1636.14,1424.61 1638.07,1424.61 1640.01,1424.61 1641.94,1424.61 1643.87,1424.61 1645.81,1424.61 1647.74,1424.61 1649.68,1424.61 1651.61,1424.61 1653.55,1424.61 \n",
       "  1655.48,1424.61 1657.42,1424.61 1659.35,1424.61 1661.28,1424.61 1663.22,1424.61 1665.15,1424.61 1667.09,1424.61 1669.02,1424.61 1670.96,1424.61 1672.89,1424.61 \n",
       "  1674.82,1424.61 1676.76,1424.61 1678.69,1424.61 1680.63,1424.61 1682.56,1424.61 1684.5,1424.61 1686.43,1424.61 1688.37,1424.61 1690.3,1424.61 1692.23,1424.61 \n",
       "  1694.17,1424.61 1696.1,1424.61 1698.04,1424.61 1699.97,1424.61 1701.91,1424.61 1703.84,1424.61 1705.77,1424.61 1707.71,1424.61 1709.64,1424.61 1711.58,1424.61 \n",
       "  1713.51,1418.44 1715.45,1418.44 1717.38,1418.44 1719.31,1418.44 1721.25,1418.44 1723.18,1418.44 1725.12,1418.44 1727.05,1418.44 1728.99,1418.44 1730.92,1418.44 \n",
       "  1732.86,1418.44 1734.79,1418.44 1736.72,1418.44 1738.66,1418.44 1740.59,1418.44 1742.53,1418.44 1744.46,1418.44 1746.4,1418.44 1748.33,1418.44 1750.26,1418.44 \n",
       "  1752.2,1418.44 1754.13,1418.44 1756.07,1418.44 1758,1418.44 1759.94,1418.44 1761.87,1418.44 1763.8,1418.44 1765.74,1418.44 1767.67,1418.44 1769.61,1418.44 \n",
       "  1771.54,1418.44 1773.48,1418.44 1775.41,1418.44 1777.35,1418.44 1779.28,1418.44 1781.21,1418.44 1783.15,1418.44 1785.08,1418.44 1787.02,1418.44 1788.95,1418.44 \n",
       "  1790.89,1418.44 1792.82,1418.44 1794.75,1418.44 1796.69,1418.44 1798.62,1418.44 1800.56,1418.44 1802.49,1418.44 1804.43,1418.44 1806.36,1418.44 1808.29,1418.44 \n",
       "  1810.23,1428.13 1812.16,1428.13 1814.1,1428.13 1816.03,1428.13 1817.97,1428.13 1819.9,1428.13 1821.84,1428.13 1823.77,1428.13 1825.7,1428.13 1827.64,1428.13 \n",
       "  1829.57,1428.13 1831.51,1428.13 1833.44,1428.13 1835.38,1428.13 1837.31,1428.13 1839.24,1428.13 1841.18,1428.13 1843.11,1428.13 1845.05,1428.13 1846.98,1428.13 \n",
       "  1848.92,1428.13 1850.85,1428.13 1852.78,1428.13 1854.72,1428.13 1856.65,1428.13 1858.59,1428.13 1860.52,1428.13 1862.46,1428.13 1864.39,1428.13 1866.33,1428.13 \n",
       "  1868.26,1428.13 1870.19,1428.13 1872.13,1428.13 1874.06,1428.13 1876,1428.13 1877.93,1428.13 1879.87,1428.13 1881.8,1428.13 1883.73,1428.13 1885.67,1428.13 \n",
       "  1887.6,1428.13 1889.54,1428.13 1891.47,1428.13 1893.41,1428.13 1895.34,1428.13 1897.27,1428.13 1899.21,1428.13 1901.14,1428.13 1903.08,1428.13 1905.01,1428.13 \n",
       "  1906.95,1433.36 1908.88,1433.36 1910.82,1433.36 1912.75,1433.36 1914.68,1433.36 1916.62,1433.36 1918.55,1433.36 1920.49,1433.36 1922.42,1433.36 1924.36,1433.36 \n",
       "  1926.29,1433.36 1928.22,1433.36 1930.16,1433.36 1932.09,1433.36 1934.03,1433.36 1935.96,1433.36 1937.9,1433.36 1939.83,1433.36 1941.76,1433.36 1943.7,1433.36 \n",
       "  1945.63,1433.36 1947.57,1433.36 1949.5,1433.36 1951.44,1433.36 1953.37,1433.36 1955.31,1433.36 1957.24,1433.36 1959.17,1433.36 1961.11,1433.36 1963.04,1433.36 \n",
       "  1964.98,1433.36 1966.91,1433.36 1968.85,1433.36 1970.78,1433.36 1972.71,1433.36 1974.65,1433.36 1976.58,1433.36 1978.52,1433.36 1980.45,1433.36 1982.39,1433.36 \n",
       "  1984.32,1433.36 1986.25,1433.36 1988.19,1433.36 1990.12,1433.36 1992.06,1433.36 1993.99,1433.36 1995.93,1433.36 1997.86,1433.36 1999.8,1433.36 2001.73,1433.36 \n",
       "  2003.66,1433.1 2005.6,1433.1 2007.53,1433.1 2009.47,1433.1 2011.4,1433.1 2013.34,1433.1 2015.27,1433.1 2017.2,1433.1 2019.14,1433.1 2021.07,1433.1 \n",
       "  2023.01,1433.1 2024.94,1433.1 2026.88,1433.1 2028.81,1433.1 2030.74,1433.1 2032.68,1433.1 2034.61,1433.1 2036.55,1433.1 2038.48,1433.1 2040.42,1433.1 \n",
       "  2042.35,1433.1 2044.29,1433.1 2046.22,1433.1 2048.15,1433.1 2050.09,1433.1 2052.02,1433.1 2053.96,1433.1 2055.89,1433.1 2057.83,1433.1 2059.76,1433.1 \n",
       "  2061.69,1433.1 2063.63,1433.1 2065.56,1433.1 2067.5,1433.1 2069.43,1433.1 2071.37,1433.1 2073.3,1433.1 2075.23,1433.1 2077.17,1433.1 2079.1,1433.1 \n",
       "  2081.04,1433.1 2082.97,1433.1 2084.91,1433.1 2086.84,1433.1 2088.78,1433.1 2090.71,1433.1 2092.64,1433.1 2094.58,1433.1 2096.51,1433.1 2098.45,1433.1 \n",
       "  2100.38,1416.69 2102.32,1416.69 2104.25,1416.69 2106.18,1416.69 2108.12,1416.69 2110.05,1416.69 2111.99,1416.69 2113.92,1416.69 2115.86,1416.69 2117.79,1416.69 \n",
       "  2119.72,1416.69 2121.66,1416.69 2123.59,1416.69 2125.53,1416.69 2127.46,1416.69 2129.4,1416.69 2131.33,1416.69 2133.27,1416.69 2135.2,1416.69 2137.13,1416.69 \n",
       "  2139.07,1416.69 2141,1416.69 2142.94,1416.69 2144.87,1416.69 2146.81,1416.69 2148.74,1416.69 2150.67,1416.69 2152.61,1416.69 2154.54,1416.69 2156.48,1416.69 \n",
       "  2158.41,1416.69 2160.35,1416.69 2162.28,1416.69 2164.21,1416.69 2166.15,1416.69 2168.08,1416.69 2170.02,1416.69 2171.95,1416.69 2173.89,1416.69 2175.82,1416.69 \n",
       "  2177.76,1416.69 2179.69,1416.69 2181.62,1416.69 2183.56,1416.69 2185.49,1416.69 2187.43,1416.69 2189.36,1416.69 2191.3,1416.69 2193.23,1416.69 2195.16,1416.69 \n",
       "  2197.1,1375.45 2199.03,1375.45 2200.97,1375.45 2202.9,1375.45 2204.84,1375.45 2206.77,1375.45 2208.7,1375.45 2210.64,1375.45 2212.57,1375.45 2214.51,1375.45 \n",
       "  2216.44,1375.45 2218.38,1375.45 2220.31,1375.45 2222.25,1375.45 2224.18,1375.45 2226.11,1375.45 2228.05,1375.45 2229.98,1375.45 2231.92,1375.45 2233.85,1375.45 \n",
       "  2235.79,1375.45 2237.72,1375.45 2239.65,1375.45 2241.59,1375.45 2243.52,1375.45 2245.46,1375.45 2247.39,1375.45 2249.33,1375.45 2251.26,1375.45 2253.19,1375.45 \n",
       "  2255.13,1375.45 2257.06,1375.45 2259,1375.45 2260.93,1375.45 2262.87,1375.45 2264.8,1375.45 2266.74,1375.45 2268.67,1375.45 2270.6,1375.45 2272.54,1375.45 \n",
       "  2274.47,1375.45 2276.41,1375.45 2278.34,1375.45 2280.28,1375.45 2282.21,1375.45 2284.14,1375.45 2286.08,1375.45 2288.01,1375.45 2289.95,1375.45 2291.88,1375.45 \n",
       "  \n",
       "  \"/>\n",
       "<polyline clip-path=\"url(#clip342)\" style=\"stroke:#e26f46; stroke-width:4; stroke-opacity:1; fill:none\" points=\"\n",
       "  262.75,87.9763 264.684,87.9763 266.618,87.9763 268.553,87.9763 270.487,87.9763 272.421,1015.77 274.356,1015.77 276.29,1015.77 278.225,1015.77 280.159,1015.77 \n",
       "  282.093,548.792 284.028,548.792 285.962,548.792 287.896,548.792 289.831,904.645 291.765,904.645 293.699,1042.91 295.634,1141.65 297.568,1141.65 299.502,1320.85 \n",
       "  301.437,1320.85 303.371,1320.85 305.305,1320.85 307.24,1320.85 309.174,1320.85 311.108,1320.85 313.043,1320.85 314.977,1320.85 316.912,1320.85 318.846,1320.85 \n",
       "  320.78,1320.85 322.715,1320.85 324.649,1321.64 326.583,1321.64 328.518,1321.64 330.452,1326.29 332.386,1330 334.321,1330 336.255,1336.86 338.189,1342.4 \n",
       "  340.124,1343.59 342.058,1343.59 343.992,1343.59 345.927,1343.59 347.861,1344.62 349.795,1344.62 351.73,1343.69 353.664,1345.46 355.598,1345.6 357.533,1345.31 \n",
       "  359.467,1249.14 361.402,1253.72 363.336,1254.03 365.27,1257.02 367.205,1260.02 369.139,1263.53 371.073,1263.69 373.008,1266.3 374.942,1266.54 376.876,1267.27 \n",
       "  378.811,1272.19 380.745,1276.15 382.679,1276.15 384.614,1280.92 386.548,1280.92 388.482,1280.92 390.417,1283.07 392.351,1283.07 394.285,1284.55 396.22,1284.28 \n",
       "  398.154,1284.68 400.089,1286.23 402.023,1286.22 403.957,1288.79 405.892,1288.2 407.826,1289.81 409.76,1290.27 411.695,1291.11 413.629,1292.07 415.563,1292.34 \n",
       "  417.498,1293.31 419.432,1294.13 421.366,1294.79 423.301,1295.54 425.235,1296.94 427.169,1297.94 429.104,1298.63 431.038,1299.06 432.972,1299.68 434.907,1299.79 \n",
       "  436.841,1300.05 438.776,1300.05 440.71,1300.08 442.644,1300.06 444.579,1300.09 446.513,1300.16 448.447,1300.25 450.382,1300.33 452.316,1300.3 454.25,1300.37 \n",
       "  456.185,1312.62 458.119,1312.62 460.053,1312.62 461.988,1312.62 463.922,1312.62 465.856,1312.62 467.791,1312.62 469.725,1312.62 471.659,1312.62 473.594,1312.62 \n",
       "  475.528,1312.62 477.462,1312.62 479.397,1312.62 481.331,1312.62 483.266,1312.62 485.2,1312.62 487.134,1312.62 489.069,1312.62 491.003,1312.62 492.937,1312.62 \n",
       "  494.872,1312.62 496.806,1312.62 498.74,1312.62 500.675,1312.62 502.609,1312.62 504.543,1312.62 506.478,1312.62 508.412,1312.62 510.346,1312.62 512.281,1312.62 \n",
       "  514.215,1312.62 516.149,1312.62 518.084,1312.62 520.018,1312.62 521.953,1312.62 523.887,1312.62 525.821,1312.62 527.756,1312.62 529.69,1312.62 531.624,1312.62 \n",
       "  533.559,1312.62 535.493,1312.62 537.427,1312.62 539.362,1312.62 541.296,1312.62 543.23,1312.62 545.165,1312.62 547.099,1312.62 549.033,1312.62 550.968,1312.62 \n",
       "  552.902,1350.66 554.836,1350.66 556.771,1350.66 558.705,1350.66 560.639,1350.66 562.574,1350.66 564.508,1350.66 566.443,1350.66 568.377,1350.66 570.311,1350.66 \n",
       "  572.246,1350.66 574.18,1350.66 576.114,1350.66 578.049,1350.66 579.983,1350.66 581.917,1350.66 583.852,1350.66 585.786,1350.66 587.72,1350.66 589.655,1350.66 \n",
       "  591.589,1350.66 593.523,1350.66 595.458,1350.66 597.392,1350.66 599.326,1350.66 601.261,1350.66 603.195,1350.66 605.13,1350.66 607.064,1350.66 608.998,1350.66 \n",
       "  610.933,1350.66 612.867,1350.66 614.801,1350.66 616.736,1350.66 618.67,1350.66 620.604,1350.66 622.539,1350.66 624.473,1350.66 626.407,1350.66 628.342,1350.66 \n",
       "  630.276,1350.66 632.21,1350.66 634.145,1350.66 636.079,1350.66 638.013,1350.66 639.948,1350.66 641.882,1350.66 643.817,1350.66 645.751,1350.66 647.685,1350.66 \n",
       "  649.62,1415.91 651.554,1415.91 653.488,1415.91 655.423,1415.91 657.357,1415.91 659.291,1415.91 661.226,1415.91 663.16,1415.91 665.094,1415.91 667.029,1415.91 \n",
       "  668.963,1415.91 670.897,1415.91 672.832,1415.91 674.766,1415.91 676.7,1415.91 678.635,1415.91 680.569,1415.91 682.503,1415.91 684.438,1415.91 686.372,1415.91 \n",
       "  688.307,1415.91 690.241,1415.91 692.175,1415.91 694.11,1415.91 696.044,1415.91 697.978,1415.91 699.913,1415.91 701.847,1415.91 703.781,1415.91 705.716,1415.91 \n",
       "  707.65,1415.91 709.584,1415.91 711.519,1415.91 713.453,1415.91 715.387,1415.91 717.322,1415.91 719.256,1415.91 721.19,1415.91 723.125,1415.91 725.059,1415.91 \n",
       "  726.994,1415.91 728.928,1415.91 730.862,1415.91 732.797,1415.91 734.731,1415.91 736.665,1415.91 738.6,1415.91 740.534,1415.91 742.468,1415.91 744.403,1415.91 \n",
       "  746.337,1369.56 748.271,1369.56 750.206,1369.56 752.14,1369.56 754.074,1369.56 756.009,1369.56 757.943,1369.56 759.877,1369.56 761.812,1369.56 763.746,1369.56 \n",
       "  765.681,1369.56 767.615,1369.56 769.549,1369.56 771.484,1369.56 773.418,1369.56 775.352,1369.56 777.287,1369.56 779.221,1369.56 781.155,1369.56 783.09,1369.56 \n",
       "  785.024,1369.56 786.958,1369.56 788.893,1369.56 790.827,1369.56 792.761,1369.56 794.696,1369.56 796.63,1369.56 798.564,1369.56 800.499,1369.56 802.433,1369.56 \n",
       "  804.367,1369.56 806.302,1369.56 808.236,1369.56 810.171,1369.56 812.105,1369.56 814.039,1369.56 815.974,1369.56 817.908,1369.56 819.842,1369.56 821.777,1369.56 \n",
       "  823.711,1369.56 825.645,1369.56 827.58,1369.56 829.514,1369.56 831.448,1369.56 833.383,1369.56 835.317,1369.56 837.251,1369.56 839.186,1369.56 841.12,1369.56 \n",
       "  843.054,1348.51 844.989,1348.51 846.923,1348.51 848.858,1348.51 850.792,1348.51 852.726,1348.51 854.661,1348.51 856.595,1348.51 858.529,1348.51 860.464,1348.51 \n",
       "  862.398,1348.51 864.332,1348.51 866.267,1348.51 868.201,1348.51 870.135,1348.51 872.07,1348.51 874.004,1348.51 875.938,1348.51 877.873,1348.51 879.807,1348.51 \n",
       "  881.741,1348.51 883.676,1348.51 885.61,1348.51 887.544,1348.51 889.479,1348.51 891.413,1348.51 893.348,1348.51 895.282,1348.51 897.216,1348.51 899.151,1348.51 \n",
       "  901.085,1348.51 903.019,1348.51 904.954,1348.51 906.888,1348.51 908.822,1348.51 910.757,1348.51 912.691,1348.51 914.625,1348.51 916.56,1348.51 918.494,1348.51 \n",
       "  920.428,1348.51 922.363,1348.51 924.297,1348.51 926.231,1348.51 928.166,1348.51 930.1,1348.51 932.035,1348.51 933.969,1348.51 935.903,1348.51 937.838,1348.51 \n",
       "  939.772,1343.05 941.706,1343.05 943.641,1343.05 945.575,1343.05 947.509,1343.05 949.444,1343.05 951.378,1343.05 953.312,1343.05 955.247,1343.05 957.181,1343.05 \n",
       "  959.115,1343.05 961.05,1343.05 962.984,1343.05 964.918,1343.05 966.853,1343.05 968.787,1343.05 970.722,1343.05 972.656,1343.05 974.59,1343.05 976.525,1343.05 \n",
       "  978.459,1343.05 980.393,1343.05 982.328,1343.05 984.262,1343.05 986.196,1343.05 988.131,1343.05 990.065,1343.05 991.999,1343.05 993.934,1343.05 995.868,1343.05 \n",
       "  997.802,1343.05 999.737,1343.05 1001.67,1343.05 1003.61,1343.05 1005.54,1343.05 1007.47,1343.05 1009.41,1343.05 1011.34,1343.05 1013.28,1343.05 1015.21,1343.05 \n",
       "  1017.15,1343.05 1019.08,1343.05 1021.01,1343.05 1022.95,1343.05 1024.88,1343.05 1026.82,1343.05 1028.75,1343.05 1030.69,1343.05 1032.62,1343.05 1034.56,1343.05 \n",
       "  1036.49,1422.88 1038.42,1422.88 1040.36,1422.88 1042.29,1422.88 1044.23,1422.88 1046.16,1422.88 1048.1,1422.88 1050.03,1422.88 1051.96,1422.88 1053.9,1422.88 \n",
       "  1055.83,1422.88 1057.77,1422.88 1059.7,1422.88 1061.64,1422.88 1063.57,1422.88 1065.5,1422.88 1067.44,1422.88 1069.37,1422.88 1071.31,1422.88 1073.24,1422.88 \n",
       "  1075.18,1422.88 1077.11,1422.88 1079.05,1422.88 1080.98,1422.88 1082.91,1422.88 1084.85,1422.88 1086.78,1422.88 1088.72,1422.88 1090.65,1422.88 1092.59,1422.88 \n",
       "  1094.52,1422.88 1096.45,1422.88 1098.39,1422.88 1100.32,1422.88 1102.26,1422.88 1104.19,1422.88 1106.13,1422.88 1108.06,1422.88 1109.99,1422.88 1111.93,1422.88 \n",
       "  1113.86,1422.88 1115.8,1422.88 1117.73,1422.88 1119.67,1422.88 1121.6,1422.88 1123.54,1422.88 1125.47,1422.88 1127.4,1422.88 1129.34,1422.88 1131.27,1422.88 \n",
       "  1133.21,1436.16 1135.14,1436.16 1137.08,1436.16 1139.01,1436.16 1140.94,1436.16 1142.88,1436.16 1144.81,1436.16 1146.75,1436.16 1148.68,1436.16 1150.62,1436.16 \n",
       "  1152.55,1436.16 1154.48,1436.16 1156.42,1436.16 1158.35,1436.16 1160.29,1436.16 1162.22,1436.16 1164.16,1436.16 1166.09,1436.16 1168.03,1436.16 1169.96,1436.16 \n",
       "  1171.89,1436.16 1173.83,1436.16 1175.76,1436.16 1177.7,1436.16 1179.63,1436.16 1181.57,1436.16 1183.5,1436.16 1185.43,1436.16 1187.37,1436.16 1189.3,1436.16 \n",
       "  1191.24,1436.16 1193.17,1436.16 1195.11,1436.16 1197.04,1436.16 1198.97,1436.16 1200.91,1436.16 1202.84,1436.16 1204.78,1436.16 1206.71,1436.16 1208.65,1436.16 \n",
       "  1210.58,1436.16 1212.52,1436.16 1214.45,1436.16 1216.38,1436.16 1218.32,1436.16 1220.25,1436.16 1222.19,1436.16 1224.12,1436.16 1226.06,1436.16 1227.99,1436.16 \n",
       "  1229.92,1393.97 1231.86,1393.97 1233.79,1393.97 1235.73,1393.97 1237.66,1393.97 1239.6,1393.97 1241.53,1393.97 1243.46,1393.97 1245.4,1393.97 1247.33,1393.97 \n",
       "  1249.27,1393.97 1251.2,1393.97 1253.14,1393.97 1255.07,1393.97 1257.01,1393.97 1258.94,1393.97 1260.87,1393.97 1262.81,1393.97 1264.74,1393.97 1266.68,1393.97 \n",
       "  1268.61,1393.97 1270.55,1393.97 1272.48,1393.97 1274.41,1393.97 1276.35,1393.97 1278.28,1393.97 1280.22,1393.97 1282.15,1393.97 1284.09,1393.97 1286.02,1393.97 \n",
       "  1287.95,1393.97 1289.89,1393.97 1291.82,1393.97 1293.76,1393.97 1295.69,1393.97 1297.63,1393.97 1299.56,1393.97 1301.5,1393.97 1303.43,1393.97 1305.36,1393.97 \n",
       "  1307.3,1393.97 1309.23,1393.97 1311.17,1393.97 1313.1,1393.97 1315.04,1393.97 1316.97,1393.97 1318.9,1393.97 1320.84,1393.97 1322.77,1393.97 1324.71,1393.97 \n",
       "  1326.64,1424.47 1328.58,1424.47 1330.51,1424.47 1332.44,1424.47 1334.38,1424.47 1336.31,1424.47 1338.25,1424.47 1340.18,1424.47 1342.12,1424.47 1344.05,1424.47 \n",
       "  1345.99,1424.47 1347.92,1424.47 1349.85,1424.47 1351.79,1424.47 1353.72,1424.47 1355.66,1424.47 1357.59,1424.47 1359.53,1424.47 1361.46,1424.47 1363.39,1424.47 \n",
       "  1365.33,1424.47 1367.26,1424.47 1369.2,1424.47 1371.13,1424.47 1373.07,1424.47 1375,1424.47 1376.93,1424.47 1378.87,1424.47 1380.8,1424.47 1382.74,1424.47 \n",
       "  1384.67,1424.47 1386.61,1424.47 1388.54,1424.47 1390.48,1424.47 1392.41,1424.47 1394.34,1424.47 1396.28,1424.47 1398.21,1424.47 1400.15,1424.47 1402.08,1424.47 \n",
       "  1404.02,1424.47 1405.95,1424.47 1407.88,1424.47 1409.82,1424.47 1411.75,1424.47 1413.69,1424.47 1415.62,1424.47 1417.56,1424.47 1419.49,1424.47 1421.42,1424.47 \n",
       "  1423.36,1445.72 1425.29,1445.72 1427.23,1445.72 1429.16,1445.72 1431.1,1445.72 1433.03,1445.72 1434.97,1445.72 1436.9,1445.72 1438.83,1445.72 1440.77,1445.72 \n",
       "  1442.7,1445.72 1444.64,1445.72 1446.57,1445.72 1448.51,1445.72 1450.44,1445.72 1452.37,1445.72 1454.31,1445.72 1456.24,1445.72 1458.18,1445.72 1460.11,1445.72 \n",
       "  1462.05,1445.72 1463.98,1445.72 1465.91,1445.72 1467.85,1445.72 1469.78,1445.72 1471.72,1445.72 1473.65,1445.72 1475.59,1445.72 1477.52,1445.72 1479.46,1445.72 \n",
       "  1481.39,1445.72 1483.32,1445.72 1485.26,1445.72 1487.19,1445.72 1489.13,1445.72 1491.06,1445.72 1493,1445.72 1494.93,1445.72 1496.86,1445.72 1498.8,1445.72 \n",
       "  1500.73,1445.72 1502.67,1445.72 1504.6,1445.72 1506.54,1445.72 1508.47,1445.72 1510.4,1445.72 1512.34,1445.72 1514.27,1445.72 1516.21,1445.72 1518.14,1445.72 \n",
       "  1520.08,1441.06 1522.01,1441.06 1523.95,1441.06 1525.88,1441.06 1527.81,1441.06 1529.75,1441.06 1531.68,1441.06 1533.62,1441.06 1535.55,1441.06 1537.49,1441.06 \n",
       "  1539.42,1441.06 1541.35,1441.06 1543.29,1441.06 1545.22,1441.06 1547.16,1441.06 1549.09,1441.06 1551.03,1441.06 1552.96,1441.06 1554.89,1441.06 1556.83,1441.06 \n",
       "  1558.76,1441.06 1560.7,1441.06 1562.63,1441.06 1564.57,1441.06 1566.5,1441.06 1568.44,1441.06 1570.37,1441.06 1572.3,1441.06 1574.24,1441.06 1576.17,1441.06 \n",
       "  1578.11,1441.06 1580.04,1441.06 1581.98,1441.06 1583.91,1441.06 1585.84,1441.06 1587.78,1441.06 1589.71,1441.06 1591.65,1441.06 1593.58,1441.06 1595.52,1441.06 \n",
       "  1597.45,1441.06 1599.38,1441.06 1601.32,1441.06 1603.25,1441.06 1605.19,1441.06 1607.12,1441.06 1609.06,1441.06 1610.99,1441.06 1612.93,1441.06 1614.86,1441.06 \n",
       "  1616.79,1388.91 1618.73,1388.91 1620.66,1388.91 1622.6,1388.91 1624.53,1388.91 1626.47,1388.91 1628.4,1388.91 1630.33,1388.91 1632.27,1388.91 1634.2,1388.91 \n",
       "  1636.14,1388.91 1638.07,1388.91 1640.01,1388.91 1641.94,1388.91 1643.87,1388.91 1645.81,1388.91 1647.74,1388.91 1649.68,1388.91 1651.61,1388.91 1653.55,1388.91 \n",
       "  1655.48,1388.91 1657.42,1388.91 1659.35,1388.91 1661.28,1388.91 1663.22,1388.91 1665.15,1388.91 1667.09,1388.91 1669.02,1388.91 1670.96,1388.91 1672.89,1388.91 \n",
       "  1674.82,1388.91 1676.76,1388.91 1678.69,1388.91 1680.63,1388.91 1682.56,1388.91 1684.5,1388.91 1686.43,1388.91 1688.37,1388.91 1690.3,1388.91 1692.23,1388.91 \n",
       "  1694.17,1388.91 1696.1,1388.91 1698.04,1388.91 1699.97,1388.91 1701.91,1388.91 1703.84,1388.91 1705.77,1388.91 1707.71,1388.91 1709.64,1388.91 1711.58,1388.91 \n",
       "  1713.51,1403.39 1715.45,1403.39 1717.38,1403.39 1719.31,1403.39 1721.25,1403.39 1723.18,1403.39 1725.12,1403.39 1727.05,1403.39 1728.99,1403.39 1730.92,1403.39 \n",
       "  1732.86,1403.39 1734.79,1403.39 1736.72,1403.39 1738.66,1403.39 1740.59,1403.39 1742.53,1403.39 1744.46,1403.39 1746.4,1403.39 1748.33,1403.39 1750.26,1403.39 \n",
       "  1752.2,1403.39 1754.13,1403.39 1756.07,1403.39 1758,1403.39 1759.94,1403.39 1761.87,1403.39 1763.8,1403.39 1765.74,1403.39 1767.67,1403.39 1769.61,1403.39 \n",
       "  1771.54,1403.39 1773.48,1403.39 1775.41,1403.39 1777.35,1403.39 1779.28,1403.39 1781.21,1403.39 1783.15,1403.39 1785.08,1403.39 1787.02,1403.39 1788.95,1403.39 \n",
       "  1790.89,1403.39 1792.82,1403.39 1794.75,1403.39 1796.69,1403.39 1798.62,1403.39 1800.56,1403.39 1802.49,1403.39 1804.43,1403.39 1806.36,1403.39 1808.29,1403.39 \n",
       "  1810.23,1434.24 1812.16,1434.24 1814.1,1434.24 1816.03,1434.24 1817.97,1434.24 1819.9,1434.24 1821.84,1434.24 1823.77,1434.24 1825.7,1434.24 1827.64,1434.24 \n",
       "  1829.57,1434.24 1831.51,1434.24 1833.44,1434.24 1835.38,1434.24 1837.31,1434.24 1839.24,1434.24 1841.18,1434.24 1843.11,1434.24 1845.05,1434.24 1846.98,1434.24 \n",
       "  1848.92,1434.24 1850.85,1434.24 1852.78,1434.24 1854.72,1434.24 1856.65,1434.24 1858.59,1434.24 1860.52,1434.24 1862.46,1434.24 1864.39,1434.24 1866.33,1434.24 \n",
       "  1868.26,1434.24 1870.19,1434.24 1872.13,1434.24 1874.06,1434.24 1876,1434.24 1877.93,1434.24 1879.87,1434.24 1881.8,1434.24 1883.73,1434.24 1885.67,1434.24 \n",
       "  1887.6,1434.24 1889.54,1434.24 1891.47,1434.24 1893.41,1434.24 1895.34,1434.24 1897.27,1434.24 1899.21,1434.24 1901.14,1434.24 1903.08,1434.24 1905.01,1434.24 \n",
       "  1906.95,1425.11 1908.88,1425.11 1910.82,1425.11 1912.75,1425.11 1914.68,1425.11 1916.62,1425.11 1918.55,1425.11 1920.49,1425.11 1922.42,1425.11 1924.36,1425.11 \n",
       "  1926.29,1425.11 1928.22,1425.11 1930.16,1425.11 1932.09,1425.11 1934.03,1425.11 1935.96,1425.11 1937.9,1425.11 1939.83,1425.11 1941.76,1425.11 1943.7,1425.11 \n",
       "  1945.63,1425.11 1947.57,1425.11 1949.5,1425.11 1951.44,1425.11 1953.37,1425.11 1955.31,1425.11 1957.24,1425.11 1959.17,1425.11 1961.11,1425.11 1963.04,1425.11 \n",
       "  1964.98,1425.11 1966.91,1425.11 1968.85,1425.11 1970.78,1425.11 1972.71,1425.11 1974.65,1425.11 1976.58,1425.11 1978.52,1425.11 1980.45,1425.11 1982.39,1425.11 \n",
       "  1984.32,1425.11 1986.25,1425.11 1988.19,1425.11 1990.12,1425.11 1992.06,1425.11 1993.99,1425.11 1995.93,1425.11 1997.86,1425.11 1999.8,1425.11 2001.73,1425.11 \n",
       "  2003.66,1368.12 2005.6,1368.12 2007.53,1368.12 2009.47,1368.12 2011.4,1368.12 2013.34,1368.12 2015.27,1368.12 2017.2,1368.12 2019.14,1368.12 2021.07,1368.12 \n",
       "  2023.01,1368.12 2024.94,1368.12 2026.88,1368.12 2028.81,1368.12 2030.74,1368.12 2032.68,1368.12 2034.61,1368.12 2036.55,1368.12 2038.48,1368.12 2040.42,1368.12 \n",
       "  2042.35,1368.12 2044.29,1368.12 2046.22,1368.12 2048.15,1368.12 2050.09,1368.12 2052.02,1368.12 2053.96,1368.12 2055.89,1368.12 2057.83,1368.12 2059.76,1368.12 \n",
       "  2061.69,1368.12 2063.63,1368.12 2065.56,1368.12 2067.5,1368.12 2069.43,1368.12 2071.37,1368.12 2073.3,1368.12 2075.23,1368.12 2077.17,1368.12 2079.1,1368.12 \n",
       "  2081.04,1368.12 2082.97,1368.12 2084.91,1368.12 2086.84,1368.12 2088.78,1368.12 2090.71,1368.12 2092.64,1368.12 2094.58,1368.12 2096.51,1368.12 2098.45,1368.12 \n",
       "  2100.38,1231.08 2102.32,1231.08 2104.25,1231.08 2106.18,1231.08 2108.12,1231.08 2110.05,1231.08 2111.99,1231.08 2113.92,1231.08 2115.86,1231.08 2117.79,1231.08 \n",
       "  2119.72,1231.08 2121.66,1231.08 2123.59,1231.08 2125.53,1231.08 2127.46,1231.08 2129.4,1231.08 2131.33,1231.08 2133.27,1231.08 2135.2,1231.08 2137.13,1231.08 \n",
       "  2139.07,1231.08 2141,1231.08 2142.94,1231.08 2144.87,1231.08 2146.81,1231.08 2148.74,1231.08 2150.67,1231.08 2152.61,1231.08 2154.54,1231.08 2156.48,1231.08 \n",
       "  2158.41,1231.08 2160.35,1231.08 2162.28,1231.08 2164.21,1231.08 2166.15,1231.08 2168.08,1231.08 2170.02,1231.08 2171.95,1231.08 2173.89,1231.08 2175.82,1231.08 \n",
       "  2177.76,1231.08 2179.69,1231.08 2181.62,1231.08 2183.56,1231.08 2185.49,1231.08 2187.43,1231.08 2189.36,1231.08 2191.3,1231.08 2193.23,1231.08 2195.16,1231.08 \n",
       "  2197.1,1363.97 2199.03,1363.97 2200.97,1363.97 2202.9,1363.97 2204.84,1363.97 2206.77,1363.97 2208.7,1363.97 2210.64,1363.97 2212.57,1363.97 2214.51,1363.97 \n",
       "  2216.44,1363.97 2218.38,1363.97 2220.31,1363.97 2222.25,1363.97 2224.18,1363.97 2226.11,1363.97 2228.05,1363.97 2229.98,1363.97 2231.92,1363.97 2233.85,1363.97 \n",
       "  2235.79,1363.97 2237.72,1363.97 2239.65,1363.97 2241.59,1363.97 2243.52,1363.97 2245.46,1363.97 2247.39,1363.97 2249.33,1363.97 2251.26,1363.97 2253.19,1363.97 \n",
       "  2255.13,1363.97 2257.06,1363.97 2259,1363.97 2260.93,1363.97 2262.87,1363.97 2264.8,1363.97 2266.74,1363.97 2268.67,1363.97 2270.6,1363.97 2272.54,1363.97 \n",
       "  2274.47,1363.97 2276.41,1363.97 2278.34,1363.97 2280.28,1363.97 2282.21,1363.97 2284.14,1363.97 2286.08,1363.97 2288.01,1363.97 2289.95,1363.97 2291.88,1363.97 \n",
       "  \n",
       "  \"/>\n",
       "<path clip-path=\"url(#clip340)\" d=\"\n",
       "M1913.56 276.658 L2281.06 276.658 L2281.06 95.2176 L1913.56 95.2176  Z\n",
       "  \" fill=\"#ffffff\" fill-rule=\"evenodd\" fill-opacity=\"1\"/>\n",
       "<polyline clip-path=\"url(#clip340)\" style=\"stroke:#000000; stroke-width:4; stroke-opacity:1; fill:none\" points=\"\n",
       "  1913.56,276.658 2281.06,276.658 2281.06,95.2176 1913.56,95.2176 1913.56,276.658 \n",
       "  \"/>\n",
       "<polyline clip-path=\"url(#clip340)\" style=\"stroke:#009af9; stroke-width:4; stroke-opacity:1; fill:none\" points=\"\n",
       "  1937.45,155.698 2080.85,155.698 \n",
       "  \"/>\n",
       "<path clip-path=\"url(#clip340)\" d=\"M 0 0 M2104.74 138.418 L2133.98 138.418 L2133.98 142.353 L2121.71 142.353 L2121.71 172.978 L2117.01 172.978 L2117.01 142.353 L2104.74 142.353 L2104.74 138.418 Z\" fill=\"#000000\" fill-rule=\"evenodd\" fill-opacity=\"1\" /><path clip-path=\"url(#clip340)\" d=\"M 0 0 M2146.5 151.033 Q2145.79 150.617 2144.93 150.431 Q2144.1 150.223 2143.08 150.223 Q2139.47 150.223 2137.52 152.584 Q2135.6 154.922 2135.6 159.32 L2135.6 172.978 L2131.32 172.978 L2131.32 147.052 L2135.6 147.052 L2135.6 151.08 Q2136.94 148.718 2139.1 147.584 Q2141.25 146.427 2144.33 146.427 Q2144.77 146.427 2145.3 146.496 Q2145.83 146.543 2146.48 146.658 L2146.5 151.033 Z\" fill=\"#000000\" fill-rule=\"evenodd\" fill-opacity=\"1\" /><path clip-path=\"url(#clip340)\" d=\"M 0 0 M2172.11 158.95 L2172.11 161.033 L2152.52 161.033 Q2152.8 165.431 2155.16 167.746 Q2157.55 170.038 2161.78 170.038 Q2164.24 170.038 2166.53 169.436 Q2168.84 168.834 2171.11 167.63 L2171.11 171.658 Q2168.82 172.63 2166.41 173.14 Q2164 173.649 2161.53 173.649 Q2155.32 173.649 2151.69 170.038 Q2148.08 166.427 2148.08 160.269 Q2148.08 153.904 2151.5 150.177 Q2154.95 146.427 2160.79 146.427 Q2166.02 146.427 2169.05 149.806 Q2172.11 153.163 2172.11 158.95 M2167.85 157.7 Q2167.8 154.205 2165.88 152.121 Q2163.98 150.038 2160.83 150.038 Q2157.27 150.038 2155.11 152.052 Q2152.99 154.066 2152.66 157.723 L2167.85 157.7 Z\" fill=\"#000000\" fill-rule=\"evenodd\" fill-opacity=\"1\" /><path clip-path=\"url(#clip340)\" d=\"M 0 0 M2176.57 147.052 L2180.83 147.052 L2180.83 172.978 L2176.57 172.978 L2176.57 147.052 M2176.57 136.959 L2180.83 136.959 L2180.83 142.353 L2176.57 142.353 L2176.57 136.959 Z\" fill=\"#000000\" fill-rule=\"evenodd\" fill-opacity=\"1\" /><path clip-path=\"url(#clip340)\" d=\"M 0 0 M2206.85 157.329 L2206.85 172.978 L2202.59 172.978 L2202.59 157.468 Q2202.59 153.788 2201.16 151.959 Q2199.72 150.13 2196.85 150.13 Q2193.4 150.13 2191.41 152.33 Q2189.42 154.529 2189.42 158.325 L2189.42 172.978 L2185.14 172.978 L2185.14 147.052 L2189.42 147.052 L2189.42 151.08 Q2190.95 148.742 2193.01 147.584 Q2195.09 146.427 2197.8 146.427 Q2202.27 146.427 2204.56 149.205 Q2206.85 151.959 2206.85 157.329 Z\" fill=\"#000000\" fill-rule=\"evenodd\" fill-opacity=\"1\" /><path clip-path=\"url(#clip340)\" d=\"M 0 0 M2221.36 150.038 Q2217.94 150.038 2215.95 152.723 Q2213.96 155.385 2213.96 160.038 Q2213.96 164.691 2215.92 167.376 Q2217.92 170.038 2221.36 170.038 Q2224.77 170.038 2226.76 167.353 Q2228.75 164.667 2228.75 160.038 Q2228.75 155.431 2226.76 152.746 Q2224.77 150.038 2221.36 150.038 M2221.36 146.427 Q2226.92 146.427 2230.09 150.038 Q2233.26 153.649 2233.26 160.038 Q2233.26 166.404 2230.09 170.038 Q2226.92 173.649 2221.36 173.649 Q2215.79 173.649 2212.61 170.038 Q2209.47 166.404 2209.47 160.038 Q2209.47 153.649 2212.61 150.038 Q2215.79 146.427 2221.36 146.427 Z\" fill=\"#000000\" fill-rule=\"evenodd\" fill-opacity=\"1\" /><polyline clip-path=\"url(#clip340)\" style=\"stroke:#e26f46; stroke-width:4; stroke-opacity:1; fill:none\" points=\"\n",
       "  1937.45,216.178 2080.85,216.178 \n",
       "  \"/>\n",
       "<path clip-path=\"url(#clip340)\" d=\"M 0 0 M2104.74 198.898 L2133.98 198.898 L2133.98 202.833 L2121.71 202.833 L2121.71 233.458 L2117.01 233.458 L2117.01 202.833 L2104.74 202.833 L2104.74 198.898 Z\" fill=\"#000000\" fill-rule=\"evenodd\" fill-opacity=\"1\" /><path clip-path=\"url(#clip340)\" d=\"M 0 0 M2152.57 219.43 L2152.57 221.513 L2132.99 221.513 Q2133.26 225.911 2135.62 228.226 Q2138.01 230.518 2142.24 230.518 Q2144.7 230.518 2146.99 229.916 Q2149.3 229.314 2151.57 228.11 L2151.57 232.138 Q2149.28 233.11 2146.87 233.62 Q2144.47 234.129 2141.99 234.129 Q2135.79 234.129 2132.15 230.518 Q2128.54 226.907 2128.54 220.749 Q2128.54 214.384 2131.97 210.657 Q2135.42 206.907 2141.25 206.907 Q2146.48 206.907 2149.51 210.286 Q2152.57 213.643 2152.57 219.43 M2148.31 218.18 Q2148.26 214.685 2146.34 212.601 Q2144.44 210.518 2141.3 210.518 Q2137.73 210.518 2135.58 212.532 Q2133.45 214.546 2133.12 218.203 L2148.31 218.18 Z\" fill=\"#000000\" fill-rule=\"evenodd\" fill-opacity=\"1\" /><path clip-path=\"url(#clip340)\" d=\"M 0 0 M2173.56 208.296 L2173.56 212.323 Q2171.76 211.397 2169.81 210.935 Q2167.87 210.472 2165.79 210.472 Q2162.61 210.472 2161.02 211.444 Q2159.44 212.416 2159.44 214.36 Q2159.44 215.842 2160.58 216.698 Q2161.71 217.532 2165.14 218.296 L2166.6 218.62 Q2171.13 219.592 2173.03 221.374 Q2174.95 223.134 2174.95 226.305 Q2174.95 229.916 2172.08 232.022 Q2169.24 234.129 2164.24 234.129 Q2162.15 234.129 2159.88 233.712 Q2157.64 233.319 2155.14 232.508 L2155.14 228.11 Q2157.5 229.337 2159.79 229.962 Q2162.08 230.564 2164.33 230.564 Q2167.34 230.564 2168.96 229.546 Q2170.58 228.504 2170.58 226.629 Q2170.58 224.893 2169.4 223.967 Q2168.24 223.041 2164.28 222.184 L2162.8 221.837 Q2158.84 221.004 2157.08 219.291 Q2155.32 217.555 2155.32 214.546 Q2155.32 210.888 2157.92 208.898 Q2160.51 206.907 2165.28 206.907 Q2167.64 206.907 2169.72 207.254 Q2171.8 207.601 2173.56 208.296 Z\" fill=\"#000000\" fill-rule=\"evenodd\" fill-opacity=\"1\" /><path clip-path=\"url(#clip340)\" d=\"M 0 0 M2183.63 200.171 L2183.63 207.532 L2192.41 207.532 L2192.41 210.842 L2183.63 210.842 L2183.63 224.916 Q2183.63 228.087 2184.49 228.99 Q2185.37 229.893 2188.03 229.893 L2192.41 229.893 L2192.41 233.458 L2188.03 233.458 Q2183.1 233.458 2181.23 231.629 Q2179.35 229.777 2179.35 224.916 L2179.35 210.842 L2176.23 210.842 L2176.23 207.532 L2179.35 207.532 L2179.35 200.171 L2183.63 200.171 Z\" fill=\"#000000\" fill-rule=\"evenodd\" fill-opacity=\"1\" /><path clip-path=\"url(#clip340)\" d=\"M 0 0 M2219.05 219.43 L2219.05 221.513 L2199.47 221.513 Q2199.74 225.911 2202.11 228.226 Q2204.49 230.518 2208.73 230.518 Q2211.18 230.518 2213.47 229.916 Q2215.79 229.314 2218.05 228.11 L2218.05 232.138 Q2215.76 233.11 2213.36 233.62 Q2210.95 234.129 2208.47 234.129 Q2202.27 234.129 2198.63 230.518 Q2195.02 226.907 2195.02 220.749 Q2195.02 214.384 2198.45 210.657 Q2201.9 206.907 2207.73 206.907 Q2212.96 206.907 2215.99 210.286 Q2219.05 213.643 2219.05 219.43 M2214.79 218.18 Q2214.74 214.685 2212.82 212.601 Q2210.92 210.518 2207.78 210.518 Q2204.21 210.518 2202.06 212.532 Q2199.93 214.546 2199.61 218.203 L2214.79 218.18 Z\" fill=\"#000000\" fill-rule=\"evenodd\" fill-opacity=\"1\" /></svg>\n"
      ]
     },
     "execution_count": 47,
     "metadata": {},
     "output_type": "execute_result"
    }
   ],
   "source": [
    "plot(mse_treino[1,2,:], label = \"Treino\")\n",
    "plot!(mse_teste[1,2,:], label = \"Teste\")"
   ]
  },
  {
   "cell_type": "markdown",
   "metadata": {},
   "source": [
    "## HIT\n",
    "### Hourly internet traffic time series (HIT)\n",
    "\n",
    "* 1657 obs.\n",
    "* hourly \n",
    "* 19 nov 2004 at 9:30 and 27 jan 2005 at 11:11\n",
    "\n",
    "Série horária: 24 inputs\n"
   ]
  },
  {
   "cell_type": "code",
   "execution_count": 51,
   "metadata": {},
   "outputs": [
    {
     "name": "stderr",
     "output_type": "stream",
     "text": [
      "┌ Warning: `getindex(df::DataFrame, col_ind::ColumnIndex)` is deprecated, use `df[!, col_ind]` instead.\n",
      "│   caller = top-level scope at In[51]:2\n",
      "└ @ Core In[51]:2\n"
     ]
    },
    {
     "data": {
      "text/plain": [
       "19888-element Array{Float64,1}:\n",
       " 4838.6653764143\n",
       " 4845.17660886383\n",
       " 5157.99566038366\n",
       " 5637.87553691444\n",
       " 5520.68984027836\n",
       " 5626.3374553168\n",
       " 5350.54601579701\n",
       " 5356.98340890114\n",
       " 5385.81381165372\n",
       " 5403.90580523122\n",
       " 5666.34777146069\n",
       " 5764.14155813563\n",
       " 5902.47446148357\n",
       "    ⋮\n",
       " 5924.1760746544\n",
       " 6038.8308550728\n",
       " 6140.9858667152\n",
       " 6191.9407441848\n",
       " 6243.312822492\n",
       " 6304.9263254312\n",
       " 6438.785759172\n",
       " 6515.5123373656\n",
       " 6291.1709745264\n",
       " 6305.5185238856\n",
       " 6422.143533156\n",
       " 6511.0139275416"
      ]
     },
     "execution_count": 51,
     "metadata": {},
     "output_type": "execute_result"
    }
   ],
   "source": [
    "hit = CSV.read(\"dados/internet_traffic.csv\"; delim=\",\")\n",
    "hit = hit[\"valor\"]"
   ]
  },
  {
   "cell_type": "code",
   "execution_count": 104,
   "metadata": {},
   "outputs": [],
   "source": [
    "qtd_inputs = 24\n",
    "hit_norm = normalizar(hit)\n",
    "global X, y = split_sequence(hit_norm, 24);"
   ]
  },
  {
   "cell_type": "code",
   "execution_count": 102,
   "metadata": {},
   "outputs": [
    {
     "name": "stdout",
     "output_type": "stream",
     "text": [
      "9702\n"
     ]
    },
    {
     "data": {
      "text/plain": [
       "192"
      ]
     },
     "execution_count": 102,
     "metadata": {},
     "output_type": "execute_result"
    }
   ],
   "source": [
    "w = 584 # tamanho da janela\n",
    "s = 100 # tamanho do passo\n",
    "f = 50 # quantidade de iterações para a janela\n",
    "T = convert(Int64,floor(f/s*(size(hit)[1]-w)+f))\n",
    "println(T)\n",
    "quantidade_janelas = convert(Int64,floor((size(y)[1] - w)/s))"
   ]
  },
  {
   "cell_type": "code",
   "execution_count": 103,
   "metadata": {},
   "outputs": [
    {
     "name": "stdout",
     "output_type": "stream",
     "text": [
      "Quantidade de iterações: 9690\n",
      "Execução: 1\n"
     ]
    },
    {
     "ename": "InterruptException",
     "evalue": "InterruptException:",
     "output_type": "error",
     "traceback": [
      "InterruptException:",
      "",
      "Stacktrace:",
      " [1] PSO(::Array{Float64,3}, ::Array{Float64,2}, ::Array{Array{Float64,N} where N,1}, ::Int64, ::Array{Int64,1}, ::Int64, ::Float64, ::Float64, ::Float64, ::Float64) at ./In[11]:67",
      " [2] n_model_pso(::Array{Float64,3}, ::Array{Float64,2}, ::Int64, ::Int64, ::Float64, ::Float64) at ./In[12]:16",
      " [3] cenarios_execucoes(::Array{Float64,2}, ::Array{Float64,1}, ::Int64, ::Int64, ::Int64, ::Float64, ::Float64, ::Int64) at ./In[14]:28",
      " [4] macro expansion at ./util.jl:175 [inlined]",
      " [5] top-level scope at ./In[103]:1"
     ]
    }
   ],
   "source": [
    "@time hit_mse_treino_1, hit_mse_val, hit_mse_teste = cenarios_execucoes(X, y, w, s, f, 0.54, 0.24, 3);"
   ]
  },
  {
   "cell_type": "code",
   "execution_count": 117,
   "metadata": {},
   "outputs": [
    {
     "data": {
      "text/plain": [
       "\"hit_mse_teste_1_exec_3.csv\""
      ]
     },
     "execution_count": 117,
     "metadata": {},
     "output_type": "execute_result"
    }
   ],
   "source": [
    "CSV.write(\"hit_mse_treino_1_exec_1.csv\", DataFrame(hit_mse_treino_1[1,:,:]))\n",
    "CSV.write(\"hit_mse_treino_1_exec_2.csv\", DataFrame(hit_mse_treino_1[2,:,:]))\n",
    "CSV.write(\"hit_mse_treino_1_exec_3.csv\", DataFrame(hit_mse_treino_1[3,:,:]))\n",
    "CSV.write(\"hit_mse_val_1_exec_1.csv\", DataFrame(hit_mse_val[1,:,:]))\n",
    "CSV.write(\"hit_mse_val_1_exec_2.csv\", DataFrame(hit_mse_val[2,:,:]))\n",
    "CSV.write(\"hit_mse_val_1_exec_3.csv\", DataFrame(hit_mse_val[3,:,:]))\n",
    "CSV.write(\"hit_mse_teste_1_exec_1.csv\", DataFrame(hit_mse_teste[1,:,:]))\n",
    "CSV.write(\"hit_mse_teste_1_exec_2.csv\", DataFrame(hit_mse_teste[2,:,:]))\n",
    "CSV.write(\"hit_mse_teste_1_exec_3.csv\", DataFrame(hit_mse_teste[3,:,:]))"
   ]
  },
  {
   "cell_type": "markdown",
   "metadata": {},
   "source": [
    "### Cenário 2\n"
   ]
  },
  {
   "cell_type": "code",
   "execution_count": 105,
   "metadata": {},
   "outputs": [
    {
     "name": "stdout",
     "output_type": "stream",
     "text": [
      "7821"
     ]
    },
    {
     "data": {
      "text/plain": [
       "77"
      ]
     },
     "execution_count": 105,
     "metadata": {},
     "output_type": "execute_result"
    }
   ],
   "source": [
    "w = 584 # tamanho da janela\n",
    "s = 250 # tamanho do passo\n",
    "f = 100 # quantidade de iterações para a janela\n",
    "T = convert(Int64, floor(f/s*(size(hit)[1]-w)+f))\n",
    "print(T)\n",
    "quantidade_janelas = convert(Int64,floor((size(y)[1] - w)/s))"
   ]
  },
  {
   "cell_type": "code",
   "execution_count": 106,
   "metadata": {},
   "outputs": [
    {
     "name": "stdout",
     "output_type": "stream",
     "text": [
      "Quantidade de iterações: 7812\n",
      "Execução: 1\n",
      "Execução: 2\n",
      "Execução: 3\n",
      "770.169006 seconds (869.09 M allocations: 1.073 TiB, 3.30% gc time)\n"
     ]
    }
   ],
   "source": [
    "@time hit_mse_treino_2, hit_mse_val_2, hit_mse_teste_2 = cenarios_execucoes(X, y, w, s, f, 0.54, 0.24, 3);"
   ]
  },
  {
   "cell_type": "code",
   "execution_count": 114,
   "metadata": {},
   "outputs": [
    {
     "data": {
      "text/plain": [
       "\"hit_mse_teste_2_exec_3.csv\""
      ]
     },
     "execution_count": 114,
     "metadata": {},
     "output_type": "execute_result"
    }
   ],
   "source": [
    "CSV.write(\"hit_mse_treino_2_exec_1.csv\", DataFrame(hit_mse_treino_2[1,:,:]))\n",
    "CSV.write(\"hit_mse_treino_2_exec_2.csv\", DataFrame(hit_mse_treino_2[2,:,:]))\n",
    "CSV.write(\"hit_mse_treino_2_exec_3.csv\", DataFrame(hit_mse_treino_2[3,:,:]))\n",
    "CSV.write(\"hit_mse_val_2_exec_1.csv\", DataFrame(hit_mse_val_2[1,:,:]))\n",
    "CSV.write(\"hit_mse_val_2_exec_2.csv\", DataFrame(hit_mse_val_2[2,:,:]))\n",
    "CSV.write(\"hit_mse_val_2_exec_3.csv\", DataFrame(hit_mse_val_2[3,:,:]))\n",
    "CSV.write(\"hit_mse_teste_2_exec_1.csv\", DataFrame(hit_mse_teste_2[1,:,:]))\n",
    "CSV.write(\"hit_mse_teste_2_exec_2.csv\", DataFrame(hit_mse_teste_2[2,:,:]))\n",
    "CSV.write(\"hit_mse_teste_2_exec_3.csv\", DataFrame(hit_mse_teste_2[3,:,:]))"
   ]
  },
  {
   "cell_type": "markdown",
   "metadata": {},
   "source": [
    "## Cenário III\n",
    "\n",
    "* w = 584\n",
    "* s = 500\n",
    "* f = 150\n"
   ]
  },
  {
   "cell_type": "code",
   "execution_count": 108,
   "metadata": {},
   "outputs": [
    {
     "name": "stdout",
     "output_type": "stream",
     "text": [
      "5941"
     ]
    },
    {
     "data": {
      "text/plain": [
       "38"
      ]
     },
     "execution_count": 108,
     "metadata": {},
     "output_type": "execute_result"
    }
   ],
   "source": [
    "w = 584 # tamanho da janela\n",
    "s = 500 # tamanho do passo\n",
    "f = 150 # quantidade de iterações para a janela\n",
    "T = convert(Int64, floor(f/s*(size(hit)[1]-w)+f))\n",
    "print(T)\n",
    "quantidade_janelas = convert(Int64,floor((size(y)[1] - w)/s))"
   ]
  },
  {
   "cell_type": "code",
   "execution_count": 109,
   "metadata": {},
   "outputs": [
    {
     "name": "stdout",
     "output_type": "stream",
     "text": [
      "Quantidade de iterações: 5934\n",
      "Execução: 1\n",
      "Execução: 2\n",
      "Execução: 3\n",
      "586.274432 seconds (643.36 M allocations: 812.641 GiB, 3.80% gc time)\n"
     ]
    }
   ],
   "source": [
    "@time hit_mse_treino_3, hit_mse_val_3, hit_mse_teste_3 = cenarios_execucoes(X, y, w, s, f, 0.54, 0.24, 3);"
   ]
  },
  {
   "cell_type": "code",
   "execution_count": 115,
   "metadata": {},
   "outputs": [
    {
     "data": {
      "text/plain": [
       "\"hit_mse_teste_3_exec_3.csv\""
      ]
     },
     "execution_count": 115,
     "metadata": {},
     "output_type": "execute_result"
    }
   ],
   "source": [
    "CSV.write(\"hit_mse_treino_3_exec_1.csv\", DataFrame(hit_mse_treino_3[1,:,:]))\n",
    "CSV.write(\"hit_mse_treino_3_exec_2.csv\", DataFrame(hit_mse_treino_3[2,:,:]))\n",
    "CSV.write(\"hit_mse_treino_3_exec_3.csv\", DataFrame(hit_mse_treino_3[3,:,:]))\n",
    "CSV.write(\"hit_mse_val_3_exec_1.csv\", DataFrame(hit_mse_val_3[1,:,:]))\n",
    "CSV.write(\"hit_mse_val_3_exec_2.csv\", DataFrame(hit_mse_val_3[2,:,:]))\n",
    "CSV.write(\"hit_mse_val_3_exec_3.csv\", DataFrame(hit_mse_val_3[3,:,:]))\n",
    "CSV.write(\"hit_mse_teste_3_exec_1.csv\", DataFrame(hit_mse_teste_3[1,:,:]))\n",
    "CSV.write(\"hit_mse_teste_3_exec_2.csv\", DataFrame(hit_mse_teste_3[2,:,:]))\n",
    "CSV.write(\"hit_mse_teste_3_exec_3.csv\", DataFrame(hit_mse_teste_3[3,:,:]))"
   ]
  },
  {
   "cell_type": "markdown",
   "metadata": {},
   "source": [
    "## Cenário IV\n",
    "\n",
    "* w = 584\n",
    "* s = 584\n",
    "* f = 100\n",
    "\n"
   ]
  },
  {
   "cell_type": "code",
   "execution_count": 111,
   "metadata": {},
   "outputs": [
    {
     "name": "stdout",
     "output_type": "stream",
     "text": [
      "3405"
     ]
    },
    {
     "data": {
      "text/plain": [
       "33"
      ]
     },
     "execution_count": 111,
     "metadata": {},
     "output_type": "execute_result"
    }
   ],
   "source": [
    "w = 584 # tamanho da janela\n",
    "s = 584 # tamanho do passo\n",
    "f = 100 # quantidade de iterações para a janela\n",
    "T = convert(Int64, floor(f/s*(size(hit)[1]-w)+f))\n",
    "print(T)\n",
    "quantidade_janelas = convert(Int64,floor((size(y)[1] - w)/s))"
   ]
  },
  {
   "cell_type": "code",
   "execution_count": 112,
   "metadata": {},
   "outputs": [
    {
     "name": "stdout",
     "output_type": "stream",
     "text": [
      "Quantidade de iterações: 3401\n",
      "Execução: 1\n",
      "Execução: 2\n",
      "Execução: 3\n",
      "364.386484 seconds (372.58 M allocations: 470.898 GiB, 9.65% gc time)\n"
     ]
    }
   ],
   "source": [
    "@time hit_mse_treino_4, hit_mse_val_4, hit_mse_teste_4 = cenarios_execucoes(X, y, w, s, f, 0.54, 0.24, 3);"
   ]
  },
  {
   "cell_type": "code",
   "execution_count": 116,
   "metadata": {},
   "outputs": [
    {
     "data": {
      "text/plain": [
       "\"hit_mse_teste_4_exec_3.csv\""
      ]
     },
     "execution_count": 116,
     "metadata": {},
     "output_type": "execute_result"
    }
   ],
   "source": [
    "CSV.write(\"hit_mse_treino_4_exec_1.csv\", DataFrame(hit_mse_treino_4[1,:,:]))\n",
    "CSV.write(\"hit_mse_treino_4_exec_2.csv\", DataFrame(hit_mse_treino_4[2,:,:]))\n",
    "CSV.write(\"hit_mse_treino_4_exec_3.csv\", DataFrame(hit_mse_treino_4[3,:,:]))\n",
    "CSV.write(\"hit_mse_val_4_exec_1.csv\", DataFrame(hit_mse_val_4[1,:,:]))\n",
    "CSV.write(\"hit_mse_val_4_exec_2.csv\", DataFrame(hit_mse_val_4[2,:,:]))\n",
    "CSV.write(\"hit_mse_val_4_exec_3.csv\", DataFrame(hit_mse_val_4[3,:,:]))\n",
    "CSV.write(\"hit_mse_teste_4_exec_1.csv\", DataFrame(hit_mse_teste_4[1,:,:]))\n",
    "CSV.write(\"hit_mse_teste_4_exec_2.csv\", DataFrame(hit_mse_teste_4[2,:,:]))\n",
    "CSV.write(\"hit_mse_teste_4_exec_3.csv\", DataFrame(hit_mse_teste_4[3,:,:]))"
   ]
  },
  {
   "cell_type": "code",
   "execution_count": null,
   "metadata": {},
   "outputs": [],
   "source": []
  }
 ],
 "metadata": {
  "kernelspec": {
   "display_name": "Julia 1.4.1",
   "language": "julia",
   "name": "julia-1.4"
  },
  "language_info": {
   "file_extension": ".jl",
   "mimetype": "application/julia",
   "name": "julia",
   "version": "1.4.1"
  }
 },
 "nbformat": 4,
 "nbformat_minor": 4
}
