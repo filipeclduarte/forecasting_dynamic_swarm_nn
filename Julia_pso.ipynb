{
 "cells": [
  {
   "cell_type": "markdown",
   "metadata": {},
   "source": [
    "# PSO para otimizar pesos de MLP "
   ]
  },
  {
   "cell_type": "code",
   "execution_count": 3,
   "metadata": {},
   "outputs": [],
   "source": [
    "using Distributions\n",
    "using CSV\n",
    "using Plots\n",
    "using DataFrames\n",
    "using Random"
   ]
  },
  {
   "cell_type": "code",
   "execution_count": 4,
   "metadata": {},
   "outputs": [],
   "source": [
    "Random.seed!(123);"
   ]
  },
  {
   "cell_type": "markdown",
   "metadata": {},
   "source": [
    "### MLP"
   ]
  },
  {
   "cell_type": "code",
   "execution_count": 5,
   "metadata": {},
   "outputs": [
    {
     "data": {
      "text/plain": [
       "params_reshape (generic function with 1 method)"
      ]
     },
     "execution_count": 5,
     "metadata": {},
     "output_type": "execute_result"
    }
   ],
   "source": [
    "function init_params(n_in::Int64, n_h::Int64)\n",
    "    W1 = rand(Uniform(-1/sqrt(n_h+n_in),1/sqrt(n_h+n_in)),n_h, n_in)\n",
    "    b1 = rand(Uniform(-1/sqrt(n_h),1/sqrt(n_h)),n_h)\n",
    "    W2 = rand(Uniform(-1/sqrt(1+n_h),1/sqrt(1+n_h)), 1, n_h)\n",
    "    b2 = rand(Uniform(-1,1), 1, 1)\n",
    "    return [W1, b1, W2, b2]\n",
    "end\n",
    "\n",
    "function forward_prop(x, params)\n",
    "    W1 = params[1]\n",
    "    b1 = params[2]\n",
    "    W2 = params[3]\n",
    "    b2 = params[4]\n",
    "    \n",
    "    linear1 = W1 * x .+ b1\n",
    "    linear2 = W2 * linear1 .+ b2\n",
    "    out = 1.7159*tanh.(2/3*linear2)\n",
    "    \n",
    "    return out\n",
    "end\n",
    "\n",
    "function compute_cost(A2, y)\n",
    "    m = size(y)[2]\n",
    "    erro = A2 .- y\n",
    "    cost = 1/m * sum(erro.^2)\n",
    "    return cost\n",
    "end\n",
    "\n",
    "function params_array(params)\n",
    "    W1 = parametros[1]\n",
    "    b1 = parametros[2]\n",
    "    W2 = parametros[3]\n",
    "    b2 = parametros[4]\n",
    "    lista_params = hcat(reshape(W1, 1,prod(size(W1))), reshape(b1, 1,prod(size(b1))), \n",
    "        reshape(W2, 1,prod(size(W2))), reshape(b2, 1,prod(size(b2))))\n",
    "    return lista_params\n",
    "end\n",
    "\n",
    "function params_reshape(lista_params, params)\n",
    "    W1 = params[1]\n",
    "    b1 = params[2]\n",
    "    W2 = params[3]\n",
    "    b2 = params[4]\n",
    "\n",
    "    w1_dim_tot = prod(size(W1))\n",
    "    b1_dim_tot = prod(size(b1))\n",
    "    w2_dim_tot = prod(size(W2))\n",
    "    b2_dim_tot = prod(size(b2))\n",
    "\n",
    "    W1_reshaped = reshape(lista_params[1:w1_dim_tot], size(W1))\n",
    "    id = w1_dim_tot\n",
    "    b1_reshaped = reshape(lista_params[id+1:id+b1_dim_tot], size(b1))\n",
    "    id += b1_dim_tot\n",
    "    W2_reshaped = reshape(lista_params[id+1:id+w2_dim_tot], size(W2))\n",
    "    id += w2_dim_tot\n",
    "    b2_reshaped = reshape(lista_params[id+1:id+b2_dim_tot], size(b2))\n",
    "    \n",
    "    return [W1_reshaped, b1_reshaped, W2_reshaped, b2_reshaped]\n",
    "    \n",
    "end\n"
   ]
  },
  {
   "cell_type": "markdown",
   "metadata": {},
   "source": [
    "### Importar dados"
   ]
  },
  {
   "cell_type": "code",
   "execution_count": 153,
   "metadata": {
    "tags": []
   },
   "outputs": [
    {
     "name": "stderr",
     "output_type": "stream",
     "text": [
      "┌ Warning: `getindex(df::DataFrame, col_ind::ColumnIndex)` is deprecated, use `df[!, col_ind]` instead.\n",
      "│   caller = top-level scope at In[153]:2\n",
      "└ @ Core In[153]:2\n"
     ]
    }
   ],
   "source": [
    "sunspot = CSV.read(\"dados/sunspot.csv\"; delim=\",\")\n",
    "sunspot_serie = sunspot[\"valor\"];"
   ]
  },
  {
   "cell_type": "code",
   "execution_count": 154,
   "metadata": {},
   "outputs": [
    {
     "data": {
      "text/plain": [
       "10-element Array{Float64,1}:\n",
       "  5.0\n",
       " 11.0\n",
       " 16.0\n",
       " 23.0\n",
       " 36.0\n",
       " 58.0\n",
       " 29.0\n",
       " 20.0\n",
       " 10.0\n",
       "  8.0"
      ]
     },
     "execution_count": 154,
     "metadata": {},
     "output_type": "execute_result"
    }
   ],
   "source": [
    "sunspot_serie[1:10]"
   ]
  },
  {
   "cell_type": "markdown",
   "metadata": {},
   "source": [
    "### Funções de normalização"
   ]
  },
  {
   "cell_type": "code",
   "execution_count": 155,
   "metadata": {},
   "outputs": [
    {
     "data": {
      "text/plain": [
       "desnormalizar (generic function with 1 method)"
      ]
     },
     "execution_count": 155,
     "metadata": {},
     "output_type": "execute_result"
    }
   ],
   "source": [
    "# normalizar serie\n",
    "function normalizar(serie)\n",
    "    max = maximum(serie)\n",
    "    min = minimum(serie)\n",
    "    \n",
    "    y_temp = 2 .* ((serie .- min)) ./ (max .- min) .- 1\n",
    "    \n",
    "    y = y_temp ./ sqrt(size(serie)[1])\n",
    "    \n",
    "    return y\n",
    "end\n",
    "\n",
    "function desnormalizar(serie_norm, serie)\n",
    "    max = maximum(serie)\n",
    "    min = maximum(serie)\n",
    "    \n",
    "    serie_temp = serie_norm .* sqrt(size(serie)[1])\n",
    "    serie_temp2 = (serie_temp .+ 1)/2\n",
    "    serie_temp3 = serie_temp2 * ((max - min) + min)\n",
    "    return serie_temp3 \n",
    "end"
   ]
  },
  {
   "cell_type": "code",
   "execution_count": 156,
   "metadata": {},
   "outputs": [
    {
     "data": {
      "text/plain": [
       "split_sequence (generic function with 1 method)"
      ]
     },
     "execution_count": 156,
     "metadata": {},
     "output_type": "execute_result"
    }
   ],
   "source": [
    "function split_sequence(serie, n_steps_in::Int64)\n",
    "    len = size(serie)[1]\n",
    "    max_iter = len - n_steps_in\n",
    "    seq_x = zeros(max_iter, n_steps_in)\n",
    "    seq_y = zeros(max_iter)\n",
    "    for i in 1:len-n_steps_in\n",
    "        idx = i + n_steps_in - 1\n",
    "        out_idx = idx + 1\n",
    "        if out_idx > len\n",
    "            println(i)\n",
    "            println(\"len = \", len)\n",
    "            println(\"out_idx = \", out_idx)\n",
    "            println(\"Out_idx > len\")\n",
    "            break\n",
    "        end\n",
    "        seq_x[i,:] = serie[i:idx]\n",
    "        seq_y[i] = serie[out_idx]\n",
    "    end\n",
    "    return seq_x, seq_y\n",
    "end"
   ]
  },
  {
   "cell_type": "markdown",
   "metadata": {},
   "source": [
    "### Função de split treino/val/teste"
   ]
  },
  {
   "cell_type": "code",
   "execution_count": 157,
   "metadata": {},
   "outputs": [
    {
     "data": {
      "text/plain": [
       "divisao_dados_temporais (generic function with 1 method)"
      ]
     },
     "execution_count": 157,
     "metadata": {},
     "output_type": "execute_result"
    }
   ],
   "source": [
    "function divisao_dados_temporais(X, y, perc_treino::Float64, perc_val::Float64)\n",
    "    tam_treino = convert(Int64, floor(perc_treino * size(y)[1]))\n",
    "    \n",
    "    if perc_val > 0\n",
    "        tam_val = convert(Int64, floor(perc_val * size(y)[1]))\n",
    "        X_treino = X[1:tam_treino,:]\n",
    "        y_treino = y[1:tam_treino]\n",
    "        \n",
    "        X_val = X[tam_treino+1:tam_treino+1+tam_val,:]\n",
    "        y_val = y[tam_treino+1:tam_treino+1+tam_val]\n",
    "        \n",
    "        X_teste = X[(tam_treino+tam_val+1):end,:]\n",
    "        y_teste = y[(tam_treino+tam_val+1):end]\n",
    "        \n",
    "        return X_treino, y_treino, X_teste, y_teste,  X_val, y_val\n",
    "        \n",
    "    else\n",
    "        X_treino = X[1:tam_treino,:]\n",
    "        y_treino = y[1:tam_treino]\n",
    "        \n",
    "        X_teste = X[tam_treino+1:end,:]\n",
    "        y_teste = y[tam_treino+1:end]\n",
    "        return X_treino, y_treino, X_teste, y_teste\n",
    "    end\n",
    "end"
   ]
  },
  {
   "cell_type": "markdown",
   "metadata": {},
   "source": [
    "### Função do PSO"
   ]
  },
  {
   "cell_type": "code",
   "execution_count": 158,
   "metadata": {},
   "outputs": [
    {
     "data": {
      "text/plain": [
       "PSO (generic function with 1 method)"
      ]
     },
     "execution_count": 158,
     "metadata": {},
     "output_type": "execute_result"
    }
   ],
   "source": [
    "function PSO(X, y, params, n_particles::Int64, dim, max_iter::Int64, LB::Float64, UB::Float64, perc_treino::Float64, perc_val::Float64)\n",
    "    \n",
    "    mse_treino = zeros(size(y)[2]*max_iter)\n",
    "    mse_val = zeros(size(y)[2]*max_iter)\n",
    "    mse_teste = zeros(size(y)[2]*max_iter)\n",
    "    \n",
    "    particles = rand(n_particles, sum(dim))\n",
    "    velocity = zeros(n_particles, sum(dim))\n",
    "    pbest = particles\n",
    "    gbest = pbest[1,:]\n",
    "    \n",
    "    parametros = params_reshape(gbest, params)\n",
    "    y_pred = forward_prop(X[:,:,1]', parametros)\n",
    "    gbest_value = compute_cost(y_pred, y[:,1]')    \n",
    "\n",
    "    fitness_value = zeros(n_particles)\n",
    "\n",
    "    for i in eachindex(fitness_value)\n",
    "        parametros = params_reshape(particles[i,:], params)\n",
    "        y_pred = forward_prop(X[:,:,1]', parametros)\n",
    "        fitness_value[i] = compute_cost(y_pred, y[:,1]')\n",
    "    end\n",
    "    \n",
    "    wmax = 0.9\n",
    "    wmin = 0.4\n",
    "    c1 = 1.5\n",
    "    c2 = 1.5\n",
    "    \n",
    "    iteracao = 1\n",
    "    for janela in 1:size(y)[2]\n",
    "        \n",
    "        X_treino, Y_treino, X_teste, Y_teste, X_val, Y_val = divisao_dados_temporais(X[:,:,janela], y[:,janela], perc_treino, perc_val)\n",
    "        \n",
    "        X_tv = vcat(X_treino, X_val)'\n",
    "        Y_tv = vcat(Y_treino, Y_val)'\n",
    "\n",
    "        for k in 1:max_iter\n",
    "            w=wmax-(wmax-wmin)*k/max_iter\n",
    "        \n",
    "\n",
    "            for i in 1:n_particles\n",
    "                for j in 1:sum(dim)\n",
    "                    velocity[i, j] = w*velocity[i,j] + c1*rand()*(pbest[i,j] - particles[i,j]) + c2*rand()*(gbest[j] - particles[i,j])\n",
    "                end\n",
    "            end\n",
    "\n",
    "            # update pso position\n",
    "            for i in 1:n_particles\n",
    "                for j in 1:sum(dim)\n",
    "                    particles[i,j] = particles[i,j] + velocity[i,j]\n",
    "                end\n",
    "            end\n",
    "\n",
    "            # handling boundary violations \n",
    "            for i in 1:n_particles\n",
    "                for j in 1:sum(dim)\n",
    "                    if particles[i,j]<LB \n",
    "                        particles[i,j]=LB \n",
    "                    elseif particles[i,j]>UB \n",
    "                        particles[i,j]=UB \n",
    "                    end\n",
    "                end \n",
    "            end \n",
    "\n",
    "            # evaluating fitness\n",
    "            for i in 1:n_particles\n",
    "                parametros = params_reshape(particles[i,:], params)\n",
    "                y_pred = forward_prop(X_treino', parametros)\n",
    "                fitness_value[i] = compute_cost(y_pred, Y_treino')\n",
    "            end\n",
    "\n",
    "            # updating pbest and fitness\n",
    "            for i in 1:n_particles\n",
    "                parametros_pbest = params_reshape(pbest[i, :], params)\n",
    "                y_pred_pbest = forward_prop(X_treino', parametros_pbest)\n",
    "                if fitness_value[i] < compute_cost(y_pred_pbest, Y_treino')\n",
    "                    pbest[i] = particles[i, :]\n",
    "                end\n",
    "            end\n",
    "\n",
    "            # updating gbest \n",
    "            for i in 1:n_particles    \n",
    "                if fitness_value[i] < gbest_value\n",
    "                    gbest_value = fitness_value[i]\n",
    "                    gbest = particles[i,:]   \n",
    "                end\n",
    "            end\n",
    "    \n",
    "            parametros_gbest = params_reshape(gbest, params)\n",
    "            # treino e validacao mse\n",
    "            A2_gbest_tv = forward_prop(X_tv, parametros_gbest)\n",
    "            mse_tv = compute_cost(A2_gbest_tv, Y_tv)\n",
    "            mse_treino[iteracao] = mse_tv\n",
    "            #append!(mse_treino,mse_tv)\n",
    "\n",
    "            # validacao mse\n",
    "            A2_gbest_v = forward_prop(X_val', parametros_gbest)\n",
    "            mse_v = compute_cost(A2_gbest_v, Y_val')\n",
    "            mse_val[iteracao] = mse_v\n",
    "            #append!(mse_val,mse_v)\n",
    "\n",
    "            # teste\n",
    "            A2_gbest_t = forward_prop(X_teste', parametros_gbest)\n",
    "            mse_t = compute_cost(A2_gbest_t, Y_teste')\n",
    "            mse_teste[iteracao] = mse_t\n",
    "            #append!(mse_teste,mse_t)\n",
    "            \n",
    "            iteracao += 1\n",
    "        end\n",
    "    end\n",
    "    return mse_treino, mse_val, mse_teste\n",
    "end"
   ]
  },
  {
   "cell_type": "code",
   "execution_count": 159,
   "metadata": {},
   "outputs": [
    {
     "data": {
      "text/plain": [
       "n_model_pso (generic function with 1 method)"
      ]
     },
     "execution_count": 159,
     "metadata": {},
     "output_type": "execute_result"
    }
   ],
   "source": [
    "function n_model_pso(X, y, n_h::Int64, num_iteracoes::Int64, perc_treino::Float64, perc_val::Float64)\n",
    "    n_in = size(X)[2]\n",
    "    parametros = init_params(n_in, n_h)\n",
    "    \n",
    "#     A2 = forward_prop(X', parametros)\n",
    "\n",
    "#     best_cost = compute_cost(A2, y')\n",
    "    \n",
    "    W1 = parametros[1]\n",
    "    b1 = parametros[2]\n",
    "    W2 = parametros[3]\n",
    "    b2 = parametros[4]\n",
    "    \n",
    "    dim_list = [prod(size(W1)), prod(size(b1)), prod(size(W2)), prod(size(b2))]\n",
    "    \n",
    "    qtd_particulas_dim = convert(Int64,(size(W1)[2] + 1) * size(W1)[1] + (size(W1)[1] + 1)* size(W2)[1])\n",
    "\n",
    "    mse_treino, mse_val, mse_teste = PSO(X, y, parametros, qtd_particulas_dim, dim_list, num_iteracoes, -1.0, 1.0, perc_treino, perc_val)\n",
    "        \n",
    "    return mse_treino, mse_val, mse_teste\n",
    "end"
   ]
  },
  {
   "cell_type": "markdown",
   "metadata": {},
   "source": [
    "### Função para criar os cenários dinâmicos"
   ]
  },
  {
   "cell_type": "code",
   "execution_count": 13,
   "metadata": {},
   "outputs": [
    {
     "data": {
      "text/plain": [
       "cenarios_dinamicos (generic function with 1 method)"
      ]
     },
     "execution_count": 13,
     "metadata": {},
     "output_type": "execute_result"
    }
   ],
   "source": [
    "# janelamento para cenários dinâmicos\n",
    "function cenarios_dinamicos(serie, window_size::Int64, step_size::Int64)\n",
    "    \n",
    "    if ndims(serie) == 1\n",
    "        w = window_size\n",
    "        s = step_size\n",
    "        t = size(serie)[1]\n",
    "\n",
    "        i_max = convert(Int64,floor((t-w)/s))\n",
    "\n",
    "        s_temp = serie[(1*s):((1*s)+w-1)]\n",
    "\n",
    "        cenarios = zeros(0)\n",
    "\n",
    "        append!(cenarios, s_temp)\n",
    "\n",
    "        for i in 2:i_max\n",
    "            s_temp = serie[(i*s):((i*s)+w-1)]\n",
    "            cenarios = hcat(cenarios, s_temp)\n",
    "        end\n",
    "        return cenarios\n",
    "    else\n",
    "        w = window_size\n",
    "        s = step_size\n",
    "        t = size(serie)[1]\n",
    "\n",
    "        i_max = convert(Int64,floor((t-w)/s))\n",
    "\n",
    "        s_temp = serie[(1*s):((1*s)+w-1), :]\n",
    "\n",
    "        cenarios = zeros(w, size(X)[2], i_max)\n",
    "\n",
    "        cenarios[:,:, 1] = s_temp\n",
    "\n",
    "        for i in 2:i_max\n",
    "            s_temp = serie[(i*s):((i*s)+w-1),:]\n",
    "            cenarios[:, :, i] = s_temp\n",
    "        end\n",
    "        return cenarios\n",
    "    end\n",
    "end"
   ]
  },
  {
   "cell_type": "markdown",
   "metadata": {},
   "source": [
    "### Função para executar os cenários dinâmicos"
   ]
  },
  {
   "cell_type": "code",
   "execution_count": 14,
   "metadata": {},
   "outputs": [
    {
     "data": {
      "text/plain": [
       "cenarios_execucoes_pso (generic function with 1 method)"
      ]
     },
     "execution_count": 14,
     "metadata": {},
     "output_type": "execute_result"
    }
   ],
   "source": [
    "# Criando cenários\n",
    "function cenarios_execucoes_pso(X, y, w, s, f::Int64, perc_treino::Float64, perc_val::Float64,qtd_execucoes::Int64)\n",
    "    \n",
    "    # gerando os cenários dinâmicos\n",
    "    X_I = cenarios_dinamicos(X, w, s)\n",
    "    y_I = cenarios_dinamicos(y, w, s)\n",
    " \n",
    "    # calculando a quantidade de iterações\n",
    "    T = f * size(y_I)[2] \n",
    "\n",
    "    println(\"Quantidade de iterações: \", T)\n",
    "    \n",
    "    neuronios = 2:25\n",
    "    \n",
    "    mse_treino = zeros(qtd_execucoes, size(neuronios)[1], size(y_I)[2] * f)\n",
    "    mse_val = zeros(qtd_execucoes, size(neuronios)[1], size(y_I)[2] * f)\n",
    "    mse_teste = zeros(qtd_execucoes, size(neuronios)[1], size(y_I)[2] * f)\n",
    " \n",
    "    execucoes = 1:qtd_execucoes\n",
    "\n",
    "    for execucao in eachindex(execucoes)\n",
    "\n",
    "        println(\"Execução: \", execucao)\n",
    "        \n",
    "        # Neuronios\n",
    "        for (j,z) in zip(neuronios, eachindex(neuronios))\n",
    "            \n",
    "            println(\"Neurônios: \", j)\n",
    "            \n",
    "            mse_treino_lista_temp, mse_val_lista_temp, mse_teste_lista_temp = n_model_pso(X_I, y_I, j, f, perc_treino, perc_val)\n",
    "\n",
    "            # salvar lista com os mse de treino para todas as iterações\n",
    "            mse_treino[execucao, z,:] = mse_treino_lista_temp\n",
    "            # salvar lista com os mse de validacao para todas as iteracoes\n",
    "            mse_val[execucao, z,:] = mse_val_lista_temp\n",
    "            # salvar lista com os mse de teste para todas as iterações\n",
    "            mse_teste[execucao, z,:] = mse_teste_lista_temp\n",
    "\n",
    "        end\n",
    "    end\n",
    "    return mse_treino, mse_val, mse_teste\n",
    "end\n",
    "            "
   ]
  },
  {
   "cell_type": "code",
   "execution_count": 15,
   "metadata": {},
   "outputs": [
    {
     "data": {
      "text/plain": [
       "avaliacao_resultados (generic function with 1 method)"
      ]
     },
     "execution_count": 15,
     "metadata": {},
     "output_type": "execute_result"
    }
   ],
   "source": [
    "function avaliacao_resultados(mse_treino_cenarios, mse_val_cenarios, mse_teste_cenarios, f, quantidade_janelas, execucoes)\n",
    "    \n",
    "    mse_treino = Array{Float64, 2}(undef, execucoes, quantidade_janelas*f)\n",
    "    #zeros(execucoes, quantidade_janelas*f)\n",
    "    mse_teste = Array{Float64, 2}(undef, execucoes, quantidade_janelas*f)\n",
    "    #zeros(execucoes, quantidade_janelas*f)\n",
    "    \n",
    "    for ex in 1:execucoes\n",
    "        id_neuronios = Array{Int64, 1}(undef, quantidade_janelas)\n",
    "        for janela in 1:quantidade_janelas\n",
    "            id_neuronios[janela] = findmin(mse_val_cenarios[ex, :, f*janela])[2]\n",
    "        end\n",
    "        mse_treino[ex, 1:f] = mse_treino_cenarios[ex, id_neuronios[1], 1:f]\n",
    "        mse_teste[ex, 1:f] = mse_teste_cenarios[ex, id_neuronios[1], 1:f]\n",
    "        \n",
    "        for jan in 1:quantidade_janelas\n",
    "            if jan == quantidade_janelas\n",
    "                mse_treino[ex, f*jan-f+1:f*jan] = mse_treino_cenarios[ex, id_neuronios[jan], f*jan-f+1:f*jan]\n",
    "                mse_teste[ex, f*jan-f+1:f*jan] = mse_teste_cenarios[ex, id_neuronios[jan], f*jan-f+1:f*jan]\n",
    "            else\n",
    "                mse_treino[ex, f*jan+1:f*jan+f] = mse_treino_cenarios[ex, id_neuronios[jan], f*jan+1:f*jan+f]\n",
    "                mse_teste[ex, f*jan+1:f*jan+f] = mse_teste_cenarios[ex, id_neuronios[jan], f*jan+1:f*jan+f]\n",
    "            end\n",
    "        end\n",
    "    end\n",
    "        \n",
    "    qtd_iteracoes = size(mse_treino)[2]\n",
    "    \n",
    "    te = sum(mse_treino, dims = 2)./qtd_iteracoes\n",
    "    ge = sum(mse_teste, dims = 2)./qtd_iteracoes\n",
    "\n",
    "    gf = ge./te\n",
    "\n",
    "    te_medio = mean(te)\n",
    "    te_std = std(te)\n",
    "\n",
    "    ge_medio = mean(ge)\n",
    "    ge_std = std(ge)\n",
    "\n",
    "    gf_medio = mean(gf)\n",
    "    gf_std = std(ge)\n",
    "\n",
    "    println(\"Te médio: \", te_medio)\n",
    "    println(\"TE desvio: \", te_std)\n",
    "    println(\"GE medio: \", ge_medio)\n",
    "    println(\"GE desvio: \", ge_std)\n",
    "    println(\"GF medio: \", gf_medio)\n",
    "    println(\"GF desvio: \", gf_std)\n",
    "\n",
    "    resultados = [te_medio, te_std, ge_medio, ge_std, gf_medio, gf_std]\n",
    "\n",
    "    return resultados, mse_treino, mse_teste\n",
    "\n",
    "end  "
   ]
  },
  {
   "cell_type": "code",
   "execution_count": 16,
   "metadata": {},
   "outputs": [],
   "source": [
    "serie_norm = normalizar(sunspot_serie)\n",
    "se = desnormalizar(serie_norm, sunspot_serie);"
   ]
  },
  {
   "cell_type": "markdown",
   "metadata": {},
   "source": [
    "### Função de dividir os dados em X e Y"
   ]
  },
  {
   "cell_type": "code",
   "execution_count": 17,
   "metadata": {},
   "outputs": [],
   "source": [
    "X, y = split_sequence(serie_norm, 10);"
   ]
  },
  {
   "cell_type": "code",
   "execution_count": 16,
   "metadata": {},
   "outputs": [
    {
     "data": {
      "text/plain": [
       "21"
      ]
     },
     "execution_count": 16,
     "metadata": {},
     "output_type": "execute_result"
    }
   ],
   "source": [
    "w = 60\n",
    "s = 10\n",
    "f = 50\n",
    "quantidade_janelas = convert(Int64,floor((size(y)[1] - w)/s))"
   ]
  },
  {
   "cell_type": "markdown",
   "metadata": {},
   "source": [
    "## Teste do PSO para Sunspot - Cenário 1 - 10 neurônios na camada escondida"
   ]
  },
  {
   "cell_type": "code",
   "execution_count": null,
   "metadata": {},
   "outputs": [],
   "source": [
    "mse_treino, mse_val, mse_teste = cenarios_execucoes_pso(X, y, w, s, f, 0.54, 0.24, 3);"
   ]
  },
  {
   "cell_type": "code",
   "execution_count": null,
   "metadata": {},
   "outputs": [],
   "source": [
    "resultados, mse_treino_r, mse_teste_r = avaliacao_resultados(mse_treino, mse_val, mse_teste, f, quantidade_janelas, 3);"
   ]
  },
  {
   "cell_type": "code",
   "execution_count": 96,
   "metadata": {},
   "outputs": [
    {
     "ename": "UndefVarError",
     "evalue": "UndefVarError: mse_treino_r not defined",
     "output_type": "error",
     "traceback": [
      "UndefVarError: mse_treino_r not defined",
      "",
      "Stacktrace:",
      " [1] top-level scope at In[96]:1"
     ]
    }
   ],
   "source": [
    "plot(mse_treino_r[1, :], label = \"Treino\")\n",
    "plot!(mse_teste_r[1,:], label = \"Teste\")"
   ]
  },
  {
   "cell_type": "markdown",
   "metadata": {},
   "source": [
    "## HIT\n",
    "### Hourly internet traffic time series (HIT)\n",
    "\n",
    "* 1657 obs.\n",
    "* hourly \n",
    "* 19 nov 2004 at 9:30 and 27 jan 2005 at 11:11\n",
    "\n",
    "Série horária: 24 inputs\n"
   ]
  },
  {
   "cell_type": "code",
   "execution_count": null,
   "metadata": {},
   "outputs": [],
   "source": [
    "hit = CSV.read(\"dados/internet_traffic.csv\"; delim=\",\")\n",
    "hit = hit[\"valor\"];"
   ]
  },
  {
   "cell_type": "code",
   "execution_count": null,
   "metadata": {},
   "outputs": [],
   "source": [
    "qtd_inputs = 24\n",
    "hit_norm = normalizar(hit)\n",
    "X, y = split_sequence(hit_norm, 24);"
   ]
  },
  {
   "cell_type": "markdown",
   "metadata": {},
   "source": [
    "### Cenário I\n",
    "\n",
    "* w = 584\n",
    "* s = 100\n",
    "* f = 50"
   ]
  },
  {
   "cell_type": "code",
   "execution_count": 105,
   "metadata": {},
   "outputs": [
    {
     "ename": "UndefVarError",
     "evalue": "UndefVarError: hit not defined",
     "output_type": "error",
     "traceback": [
      "UndefVarError: hit not defined",
      "",
      "Stacktrace:",
      " [1] top-level scope at In[105]:4"
     ]
    }
   ],
   "source": [
    "w = 584 # tamanho da janela\n",
    "s = 100 # tamanho do passo\n",
    "f = 50 # quantidade de iterações para a janela\n",
    "T = convert(Int64,floor(f/s*(size(hit)[1]-w)+f))\n",
    "println(T)\n",
    "quantidade_janelas = convert(Int64,floor((size(y)[1] - w)/s))"
   ]
  },
  {
   "cell_type": "code",
   "execution_count": null,
   "metadata": {},
   "outputs": [],
   "source": [
    "hit_mse_treino_1_pso, hit_mse_val_1_pso, hit_mse_teste_1_pso = cenarios_execucoes_pso(X, y, w, s, f, 0.54, 0.24, 3);"
   ]
  },
  {
   "cell_type": "code",
   "execution_count": null,
   "metadata": {},
   "outputs": [],
   "source": [
    "methods(avaliacao_resultados)"
   ]
  },
  {
   "cell_type": "code",
   "execution_count": 114,
   "metadata": {},
   "outputs": [
    {
     "ename": "UndefVarError",
     "evalue": "UndefVarError: hit_mse_treino_1_pso not defined",
     "output_type": "error",
     "traceback": [
      "UndefVarError: hit_mse_treino_1_pso not defined",
      "",
      "Stacktrace:",
      " [1] top-level scope at In[114]:1"
     ]
    }
   ],
   "source": [
    "hit_resultados_1_pso, hit_resultados_mse_treino_1_pso, hit_resultados_mse_teste_1_pso = avaliacao_resultados(hit_mse_treino_1_pso, hit_mse_val_1_pso, hit_mse_teste_1_pso, f, quantidade_janelas, 3)"
   ]
  },
  {
   "cell_type": "code",
   "execution_count": 119,
   "metadata": {},
   "outputs": [],
   "source": [
    "DataFrame(hit_resultados_1_pso')"
   ]
  },
  {
   "cell_type": "code",
   "execution_count": 121,
   "metadata": {},
   "outputs": [
    {
     "ename": "UndefVarError",
     "evalue": "UndefVarError: hit_resultados_1_pso not defined",
     "output_type": "error",
     "traceback": [
      "UndefVarError: hit_resultados_1_pso not defined",
      "",
      "Stacktrace:",
      " [1] top-level scope at In[121]:1"
     ]
    }
   ],
   "source": [
    "CSV.write(\"resultados/hit_resultados_1_pso.csv\", DataFrame(hit_resultados_1_pso'))\n",
    "CSV.write(\"resultados/hit_resultados_mse_treino_1_pso.csv\", DataFrame(hit_resultados_mse_treino_1_pso))\n",
    "CSV.write(\"resultados/hit_resultados_mse_teste_1_pso.csv\", DataFrame(hit_resultados_mse_teste_1_pso))"
   ]
  },
  {
   "cell_type": "markdown",
   "metadata": {},
   "source": [
    "### Cenário 2\n",
    "\n",
    "* w = 584\n",
    "* s = 250\n",
    "* f = 100\n"
   ]
  },
  {
   "cell_type": "code",
   "execution_count": null,
   "metadata": {},
   "outputs": [],
   "source": [
    "w = 584 # tamanho da janela\n",
    "s = 250 # tamanho do passo\n",
    "f = 100 # quantidade de iterações para a janela\n",
    "T = convert(Int64, floor(f/s*(size(hit)[1]-w)+f))\n",
    "print(T)\n",
    "quantidade_janelas = convert(Int64,floor((size(y)[1] - w)/s))"
   ]
  },
  {
   "cell_type": "code",
   "execution_count": null,
   "metadata": {},
   "outputs": [],
   "source": [
    "hit_mse_treino_2_pso, hit_mse_val_2_pso, hit_mse_teste_2_pso = cenarios_execucoes_pso(X, y, w, s, f, 0.54, 0.24, 3);"
   ]
  },
  {
   "cell_type": "code",
   "execution_count": 130,
   "metadata": {},
   "outputs": [
    {
     "ename": "UndefVarError",
     "evalue": "UndefVarError: hit_mse_treino_2_pso not defined",
     "output_type": "error",
     "traceback": [
      "UndefVarError: hit_mse_treino_2_pso not defined",
      "",
      "Stacktrace:",
      " [1] top-level scope at In[130]:1"
     ]
    }
   ],
   "source": [
    "hit_resultados_2_pso, hit_resultados_mse_treino_2_pso, hit_resultados_mse_teste_2_pso = avaliacao_resultados(hit_mse_treino_2_pso, hit_mse_val_2_pso, hit_mse_teste_2_pso, f, quantidade_janelas,3)"
   ]
  },
  {
   "cell_type": "code",
   "execution_count": 135,
   "metadata": {},
   "outputs": [],
   "source": [
    "CSV.write(\"resultados/hit_resultados_2_pso.csv\", DataFrame(hit_resultados_2_pso'))\n",
    "CSV.write(\"resultados/hit_resultados_mse_treino_2_pso.csv\", DataFrame(hit_resultados_mse_treino_2_pso))\n",
    "CSV.write(\"resultados/hit_resultados_mse_teste_2_pso.csv\", DataFrame(hit_resultados_mse_teste_2_pso))"
   ]
  },
  {
   "cell_type": "markdown",
   "metadata": {},
   "source": [
    "### Cenário III\n",
    "\n",
    "* w = 584\n",
    "* s = 500\n",
    "* f = 150\n"
   ]
  },
  {
   "cell_type": "code",
   "execution_count": 137,
   "metadata": {},
   "outputs": [
    {
     "ename": "UndefVarError",
     "evalue": "UndefVarError: hit not defined",
     "output_type": "error",
     "traceback": [
      "UndefVarError: hit not defined",
      "",
      "Stacktrace:",
      " [1] top-level scope at In[137]:4"
     ]
    }
   ],
   "source": [
    "w = 584 # tamanho da janela\n",
    "s = 500 # tamanho do passo\n",
    "f = 150 # quantidade de iterações para a janela\n",
    "T = convert(Int64, floor(f/s*(size(hit)[1]-w)+f))\n",
    "print(T)\n",
    "quantidade_janelas = convert(Int64,floor((size(y)[1] - w)/s))"
   ]
  },
  {
   "cell_type": "code",
   "execution_count": 140,
   "metadata": {},
   "outputs": [
    {
     "ename": "UndefVarError",
     "evalue": "UndefVarError: X not defined",
     "output_type": "error",
     "traceback": [
      "UndefVarError: X not defined",
      "",
      "Stacktrace:",
      " [1] top-level scope at In[140]:1"
     ]
    }
   ],
   "source": [
    "hit_mse_treino_3_pso, hit_mse_val_3_pso, hit_mse_teste_3_pso = cenarios_execucoes_pso(X, y, w, s, f, 0.54, 0.24, 3);"
   ]
  },
  {
   "cell_type": "code",
   "execution_count": null,
   "metadata": {},
   "outputs": [],
   "source": [
    "hit_resultados_3_pso, hit_resultados_mse_treino_3_pso, hit_resultados_mse_teste_3_pso = avaliacao_resultados(hit_mse_treino_3_pso, hit_mse_val_3_pso, hit_mse_teste_3_pso, f, quantidade_janelas, 3)"
   ]
  },
  {
   "cell_type": "code",
   "execution_count": 144,
   "metadata": {},
   "outputs": [
    {
     "ename": "UndefVarError",
     "evalue": "UndefVarError: hit_resultados_3_pso not defined",
     "output_type": "error",
     "traceback": [
      "UndefVarError: hit_resultados_3_pso not defined",
      "",
      "Stacktrace:",
      " [1] top-level scope at In[144]:1"
     ]
    }
   ],
   "source": [
    "CSV.write(\"resultados/hit_resultados_3_pso.csv\", DataFrame(hit_resultados_3_pso'))\n",
    "CSV.write(\"resultados/hit_resultados_mse_treino_3_pso.csv\", DataFrame(hit_resultados_mse_treino_3_pso))\n",
    "CSV.write(\"resultados/hit_resultados_mse_teste_3_pso.csv\", DataFrame(hit_resultados_mse_teste_3_pso))"
   ]
  },
  {
   "cell_type": "markdown",
   "metadata": {},
   "source": [
    "## Cenário IV\n",
    "\n",
    "* w = 584\n",
    "* s = 584\n",
    "* f = 100\n",
    "\n"
   ]
  },
  {
   "cell_type": "code",
   "execution_count": 147,
   "metadata": {},
   "outputs": [
    {
     "ename": "UndefVarError",
     "evalue": "UndefVarError: hit not defined",
     "output_type": "error",
     "traceback": [
      "UndefVarError: hit not defined",
      "",
      "Stacktrace:",
      " [1] top-level scope at In[147]:4"
     ]
    }
   ],
   "source": [
    "w = 584 # tamanho da janela\n",
    "s = 584 # tamanho do passo\n",
    "f = 100 # quantidade de iterações para a janela\n",
    "T = convert(Int64, floor(f/s*(size(hit)[1]-w)+f))\n",
    "print(T)\n",
    "quantidade_janelas = convert(Int64,floor((size(y)[1] - w)/s))"
   ]
  },
  {
   "cell_type": "code",
   "execution_count": null,
   "metadata": {},
   "outputs": [],
   "source": [
    "hit_mse_treino_4, hit_mse_val_4, hit_mse_teste_4 = cenarios_execucoes_pso(X, y, w, s, f, 0.54, 0.24, 3);"
   ]
  },
  {
   "cell_type": "code",
   "execution_count": 151,
   "metadata": {},
   "outputs": [
    {
     "ename": "UndefVarError",
     "evalue": "UndefVarError: hit_mse_treino_4_pso not defined",
     "output_type": "error",
     "traceback": [
      "UndefVarError: hit_mse_treino_4_pso not defined",
      "",
      "Stacktrace:",
      " [1] top-level scope at In[151]:1"
     ]
    }
   ],
   "source": [
    "hit_resultados_4_pso, hit_resultados_mse_treino_4_pso, hit_resultados_mse_teste_4_pso = avaliacao_resultados(hit_mse_treino_4_pso, hit_mse_val_4_pso, hit_mse_teste_4_pso, f, quantidade_janelas, 3)"
   ]
  },
  {
   "cell_type": "code",
   "execution_count": 152,
   "metadata": {},
   "outputs": [
    {
     "ename": "UndefVarError",
     "evalue": "UndefVarError: hit_resultados_4_pso not defined",
     "output_type": "error",
     "traceback": [
      "UndefVarError: hit_resultados_4_pso not defined",
      "",
      "Stacktrace:",
      " [1] top-level scope at In[152]:1"
     ]
    }
   ],
   "source": [
    "CSV.write(\"resultados/hit_resultados_4_pso.csv\", DataFrame(hit_resultados_4_pso'))\n",
    "CSV.write(\"resultados/hit_resultados_mse_treino_4_pso.csv\", DataFrame(hit_resultados_mse_treino_4_pso))\n",
    "CSV.write(\"resultados/hit_resultados_mse_teste_4_pso.csv\", DataFrame(hit_resultados_mse_teste_4_pso))"
   ]
  },
  {
   "cell_type": "markdown",
   "metadata": {},
   "source": [
    "## Testando CQSO"
   ]
  },
  {
   "cell_type": "code",
   "execution_count": 189,
   "metadata": {},
   "outputs": [
    {
     "name": "stderr",
     "output_type": "stream",
     "text": [
      "┌ Warning: `getindex(df::DataFrame, col_ind::ColumnIndex)` is deprecated, use `df[!, col_ind]` instead.\n",
      "│   caller = top-level scope at In[189]:2\n",
      "└ @ Core In[189]:2\n"
     ]
    }
   ],
   "source": [
    "sunspot = CSV.read(\"dados/sunspot.csv\"; delim=\",\")\n",
    "sunspot_serie = sunspot[\"valor\"]\n",
    "serie_norm = normalizar(sunspot_serie)\n",
    "se = desnormalizar(serie_norm, sunspot_serie)\n",
    "X, y = split_sequence(serie_norm, 10);"
   ]
  },
  {
   "cell_type": "code",
   "execution_count": 190,
   "metadata": {},
   "outputs": [
    {
     "data": {
      "text/plain": [
       "21"
      ]
     },
     "execution_count": 190,
     "metadata": {},
     "output_type": "execute_result"
    }
   ],
   "source": [
    "w = 60\n",
    "s = 10\n",
    "f = 50\n",
    "quantidade_janelas = convert(Int64,floor((size(y)[1] - w)/s))"
   ]
  },
  {
   "cell_type": "code",
   "execution_count": 191,
   "metadata": {},
   "outputs": [
    {
     "data": {
      "text/plain": [
       "1×1 Array{Float64,2}:\n",
       " 0.672591484908418"
      ]
     },
     "execution_count": 191,
     "metadata": {},
     "output_type": "execute_result"
    }
   ],
   "source": [
    "parameters = init_params(10, 10)\n",
    "W1 = parameters[1]\n",
    "b1 = parameters[2]\n",
    "W2 = parameters[3]\n",
    "b2 = parameters[4]"
   ]
  },
  {
   "cell_type": "code",
   "execution_count": 192,
   "metadata": {},
   "outputs": [],
   "source": [
    "X_I = cenarios_dinamicos(X, w, s)\n",
    "y_I = cenarios_dinamicos(y, w, s);"
   ]
  },
  {
   "cell_type": "markdown",
   "metadata": {},
   "source": [
    "## CQSO \n"
   ]
  },
  {
   "cell_type": "code",
   "execution_count": 129,
   "metadata": {},
   "outputs": [
    {
     "data": {
      "text/plain": [
       "CQSO (generic function with 1 method)"
      ]
     },
     "execution_count": 129,
     "metadata": {},
     "output_type": "execute_result"
    }
   ],
   "source": [
    "function CQSO(X, y, params, n_particles::Int64, dim, max_iter::Int64, LB::Float64, UB::Float64, perc_treino::Float64, perc_val::Float64, neutral_p::Int64, rcloud::Float64)\n",
    "\n",
    "    n = sum(dim)\n",
    "    println(\"Dimensao: \", n)\n",
    "    a = zeros(Int64, n)\n",
    "\n",
    "    #a = Int64[]\n",
    "\n",
    "    for i in 2:n\n",
    "        if n%i == 0\n",
    "            #push!(a, i)\n",
    "            a[i] = i\n",
    "        end\n",
    "    end\n",
    "\n",
    "    n_sub_swarms = sort(a[a.!=0])[1]\n",
    "\n",
    "    # divide the dimensions per subswarm\n",
    "    num = n\n",
    "    div = n_sub_swarms\n",
    "\n",
    "    dimensions_list = zeros(Int64, div)\n",
    "\n",
    "    for x in 1:div\n",
    "            if x < num % div\n",
    "                dimensions_list[x] = 1 + (num ÷ div)\n",
    "            else\n",
    "                dimensions_list[x] = 0 + (num ÷ div)\n",
    "            end\n",
    "    end\n",
    "\n",
    "    #context_vector = zeros(n_sub_swarms, n_sub_swarms)\n",
    "    context_vector = zeros(n_sub_swarms, n)\n",
    "    \n",
    "    \n",
    "    # Create a multiswarm and his velocities\n",
    "    #multi_swarm_vector = zeros(n_sub_swarms, n_particles, dimensions_list[1])\n",
    "    multi_swarm_vector = zeros(n_sub_swarms, n_particles, n)\n",
    "    #velocity_vector = zeros(n_sub_swarms, n_particles, dimensions_list[1])\n",
    "    velocity_vector = zeros(n_sub_swarms, n_particles, n)\n",
    "    \n",
    "    for i_subswarm in 1:n_sub_swarms\n",
    "        #context_vector[i_subswarm, :] = rand(Uniform(-1.0, 1.0), n_sub_swarms)\n",
    "        context_vector[i_subswarm, :] = rand(Uniform(-1.0, 1.0), n)\n",
    "        for i_particle in 1:n_particles\n",
    "            #multi_swarm_vector[i_subswarm, i_particle,:] = rand(Uniform(-1.0, 1.0), dimensions_list[1])\n",
    "            multi_swarm_vector[i_subswarm, i_particle, :] = rand(Uniform(-1.0, 1.0), n)\n",
    "        end\n",
    "    end\n",
    "\n",
    "    gbest = copy(multi_swarm_vector[1,1,:])\n",
    "    pbest = copy(multi_swarm_vector[1,1,:])\n",
    "\n",
    "    #sub_swarm_pbest = copy(context_vector)\n",
    "    sub_swarm_pbest = copy(context_vector[1,:])\n",
    "    parameters = copy(params)\n",
    "\n",
    "    #parametros = params_reshape(reshape(context_vector, n), parameters)\n",
    "    parametros = params_reshape(sub_swarm_pbest, parameters)\n",
    "    \n",
    "    y_pred = forward_prop(X[:,:,1]', parametros)\n",
    "    gbest_value = compute_cost(y_pred, y[:, 1]')\n",
    "    pbest_value = copy(gbest_value)\n",
    "\n",
    "    parametros_gbest = copy(parametros)\n",
    "\n",
    "    wmax = 0.9\n",
    "    wmin = 0.4\n",
    "    c1 = 1.5\n",
    "    c2 = 1.5\n",
    "\n",
    "    mse_treino = zeros(size(y)[2]*max_iter)\n",
    "    mse_val = zeros(size(y)[2]*max_iter)\n",
    "    mse_teste = zeros(size(y)[2]*max_iter)\n",
    "\n",
    "    it_idx = 1\n",
    "\n",
    "    for janela in 1:size(y)[2]\n",
    "\n",
    "        X_treino, Y_treino, X_teste, Y_teste, X_val, Y_val = divisao_dados_temporais(X[:,:, janela], y[:, janela], perc_treino, perc_val)\n",
    "\n",
    "        X_tv = vcat(X_treino, X_val)'\n",
    "        Y_tv = vcat(Y_treino, Y_val)'\n",
    "\n",
    "        # Iterações\n",
    "        # Para cada sub_swarm em multi_swarm_vector\n",
    "        iteration = 1\n",
    "        while iteration < max_iter\n",
    "\n",
    "            w=wmax-(wmax-wmin)*iteration/max_iter\n",
    "\n",
    "            # for particula in sub_swarm\n",
    "            for i_sub_swarm in 1:n_sub_swarms\n",
    "\n",
    "                for i_particle in 1:n_particles\n",
    "\n",
    "                    # Calcular o fitness \n",
    "                    context_copy = copy(context_vector)\n",
    "                    #conetxt_copy = copy(context_vector[i_sub_swarm,:])\n",
    "\n",
    "                    particle = copy(multi_swarm_vector[i_sub_swarm,i_particle,:])\n",
    "                    context_copy[i_sub_swarm, :] = copy(particle)\n",
    "\n",
    "                    #parameters_temp = params_reshape(reshape(context_copy, n), parameters)\n",
    "                    #parameters_temp = params_reshape(reshape(context_copy[i_sub_swarm,:], n), parameters)\n",
    "                    parameters_temp = params_reshape(context_copy[i_sub_swarm, :], parameters)\n",
    "                    \n",
    "                    A2_part = forward_prop(X_treino', parameters_temp)\n",
    "                    fitness_candidate = compute_cost(A2_part, Y_treino')\n",
    "                    \n",
    "                    if fitness_candidate < pbest_value\n",
    "                    # se o fitness da nova particula for melhor, ela vira o pbest\n",
    "                        pbest = copy(multi_swarm_vector[i_sub_swarm, i_particle, :])\n",
    "                        pbest_value = copy(fitness_candidate)\n",
    "                        sub_swarm_pbest = copy(context_copy[i_sub_swarm, :])\n",
    "\n",
    "                        # feito o pbest devemos atualizar as posições das particulas\n",
    "                    end\n",
    "\n",
    "                    if i_particle <= (neutral_p - 1)  \n",
    "\n",
    "                        # atualiza como PSO vanilla\n",
    "                        new_velocity = (w*velocity_vector[i_sub_swarm, i_particle, :]) .+ \n",
    "                        ((c1 * rand()) * (pbest .- multi_swarm_vector[i_sub_swarm, i_particle, :])) .+\n",
    "                        ((c2 * rand()) * (gbest .- multi_swarm_vector[i_sub_swarm, i_particle, :]))\n",
    "\n",
    "                        new_position = new_velocity .+ multi_swarm_vector[i_sub_swarm, i_particle, :]\n",
    "                        \n",
    "                    else\n",
    "                        # atualiza como QSO\n",
    "                        dist = sqrt(sum((multi_swarm_vector[i_sub_swarm, i_particle, :] .- gbest).^2))\n",
    "                        #normal = rand(Normal(0,1), dimensions_list[i_sub_swarm])\n",
    "                        normal = rand(Normal(0, 1), n)\n",
    "                        #uniform = rand(dimensions_list[i_sub_swarm])\n",
    "                        uniform = rand(n)\n",
    "                        left_size_form = rcloud .* normal\n",
    "                        \n",
    "                        if dist == 0\n",
    "                            break\n",
    "\n",
    "                        end\n",
    "\n",
    "                        right_size_form = (uniform.^(1/dimensions_list[i_sub_swarm])) ./ dist\n",
    "                        new_position = left_size_form .* right_size_form\n",
    "                        \n",
    "                    end\n",
    "                    # check if the positions is LB<x<UB\n",
    "                    for i in eachindex(new_position) \n",
    "                                            \n",
    "                        if new_position[i]<LB \n",
    "                            new_position[i]=LB \n",
    "                        elseif new_position[i]>UB \n",
    "                            new_position[i]=UB \n",
    "                        end\n",
    "                    end \n",
    "                    \n",
    "                    multi_swarm_vector[i_sub_swarm, i_particle, :] = copy(new_position)\n",
    "\n",
    "                end   \n",
    "\n",
    "                if pbest_value < gbest_value\n",
    "                    gbest = copy(pbest)\n",
    "                    gbest_value = copy(pbest_value)\n",
    "                    context_vector[i_sub_swarm, :] = copy(sub_swarm_pbest)\n",
    "                    parametros_gbest = copy(sub_swarm_pbest)\n",
    "                end\n",
    "            end\n",
    "#            parameters_gbest = params_reshape(reshape(context_vector, n), parameters)\n",
    "            #parameters_gbest = params_reshape(context_vector, parameters)    \n",
    "            parameters_gbest = params_reshape(parametros_gbest, parameters)\n",
    "            \n",
    "            A2_gbest_tv = forward_prop(X_tv, parameters_gbest)\n",
    "            mse_tv = compute_cost(A2_gbest_tv, Y_tv)\n",
    "            mse_treino[it_idx] = mse_tv\n",
    "\n",
    "            A2_gbest_v = forward_prop(X_val', parameters_gbest)\n",
    "            mse_v = compute_cost(A2_gbest_v, Y_val')\n",
    "            mse_val[it_idx] = mse_v\n",
    "\n",
    "            A2_gbest_t = forward_prop(X_teste', parameters_gbest)\n",
    "            mse_t = compute_cost(A2_gbest_t, Y_teste')\n",
    "            mse_teste[it_idx] = mse_t\n",
    "\n",
    "            iteration += 1\n",
    "\n",
    "            it_idx += 1\n",
    "                \n",
    "            \n",
    "        end\n",
    "\n",
    "    end\n",
    "    return mse_treino, mse_val, mse_teste   \n",
    "end"
   ]
  },
  {
   "cell_type": "markdown",
   "metadata": {},
   "source": [
    "#### Teste do CQSO para Sunspot - 10 neurônios na camada escondida"
   ]
  },
  {
   "cell_type": "code",
   "execution_count": 184,
   "metadata": {},
   "outputs": [
    {
     "data": {
      "text/plain": [
       "0.2"
      ]
     },
     "execution_count": 184,
     "metadata": {},
     "output_type": "execute_result"
    }
   ],
   "source": [
    "n_h = 10\n",
    "parameters = init_params(10, n_h)\n",
    "qtd_particulas_dim = convert(Int64,(size(parameters[1])[2] + 1) * size(parameters[1])[1] + (size(parameters[1])[1] + 1)* size(parameters[3])[1])\n",
    "dim_list = [prod(size(parameters[1])), prod(size(parameters[2])), prod(size(parameters[3])), prod(size(parameters[4]))]\n",
    "LB = -1.0\n",
    "UB = 1.0\n",
    "perc_treino = 0.54\n",
    "perc_val = 0.24\n",
    "neutral_p = 25\n",
    "rcloud = 0.2"
   ]
  },
  {
   "cell_type": "code",
   "execution_count": 193,
   "metadata": {},
   "outputs": [],
   "source": [
    "Random.seed!(1);"
   ]
  },
  {
   "cell_type": "markdown",
   "metadata": {},
   "source": [
    "#### PSO vs CQSO"
   ]
  },
  {
   "cell_type": "code",
   "execution_count": 194,
   "metadata": {},
   "outputs": [
    {
     "name": "stdout",
     "output_type": "stream",
     "text": [
      " 13.671984 seconds (42.02 M allocations: 7.972 GiB, 5.20% gc time)\n"
     ]
    },
    {
     "data": {
      "text/plain": [
       "([1.6485909776731817, 0.0344991856455898, 0.004659008914591625, 0.0026749306006832205, 0.0026749306006832205, 0.0026749306006832205, 0.0020222522845368815, 0.0018784913724140167, 0.0018784913724140167, 0.0019732017559833544  …  0.00047364699606166895, 0.00047364699606166895, 0.00047364699606166895, 0.00047364699606166895, 0.00047364699606166895, 0.00047364699606166895, 0.00047364699606166895, 0.00047364699606166895, 0.00047364699606166895, 0.00047364699606166895], [1.604156110721183, 0.010881433553030465, 0.0022847890425042087, 0.00195639458312873, 0.00195639458312873, 0.00195639458312873, 0.001027768913882236, 0.001152772121394452, 0.001152772121394452, 0.0016037803079746588  …  0.0010011524086803055, 0.0010011524086803055, 0.0010011524086803055, 0.0010011524086803055, 0.0010011524086803055, 0.0010011524086803055, 0.0010011524086803055, 0.0010011524086803055, 0.0010011524086803055, 0.0010011524086803055], [1.8100932062772488, 0.06995736881316378, 0.004140685813111493, 0.003425975581251944, 0.003425975581251944, 0.003425975581251944, 0.003548481673177344, 0.0032291212737474203, 0.0032291212737474203, 0.0022972888378386277  …  0.0003959923740478801, 0.0003959923740478801, 0.0003959923740478801, 0.0003959923740478801, 0.0003959923740478801, 0.0003959923740478801, 0.0003959923740478801, 0.0003959923740478801, 0.0003959923740478801, 0.0003959923740478801])"
      ]
     },
     "execution_count": 194,
     "metadata": {},
     "output_type": "execute_result"
    }
   ],
   "source": [
    "@time mse_treino_pso, mse_val_pso, mse_teste_pso = PSO(X_I, y_I, parameters, qtd_particulas_dim, dim_list, f, LB, UB, perc_treino, perc_val)"
   ]
  },
  {
   "cell_type": "code",
   "execution_count": 195,
   "metadata": {},
   "outputs": [
    {
     "name": "stdout",
     "output_type": "stream",
     "text": [
      "Dimensao: 289\n",
      "212.518014 seconds (411.30 M allocations: 384.997 GiB, 6.05% gc time)\n"
     ]
    },
    {
     "data": {
      "text/plain": [
       "([0.0005490233345350024, 0.0003472863262243891, 0.00030696254225330604, 0.00030262537763638126, 0.00028678367897750685, 0.0002338311110405023, 0.000200771044684985, 0.0001937223107162819, 0.0001418408781311713, 0.00013254972061928246  …  0.0, 0.0, 0.0, 0.0, 0.0, 0.0, 0.0, 0.0, 0.0, 0.0], [0.00038956487044783204, 0.00024866782665142965, 0.00025914077157730014, 0.00028970056626801305, 0.00027284886193272654, 0.0002212619838869262, 0.00017383364260231083, 0.00016697234625873624, 0.00012406069901773457, 0.00011201184791061098  …  0.0, 0.0, 0.0, 0.0, 0.0, 0.0, 0.0, 0.0, 0.0, 0.0], [0.0015406303286129637, 0.0009455718303998359, 0.0008850932483332617, 0.0006994924990347838, 0.0006600270423678496, 0.0005893162711961211, 0.0005679375348540608, 0.0006072462329486014, 0.0003791061796769564, 0.0003295070038025195  …  0.0, 0.0, 0.0, 0.0, 0.0, 0.0, 0.0, 0.0, 0.0, 0.0])"
      ]
     },
     "execution_count": 195,
     "metadata": {},
     "output_type": "execute_result"
    }
   ],
   "source": [
    "@time mse_treino_cqso, mse_val_cqso, mse_teste_cqso = CQSO(X_I, y_I, parameters, qtd_particulas_dim, dim_list, f, LB, UB, perc_treino, perc_val, neutral_p, rcloud)"
   ]
  },
  {
   "cell_type": "code",
   "execution_count": 196,
   "metadata": {},
   "outputs": [
    {
     "name": "stdout",
     "output_type": "stream",
     "text": [
      "Média mse treino PSO: 0.0018816194259545806\n",
      "Média mse teste PSO: 0.002170768066044199\n",
      "Média mse treino CQSO: 0.00016009018493643413\n",
      "Média mse teste CQSO: 0.00021672807059916143\n"
     ]
    }
   ],
   "source": [
    "println(\"Média mse treino PSO: \", mean(mse_treino_pso))\n",
    "println(\"Média mse teste PSO: \", mean(mse_teste_pso))\n",
    "println(\"Média mse treino CQSO: \", mean(mse_treino_cqso))\n",
    "println(\"Média mse teste CQSO: \", mean(mse_teste_cqso))"
   ]
  },
  {
   "cell_type": "code",
   "execution_count": 197,
   "metadata": {},
   "outputs": [
    {
     "data": {
      "image/svg+xml": [
       "<?xml version=\"1.0\" encoding=\"utf-8\"?>\n",
       "<svg xmlns=\"http://www.w3.org/2000/svg\" xmlns:xlink=\"http://www.w3.org/1999/xlink\" width=\"600\" height=\"400\" viewBox=\"0 0 2400 1600\">\n",
       "<defs>\n",
       "  <clipPath id=\"clip710\">\n",
       "    <rect x=\"0\" y=\"0\" width=\"2400\" height=\"1600\"/>\n",
       "  </clipPath>\n",
       "</defs>\n",
       "<path clip-path=\"url(#clip710)\" d=\"\n",
       "M0 1600 L2400 1600 L2400 0 L0 0  Z\n",
       "  \" fill=\"#ffffff\" fill-rule=\"evenodd\" fill-opacity=\"1\"/>\n",
       "<defs>\n",
       "  <clipPath id=\"clip711\">\n",
       "    <rect x=\"480\" y=\"0\" width=\"1681\" height=\"1600\"/>\n",
       "  </clipPath>\n",
       "</defs>\n",
       "<path clip-path=\"url(#clip710)\" d=\"\n",
       "M255.903 1486.45 L2352.76 1486.45 L2352.76 47.2441 L255.903 47.2441  Z\n",
       "  \" fill=\"#ffffff\" fill-rule=\"evenodd\" fill-opacity=\"1\"/>\n",
       "<defs>\n",
       "  <clipPath id=\"clip712\">\n",
       "    <rect x=\"255\" y=\"47\" width=\"2098\" height=\"1440\"/>\n",
       "  </clipPath>\n",
       "</defs>\n",
       "<polyline clip-path=\"url(#clip712)\" style=\"stroke:#000000; stroke-width:2; stroke-opacity:0.1; fill:none\" points=\"\n",
       "  313.362,1486.45 313.362,47.2441 \n",
       "  \"/>\n",
       "<polyline clip-path=\"url(#clip712)\" style=\"stroke:#000000; stroke-width:2; stroke-opacity:0.1; fill:none\" points=\"\n",
       "  784.803,1486.45 784.803,47.2441 \n",
       "  \"/>\n",
       "<polyline clip-path=\"url(#clip712)\" style=\"stroke:#000000; stroke-width:2; stroke-opacity:0.1; fill:none\" points=\"\n",
       "  1256.24,1486.45 1256.24,47.2441 \n",
       "  \"/>\n",
       "<polyline clip-path=\"url(#clip712)\" style=\"stroke:#000000; stroke-width:2; stroke-opacity:0.1; fill:none\" points=\"\n",
       "  1727.68,1486.45 1727.68,47.2441 \n",
       "  \"/>\n",
       "<polyline clip-path=\"url(#clip712)\" style=\"stroke:#000000; stroke-width:2; stroke-opacity:0.1; fill:none\" points=\"\n",
       "  2199.12,1486.45 2199.12,47.2441 \n",
       "  \"/>\n",
       "<polyline clip-path=\"url(#clip712)\" style=\"stroke:#000000; stroke-width:2; stroke-opacity:0.1; fill:none\" points=\"\n",
       "  255.903,1445.72 2352.76,1445.72 \n",
       "  \"/>\n",
       "<polyline clip-path=\"url(#clip712)\" style=\"stroke:#000000; stroke-width:2; stroke-opacity:0.1; fill:none\" points=\"\n",
       "  255.903,1106.28 2352.76,1106.28 \n",
       "  \"/>\n",
       "<polyline clip-path=\"url(#clip712)\" style=\"stroke:#000000; stroke-width:2; stroke-opacity:0.1; fill:none\" points=\"\n",
       "  255.903,766.846 2352.76,766.846 \n",
       "  \"/>\n",
       "<polyline clip-path=\"url(#clip712)\" style=\"stroke:#000000; stroke-width:2; stroke-opacity:0.1; fill:none\" points=\"\n",
       "  255.903,427.411 2352.76,427.411 \n",
       "  \"/>\n",
       "<polyline clip-path=\"url(#clip712)\" style=\"stroke:#000000; stroke-width:2; stroke-opacity:0.1; fill:none\" points=\"\n",
       "  255.903,87.9763 2352.76,87.9763 \n",
       "  \"/>\n",
       "<polyline clip-path=\"url(#clip710)\" style=\"stroke:#000000; stroke-width:4; stroke-opacity:1; fill:none\" points=\"\n",
       "  255.903,1486.45 2352.76,1486.45 \n",
       "  \"/>\n",
       "<polyline clip-path=\"url(#clip710)\" style=\"stroke:#000000; stroke-width:4; stroke-opacity:1; fill:none\" points=\"\n",
       "  255.903,1486.45 255.903,47.2441 \n",
       "  \"/>\n",
       "<polyline clip-path=\"url(#clip710)\" style=\"stroke:#000000; stroke-width:4; stroke-opacity:1; fill:none\" points=\"\n",
       "  313.362,1486.45 313.362,1469.18 \n",
       "  \"/>\n",
       "<polyline clip-path=\"url(#clip710)\" style=\"stroke:#000000; stroke-width:4; stroke-opacity:1; fill:none\" points=\"\n",
       "  784.803,1486.45 784.803,1469.18 \n",
       "  \"/>\n",
       "<polyline clip-path=\"url(#clip710)\" style=\"stroke:#000000; stroke-width:4; stroke-opacity:1; fill:none\" points=\"\n",
       "  1256.24,1486.45 1256.24,1469.18 \n",
       "  \"/>\n",
       "<polyline clip-path=\"url(#clip710)\" style=\"stroke:#000000; stroke-width:4; stroke-opacity:1; fill:none\" points=\"\n",
       "  1727.68,1486.45 1727.68,1469.18 \n",
       "  \"/>\n",
       "<polyline clip-path=\"url(#clip710)\" style=\"stroke:#000000; stroke-width:4; stroke-opacity:1; fill:none\" points=\"\n",
       "  2199.12,1486.45 2199.12,1469.18 \n",
       "  \"/>\n",
       "<polyline clip-path=\"url(#clip710)\" style=\"stroke:#000000; stroke-width:4; stroke-opacity:1; fill:none\" points=\"\n",
       "  255.903,1445.72 281.065,1445.72 \n",
       "  \"/>\n",
       "<polyline clip-path=\"url(#clip710)\" style=\"stroke:#000000; stroke-width:4; stroke-opacity:1; fill:none\" points=\"\n",
       "  255.903,1106.28 281.065,1106.28 \n",
       "  \"/>\n",
       "<polyline clip-path=\"url(#clip710)\" style=\"stroke:#000000; stroke-width:4; stroke-opacity:1; fill:none\" points=\"\n",
       "  255.903,766.846 281.065,766.846 \n",
       "  \"/>\n",
       "<polyline clip-path=\"url(#clip710)\" style=\"stroke:#000000; stroke-width:4; stroke-opacity:1; fill:none\" points=\"\n",
       "  255.903,427.411 281.065,427.411 \n",
       "  \"/>\n",
       "<polyline clip-path=\"url(#clip710)\" style=\"stroke:#000000; stroke-width:4; stroke-opacity:1; fill:none\" points=\"\n",
       "  255.903,87.9763 281.065,87.9763 \n",
       "  \"/>\n",
       "<path clip-path=\"url(#clip710)\" d=\"M 0 0 M313.362 1508.44 Q309.751 1508.44 307.923 1512 Q306.117 1515.55 306.117 1522.67 Q306.117 1529.78 307.923 1533.35 Q309.751 1536.89 313.362 1536.89 Q316.997 1536.89 318.802 1533.35 Q320.631 1529.78 320.631 1522.67 Q320.631 1515.55 318.802 1512 Q316.997 1508.44 313.362 1508.44 M313.362 1504.73 Q319.173 1504.73 322.228 1509.34 Q325.307 1513.92 325.307 1522.67 Q325.307 1531.4 322.228 1536.01 Q319.173 1540.59 313.362 1540.59 Q307.552 1540.59 304.474 1536.01 Q301.418 1531.4 301.418 1522.67 Q301.418 1513.92 304.474 1509.34 Q307.552 1504.73 313.362 1504.73 Z\" fill=\"#000000\" fill-rule=\"evenodd\" fill-opacity=\"1\" /><path clip-path=\"url(#clip710)\" d=\"M 0 0 M752.939 1535.98 L769.259 1535.98 L769.259 1539.92 L747.314 1539.92 L747.314 1535.98 Q749.976 1533.23 754.56 1528.6 Q759.166 1523.95 760.347 1522.61 Q762.592 1520.08 763.472 1518.35 Q764.374 1516.59 764.374 1514.9 Q764.374 1512.14 762.43 1510.41 Q760.509 1508.67 757.407 1508.67 Q755.208 1508.67 752.754 1509.43 Q750.324 1510.2 747.546 1511.75 L747.546 1507.03 Q750.37 1505.89 752.824 1505.31 Q755.277 1504.73 757.314 1504.73 Q762.685 1504.73 765.879 1507.42 Q769.073 1510.11 769.073 1514.6 Q769.073 1516.73 768.263 1518.65 Q767.476 1520.54 765.37 1523.14 Q764.791 1523.81 761.689 1527.03 Q758.587 1530.22 752.939 1535.98 Z\" fill=\"#000000\" fill-rule=\"evenodd\" fill-opacity=\"1\" /><path clip-path=\"url(#clip710)\" d=\"M 0 0 M774.374 1505.36 L792.731 1505.36 L792.731 1509.3 L778.657 1509.3 L778.657 1517.77 Q779.675 1517.42 780.694 1517.26 Q781.712 1517.07 782.731 1517.07 Q788.518 1517.07 791.897 1520.24 Q795.277 1523.42 795.277 1528.83 Q795.277 1534.41 791.805 1537.51 Q788.333 1540.59 782.013 1540.59 Q779.837 1540.59 777.569 1540.22 Q775.323 1539.85 772.916 1539.11 L772.916 1534.41 Q774.999 1535.54 777.222 1536.1 Q779.444 1536.66 781.921 1536.66 Q785.925 1536.66 788.263 1534.55 Q790.601 1532.44 790.601 1528.83 Q790.601 1525.22 788.263 1523.11 Q785.925 1521.01 781.921 1521.01 Q780.046 1521.01 778.171 1521.42 Q776.319 1521.84 774.374 1522.72 L774.374 1505.36 Z\" fill=\"#000000\" fill-rule=\"evenodd\" fill-opacity=\"1\" /><path clip-path=\"url(#clip710)\" d=\"M 0 0 M810.346 1508.44 Q806.735 1508.44 804.907 1512 Q803.101 1515.55 803.101 1522.67 Q803.101 1529.78 804.907 1533.35 Q806.735 1536.89 810.346 1536.89 Q813.981 1536.89 815.786 1533.35 Q817.615 1529.78 817.615 1522.67 Q817.615 1515.55 815.786 1512 Q813.981 1508.44 810.346 1508.44 M810.346 1504.73 Q816.157 1504.73 819.212 1509.34 Q822.291 1513.92 822.291 1522.67 Q822.291 1531.4 819.212 1536.01 Q816.157 1540.59 810.346 1540.59 Q804.536 1540.59 801.458 1536.01 Q798.402 1531.4 798.402 1522.67 Q798.402 1513.92 801.458 1509.34 Q804.536 1504.73 810.346 1504.73 Z\" fill=\"#000000\" fill-rule=\"evenodd\" fill-opacity=\"1\" /><path clip-path=\"url(#clip710)\" d=\"M 0 0 M1219.51 1505.36 L1237.86 1505.36 L1237.86 1509.3 L1223.79 1509.3 L1223.79 1517.77 Q1224.81 1517.42 1225.83 1517.26 Q1226.84 1517.07 1227.86 1517.07 Q1233.65 1517.07 1237.03 1520.24 Q1240.41 1523.42 1240.41 1528.83 Q1240.41 1534.41 1236.94 1537.51 Q1233.47 1540.59 1227.15 1540.59 Q1224.97 1540.59 1222.7 1540.22 Q1220.46 1539.85 1218.05 1539.11 L1218.05 1534.41 Q1220.13 1535.54 1222.35 1536.1 Q1224.58 1536.66 1227.05 1536.66 Q1231.06 1536.66 1233.4 1534.55 Q1235.73 1532.44 1235.73 1528.83 Q1235.73 1525.22 1233.4 1523.11 Q1231.06 1521.01 1227.05 1521.01 Q1225.18 1521.01 1223.3 1521.42 Q1221.45 1521.84 1219.51 1522.72 L1219.51 1505.36 Z\" fill=\"#000000\" fill-rule=\"evenodd\" fill-opacity=\"1\" /><path clip-path=\"url(#clip710)\" d=\"M 0 0 M1255.48 1508.44 Q1251.87 1508.44 1250.04 1512 Q1248.23 1515.55 1248.23 1522.67 Q1248.23 1529.78 1250.04 1533.35 Q1251.87 1536.89 1255.48 1536.89 Q1259.11 1536.89 1260.92 1533.35 Q1262.75 1529.78 1262.75 1522.67 Q1262.75 1515.55 1260.92 1512 Q1259.11 1508.44 1255.48 1508.44 M1255.48 1504.73 Q1261.29 1504.73 1264.34 1509.34 Q1267.42 1513.92 1267.42 1522.67 Q1267.42 1531.4 1264.34 1536.01 Q1261.29 1540.59 1255.48 1540.59 Q1249.67 1540.59 1246.59 1536.01 Q1243.53 1531.4 1243.53 1522.67 Q1243.53 1513.92 1246.59 1509.34 Q1249.67 1504.73 1255.48 1504.73 Z\" fill=\"#000000\" fill-rule=\"evenodd\" fill-opacity=\"1\" /><path clip-path=\"url(#clip710)\" d=\"M 0 0 M1282.49 1508.44 Q1278.88 1508.44 1277.05 1512 Q1275.25 1515.55 1275.25 1522.67 Q1275.25 1529.78 1277.05 1533.35 Q1278.88 1536.89 1282.49 1536.89 Q1286.13 1536.89 1287.93 1533.35 Q1289.76 1529.78 1289.76 1522.67 Q1289.76 1515.55 1287.93 1512 Q1286.13 1508.44 1282.49 1508.44 M1282.49 1504.73 Q1288.3 1504.73 1291.36 1509.34 Q1294.44 1513.92 1294.44 1522.67 Q1294.44 1531.4 1291.36 1536.01 Q1288.3 1540.59 1282.49 1540.59 Q1276.68 1540.59 1273.6 1536.01 Q1270.55 1531.4 1270.55 1522.67 Q1270.55 1513.92 1273.6 1509.34 Q1276.68 1504.73 1282.49 1504.73 Z\" fill=\"#000000\" fill-rule=\"evenodd\" fill-opacity=\"1\" /><path clip-path=\"url(#clip710)\" d=\"M 0 0 M1690.06 1505.36 L1712.28 1505.36 L1712.28 1507.35 L1699.73 1539.92 L1694.85 1539.92 L1706.65 1509.3 L1690.06 1509.3 L1690.06 1505.36 Z\" fill=\"#000000\" fill-rule=\"evenodd\" fill-opacity=\"1\" /><path clip-path=\"url(#clip710)\" d=\"M 0 0 M1717.39 1505.36 L1735.75 1505.36 L1735.75 1509.3 L1721.68 1509.3 L1721.68 1517.77 Q1722.69 1517.42 1723.71 1517.26 Q1724.73 1517.07 1725.75 1517.07 Q1731.54 1517.07 1734.92 1520.24 Q1738.3 1523.42 1738.3 1528.83 Q1738.3 1534.41 1734.82 1537.51 Q1731.35 1540.59 1725.03 1540.59 Q1722.86 1540.59 1720.59 1540.22 Q1718.34 1539.85 1715.94 1539.11 L1715.94 1534.41 Q1718.02 1535.54 1720.24 1536.1 Q1722.46 1536.66 1724.94 1536.66 Q1728.94 1536.66 1731.28 1534.55 Q1733.62 1532.44 1733.62 1528.83 Q1733.62 1525.22 1731.28 1523.11 Q1728.94 1521.01 1724.94 1521.01 Q1723.06 1521.01 1721.19 1521.42 Q1719.34 1521.84 1717.39 1522.72 L1717.39 1505.36 Z\" fill=\"#000000\" fill-rule=\"evenodd\" fill-opacity=\"1\" /><path clip-path=\"url(#clip710)\" d=\"M 0 0 M1753.37 1508.44 Q1749.75 1508.44 1747.93 1512 Q1746.12 1515.55 1746.12 1522.67 Q1746.12 1529.78 1747.93 1533.35 Q1749.75 1536.89 1753.37 1536.89 Q1757 1536.89 1758.81 1533.35 Q1760.63 1529.78 1760.63 1522.67 Q1760.63 1515.55 1758.81 1512 Q1757 1508.44 1753.37 1508.44 M1753.37 1504.73 Q1759.18 1504.73 1762.23 1509.34 Q1765.31 1513.92 1765.31 1522.67 Q1765.31 1531.4 1762.23 1536.01 Q1759.18 1540.59 1753.37 1540.59 Q1747.56 1540.59 1744.48 1536.01 Q1741.42 1531.4 1741.42 1522.67 Q1741.42 1513.92 1744.48 1509.34 Q1747.56 1504.73 1753.37 1504.73 Z\" fill=\"#000000\" fill-rule=\"evenodd\" fill-opacity=\"1\" /><path clip-path=\"url(#clip710)\" d=\"M 0 0 M2148.98 1535.98 L2156.62 1535.98 L2156.62 1509.62 L2148.31 1511.29 L2148.31 1507.03 L2156.58 1505.36 L2161.25 1505.36 L2161.25 1535.98 L2168.89 1535.98 L2168.89 1539.92 L2148.98 1539.92 L2148.98 1535.98 Z\" fill=\"#000000\" fill-rule=\"evenodd\" fill-opacity=\"1\" /><path clip-path=\"url(#clip710)\" d=\"M 0 0 M2183.96 1508.44 Q2180.35 1508.44 2178.52 1512 Q2176.72 1515.55 2176.72 1522.67 Q2176.72 1529.78 2178.52 1533.35 Q2180.35 1536.89 2183.96 1536.89 Q2187.6 1536.89 2189.4 1533.35 Q2191.23 1529.78 2191.23 1522.67 Q2191.23 1515.55 2189.4 1512 Q2187.6 1508.44 2183.96 1508.44 M2183.96 1504.73 Q2189.77 1504.73 2192.83 1509.34 Q2195.91 1513.92 2195.91 1522.67 Q2195.91 1531.4 2192.83 1536.01 Q2189.77 1540.59 2183.96 1540.59 Q2178.15 1540.59 2175.07 1536.01 Q2172.02 1531.4 2172.02 1522.67 Q2172.02 1513.92 2175.07 1509.34 Q2178.15 1504.73 2183.96 1504.73 Z\" fill=\"#000000\" fill-rule=\"evenodd\" fill-opacity=\"1\" /><path clip-path=\"url(#clip710)\" d=\"M 0 0 M2210.97 1508.44 Q2207.36 1508.44 2205.53 1512 Q2203.73 1515.55 2203.73 1522.67 Q2203.73 1529.78 2205.53 1533.35 Q2207.36 1536.89 2210.97 1536.89 Q2214.61 1536.89 2216.41 1533.35 Q2218.24 1529.78 2218.24 1522.67 Q2218.24 1515.55 2216.41 1512 Q2214.61 1508.44 2210.97 1508.44 M2210.97 1504.73 Q2216.78 1504.73 2219.84 1509.34 Q2222.92 1513.92 2222.92 1522.67 Q2222.92 1531.4 2219.84 1536.01 Q2216.78 1540.59 2210.97 1540.59 Q2205.16 1540.59 2202.09 1536.01 Q2199.03 1531.4 2199.03 1522.67 Q2199.03 1513.92 2202.09 1509.34 Q2205.16 1504.73 2210.97 1504.73 Z\" fill=\"#000000\" fill-rule=\"evenodd\" fill-opacity=\"1\" /><path clip-path=\"url(#clip710)\" d=\"M 0 0 M2237.99 1508.44 Q2234.38 1508.44 2232.55 1512 Q2230.74 1515.55 2230.74 1522.67 Q2230.74 1529.78 2232.55 1533.35 Q2234.38 1536.89 2237.99 1536.89 Q2241.62 1536.89 2243.43 1533.35 Q2245.26 1529.78 2245.26 1522.67 Q2245.26 1515.55 2243.43 1512 Q2241.62 1508.44 2237.99 1508.44 M2237.99 1504.73 Q2243.8 1504.73 2246.85 1509.34 Q2249.93 1513.92 2249.93 1522.67 Q2249.93 1531.4 2246.85 1536.01 Q2243.8 1540.59 2237.99 1540.59 Q2232.18 1540.59 2229.1 1536.01 Q2226.04 1531.4 2226.04 1522.67 Q2226.04 1513.92 2229.1 1509.34 Q2232.18 1504.73 2237.99 1504.73 Z\" fill=\"#000000\" fill-rule=\"evenodd\" fill-opacity=\"1\" /><path clip-path=\"url(#clip710)\" d=\"M 0 0 M74.9365 1431.51 Q71.3254 1431.51 69.4967 1435.08 Q67.6912 1438.62 67.6912 1445.75 Q67.6912 1452.86 69.4967 1456.42 Q71.3254 1459.96 74.9365 1459.96 Q78.5707 1459.96 80.3763 1456.42 Q82.205 1452.86 82.205 1445.75 Q82.205 1438.62 80.3763 1435.08 Q78.5707 1431.51 74.9365 1431.51 M74.9365 1427.81 Q80.7467 1427.81 83.8022 1432.42 Q86.8809 1437 86.8809 1445.75 Q86.8809 1454.48 83.8022 1459.08 Q80.7467 1463.67 74.9365 1463.67 Q69.1264 1463.67 66.0477 1459.08 Q62.9921 1454.48 62.9921 1445.75 Q62.9921 1437 66.0477 1432.42 Q69.1264 1427.81 74.9365 1427.81 Z\" fill=\"#000000\" fill-rule=\"evenodd\" fill-opacity=\"1\" /><path clip-path=\"url(#clip710)\" d=\"M 0 0 M91.9503 1457.12 L96.8345 1457.12 L96.8345 1463 L91.9503 1463 L91.9503 1457.12 Z\" fill=\"#000000\" fill-rule=\"evenodd\" fill-opacity=\"1\" /><path clip-path=\"url(#clip710)\" d=\"M 0 0 M111.904 1431.51 Q108.293 1431.51 106.464 1435.08 Q104.659 1438.62 104.659 1445.75 Q104.659 1452.86 106.464 1456.42 Q108.293 1459.96 111.904 1459.96 Q115.538 1459.96 117.344 1456.42 Q119.172 1452.86 119.172 1445.75 Q119.172 1438.62 117.344 1435.08 Q115.538 1431.51 111.904 1431.51 M111.904 1427.81 Q117.714 1427.81 120.77 1432.42 Q123.848 1437 123.848 1445.75 Q123.848 1454.48 120.77 1459.08 Q117.714 1463.67 111.904 1463.67 Q106.094 1463.67 103.015 1459.08 Q99.9595 1454.48 99.9595 1445.75 Q99.9595 1437 103.015 1432.42 Q106.094 1427.81 111.904 1427.81 Z\" fill=\"#000000\" fill-rule=\"evenodd\" fill-opacity=\"1\" /><path clip-path=\"url(#clip710)\" d=\"M 0 0 M138.918 1431.51 Q135.307 1431.51 133.478 1435.08 Q131.672 1438.62 131.672 1445.75 Q131.672 1452.86 133.478 1456.42 Q135.307 1459.96 138.918 1459.96 Q142.552 1459.96 144.357 1456.42 Q146.186 1452.86 146.186 1445.75 Q146.186 1438.62 144.357 1435.08 Q142.552 1431.51 138.918 1431.51 M138.918 1427.81 Q144.728 1427.81 147.783 1432.42 Q150.862 1437 150.862 1445.75 Q150.862 1454.48 147.783 1459.08 Q144.728 1463.67 138.918 1463.67 Q133.107 1463.67 130.029 1459.08 Q126.973 1454.48 126.973 1445.75 Q126.973 1437 130.029 1432.42 Q133.107 1427.81 138.918 1427.81 Z\" fill=\"#000000\" fill-rule=\"evenodd\" fill-opacity=\"1\" /><path clip-path=\"url(#clip710)\" d=\"M 0 0 M165.931 1431.51 Q162.32 1431.51 160.492 1435.08 Q158.686 1438.62 158.686 1445.75 Q158.686 1452.86 160.492 1456.42 Q162.32 1459.96 165.931 1459.96 Q169.566 1459.96 171.371 1456.42 Q173.2 1452.86 173.2 1445.75 Q173.2 1438.62 171.371 1435.08 Q169.566 1431.51 165.931 1431.51 M165.931 1427.81 Q171.742 1427.81 174.797 1432.42 Q177.876 1437 177.876 1445.75 Q177.876 1454.48 174.797 1459.08 Q171.742 1463.67 165.931 1463.67 Q160.121 1463.67 157.043 1459.08 Q153.987 1454.48 153.987 1445.75 Q153.987 1437 157.043 1432.42 Q160.121 1427.81 165.931 1427.81 Z\" fill=\"#000000\" fill-rule=\"evenodd\" fill-opacity=\"1\" /><path clip-path=\"url(#clip710)\" d=\"M 0 0 M192.945 1431.51 Q189.334 1431.51 187.505 1435.08 Q185.7 1438.62 185.7 1445.75 Q185.7 1452.86 187.505 1456.42 Q189.334 1459.96 192.945 1459.96 Q196.579 1459.96 198.385 1456.42 Q200.214 1452.86 200.214 1445.75 Q200.214 1438.62 198.385 1435.08 Q196.579 1431.51 192.945 1431.51 M192.945 1427.81 Q198.755 1427.81 201.811 1432.42 Q204.89 1437 204.89 1445.75 Q204.89 1454.48 201.811 1459.08 Q198.755 1463.67 192.945 1463.67 Q187.135 1463.67 184.056 1459.08 Q181.001 1454.48 181.001 1445.75 Q181.001 1437 184.056 1432.42 Q187.135 1427.81 192.945 1427.81 Z\" fill=\"#000000\" fill-rule=\"evenodd\" fill-opacity=\"1\" /><path clip-path=\"url(#clip710)\" d=\"M 0 0 M219.959 1431.51 Q216.348 1431.51 214.519 1435.08 Q212.714 1438.62 212.714 1445.75 Q212.714 1452.86 214.519 1456.42 Q216.348 1459.96 219.959 1459.96 Q223.593 1459.96 225.399 1456.42 Q227.227 1452.86 227.227 1445.75 Q227.227 1438.62 225.399 1435.08 Q223.593 1431.51 219.959 1431.51 M219.959 1427.81 Q225.769 1427.81 228.825 1432.42 Q231.903 1437 231.903 1445.75 Q231.903 1454.48 228.825 1459.08 Q225.769 1463.67 219.959 1463.67 Q214.149 1463.67 211.07 1459.08 Q208.014 1454.48 208.014 1445.75 Q208.014 1437 211.07 1432.42 Q214.149 1427.81 219.959 1427.81 Z\" fill=\"#000000\" fill-rule=\"evenodd\" fill-opacity=\"1\" /><path clip-path=\"url(#clip710)\" d=\"M 0 0 M77.5291 1092.08 Q73.918 1092.08 72.0893 1095.64 Q70.2838 1099.19 70.2838 1106.32 Q70.2838 1113.42 72.0893 1116.99 Q73.918 1120.53 77.5291 1120.53 Q81.1633 1120.53 82.9689 1116.99 Q84.7976 1113.42 84.7976 1106.32 Q84.7976 1099.19 82.9689 1095.64 Q81.1633 1092.08 77.5291 1092.08 M77.5291 1088.38 Q83.3392 1088.38 86.3948 1092.98 Q89.4735 1097.57 89.4735 1106.32 Q89.4735 1115.04 86.3948 1119.65 Q83.3392 1124.23 77.5291 1124.23 Q71.7189 1124.23 68.6402 1119.65 Q65.5847 1115.04 65.5847 1106.32 Q65.5847 1097.57 68.6402 1092.98 Q71.7189 1088.38 77.5291 1088.38 Z\" fill=\"#000000\" fill-rule=\"evenodd\" fill-opacity=\"1\" /><path clip-path=\"url(#clip710)\" d=\"M 0 0 M94.5429 1117.68 L99.4271 1117.68 L99.4271 1123.56 L94.5429 1123.56 L94.5429 1117.68 Z\" fill=\"#000000\" fill-rule=\"evenodd\" fill-opacity=\"1\" /><path clip-path=\"url(#clip710)\" d=\"M 0 0 M114.496 1092.08 Q110.885 1092.08 109.057 1095.64 Q107.251 1099.19 107.251 1106.32 Q107.251 1113.42 109.057 1116.99 Q110.885 1120.53 114.496 1120.53 Q118.131 1120.53 119.936 1116.99 Q121.765 1113.42 121.765 1106.32 Q121.765 1099.19 119.936 1095.64 Q118.131 1092.08 114.496 1092.08 M114.496 1088.38 Q120.307 1088.38 123.362 1092.98 Q126.441 1097.57 126.441 1106.32 Q126.441 1115.04 123.362 1119.65 Q120.307 1124.23 114.496 1124.23 Q108.686 1124.23 105.608 1119.65 Q102.552 1115.04 102.552 1106.32 Q102.552 1097.57 105.608 1092.98 Q108.686 1088.38 114.496 1088.38 Z\" fill=\"#000000\" fill-rule=\"evenodd\" fill-opacity=\"1\" /><path clip-path=\"url(#clip710)\" d=\"M 0 0 M141.51 1092.08 Q137.899 1092.08 136.07 1095.64 Q134.265 1099.19 134.265 1106.32 Q134.265 1113.42 136.07 1116.99 Q137.899 1120.53 141.51 1120.53 Q145.144 1120.53 146.95 1116.99 Q148.779 1113.42 148.779 1106.32 Q148.779 1099.19 146.95 1095.64 Q145.144 1092.08 141.51 1092.08 M141.51 1088.38 Q147.32 1088.38 150.376 1092.98 Q153.455 1097.57 153.455 1106.32 Q153.455 1115.04 150.376 1119.65 Q147.32 1124.23 141.51 1124.23 Q135.7 1124.23 132.621 1119.65 Q129.566 1115.04 129.566 1106.32 Q129.566 1097.57 132.621 1092.98 Q135.7 1088.38 141.51 1088.38 Z\" fill=\"#000000\" fill-rule=\"evenodd\" fill-opacity=\"1\" /><path clip-path=\"url(#clip710)\" d=\"M 0 0 M168.524 1092.08 Q164.913 1092.08 163.084 1095.64 Q161.279 1099.19 161.279 1106.32 Q161.279 1113.42 163.084 1116.99 Q164.913 1120.53 168.524 1120.53 Q172.158 1120.53 173.964 1116.99 Q175.792 1113.42 175.792 1106.32 Q175.792 1099.19 173.964 1095.64 Q172.158 1092.08 168.524 1092.08 M168.524 1088.38 Q174.334 1088.38 177.39 1092.98 Q180.468 1097.57 180.468 1106.32 Q180.468 1115.04 177.39 1119.65 Q174.334 1124.23 168.524 1124.23 Q162.714 1124.23 159.635 1119.65 Q156.58 1115.04 156.58 1106.32 Q156.58 1097.57 159.635 1092.98 Q162.714 1088.38 168.524 1088.38 Z\" fill=\"#000000\" fill-rule=\"evenodd\" fill-opacity=\"1\" /><path clip-path=\"url(#clip710)\" d=\"M 0 0 M189.566 1119.63 L205.885 1119.63 L205.885 1123.56 L183.941 1123.56 L183.941 1119.63 Q186.603 1116.87 191.186 1112.24 Q195.792 1107.59 196.973 1106.25 Q199.218 1103.72 200.098 1101.99 Q201.001 1100.23 201.001 1098.54 Q201.001 1095.78 199.056 1094.05 Q197.135 1092.31 194.033 1092.31 Q191.834 1092.31 189.38 1093.07 Q186.95 1093.84 184.172 1095.39 L184.172 1090.67 Q186.996 1089.53 189.45 1088.95 Q191.903 1088.38 193.94 1088.38 Q199.311 1088.38 202.505 1091.06 Q205.7 1093.75 205.7 1098.24 Q205.7 1100.37 204.89 1102.29 Q204.102 1104.19 201.996 1106.78 Q201.417 1107.45 198.315 1110.67 Q195.214 1113.86 189.566 1119.63 Z\" fill=\"#000000\" fill-rule=\"evenodd\" fill-opacity=\"1\" /><path clip-path=\"url(#clip710)\" d=\"M 0 0 M211.001 1089 L229.357 1089 L229.357 1092.94 L215.283 1092.94 L215.283 1101.41 Q216.301 1101.06 217.32 1100.9 Q218.339 1100.71 219.357 1100.71 Q225.144 1100.71 228.524 1103.89 Q231.903 1107.06 231.903 1112.47 Q231.903 1118.05 228.431 1121.15 Q224.959 1124.23 218.639 1124.23 Q216.464 1124.23 214.195 1123.86 Q211.95 1123.49 209.542 1122.75 L209.542 1118.05 Q211.626 1119.19 213.848 1119.74 Q216.07 1120.3 218.547 1120.3 Q222.551 1120.3 224.889 1118.19 Q227.227 1116.08 227.227 1112.47 Q227.227 1108.86 224.889 1106.76 Q222.551 1104.65 218.547 1104.65 Q216.672 1104.65 214.797 1105.07 Q212.945 1105.48 211.001 1106.36 L211.001 1089 Z\" fill=\"#000000\" fill-rule=\"evenodd\" fill-opacity=\"1\" /><path clip-path=\"url(#clip710)\" d=\"M 0 0 M75.9319 752.645 Q72.3208 752.645 70.4921 756.209 Q68.6865 759.751 68.6865 766.881 Q68.6865 773.987 70.4921 777.552 Q72.3208 781.094 75.9319 781.094 Q79.5661 781.094 81.3717 777.552 Q83.2004 773.987 83.2004 766.881 Q83.2004 759.751 81.3717 756.209 Q79.5661 752.645 75.9319 752.645 M75.9319 748.941 Q81.742 748.941 84.7976 753.547 Q87.8763 758.131 87.8763 766.881 Q87.8763 775.608 84.7976 780.214 Q81.742 784.797 75.9319 784.797 Q70.1217 784.797 67.043 780.214 Q63.9875 775.608 63.9875 766.881 Q63.9875 758.131 67.043 753.547 Q70.1217 748.941 75.9319 748.941 Z\" fill=\"#000000\" fill-rule=\"evenodd\" fill-opacity=\"1\" /><path clip-path=\"url(#clip710)\" d=\"M 0 0 M92.9457 778.246 L97.8299 778.246 L97.8299 784.126 L92.9457 784.126 L92.9457 778.246 Z\" fill=\"#000000\" fill-rule=\"evenodd\" fill-opacity=\"1\" /><path clip-path=\"url(#clip710)\" d=\"M 0 0 M112.899 752.645 Q109.288 752.645 107.459 756.209 Q105.654 759.751 105.654 766.881 Q105.654 773.987 107.459 777.552 Q109.288 781.094 112.899 781.094 Q116.534 781.094 118.339 777.552 Q120.168 773.987 120.168 766.881 Q120.168 759.751 118.339 756.209 Q116.534 752.645 112.899 752.645 M112.899 748.941 Q118.709 748.941 121.765 753.547 Q124.844 758.131 124.844 766.881 Q124.844 775.608 121.765 780.214 Q118.709 784.797 112.899 784.797 Q107.089 784.797 104.01 780.214 Q100.955 775.608 100.955 766.881 Q100.955 758.131 104.01 753.547 Q107.089 748.941 112.899 748.941 Z\" fill=\"#000000\" fill-rule=\"evenodd\" fill-opacity=\"1\" /><path clip-path=\"url(#clip710)\" d=\"M 0 0 M139.913 752.645 Q136.302 752.645 134.473 756.209 Q132.668 759.751 132.668 766.881 Q132.668 773.987 134.473 777.552 Q136.302 781.094 139.913 781.094 Q143.547 781.094 145.353 777.552 Q147.181 773.987 147.181 766.881 Q147.181 759.751 145.353 756.209 Q143.547 752.645 139.913 752.645 M139.913 748.941 Q145.723 748.941 148.779 753.547 Q151.857 758.131 151.857 766.881 Q151.857 775.608 148.779 780.214 Q145.723 784.797 139.913 784.797 Q134.103 784.797 131.024 780.214 Q127.969 775.608 127.969 766.881 Q127.969 758.131 131.024 753.547 Q134.103 748.941 139.913 748.941 Z\" fill=\"#000000\" fill-rule=\"evenodd\" fill-opacity=\"1\" /><path clip-path=\"url(#clip710)\" d=\"M 0 0 M166.927 752.645 Q163.316 752.645 161.487 756.209 Q159.681 759.751 159.681 766.881 Q159.681 773.987 161.487 777.552 Q163.316 781.094 166.927 781.094 Q170.561 781.094 172.367 777.552 Q174.195 773.987 174.195 766.881 Q174.195 759.751 172.367 756.209 Q170.561 752.645 166.927 752.645 M166.927 748.941 Q172.737 748.941 175.792 753.547 Q178.871 758.131 178.871 766.881 Q178.871 775.608 175.792 780.214 Q172.737 784.797 166.927 784.797 Q161.117 784.797 158.038 780.214 Q154.982 775.608 154.982 766.881 Q154.982 758.131 158.038 753.547 Q161.117 748.941 166.927 748.941 Z\" fill=\"#000000\" fill-rule=\"evenodd\" fill-opacity=\"1\" /><path clip-path=\"url(#clip710)\" d=\"M 0 0 M183.987 749.566 L202.343 749.566 L202.343 753.501 L188.269 753.501 L188.269 761.973 Q189.288 761.626 190.306 761.464 Q191.325 761.279 192.343 761.279 Q198.13 761.279 201.51 764.45 Q204.89 767.621 204.89 773.038 Q204.89 778.617 201.417 781.719 Q197.945 784.797 191.626 784.797 Q189.45 784.797 187.181 784.427 Q184.936 784.057 182.529 783.316 L182.529 778.617 Q184.612 779.751 186.834 780.307 Q189.056 780.862 191.533 780.862 Q195.538 780.862 197.876 778.756 Q200.214 776.649 200.214 773.038 Q200.214 769.427 197.876 767.321 Q195.538 765.214 191.533 765.214 Q189.658 765.214 187.783 765.631 Q185.931 766.047 183.987 766.927 L183.987 749.566 Z\" fill=\"#000000\" fill-rule=\"evenodd\" fill-opacity=\"1\" /><path clip-path=\"url(#clip710)\" d=\"M 0 0 M219.959 752.645 Q216.348 752.645 214.519 756.209 Q212.714 759.751 212.714 766.881 Q212.714 773.987 214.519 777.552 Q216.348 781.094 219.959 781.094 Q223.593 781.094 225.399 777.552 Q227.227 773.987 227.227 766.881 Q227.227 759.751 225.399 756.209 Q223.593 752.645 219.959 752.645 M219.959 748.941 Q225.769 748.941 228.825 753.547 Q231.903 758.131 231.903 766.881 Q231.903 775.608 228.825 780.214 Q225.769 784.797 219.959 784.797 Q214.149 784.797 211.07 780.214 Q208.014 775.608 208.014 766.881 Q208.014 758.131 211.07 753.547 Q214.149 748.941 219.959 748.941 Z\" fill=\"#000000\" fill-rule=\"evenodd\" fill-opacity=\"1\" /><path clip-path=\"url(#clip710)\" d=\"M 0 0 M76.8346 413.21 Q73.2236 413.21 71.3949 416.775 Q69.5893 420.316 69.5893 427.446 Q69.5893 434.552 71.3949 438.117 Q73.2236 441.659 76.8346 441.659 Q80.4689 441.659 82.2744 438.117 Q84.1031 434.552 84.1031 427.446 Q84.1031 420.316 82.2744 416.775 Q80.4689 413.21 76.8346 413.21 M76.8346 409.506 Q82.6448 409.506 85.7003 414.113 Q88.779 418.696 88.779 427.446 Q88.779 436.173 85.7003 440.779 Q82.6448 445.362 76.8346 445.362 Q71.0245 445.362 67.9458 440.779 Q64.8903 436.173 64.8903 427.446 Q64.8903 418.696 67.9458 414.113 Q71.0245 409.506 76.8346 409.506 Z\" fill=\"#000000\" fill-rule=\"evenodd\" fill-opacity=\"1\" /><path clip-path=\"url(#clip710)\" d=\"M 0 0 M93.8484 438.812 L98.7327 438.812 L98.7327 444.691 L93.8484 444.691 L93.8484 438.812 Z\" fill=\"#000000\" fill-rule=\"evenodd\" fill-opacity=\"1\" /><path clip-path=\"url(#clip710)\" d=\"M 0 0 M113.802 413.21 Q110.191 413.21 108.362 416.775 Q106.557 420.316 106.557 427.446 Q106.557 434.552 108.362 438.117 Q110.191 441.659 113.802 441.659 Q117.436 441.659 119.242 438.117 Q121.071 434.552 121.071 427.446 Q121.071 420.316 119.242 416.775 Q117.436 413.21 113.802 413.21 M113.802 409.506 Q119.612 409.506 122.668 414.113 Q125.746 418.696 125.746 427.446 Q125.746 436.173 122.668 440.779 Q119.612 445.362 113.802 445.362 Q107.992 445.362 104.913 440.779 Q101.858 436.173 101.858 427.446 Q101.858 418.696 104.913 414.113 Q107.992 409.506 113.802 409.506 Z\" fill=\"#000000\" fill-rule=\"evenodd\" fill-opacity=\"1\" /><path clip-path=\"url(#clip710)\" d=\"M 0 0 M140.816 413.21 Q137.205 413.21 135.376 416.775 Q133.57 420.316 133.57 427.446 Q133.57 434.552 135.376 438.117 Q137.205 441.659 140.816 441.659 Q144.45 441.659 146.256 438.117 Q148.084 434.552 148.084 427.446 Q148.084 420.316 146.256 416.775 Q144.45 413.21 140.816 413.21 M140.816 409.506 Q146.626 409.506 149.681 414.113 Q152.76 418.696 152.76 427.446 Q152.76 436.173 149.681 440.779 Q146.626 445.362 140.816 445.362 Q135.006 445.362 131.927 440.779 Q128.871 436.173 128.871 427.446 Q128.871 418.696 131.927 414.113 Q135.006 409.506 140.816 409.506 Z\" fill=\"#000000\" fill-rule=\"evenodd\" fill-opacity=\"1\" /><path clip-path=\"url(#clip710)\" d=\"M 0 0 M167.83 413.21 Q164.218 413.21 162.39 416.775 Q160.584 420.316 160.584 427.446 Q160.584 434.552 162.39 438.117 Q164.218 441.659 167.83 441.659 Q171.464 441.659 173.269 438.117 Q175.098 434.552 175.098 427.446 Q175.098 420.316 173.269 416.775 Q171.464 413.21 167.83 413.21 M167.83 409.506 Q173.64 409.506 176.695 414.113 Q179.774 418.696 179.774 427.446 Q179.774 436.173 176.695 440.779 Q173.64 445.362 167.83 445.362 Q162.019 445.362 158.941 440.779 Q155.885 436.173 155.885 427.446 Q155.885 418.696 158.941 414.113 Q162.019 409.506 167.83 409.506 Z\" fill=\"#000000\" fill-rule=\"evenodd\" fill-opacity=\"1\" /><path clip-path=\"url(#clip710)\" d=\"M 0 0 M183.663 410.131 L205.885 410.131 L205.885 412.122 L193.339 444.691 L188.454 444.691 L200.26 414.066 L183.663 414.066 L183.663 410.131 Z\" fill=\"#000000\" fill-rule=\"evenodd\" fill-opacity=\"1\" /><path clip-path=\"url(#clip710)\" d=\"M 0 0 M211.001 410.131 L229.357 410.131 L229.357 414.066 L215.283 414.066 L215.283 422.538 Q216.301 422.191 217.32 422.029 Q218.339 421.844 219.357 421.844 Q225.144 421.844 228.524 425.015 Q231.903 428.187 231.903 433.603 Q231.903 439.182 228.431 442.284 Q224.959 445.362 218.639 445.362 Q216.464 445.362 214.195 444.992 Q211.95 444.622 209.542 443.881 L209.542 439.182 Q211.626 440.316 213.848 440.872 Q216.07 441.427 218.547 441.427 Q222.551 441.427 224.889 439.321 Q227.227 437.214 227.227 433.603 Q227.227 429.992 224.889 427.886 Q222.551 425.779 218.547 425.779 Q216.672 425.779 214.797 426.196 Q212.945 426.613 211.001 427.492 L211.001 410.131 Z\" fill=\"#000000\" fill-rule=\"evenodd\" fill-opacity=\"1\" /><path clip-path=\"url(#clip710)\" d=\"M 0 0 M76.1634 73.775 Q72.5523 73.775 70.7236 77.3398 Q68.918 80.8814 68.918 88.011 Q68.918 95.1174 70.7236 98.6822 Q72.5523 102.224 76.1634 102.224 Q79.7976 102.224 81.6031 98.6822 Q83.4318 95.1174 83.4318 88.011 Q83.4318 80.8814 81.6031 77.3398 Q79.7976 73.775 76.1634 73.775 M76.1634 70.0713 Q81.9735 70.0713 85.029 74.6777 Q88.1077 79.261 88.1077 88.011 Q88.1077 96.7378 85.029 101.344 Q81.9735 105.928 76.1634 105.928 Q70.3532 105.928 67.2745 101.344 Q64.219 96.7378 64.219 88.011 Q64.219 79.261 67.2745 74.6777 Q70.3532 70.0713 76.1634 70.0713 Z\" fill=\"#000000\" fill-rule=\"evenodd\" fill-opacity=\"1\" /><path clip-path=\"url(#clip710)\" d=\"M 0 0 M93.1771 99.3767 L98.0614 99.3767 L98.0614 105.256 L93.1771 105.256 L93.1771 99.3767 Z\" fill=\"#000000\" fill-rule=\"evenodd\" fill-opacity=\"1\" /><path clip-path=\"url(#clip710)\" d=\"M 0 0 M113.131 73.775 Q109.52 73.775 107.691 77.3398 Q105.885 80.8814 105.885 88.011 Q105.885 95.1174 107.691 98.6822 Q109.52 102.224 113.131 102.224 Q116.765 102.224 118.571 98.6822 Q120.399 95.1174 120.399 88.011 Q120.399 80.8814 118.571 77.3398 Q116.765 73.775 113.131 73.775 M113.131 70.0713 Q118.941 70.0713 121.996 74.6777 Q125.075 79.261 125.075 88.011 Q125.075 96.7378 121.996 101.344 Q118.941 105.928 113.131 105.928 Q107.321 105.928 104.242 101.344 Q101.186 96.7378 101.186 88.011 Q101.186 79.261 104.242 74.6777 Q107.321 70.0713 113.131 70.0713 Z\" fill=\"#000000\" fill-rule=\"evenodd\" fill-opacity=\"1\" /><path clip-path=\"url(#clip710)\" d=\"M 0 0 M140.144 73.775 Q136.533 73.775 134.705 77.3398 Q132.899 80.8814 132.899 88.011 Q132.899 95.1174 134.705 98.6822 Q136.533 102.224 140.144 102.224 Q143.779 102.224 145.584 98.6822 Q147.413 95.1174 147.413 88.011 Q147.413 80.8814 145.584 77.3398 Q143.779 73.775 140.144 73.775 M140.144 70.0713 Q145.955 70.0713 149.01 74.6777 Q152.089 79.261 152.089 88.011 Q152.089 96.7378 149.01 101.344 Q145.955 105.928 140.144 105.928 Q134.334 105.928 131.256 101.344 Q128.2 96.7378 128.2 88.011 Q128.2 79.261 131.256 74.6777 Q134.334 70.0713 140.144 70.0713 Z\" fill=\"#000000\" fill-rule=\"evenodd\" fill-opacity=\"1\" /><path clip-path=\"url(#clip710)\" d=\"M 0 0 M157.968 101.321 L165.607 101.321 L165.607 74.9555 L157.297 76.6222 L157.297 72.3629 L165.561 70.6963 L170.237 70.6963 L170.237 101.321 L177.876 101.321 L177.876 105.256 L157.968 105.256 L157.968 101.321 Z\" fill=\"#000000\" fill-rule=\"evenodd\" fill-opacity=\"1\" /><path clip-path=\"url(#clip710)\" d=\"M 0 0 M192.945 73.775 Q189.334 73.775 187.505 77.3398 Q185.7 80.8814 185.7 88.011 Q185.7 95.1174 187.505 98.6822 Q189.334 102.224 192.945 102.224 Q196.579 102.224 198.385 98.6822 Q200.214 95.1174 200.214 88.011 Q200.214 80.8814 198.385 77.3398 Q196.579 73.775 192.945 73.775 M192.945 70.0713 Q198.755 70.0713 201.811 74.6777 Q204.89 79.261 204.89 88.011 Q204.89 96.7378 201.811 101.344 Q198.755 105.928 192.945 105.928 Q187.135 105.928 184.056 101.344 Q181.001 96.7378 181.001 88.011 Q181.001 79.261 184.056 74.6777 Q187.135 70.0713 192.945 70.0713 Z\" fill=\"#000000\" fill-rule=\"evenodd\" fill-opacity=\"1\" /><path clip-path=\"url(#clip710)\" d=\"M 0 0 M219.959 73.775 Q216.348 73.775 214.519 77.3398 Q212.714 80.8814 212.714 88.011 Q212.714 95.1174 214.519 98.6822 Q216.348 102.224 219.959 102.224 Q223.593 102.224 225.399 98.6822 Q227.227 95.1174 227.227 88.011 Q227.227 80.8814 225.399 77.3398 Q223.593 73.775 219.959 73.775 M219.959 70.0713 Q225.769 70.0713 228.825 74.6777 Q231.903 79.261 231.903 88.011 Q231.903 96.7378 228.825 101.344 Q225.769 105.928 219.959 105.928 Q214.149 105.928 211.07 101.344 Q208.014 96.7378 208.014 88.011 Q208.014 79.261 211.07 74.6777 Q214.149 70.0713 219.959 70.0713 Z\" fill=\"#000000\" fill-rule=\"evenodd\" fill-opacity=\"1\" /><polyline clip-path=\"url(#clip712)\" style=\"stroke:#009af9; stroke-width:4; stroke-opacity:1; fill:none\" points=\"\n",
       "  315.248,-2.23691e+06 317.134,-45395.2 319.02,-4880 320.905,-2186.14 322.791,-2186.14 324.677,-2186.14 326.563,-1299.98 328.448,-1104.79 330.334,-1104.79 332.22,-1233.38 \n",
       "  334.106,-1233.38 335.992,-748.337 337.877,-209.212 339.763,347.267 341.649,347.267 343.535,492.798 345.42,746.577 347.306,746.577 349.192,746.577 351.078,835.711 \n",
       "  352.963,835.711 354.849,835.711 356.735,968.435 358.621,978.443 360.506,1012.88 362.392,1049.88 364.278,1049.88 366.164,1112.88 368.049,1098.79 369.935,1098.79 \n",
       "  371.821,1098.79 373.707,1123.3 375.592,1123.3 377.478,1125.28 379.364,1148.4 381.25,1159.78 383.136,1156.66 385.021,1173.91 386.907,1188.58 388.793,1187.73 \n",
       "  390.679,1193.2 392.564,1199.72 394.45,1204 396.336,1209.66 398.222,1212.57 400.107,1215.81 401.993,1217.21 403.879,1219.03 405.765,1218.76 407.65,1220.92 \n",
       "  409.536,1204.37 411.422,1204.37 413.308,1204.37 415.193,1204.37 417.079,1204.37 418.965,1204.37 420.851,1204.37 422.736,1204.37 424.622,1204.37 426.508,1204.37 \n",
       "  428.394,1204.37 430.28,1204.37 432.165,1204.37 434.051,1204.37 435.937,1204.37 437.823,1204.37 439.708,1204.37 441.594,1204.37 443.48,1204.37 445.366,1204.37 \n",
       "  447.251,1204.37 449.137,1204.37 451.023,1204.37 452.909,1204.37 454.794,1204.37 456.68,1204.37 458.566,1204.37 460.452,1204.37 462.337,1204.37 464.223,1204.37 \n",
       "  466.109,1204.37 467.995,1204.37 469.881,1204.37 471.766,1204.37 473.652,1204.37 475.538,1204.37 477.424,1204.37 479.309,1204.37 481.195,1204.37 483.081,1204.37 \n",
       "  484.967,1204.37 486.852,1204.37 488.738,1204.37 490.624,1204.37 492.51,1204.37 494.395,1204.37 496.281,1204.37 498.167,1204.37 500.053,1204.37 501.938,1204.37 \n",
       "  503.824,1082.3 505.71,1082.3 507.596,1082.3 509.481,1082.3 511.367,1082.3 513.253,1082.3 515.139,1082.3 517.025,1082.3 518.91,1082.3 520.796,1082.3 \n",
       "  522.682,1082.3 524.568,1082.3 526.453,1082.3 528.339,1082.3 530.225,1082.3 532.111,1082.3 533.996,1082.3 535.882,1082.3 537.768,1082.3 539.654,1082.3 \n",
       "  541.539,1082.3 543.425,1082.3 545.311,1082.3 547.197,1082.3 549.082,1082.3 550.968,1082.3 552.854,1082.3 554.74,1082.3 556.626,1082.3 558.511,1082.3 \n",
       "  560.397,1082.3 562.283,1082.3 564.169,1082.3 566.054,1082.3 567.94,1082.3 569.826,1082.3 571.712,1082.3 573.597,1082.3 575.483,1082.3 577.369,1082.3 \n",
       "  579.255,1082.3 581.14,1082.3 583.026,1082.3 584.912,1082.3 586.798,1082.3 588.683,1082.3 590.569,1082.3 592.455,1082.3 594.341,1082.3 596.226,1082.3 \n",
       "  598.112,925.366 599.998,925.366 601.884,925.366 603.77,925.366 605.655,925.366 607.541,925.366 609.427,925.366 611.313,925.366 613.198,925.366 615.084,925.366 \n",
       "  616.97,925.366 618.856,925.366 620.741,925.366 622.627,925.366 624.513,925.366 626.399,925.366 628.284,925.366 630.17,925.366 632.056,925.366 633.942,925.366 \n",
       "  635.827,925.366 637.713,925.366 639.599,925.366 641.485,925.366 643.37,925.366 645.256,925.366 647.142,925.366 649.028,925.366 650.914,925.366 652.799,925.366 \n",
       "  654.685,925.366 656.571,925.366 658.457,925.366 660.342,925.366 662.228,925.366 664.114,925.366 666,925.366 667.885,925.366 669.771,925.366 671.657,925.366 \n",
       "  673.543,925.366 675.428,925.366 677.314,925.366 679.2,925.366 681.086,925.366 682.971,925.366 684.857,925.366 686.743,925.366 688.629,925.366 690.515,925.366 \n",
       "  692.4,824.014 694.286,824.014 696.172,824.014 698.058,824.014 699.943,824.014 701.829,824.014 703.715,824.014 705.601,824.014 707.486,824.014 709.372,824.014 \n",
       "  711.258,824.014 713.144,824.014 715.029,824.014 716.915,824.014 718.801,824.014 720.687,824.014 722.572,824.014 724.458,824.014 726.344,824.014 728.23,824.014 \n",
       "  730.115,824.014 732.001,824.014 733.887,824.014 735.773,824.014 737.659,824.014 739.544,824.014 741.43,824.014 743.316,824.014 745.202,824.014 747.087,824.014 \n",
       "  748.973,824.014 750.859,824.014 752.745,824.014 754.63,824.014 756.516,824.014 758.402,824.014 760.288,824.014 762.173,824.014 764.059,824.014 765.945,824.014 \n",
       "  767.831,824.014 769.716,824.014 771.602,824.014 773.488,824.014 775.374,824.014 777.259,824.014 779.145,824.014 781.031,824.014 782.917,824.014 784.803,824.014 \n",
       "  786.688,831.365 788.574,831.365 790.46,831.365 792.346,831.365 794.231,831.365 796.117,831.365 798.003,831.365 799.889,831.365 801.774,831.365 803.66,831.365 \n",
       "  805.546,831.365 807.432,831.365 809.317,831.365 811.203,831.365 813.089,831.365 814.975,831.365 816.86,831.365 818.746,831.365 820.632,831.365 822.518,831.365 \n",
       "  824.404,831.365 826.289,831.365 828.175,831.365 830.061,831.365 831.947,831.365 833.832,831.365 835.718,831.365 837.604,831.365 839.49,831.365 841.375,831.365 \n",
       "  843.261,831.365 845.147,831.365 847.033,831.365 848.918,831.365 850.804,831.365 852.69,831.365 854.576,831.365 856.461,831.365 858.347,831.365 860.233,831.365 \n",
       "  862.119,831.365 864.004,831.365 865.89,831.365 867.776,831.365 869.662,831.365 871.548,831.365 873.433,831.365 875.319,831.365 877.205,831.365 879.091,831.365 \n",
       "  880.976,944.874 882.862,944.874 884.748,944.874 886.634,944.874 888.519,944.874 890.405,944.874 892.291,944.874 894.177,944.874 896.062,944.874 897.948,944.874 \n",
       "  899.834,944.874 901.72,944.874 903.605,944.874 905.491,944.874 907.377,944.874 909.263,944.874 911.148,944.874 913.034,944.874 914.92,944.874 916.806,944.874 \n",
       "  918.692,944.874 920.577,944.874 922.463,944.874 924.349,944.874 926.235,944.874 928.12,944.874 930.006,944.874 931.892,944.874 933.778,944.874 935.663,944.874 \n",
       "  937.549,944.874 939.435,944.874 941.321,944.874 943.206,944.874 945.092,944.874 946.978,944.874 948.864,944.874 950.749,944.874 952.635,944.874 954.521,944.874 \n",
       "  956.407,944.874 958.293,944.874 960.178,944.874 962.064,944.874 963.95,944.874 965.836,944.874 967.721,944.874 969.607,944.874 971.493,944.874 973.379,944.874 \n",
       "  975.264,1128.29 977.15,1128.29 979.036,1128.29 980.922,1128.29 982.807,1128.29 984.693,1128.29 986.579,1128.29 988.465,1128.29 990.35,1128.29 992.236,1128.29 \n",
       "  994.122,1128.29 996.008,1128.29 997.893,1128.29 999.779,1128.29 1001.67,1128.29 1003.55,1128.29 1005.44,1128.29 1007.32,1128.29 1009.21,1128.29 1011.09,1128.29 \n",
       "  1012.98,1128.29 1014.87,1128.29 1016.75,1128.29 1018.64,1128.29 1020.52,1128.29 1022.41,1128.29 1024.29,1128.29 1026.18,1128.29 1028.07,1128.29 1029.95,1128.29 \n",
       "  1031.84,1128.29 1033.72,1128.29 1035.61,1128.29 1037.49,1128.29 1039.38,1128.29 1041.27,1128.29 1043.15,1128.29 1045.04,1128.29 1046.92,1128.29 1048.81,1128.29 \n",
       "  1050.69,1128.29 1052.58,1128.29 1054.47,1128.29 1056.35,1128.29 1058.24,1128.29 1060.12,1128.29 1062.01,1128.29 1063.9,1128.29 1065.78,1128.29 1067.67,1128.29 \n",
       "  1069.55,1112.33 1071.44,1112.33 1073.32,1112.33 1075.21,1112.33 1077.1,1112.33 1078.98,1112.33 1080.87,1112.33 1082.75,1112.33 1084.64,1112.33 1086.52,1112.33 \n",
       "  1088.41,1112.33 1090.3,1112.33 1092.18,1112.33 1094.07,1112.33 1095.95,1112.33 1097.84,1112.33 1099.72,1112.33 1101.61,1112.33 1103.5,1112.33 1105.38,1112.33 \n",
       "  1107.27,1112.33 1109.15,1112.33 1111.04,1112.33 1112.92,1112.33 1114.81,1112.33 1116.7,1112.33 1118.58,1112.33 1120.47,1112.33 1122.35,1112.33 1124.24,1112.33 \n",
       "  1126.13,1112.33 1128.01,1112.33 1129.9,1112.33 1131.78,1112.33 1133.67,1112.33 1135.55,1112.33 1137.44,1112.33 1139.33,1112.33 1141.21,1112.33 1143.1,1112.33 \n",
       "  1144.98,1112.33 1146.87,1112.33 1148.75,1112.33 1150.64,1112.33 1152.53,1112.33 1154.41,1112.33 1156.3,1112.33 1158.18,1112.33 1160.07,1112.33 1161.95,1112.33 \n",
       "  1163.84,1151.55 1165.73,1151.55 1167.61,1151.55 1169.5,1151.55 1171.38,1151.55 1173.27,1151.55 1175.15,1151.55 1177.04,1151.55 1178.93,1151.55 1180.81,1151.55 \n",
       "  1182.7,1151.55 1184.58,1151.55 1186.47,1151.55 1188.36,1151.55 1190.24,1151.55 1192.13,1151.55 1194.01,1151.55 1195.9,1151.55 1197.78,1151.55 1199.67,1151.55 \n",
       "  1201.56,1151.55 1203.44,1151.55 1205.33,1151.55 1207.21,1151.55 1209.1,1151.55 1210.98,1151.55 1212.87,1151.55 1214.76,1151.55 1216.64,1151.55 1218.53,1151.55 \n",
       "  1220.41,1151.55 1222.3,1151.55 1224.18,1151.55 1226.07,1151.55 1227.96,1151.55 1229.84,1151.55 1231.73,1151.55 1233.61,1151.55 1235.5,1151.55 1237.39,1151.55 \n",
       "  1239.27,1151.55 1241.16,1151.55 1243.04,1151.55 1244.93,1151.55 1246.81,1151.55 1248.7,1151.55 1250.59,1151.55 1252.47,1151.55 1254.36,1151.55 1256.24,1151.55 \n",
       "  1258.13,1207.08 1260.01,1207.08 1261.9,1207.08 1263.79,1207.08 1265.67,1207.08 1267.56,1207.08 1269.44,1207.08 1271.33,1207.08 1273.21,1207.08 1275.1,1207.08 \n",
       "  1276.99,1207.08 1278.87,1207.08 1280.76,1207.08 1282.64,1207.08 1284.53,1207.08 1286.41,1207.08 1288.3,1207.08 1290.19,1207.08 1292.07,1207.08 1293.96,1207.08 \n",
       "  1295.84,1207.08 1297.73,1207.08 1299.62,1207.08 1301.5,1207.08 1303.39,1207.08 1305.27,1207.08 1307.16,1207.08 1309.04,1207.08 1310.93,1207.08 1312.82,1207.08 \n",
       "  1314.7,1207.08 1316.59,1207.08 1318.47,1207.08 1320.36,1207.08 1322.24,1207.08 1324.13,1207.08 1326.02,1207.08 1327.9,1207.08 1329.79,1207.08 1331.67,1207.08 \n",
       "  1333.56,1207.08 1335.44,1207.08 1337.33,1207.08 1339.22,1207.08 1341.1,1207.08 1342.99,1207.08 1344.87,1207.08 1346.76,1207.08 1348.64,1207.08 1350.53,1207.08 \n",
       "  1352.42,1167.22 1354.3,1167.22 1356.19,1167.22 1358.07,1167.22 1359.96,1167.22 1361.85,1167.22 1363.73,1167.22 1365.62,1167.22 1367.5,1167.22 1369.39,1167.22 \n",
       "  1371.27,1167.22 1373.16,1167.22 1375.05,1167.22 1376.93,1167.22 1378.82,1167.22 1380.7,1167.22 1382.59,1167.22 1384.47,1167.22 1386.36,1167.22 1388.25,1167.22 \n",
       "  1390.13,1167.22 1392.02,1167.22 1393.9,1167.22 1395.79,1167.22 1397.67,1167.22 1399.56,1167.22 1401.45,1167.22 1403.33,1167.22 1405.22,1167.22 1407.1,1167.22 \n",
       "  1408.99,1167.22 1410.88,1167.22 1412.76,1167.22 1414.65,1167.22 1416.53,1167.22 1418.42,1167.22 1420.3,1167.22 1422.19,1167.22 1424.08,1167.22 1425.96,1167.22 \n",
       "  1427.85,1167.22 1429.73,1167.22 1431.62,1167.22 1433.5,1167.22 1435.39,1167.22 1437.28,1167.22 1439.16,1167.22 1441.05,1167.22 1442.93,1167.22 1444.82,1167.22 \n",
       "  1446.7,1137.55 1448.59,1137.55 1450.48,1137.55 1452.36,1137.55 1454.25,1137.55 1456.13,1137.55 1458.02,1137.55 1459.9,1137.55 1461.79,1137.55 1463.68,1137.55 \n",
       "  1465.56,1137.55 1467.45,1137.55 1469.33,1137.55 1471.22,1137.55 1473.11,1137.55 1474.99,1137.55 1476.88,1137.55 1478.76,1137.55 1480.65,1137.55 1482.53,1137.55 \n",
       "  1484.42,1137.55 1486.31,1137.55 1488.19,1137.55 1490.08,1137.55 1491.96,1137.55 1493.85,1137.55 1495.73,1137.55 1497.62,1137.55 1499.51,1137.55 1501.39,1137.55 \n",
       "  1503.28,1137.55 1505.16,1137.55 1507.05,1137.55 1508.93,1137.55 1510.82,1137.55 1512.71,1137.55 1514.59,1137.55 1516.48,1137.55 1518.36,1137.55 1520.25,1137.55 \n",
       "  1522.13,1137.55 1524.02,1137.55 1525.91,1137.55 1527.79,1137.55 1529.68,1137.55 1531.56,1137.55 1533.45,1137.55 1535.34,1137.55 1537.22,1137.55 1539.11,1137.55 \n",
       "  1540.99,1193.44 1542.88,1193.44 1544.76,1193.44 1546.65,1193.44 1548.54,1193.44 1550.42,1193.44 1552.31,1193.44 1554.19,1193.44 1556.08,1193.44 1557.96,1193.44 \n",
       "  1559.85,1193.44 1561.74,1193.44 1563.62,1193.44 1565.51,1193.44 1567.39,1193.44 1569.28,1193.44 1571.16,1193.44 1573.05,1193.44 1574.94,1193.44 1576.82,1193.44 \n",
       "  1578.71,1193.44 1580.59,1193.44 1582.48,1193.44 1584.37,1193.44 1586.25,1193.44 1588.14,1193.44 1590.02,1193.44 1591.91,1193.44 1593.79,1193.44 1595.68,1193.44 \n",
       "  1597.57,1193.44 1599.45,1193.44 1601.34,1193.44 1603.22,1193.44 1605.11,1193.44 1606.99,1193.44 1608.88,1193.44 1610.77,1193.44 1612.65,1193.44 1614.54,1193.44 \n",
       "  1616.42,1193.44 1618.31,1193.44 1620.19,1193.44 1622.08,1193.44 1623.97,1193.44 1625.85,1193.44 1627.74,1193.44 1629.62,1193.44 1631.51,1193.44 1633.39,1193.44 \n",
       "  1635.28,1212.2 1637.17,1212.2 1639.05,1212.2 1640.94,1212.2 1642.82,1212.2 1644.71,1212.2 1646.6,1212.2 1648.48,1212.2 1650.37,1212.2 1652.25,1212.2 \n",
       "  1654.14,1212.2 1656.02,1212.2 1657.91,1212.2 1659.8,1212.2 1661.68,1212.2 1663.57,1212.2 1665.45,1212.2 1667.34,1212.2 1669.22,1212.2 1671.11,1212.2 \n",
       "  1673,1212.2 1674.88,1212.2 1676.77,1212.2 1678.65,1212.2 1680.54,1212.2 1682.42,1212.2 1684.31,1212.2 1686.2,1212.2 1688.08,1212.2 1689.97,1212.2 \n",
       "  1691.85,1212.2 1693.74,1212.2 1695.62,1212.2 1697.51,1212.2 1699.4,1212.2 1701.28,1212.2 1703.17,1212.2 1705.05,1212.2 1706.94,1212.2 1708.83,1212.2 \n",
       "  1710.71,1212.2 1712.6,1212.2 1714.48,1212.2 1716.37,1212.2 1718.25,1212.2 1720.14,1212.2 1722.03,1212.2 1723.91,1212.2 1725.8,1212.2 1727.68,1212.2 \n",
       "  1729.57,1196.31 1731.45,1196.31 1733.34,1196.31 1735.23,1196.31 1737.11,1196.31 1739,1196.31 1740.88,1196.31 1742.77,1196.31 1744.65,1196.31 1746.54,1196.31 \n",
       "  1748.43,1196.31 1750.31,1196.31 1752.2,1196.31 1754.08,1196.31 1755.97,1196.31 1757.86,1196.31 1759.74,1196.31 1761.63,1196.31 1763.51,1196.31 1765.4,1196.31 \n",
       "  1767.28,1196.31 1769.17,1196.31 1771.06,1196.31 1772.94,1196.31 1774.83,1196.31 1776.71,1196.31 1778.6,1196.31 1780.48,1196.31 1782.37,1196.31 1784.26,1196.31 \n",
       "  1786.14,1196.31 1788.03,1196.31 1789.91,1196.31 1791.8,1196.31 1793.68,1196.31 1795.57,1196.31 1797.46,1196.31 1799.34,1196.31 1801.23,1196.31 1803.11,1196.31 \n",
       "  1805,1196.31 1806.88,1196.31 1808.77,1196.31 1810.66,1196.31 1812.54,1196.31 1814.43,1196.31 1816.31,1196.31 1818.2,1196.31 1820.09,1196.31 1821.97,1196.31 \n",
       "  1823.86,1225.18 1825.74,1225.18 1827.63,1225.18 1829.51,1225.18 1831.4,1225.18 1833.29,1225.18 1835.17,1225.18 1837.06,1225.18 1838.94,1225.18 1840.83,1225.18 \n",
       "  1842.71,1225.18 1844.6,1225.18 1846.49,1225.18 1848.37,1225.18 1850.26,1225.18 1852.14,1225.18 1854.03,1225.18 1855.91,1225.18 1857.8,1225.18 1859.69,1225.18 \n",
       "  1861.57,1225.18 1863.46,1225.18 1865.34,1225.18 1867.23,1225.18 1869.11,1225.18 1871,1225.18 1872.89,1225.18 1874.77,1225.18 1876.66,1225.18 1878.54,1225.18 \n",
       "  1880.43,1225.18 1882.32,1225.18 1884.2,1225.18 1886.09,1225.18 1887.97,1225.18 1889.86,1225.18 1891.74,1225.18 1893.63,1225.18 1895.52,1225.18 1897.4,1225.18 \n",
       "  1899.29,1225.18 1901.17,1225.18 1903.06,1225.18 1904.94,1225.18 1906.83,1225.18 1908.72,1225.18 1910.6,1225.18 1912.49,1225.18 1914.37,1225.18 1916.26,1225.18 \n",
       "  1918.14,1252.17 1920.03,1252.17 1921.92,1252.17 1923.8,1252.17 1925.69,1252.17 1927.57,1252.17 1929.46,1252.17 1931.34,1252.17 1933.23,1252.17 1935.12,1252.17 \n",
       "  1937,1252.17 1938.89,1252.17 1940.77,1252.17 1942.66,1252.17 1944.55,1252.17 1946.43,1252.17 1948.32,1252.17 1950.2,1252.17 1952.09,1252.17 1953.97,1252.17 \n",
       "  1955.86,1252.17 1957.75,1252.17 1959.63,1252.17 1961.52,1252.17 1963.4,1252.17 1965.29,1252.17 1967.17,1252.17 1969.06,1252.17 1970.95,1252.17 1972.83,1252.17 \n",
       "  1974.72,1252.17 1976.6,1252.17 1978.49,1252.17 1980.37,1252.17 1982.26,1252.17 1984.15,1252.17 1986.03,1252.17 1987.92,1252.17 1989.8,1252.17 1991.69,1252.17 \n",
       "  1993.58,1252.17 1995.46,1252.17 1997.35,1252.17 1999.23,1252.17 2001.12,1252.17 2003,1252.17 2004.89,1252.17 2006.78,1252.17 2008.66,1252.17 2010.55,1252.17 \n",
       "  2012.43,1238.28 2014.32,1238.28 2016.2,1238.28 2018.09,1238.28 2019.98,1238.28 2021.86,1238.28 2023.75,1238.28 2025.63,1238.28 2027.52,1238.28 2029.4,1238.28 \n",
       "  2031.29,1238.28 2033.18,1238.28 2035.06,1238.28 2036.95,1238.28 2038.83,1238.28 2040.72,1238.28 2042.6,1238.28 2044.49,1238.28 2046.38,1238.28 2048.26,1238.28 \n",
       "  2050.15,1238.28 2052.03,1238.28 2053.92,1238.28 2055.81,1238.28 2057.69,1238.28 2059.58,1238.28 2061.46,1238.28 2063.35,1238.28 2065.23,1238.28 2067.12,1238.28 \n",
       "  2069.01,1238.28 2070.89,1238.28 2072.78,1238.28 2074.66,1238.28 2076.55,1238.28 2078.43,1238.28 2080.32,1238.28 2082.21,1238.28 2084.09,1238.28 2085.98,1238.28 \n",
       "  2087.86,1238.28 2089.75,1238.28 2091.63,1238.28 2093.52,1238.28 2095.41,1238.28 2097.29,1238.28 2099.18,1238.28 2101.06,1238.28 2102.95,1238.28 2104.83,1238.28 \n",
       "  2106.72,1129.36 2108.61,1129.36 2110.49,1129.36 2112.38,1129.36 2114.26,1129.36 2116.15,1129.36 2118.04,1129.36 2119.92,1129.36 2121.81,1129.36 2123.69,1129.36 \n",
       "  2125.58,1129.36 2127.46,1129.36 2129.35,1129.36 2131.24,1129.36 2133.12,1129.36 2135.01,1129.36 2136.89,1129.36 2138.78,1129.36 2140.66,1129.36 2142.55,1129.36 \n",
       "  2144.44,1129.36 2146.32,1129.36 2148.21,1129.36 2150.09,1129.36 2151.98,1129.36 2153.86,1129.36 2155.75,1129.36 2157.64,1129.36 2159.52,1129.36 2161.41,1129.36 \n",
       "  2163.29,1129.36 2165.18,1129.36 2167.07,1129.36 2168.95,1129.36 2170.84,1129.36 2172.72,1129.36 2174.61,1129.36 2176.49,1129.36 2178.38,1129.36 2180.27,1129.36 \n",
       "  2182.15,1129.36 2184.04,1129.36 2185.92,1129.36 2187.81,1129.36 2189.69,1129.36 2191.58,1129.36 2193.47,1129.36 2195.35,1129.36 2197.24,1129.36 2199.12,1129.36 \n",
       "  2201.01,802.626 2202.89,802.626 2204.78,802.626 2206.67,802.626 2208.55,802.626 2210.44,802.626 2212.32,802.626 2214.21,802.626 2216.09,802.626 2217.98,802.626 \n",
       "  2219.87,802.626 2221.75,802.626 2223.64,802.626 2225.52,802.626 2227.41,802.626 2229.3,802.626 2231.18,802.626 2233.07,802.626 2234.95,802.626 2236.84,802.626 \n",
       "  2238.72,802.626 2240.61,802.626 2242.5,802.626 2244.38,802.626 2246.27,802.626 2248.15,802.626 2250.04,802.626 2251.92,802.626 2253.81,802.626 2255.7,802.626 \n",
       "  2257.58,802.626 2259.47,802.626 2261.35,802.626 2263.24,802.626 2265.12,802.626 2267.01,802.626 2268.9,802.626 2270.78,802.626 2272.67,802.626 2274.55,802.626 \n",
       "  2276.44,802.626 2278.32,802.626 2280.21,802.626 2282.1,802.626 2283.98,802.626 2285.87,802.626 2287.75,802.626 2289.64,802.626 2291.53,802.626 2293.41,802.626 \n",
       "  \n",
       "  \"/>\n",
       "<polyline clip-path=\"url(#clip712)\" style=\"stroke:#e26f46; stroke-width:4; stroke-opacity:1; fill:none\" points=\"\n",
       "  315.248,700.285 317.134,974.191 319.02,1028.94 320.905,1034.83 322.791,1056.34 324.677,1128.23 326.563,1173.12 328.448,1182.69 330.334,1253.13 332.22,1265.75 \n",
       "  334.106,1268.89 335.992,1274.85 337.877,1288.14 339.763,1299.2 341.649,1306.3 343.535,1320.78 345.42,1322.07 347.306,1324.69 349.192,1327.05 351.078,1329.33 \n",
       "  352.963,1329.34 354.849,1328.56 356.735,1333.54 358.621,1338.29 360.506,1338.52 362.392,1337.59 364.278,1337.92 366.164,1338.92 368.049,1339.98 369.935,1340.6 \n",
       "  371.821,1340.21 373.707,1340.99 375.592,1341.29 377.478,1342.8 379.364,1343.24 381.25,1343.17 383.136,1343.19 385.021,1343.95 386.907,1345.09 388.793,1346.07 \n",
       "  390.679,1346.33 392.564,1346.09 394.45,1345.59 396.336,1345.86 398.222,1345.65 400.107,1345.68 401.993,1346.23 403.879,1345.82 405.765,1345.59 407.65,1324.32 \n",
       "  409.536,1327.39 411.422,1328.88 413.308,1328.31 415.193,1328.48 417.079,1328.39 418.965,1328.46 420.851,1328.55 422.736,1328.86 424.622,1329.68 426.508,1330.15 \n",
       "  428.394,1330.35 430.28,1330.42 432.165,1330.97 434.051,1332.79 435.937,1334.11 437.823,1334.42 439.708,1334.45 441.594,1334.78 443.48,1334.76 445.366,1334.79 \n",
       "  447.251,1334.85 449.137,1335.02 451.023,1335.01 452.909,1335.06 454.794,1335.04 456.68,1335 458.566,1335.06 460.452,1335.03 462.337,1335.04 464.223,1335.04 \n",
       "  466.109,1335.02 467.995,1335 469.881,1334.96 471.766,1334.93 473.652,1334.87 475.538,1334.79 477.424,1334.83 479.309,1334.9 481.195,1335 483.081,1334.75 \n",
       "  484.967,1334.7 486.852,1334.98 488.738,1335.26 490.624,1335.12 492.51,1335.08 494.395,1335.33 496.281,1335.36 498.167,1335.37 500.053,1234.87 501.938,1234.87 \n",
       "  503.824,1234.87 505.71,1234.87 507.596,1234.87 509.481,1234.87 511.367,1234.87 513.253,1234.87 515.139,1234.87 517.025,1234.87 518.91,1234.87 520.796,1234.87 \n",
       "  522.682,1234.87 524.568,1234.87 526.453,1234.87 528.339,1234.87 530.225,1234.87 532.111,1234.87 533.996,1234.87 535.882,1234.87 537.768,1234.87 539.654,1234.87 \n",
       "  541.539,1234.87 543.425,1234.87 545.311,1234.87 547.197,1234.87 549.082,1234.87 550.968,1234.87 552.854,1234.87 554.74,1234.87 556.626,1234.87 558.511,1234.87 \n",
       "  560.397,1234.87 562.283,1234.87 564.169,1234.87 566.054,1234.87 567.94,1234.87 569.826,1234.87 571.712,1234.87 573.597,1234.87 575.483,1234.87 577.369,1234.87 \n",
       "  579.255,1234.87 581.14,1234.87 583.026,1234.87 584.912,1234.87 586.798,1234.87 588.683,1234.87 590.569,1234.87 592.455,1172.02 594.341,1172.02 596.226,1172.02 \n",
       "  598.112,1172.02 599.998,1172.02 601.884,1172.02 603.77,1172.02 605.655,1172.02 607.541,1172.02 609.427,1172.02 611.313,1172.02 613.198,1172.02 615.084,1172.02 \n",
       "  616.97,1172.02 618.856,1172.02 620.741,1172.02 622.627,1172.02 624.513,1172.02 626.399,1172.02 628.284,1172.02 630.17,1172.02 632.056,1172.02 633.942,1172.02 \n",
       "  635.827,1172.02 637.713,1172.02 639.599,1172.02 641.485,1172.02 643.37,1172.02 645.256,1172.02 647.142,1172.02 649.028,1172.02 650.914,1172.02 652.799,1172.02 \n",
       "  654.685,1172.02 656.571,1172.02 658.457,1172.02 660.342,1172.02 662.228,1172.02 664.114,1172.02 666,1172.02 667.885,1172.02 669.771,1172.02 671.657,1172.02 \n",
       "  673.543,1172.02 675.428,1172.02 677.314,1172.02 679.2,1172.02 681.086,1172.02 682.971,1172.02 684.857,1167.71 686.743,1167.71 688.629,1167.71 690.515,1167.71 \n",
       "  692.4,1167.71 694.286,1167.71 696.172,1167.71 698.058,1167.71 699.943,1167.71 701.829,1167.71 703.715,1167.71 705.601,1167.71 707.486,1167.71 709.372,1167.71 \n",
       "  711.258,1167.71 713.144,1167.71 715.029,1167.71 716.915,1167.71 718.801,1167.71 720.687,1167.71 722.572,1167.71 724.458,1167.71 726.344,1167.71 728.23,1167.71 \n",
       "  730.115,1167.71 732.001,1167.71 733.887,1167.71 735.773,1167.71 737.659,1167.71 739.544,1167.71 741.43,1167.71 743.316,1167.71 745.202,1167.71 747.087,1167.71 \n",
       "  748.973,1167.71 750.859,1167.71 752.745,1167.71 754.63,1167.71 756.516,1167.71 758.402,1167.71 760.288,1167.71 762.173,1167.71 764.059,1167.71 765.945,1167.71 \n",
       "  767.831,1167.71 769.716,1167.71 771.602,1167.71 773.488,1167.71 775.374,1167.71 777.259,1167.32 779.145,1167.32 781.031,1167.32 782.917,1167.32 784.803,1167.32 \n",
       "  786.688,1167.32 788.574,1167.32 790.46,1167.32 792.346,1167.32 794.231,1167.32 796.117,1167.32 798.003,1167.32 799.889,1167.32 801.774,1167.32 803.66,1167.32 \n",
       "  805.546,1167.32 807.432,1167.32 809.317,1167.32 811.203,1167.32 813.089,1167.32 814.975,1167.32 816.86,1167.32 818.746,1167.32 820.632,1167.32 822.518,1167.32 \n",
       "  824.404,1167.32 826.289,1167.32 828.175,1167.32 830.061,1167.32 831.947,1167.32 833.832,1167.32 835.718,1167.32 837.604,1167.32 839.49,1167.32 841.375,1167.32 \n",
       "  843.261,1167.32 845.147,1167.32 847.033,1167.32 848.918,1167.32 850.804,1167.32 852.69,1167.32 854.576,1167.32 856.461,1167.32 858.347,1167.32 860.233,1167.32 \n",
       "  862.119,1167.32 864.004,1167.32 865.89,1167.32 867.776,1167.32 869.662,1218.18 871.548,1218.18 873.433,1218.18 875.319,1218.18 877.205,1218.18 879.091,1218.18 \n",
       "  880.976,1218.18 882.862,1218.18 884.748,1218.18 886.634,1218.18 888.519,1218.18 890.405,1218.18 892.291,1218.18 894.177,1218.18 896.062,1218.18 897.948,1218.18 \n",
       "  899.834,1218.18 901.72,1218.18 903.605,1218.18 905.491,1218.18 907.377,1218.18 909.263,1218.18 911.148,1218.18 913.034,1218.18 914.92,1218.18 916.806,1218.18 \n",
       "  918.692,1218.18 920.577,1218.18 922.463,1218.18 924.349,1218.18 926.235,1218.18 928.12,1218.18 930.006,1218.18 931.892,1218.18 933.778,1218.18 935.663,1218.18 \n",
       "  937.549,1218.18 939.435,1218.18 941.321,1218.18 943.206,1218.18 945.092,1218.18 946.978,1218.18 948.864,1218.18 950.749,1218.18 952.635,1218.18 954.521,1218.18 \n",
       "  956.407,1218.18 958.293,1218.18 960.178,1218.18 962.064,1273.76 963.95,1273.76 965.836,1273.76 967.721,1273.76 969.607,1273.76 971.493,1273.76 973.379,1273.76 \n",
       "  975.264,1273.76 977.15,1273.76 979.036,1273.76 980.922,1273.76 982.807,1273.76 984.693,1273.76 986.579,1273.76 988.465,1273.76 990.35,1273.76 992.236,1273.76 \n",
       "  994.122,1273.76 996.008,1273.76 997.893,1273.76 999.779,1273.76 1001.67,1273.76 1003.55,1273.76 1005.44,1273.76 1007.32,1273.76 1009.21,1273.76 1011.09,1273.76 \n",
       "  1012.98,1273.76 1014.87,1273.76 1016.75,1273.76 1018.64,1273.76 1020.52,1273.76 1022.41,1273.76 1024.29,1273.76 1026.18,1273.76 1028.07,1273.76 1029.95,1273.76 \n",
       "  1031.84,1273.76 1033.72,1273.76 1035.61,1273.76 1037.49,1273.76 1039.38,1273.76 1041.27,1273.76 1043.15,1273.76 1045.04,1273.76 1046.92,1273.76 1048.81,1273.76 \n",
       "  1050.69,1273.76 1052.58,1273.76 1054.47,1254.87 1056.35,1254.87 1058.24,1254.87 1060.12,1254.87 1062.01,1254.87 1063.9,1254.87 1065.78,1254.87 1067.67,1254.87 \n",
       "  1069.55,1254.87 1071.44,1254.87 1073.32,1254.87 1075.21,1254.87 1077.1,1254.87 1078.98,1254.87 1080.87,1254.87 1082.75,1254.87 1084.64,1254.87 1086.52,1254.87 \n",
       "  1088.41,1254.87 1090.3,1254.87 1092.18,1254.87 1094.07,1254.87 1095.95,1254.87 1097.84,1254.87 1099.72,1254.87 1101.61,1254.87 1103.5,1254.87 1105.38,1254.87 \n",
       "  1107.27,1254.87 1109.15,1254.87 1111.04,1254.87 1112.92,1254.87 1114.81,1254.87 1116.7,1254.87 1118.58,1254.87 1120.47,1254.87 1122.35,1254.87 1124.24,1254.87 \n",
       "  1126.13,1254.87 1128.01,1254.87 1129.9,1254.87 1131.78,1254.87 1133.67,1254.87 1135.55,1254.87 1137.44,1254.87 1139.33,1254.87 1141.21,1254.87 1143.1,1254.87 \n",
       "  1144.98,1254.87 1146.87,1224.15 1148.75,1224.15 1150.64,1224.15 1152.53,1224.15 1154.41,1224.15 1156.3,1224.15 1158.18,1224.15 1160.07,1224.15 1161.95,1224.15 \n",
       "  1163.84,1224.15 1165.73,1224.15 1167.61,1224.15 1169.5,1224.15 1171.38,1224.15 1173.27,1224.15 1175.15,1224.15 1177.04,1224.15 1178.93,1224.15 1180.81,1224.15 \n",
       "  1182.7,1224.15 1184.58,1224.15 1186.47,1224.15 1188.36,1224.15 1190.24,1224.15 1192.13,1224.15 1194.01,1224.15 1195.9,1224.15 1197.78,1224.15 1199.67,1224.15 \n",
       "  1201.56,1224.15 1203.44,1224.15 1205.33,1224.15 1207.21,1224.15 1209.1,1224.15 1210.98,1224.15 1212.87,1224.15 1214.76,1224.15 1216.64,1224.15 1218.53,1224.15 \n",
       "  1220.41,1224.15 1222.3,1224.15 1224.18,1224.15 1226.07,1224.15 1227.96,1224.15 1229.84,1224.15 1231.73,1224.15 1233.61,1224.15 1235.5,1224.15 1237.39,1224.15 \n",
       "  1239.27,1222.11 1241.16,1222.11 1243.04,1222.11 1244.93,1222.11 1246.81,1222.11 1248.7,1222.11 1250.59,1222.11 1252.47,1222.11 1254.36,1222.11 1256.24,1222.11 \n",
       "  1258.13,1222.11 1260.01,1222.11 1261.9,1222.11 1263.79,1222.11 1265.67,1222.11 1267.56,1222.11 1269.44,1222.11 1271.33,1222.11 1273.21,1222.11 1275.1,1222.11 \n",
       "  1276.99,1222.11 1278.87,1222.11 1280.76,1222.11 1282.64,1222.11 1284.53,1222.11 1286.41,1222.11 1288.3,1222.11 1290.19,1222.11 1292.07,1222.11 1293.96,1222.11 \n",
       "  1295.84,1222.11 1297.73,1222.11 1299.62,1222.11 1301.5,1222.11 1303.39,1222.11 1305.27,1222.11 1307.16,1222.11 1309.04,1222.11 1310.93,1222.11 1312.82,1222.11 \n",
       "  1314.7,1222.11 1316.59,1222.11 1318.47,1222.11 1320.36,1222.11 1322.24,1222.11 1324.13,1222.11 1326.02,1222.11 1327.9,1222.11 1329.79,1222.11 1331.67,1160.42 \n",
       "  1333.56,1160.42 1335.44,1160.42 1337.33,1160.42 1339.22,1160.42 1341.1,1160.42 1342.99,1160.42 1344.87,1160.42 1346.76,1160.42 1348.64,1160.42 1350.53,1160.42 \n",
       "  1352.42,1160.42 1354.3,1160.42 1356.19,1160.42 1358.07,1160.42 1359.96,1160.42 1361.85,1160.42 1363.73,1160.42 1365.62,1160.42 1367.5,1160.42 1369.39,1160.42 \n",
       "  1371.27,1160.42 1373.16,1160.42 1375.05,1160.42 1376.93,1160.42 1378.82,1160.42 1380.7,1160.42 1382.59,1160.42 1384.47,1160.42 1386.36,1160.42 1388.25,1160.42 \n",
       "  1390.13,1160.42 1392.02,1160.42 1393.9,1160.42 1395.79,1160.42 1397.67,1160.42 1399.56,1160.42 1401.45,1160.42 1403.33,1160.42 1405.22,1160.42 1407.1,1160.42 \n",
       "  1408.99,1160.42 1410.88,1160.42 1412.76,1160.42 1414.65,1160.42 1416.53,1160.42 1418.42,1160.42 1420.3,1160.42 1422.19,1160.42 1424.08,1162.98 1425.96,1162.98 \n",
       "  1427.85,1162.98 1429.73,1162.98 1431.62,1162.98 1433.5,1162.98 1435.39,1162.98 1437.28,1162.98 1439.16,1162.98 1441.05,1162.98 1442.93,1162.98 1444.82,1162.98 \n",
       "  1446.7,1162.98 1448.59,1162.98 1450.48,1162.98 1452.36,1162.98 1454.25,1162.98 1456.13,1162.98 1458.02,1162.98 1459.9,1162.98 1461.79,1162.98 1463.68,1162.98 \n",
       "  1465.56,1162.98 1467.45,1162.98 1469.33,1162.98 1471.22,1162.98 1473.11,1162.98 1474.99,1162.98 1476.88,1162.98 1478.76,1162.98 1480.65,1162.98 1482.53,1162.98 \n",
       "  1484.42,1162.98 1486.31,1162.98 1488.19,1162.98 1490.08,1162.98 1491.96,1162.98 1493.85,1162.98 1495.73,1162.98 1497.62,1162.98 1499.51,1162.98 1501.39,1162.98 \n",
       "  1503.28,1162.98 1505.16,1162.98 1507.05,1162.98 1508.93,1162.98 1510.82,1162.98 1512.71,1162.98 1514.59,1162.98 1516.48,1203.84 1518.36,1203.84 1520.25,1203.84 \n",
       "  1522.13,1203.84 1524.02,1203.84 1525.91,1203.84 1527.79,1203.84 1529.68,1203.84 1531.56,1203.84 1533.45,1203.84 1535.34,1203.84 1537.22,1203.84 1539.11,1203.84 \n",
       "  1540.99,1203.84 1542.88,1203.84 1544.76,1203.84 1546.65,1203.84 1548.54,1203.84 1550.42,1203.84 1552.31,1203.84 1554.19,1203.84 1556.08,1203.84 1557.96,1203.84 \n",
       "  1559.85,1203.84 1561.74,1203.84 1563.62,1203.84 1565.51,1203.84 1567.39,1203.84 1569.28,1203.84 1571.16,1203.84 1573.05,1203.84 1574.94,1203.84 1576.82,1203.84 \n",
       "  1578.71,1203.84 1580.59,1203.84 1582.48,1203.84 1584.37,1203.84 1586.25,1203.84 1588.14,1203.84 1590.02,1203.84 1591.91,1203.84 1593.79,1203.84 1595.68,1203.84 \n",
       "  1597.57,1203.84 1599.45,1203.84 1601.34,1203.84 1603.22,1203.84 1605.11,1203.84 1606.99,1203.84 1608.88,1218.87 1610.77,1218.87 1612.65,1218.87 1614.54,1218.87 \n",
       "  1616.42,1218.87 1618.31,1218.87 1620.19,1218.87 1622.08,1218.87 1623.97,1218.87 1625.85,1218.87 1627.74,1218.87 1629.62,1218.87 1631.51,1218.87 1633.39,1218.87 \n",
       "  1635.28,1218.87 1637.17,1218.87 1639.05,1218.87 1640.94,1218.87 1642.82,1218.87 1644.71,1218.87 1646.6,1218.87 1648.48,1218.87 1650.37,1218.87 1652.25,1218.87 \n",
       "  1654.14,1218.87 1656.02,1218.87 1657.91,1218.87 1659.8,1218.87 1661.68,1218.87 1663.57,1218.87 1665.45,1218.87 1667.34,1218.87 1669.22,1218.87 1671.11,1218.87 \n",
       "  1673,1218.87 1674.88,1218.87 1676.77,1218.87 1678.65,1218.87 1680.54,1218.87 1682.42,1218.87 1684.31,1218.87 1686.2,1218.87 1688.08,1218.87 1689.97,1218.87 \n",
       "  1691.85,1218.87 1693.74,1218.87 1695.62,1218.87 1697.51,1218.87 1699.4,1218.87 1701.28,1216.68 1703.17,1216.68 1705.05,1216.68 1706.94,1216.68 1708.83,1216.68 \n",
       "  1710.71,1216.68 1712.6,1216.68 1714.48,1216.68 1716.37,1216.68 1718.25,1216.68 1720.14,1216.68 1722.03,1216.68 1723.91,1216.68 1725.8,1216.68 1727.68,1216.68 \n",
       "  1729.57,1216.68 1731.45,1216.68 1733.34,1216.68 1735.23,1216.68 1737.11,1216.68 1739,1216.68 1740.88,1216.68 1742.77,1216.68 1744.65,1216.68 1746.54,1216.68 \n",
       "  1748.43,1216.68 1750.31,1216.68 1752.2,1216.68 1754.08,1216.68 1755.97,1216.68 1757.86,1216.68 1759.74,1216.68 1761.63,1216.68 1763.51,1216.68 1765.4,1216.68 \n",
       "  1767.28,1216.68 1769.17,1216.68 1771.06,1216.68 1772.94,1216.68 1774.83,1216.68 1776.71,1216.68 1778.6,1216.68 1780.48,1216.68 1782.37,1216.68 1784.26,1216.68 \n",
       "  1786.14,1216.68 1788.03,1216.68 1789.91,1216.68 1791.8,1216.68 1793.68,1298.51 1795.57,1298.51 1797.46,1298.51 1799.34,1298.51 1801.23,1298.51 1803.11,1298.51 \n",
       "  1805,1298.51 1806.88,1298.51 1808.77,1298.51 1810.66,1298.51 1812.54,1298.51 1814.43,1298.51 1816.31,1298.51 1818.2,1298.51 1820.09,1298.51 1821.97,1298.51 \n",
       "  1823.86,1298.51 1825.74,1298.51 1827.63,1298.51 1829.51,1298.51 1831.4,1298.51 1833.29,1298.51 1835.17,1298.51 1837.06,1298.51 1838.94,1298.51 1840.83,1298.51 \n",
       "  1842.71,1298.51 1844.6,1298.51 1846.49,1298.51 1848.37,1298.51 1850.26,1298.51 1852.14,1298.51 1854.03,1298.51 1855.91,1298.51 1857.8,1298.51 1859.69,1298.51 \n",
       "  1861.57,1298.51 1863.46,1298.51 1865.34,1298.51 1867.23,1298.51 1869.11,1298.51 1871,1298.51 1872.89,1298.51 1874.77,1298.51 1876.66,1298.51 1878.54,1298.51 \n",
       "  1880.43,1298.51 1882.32,1298.51 1884.2,1298.51 1886.09,1312.55 1887.97,1312.55 1889.86,1312.55 1891.74,1312.55 1893.63,1312.55 1895.52,1312.55 1897.4,1312.55 \n",
       "  1899.29,1312.55 1901.17,1312.55 1903.06,1312.55 1904.94,1312.55 1906.83,1312.55 1908.72,1312.55 1910.6,1312.55 1912.49,1312.55 1914.37,1312.55 1916.26,1312.55 \n",
       "  1918.14,1312.55 1920.03,1312.55 1921.92,1312.55 1923.8,1312.55 1925.69,1312.55 1927.57,1312.55 1929.46,1312.55 1931.34,1312.55 1933.23,1312.55 1935.12,1312.55 \n",
       "  1937,1312.55 1938.89,1312.55 1940.77,1312.55 1942.66,1312.55 1944.55,1312.55 1946.43,1312.55 1948.32,1312.55 1950.2,1312.55 1952.09,1312.55 1953.97,1312.55 \n",
       "  1955.86,1312.55 1957.75,1312.55 1959.63,1312.55 1961.52,1312.55 1963.4,1312.55 1965.29,1312.55 1967.17,1312.55 1969.06,1312.55 1970.95,1312.55 1972.83,1312.55 \n",
       "  1974.72,1312.55 1976.6,1312.55 1978.49,1315.58 1980.37,1315.58 1982.26,1315.58 1984.15,1315.58 1986.03,1315.58 1987.92,1315.58 1989.8,1315.58 1991.69,1315.58 \n",
       "  1993.58,1315.58 1995.46,1315.58 1997.35,1315.58 1999.23,1315.58 2001.12,1315.58 2003,1315.58 2004.89,1315.58 2006.78,1315.58 2008.66,1315.58 2010.55,1315.58 \n",
       "  2012.43,1315.58 2014.32,1315.58 2016.2,1315.58 2018.09,1315.58 2019.98,1315.58 2021.86,1315.58 2023.75,1315.58 2025.63,1315.58 2027.52,1315.58 2029.4,1315.58 \n",
       "  2031.29,1315.58 2033.18,1315.58 2035.06,1315.58 2036.95,1315.58 2038.83,1315.58 2040.72,1315.58 2042.6,1315.58 2044.49,1315.58 2046.38,1315.58 2048.26,1315.58 \n",
       "  2050.15,1315.58 2052.03,1315.58 2053.92,1315.58 2055.81,1315.58 2057.69,1315.58 2059.58,1315.58 2061.46,1315.58 2063.35,1315.58 2065.23,1315.58 2067.12,1315.58 \n",
       "  2069.01,1315.58 2070.89,1216.7 2072.78,1216.7 2074.66,1216.7 2076.55,1216.7 2078.43,1216.7 2080.32,1216.7 2082.21,1216.7 2084.09,1216.7 2085.98,1216.7 \n",
       "  2087.86,1216.7 2089.75,1216.7 2091.63,1216.7 2093.52,1216.7 2095.41,1216.7 2097.29,1216.7 2099.18,1216.7 2101.06,1216.7 2102.95,1216.7 2104.83,1216.7 \n",
       "  2106.72,1216.7 2108.61,1216.7 2110.49,1216.7 2112.38,1216.7 2114.26,1216.7 2116.15,1216.7 2118.04,1216.7 2119.92,1216.7 2121.81,1216.7 2123.69,1216.7 \n",
       "  2125.58,1216.7 2127.46,1216.7 2129.35,1216.7 2131.24,1216.7 2133.12,1216.7 2135.01,1216.7 2136.89,1216.7 2138.78,1216.7 2140.66,1216.7 2142.55,1216.7 \n",
       "  2144.44,1216.7 2146.32,1216.7 2148.21,1216.7 2150.09,1216.7 2151.98,1216.7 2153.86,1216.7 2155.75,1216.7 2157.64,1216.7 2159.52,1216.7 2161.41,1216.7 \n",
       "  2163.29,1047.12 2165.18,1047.12 2167.07,1047.12 2168.95,1047.12 2170.84,1047.12 2172.72,1047.12 2174.61,1047.12 2176.49,1047.12 2178.38,1047.12 2180.27,1047.12 \n",
       "  2182.15,1047.12 2184.04,1047.12 2185.92,1047.12 2187.81,1047.12 2189.69,1047.12 2191.58,1047.12 2193.47,1047.12 2195.35,1047.12 2197.24,1047.12 2199.12,1047.12 \n",
       "  2201.01,1047.12 2202.89,1047.12 2204.78,1047.12 2206.67,1047.12 2208.55,1047.12 2210.44,1047.12 2212.32,1047.12 2214.21,1047.12 2216.09,1047.12 2217.98,1047.12 \n",
       "  2219.87,1047.12 2221.75,1047.12 2223.64,1047.12 2225.52,1047.12 2227.41,1047.12 2229.3,1047.12 2231.18,1047.12 2233.07,1047.12 2234.95,1047.12 2236.84,1047.12 \n",
       "  2238.72,1047.12 2240.61,1047.12 2242.5,1047.12 2244.38,1047.12 2246.27,1047.12 2248.15,1047.12 2250.04,1047.12 2251.92,1047.12 2253.81,1047.12 2255.7,1445.72 \n",
       "  2257.58,1445.72 2259.47,1445.72 2261.35,1445.72 2263.24,1445.72 2265.12,1445.72 2267.01,1445.72 2268.9,1445.72 2270.78,1445.72 2272.67,1445.72 2274.55,1445.72 \n",
       "  2276.44,1445.72 2278.32,1445.72 2280.21,1445.72 2282.1,1445.72 2283.98,1445.72 2285.87,1445.72 2287.75,1445.72 2289.64,1445.72 2291.53,1445.72 2293.41,1445.72 \n",
       "  \n",
       "  \"/>\n",
       "<path clip-path=\"url(#clip710)\" d=\"\n",
       "M1785.09 276.658 L2282.86 276.658 L2282.86 95.2176 L1785.09 95.2176  Z\n",
       "  \" fill=\"#ffffff\" fill-rule=\"evenodd\" fill-opacity=\"1\"/>\n",
       "<polyline clip-path=\"url(#clip710)\" style=\"stroke:#000000; stroke-width:4; stroke-opacity:1; fill:none\" points=\"\n",
       "  1785.09,276.658 2282.86,276.658 2282.86,95.2176 1785.09,95.2176 1785.09,276.658 \n",
       "  \"/>\n",
       "<polyline clip-path=\"url(#clip710)\" style=\"stroke:#009af9; stroke-width:4; stroke-opacity:1; fill:none\" points=\"\n",
       "  1808.39,155.698 1948.18,155.698 \n",
       "  \"/>\n",
       "<path clip-path=\"url(#clip710)\" d=\"M 0 0 M1978.88 139.691 L1978.88 147.052 L1987.65 147.052 L1987.65 150.362 L1978.88 150.362 L1978.88 164.436 Q1978.88 167.607 1979.74 168.51 Q1980.62 169.413 1983.28 169.413 L1987.65 169.413 L1987.65 172.978 L1983.28 172.978 Q1978.35 172.978 1976.47 171.149 Q1974.6 169.297 1974.6 164.436 L1974.6 150.362 L1971.47 150.362 L1971.47 147.052 L1974.6 147.052 L1974.6 139.691 L1978.88 139.691 Z\" fill=\"#000000\" fill-rule=\"evenodd\" fill-opacity=\"1\" /><path clip-path=\"url(#clip710)\" d=\"M 0 0 M2007.14 151.033 Q2006.43 150.617 2005.57 150.431 Q2004.74 150.223 2003.72 150.223 Q2000.11 150.223 1998.16 152.584 Q1996.24 154.922 1996.24 159.32 L1996.24 172.978 L1991.96 172.978 L1991.96 147.052 L1996.24 147.052 L1996.24 151.08 Q1997.58 148.718 1999.74 147.584 Q2001.89 146.427 2004.97 146.427 Q2005.41 146.427 2005.94 146.496 Q2006.47 146.543 2007.12 146.658 L2007.14 151.033 Z\" fill=\"#000000\" fill-rule=\"evenodd\" fill-opacity=\"1\" /><path clip-path=\"url(#clip710)\" d=\"M 0 0 M2032.75 158.95 L2032.75 161.033 L2013.16 161.033 Q2013.44 165.431 2015.8 167.746 Q2018.19 170.038 2022.42 170.038 Q2024.88 170.038 2027.17 169.436 Q2029.48 168.834 2031.75 167.63 L2031.75 171.658 Q2029.46 172.63 2027.05 173.14 Q2024.64 173.649 2022.17 173.649 Q2015.96 173.649 2012.33 170.038 Q2008.72 166.427 2008.72 160.269 Q2008.72 153.904 2012.14 150.177 Q2015.59 146.427 2021.43 146.427 Q2026.66 146.427 2029.69 149.806 Q2032.75 153.163 2032.75 158.95 M2028.49 157.7 Q2028.44 154.205 2026.52 152.121 Q2024.62 150.038 2021.47 150.038 Q2017.91 150.038 2015.76 152.052 Q2013.63 154.066 2013.3 157.723 L2028.49 157.7 Z\" fill=\"#000000\" fill-rule=\"evenodd\" fill-opacity=\"1\" /><path clip-path=\"url(#clip710)\" d=\"M 0 0 M2037.21 147.052 L2041.47 147.052 L2041.47 172.978 L2037.21 172.978 L2037.21 147.052 M2037.21 136.959 L2041.47 136.959 L2041.47 142.353 L2037.21 142.353 L2037.21 136.959 Z\" fill=\"#000000\" fill-rule=\"evenodd\" fill-opacity=\"1\" /><path clip-path=\"url(#clip710)\" d=\"M 0 0 M2067.49 157.329 L2067.49 172.978 L2063.23 172.978 L2063.23 157.468 Q2063.23 153.788 2061.8 151.959 Q2060.36 150.13 2057.49 150.13 Q2054.04 150.13 2052.05 152.33 Q2050.06 154.529 2050.06 158.325 L2050.06 172.978 L2045.78 172.978 L2045.78 147.052 L2050.06 147.052 L2050.06 151.08 Q2051.59 148.742 2053.65 147.584 Q2055.73 146.427 2058.44 146.427 Q2062.91 146.427 2065.2 149.205 Q2067.49 151.959 2067.49 157.329 Z\" fill=\"#000000\" fill-rule=\"evenodd\" fill-opacity=\"1\" /><path clip-path=\"url(#clip710)\" d=\"M 0 0 M2082.01 150.038 Q2078.58 150.038 2076.59 152.723 Q2074.6 155.385 2074.6 160.038 Q2074.6 164.691 2076.57 167.376 Q2078.56 170.038 2082.01 170.038 Q2085.41 170.038 2087.4 167.353 Q2089.39 164.667 2089.39 160.038 Q2089.39 155.431 2087.4 152.746 Q2085.41 150.038 2082.01 150.038 M2082.01 146.427 Q2087.56 146.427 2090.73 150.038 Q2093.9 153.649 2093.9 160.038 Q2093.9 166.404 2090.73 170.038 Q2087.56 173.649 2082.01 173.649 Q2076.43 173.649 2073.26 170.038 Q2070.11 166.404 2070.11 160.038 Q2070.11 153.649 2073.26 150.038 Q2076.43 146.427 2082.01 146.427 Z\" fill=\"#000000\" fill-rule=\"evenodd\" fill-opacity=\"1\" /><path clip-path=\"url(#clip710)\" d=\"M 0 0 M2118.3 142.26 L2118.3 155.246 L2124.18 155.246 Q2127.45 155.246 2129.23 153.556 Q2131.01 151.867 2131.01 148.742 Q2131.01 145.64 2129.23 143.95 Q2127.45 142.26 2124.18 142.26 L2118.3 142.26 M2113.63 138.418 L2124.18 138.418 Q2129.99 138.418 2132.95 141.056 Q2135.94 143.672 2135.94 148.742 Q2135.94 153.857 2132.95 156.473 Q2129.99 159.089 2124.18 159.089 L2118.3 159.089 L2118.3 172.978 L2113.63 172.978 L2113.63 138.418 Z\" fill=\"#000000\" fill-rule=\"evenodd\" fill-opacity=\"1\" /><path clip-path=\"url(#clip710)\" d=\"M 0 0 M2161.31 139.552 L2161.31 144.112 Q2158.65 142.839 2156.29 142.214 Q2153.93 141.589 2151.73 141.589 Q2147.91 141.589 2145.82 143.07 Q2143.76 144.552 2143.76 147.283 Q2143.76 149.575 2145.13 150.755 Q2146.52 151.913 2150.36 152.63 L2153.19 153.209 Q2158.42 154.205 2160.89 156.728 Q2163.39 159.228 2163.39 163.441 Q2163.39 168.464 2160.01 171.056 Q2156.66 173.649 2150.15 173.649 Q2147.7 173.649 2144.92 173.093 Q2142.17 172.538 2139.2 171.45 L2139.2 166.635 Q2142.05 168.232 2144.78 169.042 Q2147.51 169.853 2150.15 169.853 Q2154.16 169.853 2156.33 168.279 Q2158.51 166.704 2158.51 163.788 Q2158.51 161.242 2156.94 159.806 Q2155.38 158.371 2151.82 157.654 L2148.97 157.098 Q2143.74 156.056 2141.4 153.834 Q2139.07 151.612 2139.07 147.654 Q2139.07 143.07 2142.28 140.431 Q2145.52 137.793 2151.2 137.793 Q2153.63 137.793 2156.15 138.232 Q2158.67 138.672 2161.31 139.552 Z\" fill=\"#000000\" fill-rule=\"evenodd\" fill-opacity=\"1\" /><path clip-path=\"url(#clip710)\" d=\"M 0 0 M2182.07 141.589 Q2176.98 141.589 2173.97 145.385 Q2170.99 149.181 2170.99 155.732 Q2170.99 162.26 2173.97 166.056 Q2176.98 169.853 2182.07 169.853 Q2187.17 169.853 2190.13 166.056 Q2193.12 162.26 2193.12 155.732 Q2193.12 149.181 2190.13 145.385 Q2187.17 141.589 2182.07 141.589 M2182.07 137.793 Q2189.34 137.793 2193.69 142.677 Q2198.05 147.538 2198.05 155.732 Q2198.05 163.904 2193.69 168.788 Q2189.34 173.649 2182.07 173.649 Q2174.78 173.649 2170.41 168.788 Q2166.06 163.927 2166.06 155.732 Q2166.06 147.538 2170.41 142.677 Q2174.78 137.793 2182.07 137.793 Z\" fill=\"#000000\" fill-rule=\"evenodd\" fill-opacity=\"1\" /><polyline clip-path=\"url(#clip710)\" style=\"stroke:#e26f46; stroke-width:4; stroke-opacity:1; fill:none\" points=\"\n",
       "  1808.39,216.178 1948.18,216.178 \n",
       "  \"/>\n",
       "<path clip-path=\"url(#clip710)\" d=\"M 0 0 M1978.88 200.171 L1978.88 207.532 L1987.65 207.532 L1987.65 210.842 L1978.88 210.842 L1978.88 224.916 Q1978.88 228.087 1979.74 228.99 Q1980.62 229.893 1983.28 229.893 L1987.65 229.893 L1987.65 233.458 L1983.28 233.458 Q1978.35 233.458 1976.47 231.629 Q1974.6 229.777 1974.6 224.916 L1974.6 210.842 L1971.47 210.842 L1971.47 207.532 L1974.6 207.532 L1974.6 200.171 L1978.88 200.171 Z\" fill=\"#000000\" fill-rule=\"evenodd\" fill-opacity=\"1\" /><path clip-path=\"url(#clip710)\" d=\"M 0 0 M2007.14 211.513 Q2006.43 211.097 2005.57 210.911 Q2004.74 210.703 2003.72 210.703 Q2000.11 210.703 1998.16 213.064 Q1996.24 215.402 1996.24 219.8 L1996.24 233.458 L1991.96 233.458 L1991.96 207.532 L1996.24 207.532 L1996.24 211.56 Q1997.58 209.198 1999.74 208.064 Q2001.89 206.907 2004.97 206.907 Q2005.41 206.907 2005.94 206.976 Q2006.47 207.023 2007.12 207.138 L2007.14 211.513 Z\" fill=\"#000000\" fill-rule=\"evenodd\" fill-opacity=\"1\" /><path clip-path=\"url(#clip710)\" d=\"M 0 0 M2032.75 219.43 L2032.75 221.513 L2013.16 221.513 Q2013.44 225.911 2015.8 228.226 Q2018.19 230.518 2022.42 230.518 Q2024.88 230.518 2027.17 229.916 Q2029.48 229.314 2031.75 228.11 L2031.75 232.138 Q2029.46 233.11 2027.05 233.62 Q2024.64 234.129 2022.17 234.129 Q2015.96 234.129 2012.33 230.518 Q2008.72 226.907 2008.72 220.749 Q2008.72 214.384 2012.14 210.657 Q2015.59 206.907 2021.43 206.907 Q2026.66 206.907 2029.69 210.286 Q2032.75 213.643 2032.75 219.43 M2028.49 218.18 Q2028.44 214.685 2026.52 212.601 Q2024.62 210.518 2021.47 210.518 Q2017.91 210.518 2015.76 212.532 Q2013.63 214.546 2013.3 218.203 L2028.49 218.18 Z\" fill=\"#000000\" fill-rule=\"evenodd\" fill-opacity=\"1\" /><path clip-path=\"url(#clip710)\" d=\"M 0 0 M2037.21 207.532 L2041.47 207.532 L2041.47 233.458 L2037.21 233.458 L2037.21 207.532 M2037.21 197.439 L2041.47 197.439 L2041.47 202.833 L2037.21 202.833 L2037.21 197.439 Z\" fill=\"#000000\" fill-rule=\"evenodd\" fill-opacity=\"1\" /><path clip-path=\"url(#clip710)\" d=\"M 0 0 M2067.49 217.809 L2067.49 233.458 L2063.23 233.458 L2063.23 217.948 Q2063.23 214.268 2061.8 212.439 Q2060.36 210.61 2057.49 210.61 Q2054.04 210.61 2052.05 212.81 Q2050.06 215.009 2050.06 218.805 L2050.06 233.458 L2045.78 233.458 L2045.78 207.532 L2050.06 207.532 L2050.06 211.56 Q2051.59 209.222 2053.65 208.064 Q2055.73 206.907 2058.44 206.907 Q2062.91 206.907 2065.2 209.685 Q2067.49 212.439 2067.49 217.809 Z\" fill=\"#000000\" fill-rule=\"evenodd\" fill-opacity=\"1\" /><path clip-path=\"url(#clip710)\" d=\"M 0 0 M2082.01 210.518 Q2078.58 210.518 2076.59 213.203 Q2074.6 215.865 2074.6 220.518 Q2074.6 225.171 2076.57 227.856 Q2078.56 230.518 2082.01 230.518 Q2085.41 230.518 2087.4 227.833 Q2089.39 225.147 2089.39 220.518 Q2089.39 215.911 2087.4 213.226 Q2085.41 210.518 2082.01 210.518 M2082.01 206.907 Q2087.56 206.907 2090.73 210.518 Q2093.9 214.129 2093.9 220.518 Q2093.9 226.884 2090.73 230.518 Q2087.56 234.129 2082.01 234.129 Q2076.43 234.129 2073.26 230.518 Q2070.11 226.884 2070.11 220.518 Q2070.11 214.129 2073.26 210.518 Q2076.43 206.907 2082.01 206.907 Z\" fill=\"#000000\" fill-rule=\"evenodd\" fill-opacity=\"1\" /><path clip-path=\"url(#clip710)\" d=\"M 0 0 M2139.51 201.56 L2139.51 206.49 Q2137.14 204.291 2134.46 203.203 Q2131.8 202.115 2128.79 202.115 Q2122.86 202.115 2119.71 205.749 Q2116.57 209.36 2116.57 216.212 Q2116.57 223.041 2119.71 226.675 Q2122.86 230.286 2128.79 230.286 Q2131.8 230.286 2134.46 229.198 Q2137.14 228.11 2139.51 225.911 L2139.51 230.796 Q2137.05 232.462 2134.3 233.296 Q2131.57 234.129 2128.51 234.129 Q2120.66 234.129 2116.15 229.337 Q2111.64 224.522 2111.64 216.212 Q2111.64 207.879 2116.15 203.087 Q2120.66 198.273 2128.51 198.273 Q2131.61 198.273 2134.34 199.106 Q2137.1 199.916 2139.51 201.56 Z\" fill=\"#000000\" fill-rule=\"evenodd\" fill-opacity=\"1\" /><path clip-path=\"url(#clip710)\" d=\"M 0 0 M2158.19 202.069 Q2153.09 202.069 2150.08 205.865 Q2147.1 209.661 2147.1 216.212 Q2147.1 222.74 2150.08 226.536 Q2153.09 230.333 2158.19 230.333 Q2163.28 230.333 2166.24 226.536 Q2169.23 222.74 2169.23 216.212 Q2169.23 209.661 2166.24 205.865 Q2163.28 202.069 2158.19 202.069 M2164.74 232.833 L2170.89 239.569 L2165.25 239.569 L2160.13 234.036 Q2159.37 234.083 2158.95 234.106 Q2158.56 234.129 2158.19 234.129 Q2150.89 234.129 2146.52 229.268 Q2142.17 224.384 2142.17 216.212 Q2142.17 208.018 2146.52 203.157 Q2150.89 198.273 2158.19 198.273 Q2165.45 198.273 2169.81 203.157 Q2174.16 208.018 2174.16 216.212 Q2174.16 222.231 2171.73 226.513 Q2169.32 230.796 2164.74 232.833 Z\" fill=\"#000000\" fill-rule=\"evenodd\" fill-opacity=\"1\" /><path clip-path=\"url(#clip710)\" d=\"M 0 0 M2199.53 200.032 L2199.53 204.592 Q2196.87 203.319 2194.51 202.694 Q2192.14 202.069 2189.94 202.069 Q2186.13 202.069 2184.04 203.55 Q2181.98 205.032 2181.98 207.763 Q2181.98 210.055 2183.35 211.235 Q2184.74 212.393 2188.58 213.11 L2191.4 213.689 Q2196.63 214.685 2199.11 217.208 Q2201.61 219.708 2201.61 223.921 Q2201.61 228.944 2198.23 231.536 Q2194.88 234.129 2188.37 234.129 Q2185.92 234.129 2183.14 233.573 Q2180.38 233.018 2177.42 231.93 L2177.42 227.115 Q2180.27 228.712 2183 229.522 Q2185.73 230.333 2188.37 230.333 Q2192.38 230.333 2194.55 228.759 Q2196.73 227.184 2196.73 224.268 Q2196.73 221.722 2195.15 220.286 Q2193.6 218.851 2190.04 218.134 L2187.19 217.578 Q2181.96 216.536 2179.62 214.314 Q2177.28 212.092 2177.28 208.134 Q2177.28 203.55 2180.5 200.911 Q2183.74 198.273 2189.41 198.273 Q2191.84 198.273 2194.37 198.712 Q2196.89 199.152 2199.53 200.032 Z\" fill=\"#000000\" fill-rule=\"evenodd\" fill-opacity=\"1\" /><path clip-path=\"url(#clip710)\" d=\"M 0 0 M2220.29 202.069 Q2215.2 202.069 2212.19 205.865 Q2209.2 209.661 2209.2 216.212 Q2209.2 222.74 2212.19 226.536 Q2215.2 230.333 2220.29 230.333 Q2225.38 230.333 2228.35 226.536 Q2231.33 222.74 2231.33 216.212 Q2231.33 209.661 2228.35 205.865 Q2225.38 202.069 2220.29 202.069 M2220.29 198.273 Q2227.56 198.273 2231.91 203.157 Q2236.26 208.018 2236.26 216.212 Q2236.26 224.384 2231.91 229.268 Q2227.56 234.129 2220.29 234.129 Q2213 234.129 2208.63 229.268 Q2204.27 224.407 2204.27 216.212 Q2204.27 208.018 2208.63 203.157 Q2213 198.273 2220.29 198.273 Z\" fill=\"#000000\" fill-rule=\"evenodd\" fill-opacity=\"1\" /></svg>\n"
      ]
     },
     "execution_count": 197,
     "metadata": {},
     "output_type": "execute_result"
    }
   ],
   "source": [
    "# plot(mse_treino_pso, label= \"treino PSO\", ylims = [0.0,0.001])\n",
    "# plot!(mse_treino_cqso, label= \"treino CQSO\")\n",
    "plot(mse_treino_pso, label= \"treino PSO\", ylims = [0.0, 0.001])\n",
    "plot!(mse_treino_cqso, label= \"treino CQSO\")"
   ]
  },
  {
   "cell_type": "code",
   "execution_count": 198,
   "metadata": {},
   "outputs": [
    {
     "data": {
      "image/svg+xml": [
       "<?xml version=\"1.0\" encoding=\"utf-8\"?>\n",
       "<svg xmlns=\"http://www.w3.org/2000/svg\" xmlns:xlink=\"http://www.w3.org/1999/xlink\" width=\"600\" height=\"400\" viewBox=\"0 0 2400 1600\">\n",
       "<defs>\n",
       "  <clipPath id=\"clip750\">\n",
       "    <rect x=\"0\" y=\"0\" width=\"2400\" height=\"1600\"/>\n",
       "  </clipPath>\n",
       "</defs>\n",
       "<path clip-path=\"url(#clip750)\" d=\"\n",
       "M0 1600 L2400 1600 L2400 0 L0 0  Z\n",
       "  \" fill=\"#ffffff\" fill-rule=\"evenodd\" fill-opacity=\"1\"/>\n",
       "<defs>\n",
       "  <clipPath id=\"clip751\">\n",
       "    <rect x=\"480\" y=\"0\" width=\"1681\" height=\"1600\"/>\n",
       "  </clipPath>\n",
       "</defs>\n",
       "<path clip-path=\"url(#clip750)\" d=\"\n",
       "M202.362 1486.45 L2352.76 1486.45 L2352.76 47.2441 L202.362 47.2441  Z\n",
       "  \" fill=\"#ffffff\" fill-rule=\"evenodd\" fill-opacity=\"1\"/>\n",
       "<defs>\n",
       "  <clipPath id=\"clip752\">\n",
       "    <rect x=\"202\" y=\"47\" width=\"2151\" height=\"1440\"/>\n",
       "  </clipPath>\n",
       "</defs>\n",
       "<polyline clip-path=\"url(#clip752)\" style=\"stroke:#000000; stroke-width:2; stroke-opacity:0.1; fill:none\" points=\"\n",
       "  261.288,1486.45 261.288,47.2441 \n",
       "  \"/>\n",
       "<polyline clip-path=\"url(#clip752)\" style=\"stroke:#000000; stroke-width:2; stroke-opacity:0.1; fill:none\" points=\"\n",
       "  744.766,1486.45 744.766,47.2441 \n",
       "  \"/>\n",
       "<polyline clip-path=\"url(#clip752)\" style=\"stroke:#000000; stroke-width:2; stroke-opacity:0.1; fill:none\" points=\"\n",
       "  1228.24,1486.45 1228.24,47.2441 \n",
       "  \"/>\n",
       "<polyline clip-path=\"url(#clip752)\" style=\"stroke:#000000; stroke-width:2; stroke-opacity:0.1; fill:none\" points=\"\n",
       "  1711.72,1486.45 1711.72,47.2441 \n",
       "  \"/>\n",
       "<polyline clip-path=\"url(#clip752)\" style=\"stroke:#000000; stroke-width:2; stroke-opacity:0.1; fill:none\" points=\"\n",
       "  2195.2,1486.45 2195.2,47.2441 \n",
       "  \"/>\n",
       "<polyline clip-path=\"url(#clip752)\" style=\"stroke:#000000; stroke-width:2; stroke-opacity:0.1; fill:none\" points=\"\n",
       "  202.362,1445.72 2352.76,1445.72 \n",
       "  \"/>\n",
       "<polyline clip-path=\"url(#clip752)\" style=\"stroke:#000000; stroke-width:2; stroke-opacity:0.1; fill:none\" points=\"\n",
       "  202.362,1174.17 2352.76,1174.17 \n",
       "  \"/>\n",
       "<polyline clip-path=\"url(#clip752)\" style=\"stroke:#000000; stroke-width:2; stroke-opacity:0.1; fill:none\" points=\"\n",
       "  202.362,902.62 2352.76,902.62 \n",
       "  \"/>\n",
       "<polyline clip-path=\"url(#clip752)\" style=\"stroke:#000000; stroke-width:2; stroke-opacity:0.1; fill:none\" points=\"\n",
       "  202.362,631.072 2352.76,631.072 \n",
       "  \"/>\n",
       "<polyline clip-path=\"url(#clip752)\" style=\"stroke:#000000; stroke-width:2; stroke-opacity:0.1; fill:none\" points=\"\n",
       "  202.362,359.524 2352.76,359.524 \n",
       "  \"/>\n",
       "<polyline clip-path=\"url(#clip752)\" style=\"stroke:#000000; stroke-width:2; stroke-opacity:0.1; fill:none\" points=\"\n",
       "  202.362,87.9763 2352.76,87.9763 \n",
       "  \"/>\n",
       "<polyline clip-path=\"url(#clip750)\" style=\"stroke:#000000; stroke-width:4; stroke-opacity:1; fill:none\" points=\"\n",
       "  202.362,1486.45 2352.76,1486.45 \n",
       "  \"/>\n",
       "<polyline clip-path=\"url(#clip750)\" style=\"stroke:#000000; stroke-width:4; stroke-opacity:1; fill:none\" points=\"\n",
       "  202.362,1486.45 202.362,47.2441 \n",
       "  \"/>\n",
       "<polyline clip-path=\"url(#clip750)\" style=\"stroke:#000000; stroke-width:4; stroke-opacity:1; fill:none\" points=\"\n",
       "  261.288,1486.45 261.288,1469.18 \n",
       "  \"/>\n",
       "<polyline clip-path=\"url(#clip750)\" style=\"stroke:#000000; stroke-width:4; stroke-opacity:1; fill:none\" points=\"\n",
       "  744.766,1486.45 744.766,1469.18 \n",
       "  \"/>\n",
       "<polyline clip-path=\"url(#clip750)\" style=\"stroke:#000000; stroke-width:4; stroke-opacity:1; fill:none\" points=\"\n",
       "  1228.24,1486.45 1228.24,1469.18 \n",
       "  \"/>\n",
       "<polyline clip-path=\"url(#clip750)\" style=\"stroke:#000000; stroke-width:4; stroke-opacity:1; fill:none\" points=\"\n",
       "  1711.72,1486.45 1711.72,1469.18 \n",
       "  \"/>\n",
       "<polyline clip-path=\"url(#clip750)\" style=\"stroke:#000000; stroke-width:4; stroke-opacity:1; fill:none\" points=\"\n",
       "  2195.2,1486.45 2195.2,1469.18 \n",
       "  \"/>\n",
       "<polyline clip-path=\"url(#clip750)\" style=\"stroke:#000000; stroke-width:4; stroke-opacity:1; fill:none\" points=\"\n",
       "  202.362,1445.72 228.167,1445.72 \n",
       "  \"/>\n",
       "<polyline clip-path=\"url(#clip750)\" style=\"stroke:#000000; stroke-width:4; stroke-opacity:1; fill:none\" points=\"\n",
       "  202.362,1174.17 228.167,1174.17 \n",
       "  \"/>\n",
       "<polyline clip-path=\"url(#clip750)\" style=\"stroke:#000000; stroke-width:4; stroke-opacity:1; fill:none\" points=\"\n",
       "  202.362,902.62 228.167,902.62 \n",
       "  \"/>\n",
       "<polyline clip-path=\"url(#clip750)\" style=\"stroke:#000000; stroke-width:4; stroke-opacity:1; fill:none\" points=\"\n",
       "  202.362,631.072 228.167,631.072 \n",
       "  \"/>\n",
       "<polyline clip-path=\"url(#clip750)\" style=\"stroke:#000000; stroke-width:4; stroke-opacity:1; fill:none\" points=\"\n",
       "  202.362,359.524 228.167,359.524 \n",
       "  \"/>\n",
       "<polyline clip-path=\"url(#clip750)\" style=\"stroke:#000000; stroke-width:4; stroke-opacity:1; fill:none\" points=\"\n",
       "  202.362,87.9763 228.167,87.9763 \n",
       "  \"/>\n",
       "<path clip-path=\"url(#clip750)\" d=\"M 0 0 M261.288 1508.44 Q257.677 1508.44 255.848 1512 Q254.043 1515.55 254.043 1522.67 Q254.043 1529.78 255.848 1533.35 Q257.677 1536.89 261.288 1536.89 Q264.922 1536.89 266.728 1533.35 Q268.557 1529.78 268.557 1522.67 Q268.557 1515.55 266.728 1512 Q264.922 1508.44 261.288 1508.44 M261.288 1504.73 Q267.098 1504.73 270.154 1509.34 Q273.233 1513.92 273.233 1522.67 Q273.233 1531.4 270.154 1536.01 Q267.098 1540.59 261.288 1540.59 Q255.478 1540.59 252.399 1536.01 Q249.344 1531.4 249.344 1522.67 Q249.344 1513.92 252.399 1509.34 Q255.478 1504.73 261.288 1504.73 Z\" fill=\"#000000\" fill-rule=\"evenodd\" fill-opacity=\"1\" /><path clip-path=\"url(#clip750)\" d=\"M 0 0 M712.903 1535.98 L729.222 1535.98 L729.222 1539.92 L707.278 1539.92 L707.278 1535.98 Q709.94 1533.23 714.523 1528.6 Q719.13 1523.95 720.31 1522.61 Q722.556 1520.08 723.435 1518.35 Q724.338 1516.59 724.338 1514.9 Q724.338 1512.14 722.394 1510.41 Q720.472 1508.67 717.37 1508.67 Q715.171 1508.67 712.718 1509.43 Q710.287 1510.2 707.509 1511.75 L707.509 1507.03 Q710.333 1505.89 712.787 1505.31 Q715.241 1504.73 717.278 1504.73 Q722.648 1504.73 725.843 1507.42 Q729.037 1510.11 729.037 1514.6 Q729.037 1516.73 728.227 1518.65 Q727.44 1520.54 725.333 1523.14 Q724.755 1523.81 721.653 1527.03 Q718.551 1530.22 712.903 1535.98 Z\" fill=\"#000000\" fill-rule=\"evenodd\" fill-opacity=\"1\" /><path clip-path=\"url(#clip750)\" d=\"M 0 0 M734.338 1505.36 L752.694 1505.36 L752.694 1509.3 L738.62 1509.3 L738.62 1517.77 Q739.639 1517.42 740.657 1517.26 Q741.676 1517.07 742.694 1517.07 Q748.481 1517.07 751.861 1520.24 Q755.241 1523.42 755.241 1528.83 Q755.241 1534.41 751.768 1537.51 Q748.296 1540.59 741.977 1540.59 Q739.801 1540.59 737.532 1540.22 Q735.287 1539.85 732.88 1539.11 L732.88 1534.41 Q734.963 1535.54 737.185 1536.1 Q739.407 1536.66 741.884 1536.66 Q745.889 1536.66 748.227 1534.55 Q750.565 1532.44 750.565 1528.83 Q750.565 1525.22 748.227 1523.11 Q745.889 1521.01 741.884 1521.01 Q740.009 1521.01 738.134 1521.42 Q736.282 1521.84 734.338 1522.72 L734.338 1505.36 Z\" fill=\"#000000\" fill-rule=\"evenodd\" fill-opacity=\"1\" /><path clip-path=\"url(#clip750)\" d=\"M 0 0 M770.31 1508.44 Q766.699 1508.44 764.87 1512 Q763.065 1515.55 763.065 1522.67 Q763.065 1529.78 764.87 1533.35 Q766.699 1536.89 770.31 1536.89 Q773.944 1536.89 775.75 1533.35 Q777.578 1529.78 777.578 1522.67 Q777.578 1515.55 775.75 1512 Q773.944 1508.44 770.31 1508.44 M770.31 1504.73 Q776.12 1504.73 779.176 1509.34 Q782.254 1513.92 782.254 1522.67 Q782.254 1531.4 779.176 1536.01 Q776.12 1540.59 770.31 1540.59 Q764.5 1540.59 761.421 1536.01 Q758.366 1531.4 758.366 1522.67 Q758.366 1513.92 761.421 1509.34 Q764.5 1504.73 770.31 1504.73 Z\" fill=\"#000000\" fill-rule=\"evenodd\" fill-opacity=\"1\" /><path clip-path=\"url(#clip750)\" d=\"M 0 0 M1191.51 1505.36 L1209.86 1505.36 L1209.86 1509.3 L1195.79 1509.3 L1195.79 1517.77 Q1196.81 1517.42 1197.83 1517.26 Q1198.85 1517.07 1199.86 1517.07 Q1205.65 1517.07 1209.03 1520.24 Q1212.41 1523.42 1212.41 1528.83 Q1212.41 1534.41 1208.94 1537.51 Q1205.47 1540.59 1199.15 1540.59 Q1196.97 1540.59 1194.7 1540.22 Q1192.46 1539.85 1190.05 1539.11 L1190.05 1534.41 Q1192.13 1535.54 1194.36 1536.1 Q1196.58 1536.66 1199.05 1536.66 Q1203.06 1536.66 1205.4 1534.55 Q1207.73 1532.44 1207.73 1528.83 Q1207.73 1525.22 1205.4 1523.11 Q1203.06 1521.01 1199.05 1521.01 Q1197.18 1521.01 1195.3 1521.42 Q1193.45 1521.84 1191.51 1522.72 L1191.51 1505.36 Z\" fill=\"#000000\" fill-rule=\"evenodd\" fill-opacity=\"1\" /><path clip-path=\"url(#clip750)\" d=\"M 0 0 M1227.48 1508.44 Q1223.87 1508.44 1222.04 1512 Q1220.23 1515.55 1220.23 1522.67 Q1220.23 1529.78 1222.04 1533.35 Q1223.87 1536.89 1227.48 1536.89 Q1231.11 1536.89 1232.92 1533.35 Q1234.75 1529.78 1234.75 1522.67 Q1234.75 1515.55 1232.92 1512 Q1231.11 1508.44 1227.48 1508.44 M1227.48 1504.73 Q1233.29 1504.73 1236.35 1509.34 Q1239.42 1513.92 1239.42 1522.67 Q1239.42 1531.4 1236.35 1536.01 Q1233.29 1540.59 1227.48 1540.59 Q1221.67 1540.59 1218.59 1536.01 Q1215.54 1531.4 1215.54 1522.67 Q1215.54 1513.92 1218.59 1509.34 Q1221.67 1504.73 1227.48 1504.73 Z\" fill=\"#000000\" fill-rule=\"evenodd\" fill-opacity=\"1\" /><path clip-path=\"url(#clip750)\" d=\"M 0 0 M1254.49 1508.44 Q1250.88 1508.44 1249.05 1512 Q1247.25 1515.55 1247.25 1522.67 Q1247.25 1529.78 1249.05 1533.35 Q1250.88 1536.89 1254.49 1536.89 Q1258.13 1536.89 1259.93 1533.35 Q1261.76 1529.78 1261.76 1522.67 Q1261.76 1515.55 1259.93 1512 Q1258.13 1508.44 1254.49 1508.44 M1254.49 1504.73 Q1260.3 1504.73 1263.36 1509.34 Q1266.44 1513.92 1266.44 1522.67 Q1266.44 1531.4 1263.36 1536.01 Q1260.3 1540.59 1254.49 1540.59 Q1248.68 1540.59 1245.61 1536.01 Q1242.55 1531.4 1242.55 1522.67 Q1242.55 1513.92 1245.61 1509.34 Q1248.68 1504.73 1254.49 1504.73 Z\" fill=\"#000000\" fill-rule=\"evenodd\" fill-opacity=\"1\" /><path clip-path=\"url(#clip750)\" d=\"M 0 0 M1674.1 1505.36 L1696.32 1505.36 L1696.32 1507.35 L1683.77 1539.92 L1678.89 1539.92 L1690.69 1509.3 L1674.1 1509.3 L1674.1 1505.36 Z\" fill=\"#000000\" fill-rule=\"evenodd\" fill-opacity=\"1\" /><path clip-path=\"url(#clip750)\" d=\"M 0 0 M1701.43 1505.36 L1719.79 1505.36 L1719.79 1509.3 L1705.72 1509.3 L1705.72 1517.77 Q1706.73 1517.42 1707.75 1517.26 Q1708.77 1517.07 1709.79 1517.07 Q1715.58 1517.07 1718.96 1520.24 Q1722.34 1523.42 1722.34 1528.83 Q1722.34 1534.41 1718.86 1537.51 Q1715.39 1540.59 1709.07 1540.59 Q1706.9 1540.59 1704.63 1540.22 Q1702.38 1539.85 1699.97 1539.11 L1699.97 1534.41 Q1702.06 1535.54 1704.28 1536.1 Q1706.5 1536.66 1708.98 1536.66 Q1712.98 1536.66 1715.32 1534.55 Q1717.66 1532.44 1717.66 1528.83 Q1717.66 1525.22 1715.32 1523.11 Q1712.98 1521.01 1708.98 1521.01 Q1707.1 1521.01 1705.23 1521.42 Q1703.38 1521.84 1701.43 1522.72 L1701.43 1505.36 Z\" fill=\"#000000\" fill-rule=\"evenodd\" fill-opacity=\"1\" /><path clip-path=\"url(#clip750)\" d=\"M 0 0 M1737.4 1508.44 Q1733.79 1508.44 1731.97 1512 Q1730.16 1515.55 1730.16 1522.67 Q1730.16 1529.78 1731.97 1533.35 Q1733.79 1536.89 1737.4 1536.89 Q1741.04 1536.89 1742.84 1533.35 Q1744.67 1529.78 1744.67 1522.67 Q1744.67 1515.55 1742.84 1512 Q1741.04 1508.44 1737.4 1508.44 M1737.4 1504.73 Q1743.22 1504.73 1746.27 1509.34 Q1749.35 1513.92 1749.35 1522.67 Q1749.35 1531.4 1746.27 1536.01 Q1743.22 1540.59 1737.4 1540.59 Q1731.59 1540.59 1728.52 1536.01 Q1725.46 1531.4 1725.46 1522.67 Q1725.46 1513.92 1728.52 1509.34 Q1731.59 1504.73 1737.4 1504.73 Z\" fill=\"#000000\" fill-rule=\"evenodd\" fill-opacity=\"1\" /><path clip-path=\"url(#clip750)\" d=\"M 0 0 M2145.06 1535.98 L2152.7 1535.98 L2152.7 1509.62 L2144.39 1511.29 L2144.39 1507.03 L2152.65 1505.36 L2157.33 1505.36 L2157.33 1535.98 L2164.97 1535.98 L2164.97 1539.92 L2145.06 1539.92 L2145.06 1535.98 Z\" fill=\"#000000\" fill-rule=\"evenodd\" fill-opacity=\"1\" /><path clip-path=\"url(#clip750)\" d=\"M 0 0 M2180.04 1508.44 Q2176.43 1508.44 2174.6 1512 Q2172.79 1515.55 2172.79 1522.67 Q2172.79 1529.78 2174.6 1533.35 Q2176.43 1536.89 2180.04 1536.89 Q2183.67 1536.89 2185.48 1533.35 Q2187.31 1529.78 2187.31 1522.67 Q2187.31 1515.55 2185.48 1512 Q2183.67 1508.44 2180.04 1508.44 M2180.04 1504.73 Q2185.85 1504.73 2188.9 1509.34 Q2191.98 1513.92 2191.98 1522.67 Q2191.98 1531.4 2188.9 1536.01 Q2185.85 1540.59 2180.04 1540.59 Q2174.23 1540.59 2171.15 1536.01 Q2168.09 1531.4 2168.09 1522.67 Q2168.09 1513.92 2171.15 1509.34 Q2174.23 1504.73 2180.04 1504.73 Z\" fill=\"#000000\" fill-rule=\"evenodd\" fill-opacity=\"1\" /><path clip-path=\"url(#clip750)\" d=\"M 0 0 M2207.05 1508.44 Q2203.44 1508.44 2201.61 1512 Q2199.81 1515.55 2199.81 1522.67 Q2199.81 1529.78 2201.61 1533.35 Q2203.44 1536.89 2207.05 1536.89 Q2210.69 1536.89 2212.49 1533.35 Q2214.32 1529.78 2214.32 1522.67 Q2214.32 1515.55 2212.49 1512 Q2210.69 1508.44 2207.05 1508.44 M2207.05 1504.73 Q2212.86 1504.73 2215.92 1509.34 Q2219 1513.92 2219 1522.67 Q2219 1531.4 2215.92 1536.01 Q2212.86 1540.59 2207.05 1540.59 Q2201.24 1540.59 2198.16 1536.01 Q2195.11 1531.4 2195.11 1522.67 Q2195.11 1513.92 2198.16 1509.34 Q2201.24 1504.73 2207.05 1504.73 Z\" fill=\"#000000\" fill-rule=\"evenodd\" fill-opacity=\"1\" /><path clip-path=\"url(#clip750)\" d=\"M 0 0 M2234.07 1508.44 Q2230.45 1508.44 2228.63 1512 Q2226.82 1515.55 2226.82 1522.67 Q2226.82 1529.78 2228.63 1533.35 Q2230.45 1536.89 2234.07 1536.89 Q2237.7 1536.89 2239.51 1533.35 Q2241.33 1529.78 2241.33 1522.67 Q2241.33 1515.55 2239.51 1512 Q2237.7 1508.44 2234.07 1508.44 M2234.07 1504.73 Q2239.88 1504.73 2242.93 1509.34 Q2246.01 1513.92 2246.01 1522.67 Q2246.01 1531.4 2242.93 1536.01 Q2239.88 1540.59 2234.07 1540.59 Q2228.26 1540.59 2225.18 1536.01 Q2222.12 1531.4 2222.12 1522.67 Q2222.12 1513.92 2225.18 1509.34 Q2228.26 1504.73 2234.07 1504.73 Z\" fill=\"#000000\" fill-rule=\"evenodd\" fill-opacity=\"1\" /><path clip-path=\"url(#clip750)\" d=\"M 0 0 M75.4226 1431.51 Q71.8115 1431.51 69.9828 1435.08 Q68.1773 1438.62 68.1773 1445.75 Q68.1773 1452.86 69.9828 1456.42 Q71.8115 1459.96 75.4226 1459.96 Q79.0569 1459.96 80.8624 1456.42 Q82.6911 1452.86 82.6911 1445.75 Q82.6911 1438.62 80.8624 1435.08 Q79.0569 1431.51 75.4226 1431.51 M75.4226 1427.81 Q81.2328 1427.81 84.2883 1432.42 Q87.367 1437 87.367 1445.75 Q87.367 1454.48 84.2883 1459.08 Q81.2328 1463.67 75.4226 1463.67 Q69.6125 1463.67 66.5338 1459.08 Q63.4782 1454.48 63.4782 1445.75 Q63.4782 1437 66.5338 1432.42 Q69.6125 1427.81 75.4226 1427.81 Z\" fill=\"#000000\" fill-rule=\"evenodd\" fill-opacity=\"1\" /><path clip-path=\"url(#clip750)\" d=\"M 0 0 M92.4364 1457.12 L97.3206 1457.12 L97.3206 1463 L92.4364 1463 L92.4364 1457.12 Z\" fill=\"#000000\" fill-rule=\"evenodd\" fill-opacity=\"1\" /><path clip-path=\"url(#clip750)\" d=\"M 0 0 M112.39 1431.51 Q108.779 1431.51 106.95 1435.08 Q105.145 1438.62 105.145 1445.75 Q105.145 1452.86 106.95 1456.42 Q108.779 1459.96 112.39 1459.96 Q116.024 1459.96 117.83 1456.42 Q119.658 1452.86 119.658 1445.75 Q119.658 1438.62 117.83 1435.08 Q116.024 1431.51 112.39 1431.51 M112.39 1427.81 Q118.2 1427.81 121.256 1432.42 Q124.334 1437 124.334 1445.75 Q124.334 1454.48 121.256 1459.08 Q118.2 1463.67 112.39 1463.67 Q106.58 1463.67 103.501 1459.08 Q100.446 1454.48 100.446 1445.75 Q100.446 1437 103.501 1432.42 Q106.58 1427.81 112.39 1427.81 Z\" fill=\"#000000\" fill-rule=\"evenodd\" fill-opacity=\"1\" /><path clip-path=\"url(#clip750)\" d=\"M 0 0 M139.404 1431.51 Q135.793 1431.51 133.964 1435.08 Q132.158 1438.62 132.158 1445.75 Q132.158 1452.86 133.964 1456.42 Q135.793 1459.96 139.404 1459.96 Q143.038 1459.96 144.844 1456.42 Q146.672 1452.86 146.672 1445.75 Q146.672 1438.62 144.844 1435.08 Q143.038 1431.51 139.404 1431.51 M139.404 1427.81 Q145.214 1427.81 148.269 1432.42 Q151.348 1437 151.348 1445.75 Q151.348 1454.48 148.269 1459.08 Q145.214 1463.67 139.404 1463.67 Q133.594 1463.67 130.515 1459.08 Q127.459 1454.48 127.459 1445.75 Q127.459 1437 130.515 1432.42 Q133.594 1427.81 139.404 1427.81 Z\" fill=\"#000000\" fill-rule=\"evenodd\" fill-opacity=\"1\" /><path clip-path=\"url(#clip750)\" d=\"M 0 0 M166.417 1431.51 Q162.806 1431.51 160.978 1435.08 Q159.172 1438.62 159.172 1445.75 Q159.172 1452.86 160.978 1456.42 Q162.806 1459.96 166.417 1459.96 Q170.052 1459.96 171.857 1456.42 Q173.686 1452.86 173.686 1445.75 Q173.686 1438.62 171.857 1435.08 Q170.052 1431.51 166.417 1431.51 M166.417 1427.81 Q172.228 1427.81 175.283 1432.42 Q178.362 1437 178.362 1445.75 Q178.362 1454.48 175.283 1459.08 Q172.228 1463.67 166.417 1463.67 Q160.607 1463.67 157.529 1459.08 Q154.473 1454.48 154.473 1445.75 Q154.473 1437 157.529 1432.42 Q160.607 1427.81 166.417 1427.81 Z\" fill=\"#000000\" fill-rule=\"evenodd\" fill-opacity=\"1\" /><path clip-path=\"url(#clip750)\" d=\"M 0 0 M76.6495 1159.97 Q73.0384 1159.97 71.2097 1163.53 Q69.4041 1167.07 69.4041 1174.2 Q69.4041 1181.31 71.2097 1184.87 Q73.0384 1188.42 76.6495 1188.42 Q80.2837 1188.42 82.0892 1184.87 Q83.9179 1181.31 83.9179 1174.2 Q83.9179 1167.07 82.0892 1163.53 Q80.2837 1159.97 76.6495 1159.97 M76.6495 1156.26 Q82.4596 1156.26 85.5152 1160.87 Q88.5938 1165.45 88.5938 1174.2 Q88.5938 1182.93 85.5152 1187.54 Q82.4596 1192.12 76.6495 1192.12 Q70.8393 1192.12 67.7606 1187.54 Q64.7051 1182.93 64.7051 1174.2 Q64.7051 1165.45 67.7606 1160.87 Q70.8393 1156.26 76.6495 1156.26 Z\" fill=\"#000000\" fill-rule=\"evenodd\" fill-opacity=\"1\" /><path clip-path=\"url(#clip750)\" d=\"M 0 0 M93.6633 1185.57 L98.5475 1185.57 L98.5475 1191.45 L93.6633 1191.45 L93.6633 1185.57 Z\" fill=\"#000000\" fill-rule=\"evenodd\" fill-opacity=\"1\" /><path clip-path=\"url(#clip750)\" d=\"M 0 0 M113.617 1159.97 Q110.006 1159.97 108.177 1163.53 Q106.372 1167.07 106.372 1174.2 Q106.372 1181.31 108.177 1184.87 Q110.006 1188.42 113.617 1188.42 Q117.251 1188.42 119.057 1184.87 Q120.885 1181.31 120.885 1174.2 Q120.885 1167.07 119.057 1163.53 Q117.251 1159.97 113.617 1159.97 M113.617 1156.26 Q119.427 1156.26 122.483 1160.87 Q125.561 1165.45 125.561 1174.2 Q125.561 1182.93 122.483 1187.54 Q119.427 1192.12 113.617 1192.12 Q107.807 1192.12 104.728 1187.54 Q101.672 1182.93 101.672 1174.2 Q101.672 1165.45 104.728 1160.87 Q107.807 1156.26 113.617 1156.26 Z\" fill=\"#000000\" fill-rule=\"evenodd\" fill-opacity=\"1\" /><path clip-path=\"url(#clip750)\" d=\"M 0 0 M140.631 1159.97 Q137.02 1159.97 135.191 1163.53 Q133.385 1167.07 133.385 1174.2 Q133.385 1181.31 135.191 1184.87 Q137.02 1188.42 140.631 1188.42 Q144.265 1188.42 146.07 1184.87 Q147.899 1181.31 147.899 1174.2 Q147.899 1167.07 146.07 1163.53 Q144.265 1159.97 140.631 1159.97 M140.631 1156.26 Q146.441 1156.26 149.496 1160.87 Q152.575 1165.45 152.575 1174.2 Q152.575 1182.93 149.496 1187.54 Q146.441 1192.12 140.631 1192.12 Q134.82 1192.12 131.742 1187.54 Q128.686 1182.93 128.686 1174.2 Q128.686 1165.45 131.742 1160.87 Q134.82 1156.26 140.631 1156.26 Z\" fill=\"#000000\" fill-rule=\"evenodd\" fill-opacity=\"1\" /><path clip-path=\"url(#clip750)\" d=\"M 0 0 M158.455 1187.51 L166.093 1187.51 L166.093 1161.15 L157.783 1162.81 L157.783 1158.55 L166.047 1156.89 L170.723 1156.89 L170.723 1187.51 L178.362 1187.51 L178.362 1191.45 L158.455 1191.45 L158.455 1187.51 Z\" fill=\"#000000\" fill-rule=\"evenodd\" fill-opacity=\"1\" /><path clip-path=\"url(#clip750)\" d=\"M 0 0 M77.0198 888.419 Q73.4087 888.419 71.58 891.983 Q69.7745 895.525 69.7745 902.655 Q69.7745 909.761 71.58 913.326 Q73.4087 916.868 77.0198 916.868 Q80.6541 916.868 82.4596 913.326 Q84.2883 909.761 84.2883 902.655 Q84.2883 895.525 82.4596 891.983 Q80.6541 888.419 77.0198 888.419 M77.0198 884.715 Q82.83 884.715 85.8855 889.321 Q88.9642 893.905 88.9642 902.655 Q88.9642 911.381 85.8855 915.988 Q82.83 920.571 77.0198 920.571 Q71.2097 920.571 68.131 915.988 Q65.0754 911.381 65.0754 902.655 Q65.0754 893.905 68.131 889.321 Q71.2097 884.715 77.0198 884.715 Z\" fill=\"#000000\" fill-rule=\"evenodd\" fill-opacity=\"1\" /><path clip-path=\"url(#clip750)\" d=\"M 0 0 M94.0336 914.02 L98.9179 914.02 L98.9179 919.9 L94.0336 919.9 L94.0336 914.02 Z\" fill=\"#000000\" fill-rule=\"evenodd\" fill-opacity=\"1\" /><path clip-path=\"url(#clip750)\" d=\"M 0 0 M113.987 888.419 Q110.376 888.419 108.547 891.983 Q106.742 895.525 106.742 902.655 Q106.742 909.761 108.547 913.326 Q110.376 916.868 113.987 916.868 Q117.621 916.868 119.427 913.326 Q121.256 909.761 121.256 902.655 Q121.256 895.525 119.427 891.983 Q117.621 888.419 113.987 888.419 M113.987 884.715 Q119.797 884.715 122.853 889.321 Q125.932 893.905 125.932 902.655 Q125.932 911.381 122.853 915.988 Q119.797 920.571 113.987 920.571 Q108.177 920.571 105.098 915.988 Q102.043 911.381 102.043 902.655 Q102.043 893.905 105.098 889.321 Q108.177 884.715 113.987 884.715 Z\" fill=\"#000000\" fill-rule=\"evenodd\" fill-opacity=\"1\" /><path clip-path=\"url(#clip750)\" d=\"M 0 0 M141.001 888.419 Q137.39 888.419 135.561 891.983 Q133.756 895.525 133.756 902.655 Q133.756 909.761 135.561 913.326 Q137.39 916.868 141.001 916.868 Q144.635 916.868 146.441 913.326 Q148.269 909.761 148.269 902.655 Q148.269 895.525 146.441 891.983 Q144.635 888.419 141.001 888.419 M141.001 884.715 Q146.811 884.715 149.867 889.321 Q152.945 893.905 152.945 902.655 Q152.945 911.381 149.867 915.988 Q146.811 920.571 141.001 920.571 Q135.191 920.571 132.112 915.988 Q129.057 911.381 129.057 902.655 Q129.057 893.905 132.112 889.321 Q135.191 884.715 141.001 884.715 Z\" fill=\"#000000\" fill-rule=\"evenodd\" fill-opacity=\"1\" /><path clip-path=\"url(#clip750)\" d=\"M 0 0 M162.043 915.965 L178.362 915.965 L178.362 919.9 L156.418 919.9 L156.418 915.965 Q159.08 913.21 163.663 908.581 Q168.269 903.928 169.45 902.585 Q171.695 900.062 172.575 898.326 Q173.478 896.567 173.478 894.877 Q173.478 892.122 171.533 890.386 Q169.612 888.65 166.51 888.65 Q164.311 888.65 161.857 889.414 Q159.427 890.178 156.649 891.729 L156.649 887.007 Q159.473 885.872 161.927 885.294 Q164.38 884.715 166.417 884.715 Q171.788 884.715 174.982 887.4 Q178.177 890.085 178.177 894.576 Q178.177 896.706 177.367 898.627 Q176.579 900.525 174.473 903.118 Q173.894 903.789 170.792 907.006 Q167.691 910.201 162.043 915.965 Z\" fill=\"#000000\" fill-rule=\"evenodd\" fill-opacity=\"1\" /><path clip-path=\"url(#clip750)\" d=\"M 0 0 M76.0708 616.871 Q72.4597 616.871 70.631 620.436 Q68.8254 623.977 68.8254 631.107 Q68.8254 638.213 70.631 641.778 Q72.4597 645.32 76.0708 645.32 Q79.705 645.32 81.5105 641.778 Q83.3392 638.213 83.3392 631.107 Q83.3392 623.977 81.5105 620.436 Q79.705 616.871 76.0708 616.871 M76.0708 613.167 Q81.8809 613.167 84.9365 617.774 Q88.0151 622.357 88.0151 631.107 Q88.0151 639.834 84.9365 644.44 Q81.8809 649.023 76.0708 649.023 Q70.2606 649.023 67.1819 644.44 Q64.1264 639.834 64.1264 631.107 Q64.1264 622.357 67.1819 617.774 Q70.2606 613.167 76.0708 613.167 Z\" fill=\"#000000\" fill-rule=\"evenodd\" fill-opacity=\"1\" /><path clip-path=\"url(#clip750)\" d=\"M 0 0 M93.0846 642.472 L97.9688 642.472 L97.9688 648.352 L93.0846 648.352 L93.0846 642.472 Z\" fill=\"#000000\" fill-rule=\"evenodd\" fill-opacity=\"1\" /><path clip-path=\"url(#clip750)\" d=\"M 0 0 M113.038 616.871 Q109.427 616.871 107.598 620.436 Q105.793 623.977 105.793 631.107 Q105.793 638.213 107.598 641.778 Q109.427 645.32 113.038 645.32 Q116.672 645.32 118.478 641.778 Q120.307 638.213 120.307 631.107 Q120.307 623.977 118.478 620.436 Q116.672 616.871 113.038 616.871 M113.038 613.167 Q118.848 613.167 121.904 617.774 Q124.983 622.357 124.983 631.107 Q124.983 639.834 121.904 644.44 Q118.848 649.023 113.038 649.023 Q107.228 649.023 104.149 644.44 Q101.094 639.834 101.094 631.107 Q101.094 622.357 104.149 617.774 Q107.228 613.167 113.038 613.167 Z\" fill=\"#000000\" fill-rule=\"evenodd\" fill-opacity=\"1\" /><path clip-path=\"url(#clip750)\" d=\"M 0 0 M140.052 616.871 Q136.441 616.871 134.612 620.436 Q132.807 623.977 132.807 631.107 Q132.807 638.213 134.612 641.778 Q136.441 645.32 140.052 645.32 Q143.686 645.32 145.492 641.778 Q147.32 638.213 147.32 631.107 Q147.32 623.977 145.492 620.436 Q143.686 616.871 140.052 616.871 M140.052 613.167 Q145.862 613.167 148.918 617.774 Q151.996 622.357 151.996 631.107 Q151.996 639.834 148.918 644.44 Q145.862 649.023 140.052 649.023 Q134.242 649.023 131.163 644.44 Q128.108 639.834 128.108 631.107 Q128.108 622.357 131.163 617.774 Q134.242 613.167 140.052 613.167 Z\" fill=\"#000000\" fill-rule=\"evenodd\" fill-opacity=\"1\" /><path clip-path=\"url(#clip750)\" d=\"M 0 0 M171.232 629.718 Q174.589 630.435 176.464 632.704 Q178.362 634.972 178.362 638.306 Q178.362 643.422 174.843 646.222 Q171.325 649.023 164.843 649.023 Q162.668 649.023 160.353 648.584 Q158.061 648.167 155.607 647.31 L155.607 642.797 Q157.552 643.931 159.867 644.509 Q162.181 645.088 164.705 645.088 Q169.103 645.088 171.394 643.352 Q173.709 641.616 173.709 638.306 Q173.709 635.25 171.556 633.537 Q169.427 631.801 165.607 631.801 L161.58 631.801 L161.58 627.959 L165.793 627.959 Q169.242 627.959 171.07 626.593 Q172.899 625.204 172.899 622.611 Q172.899 619.949 171.001 618.537 Q169.126 617.102 165.607 617.102 Q163.686 617.102 161.487 617.519 Q159.288 617.936 156.649 618.815 L156.649 614.649 Q159.311 613.908 161.626 613.537 Q163.964 613.167 166.024 613.167 Q171.348 613.167 174.45 615.598 Q177.552 618.005 177.552 622.125 Q177.552 624.996 175.908 626.986 Q174.265 628.954 171.232 629.718 Z\" fill=\"#000000\" fill-rule=\"evenodd\" fill-opacity=\"1\" /><path clip-path=\"url(#clip750)\" d=\"M 0 0 M74.9365 345.323 Q71.3254 345.323 69.4967 348.888 Q67.6912 352.429 67.6912 359.559 Q67.6912 366.665 69.4967 370.23 Q71.3254 373.772 74.9365 373.772 Q78.5707 373.772 80.3763 370.23 Q82.205 366.665 82.205 359.559 Q82.205 352.429 80.3763 348.888 Q78.5707 345.323 74.9365 345.323 M74.9365 341.619 Q80.7467 341.619 83.8022 346.226 Q86.8809 350.809 86.8809 359.559 Q86.8809 368.286 83.8022 372.892 Q80.7467 377.475 74.9365 377.475 Q69.1264 377.475 66.0477 372.892 Q62.9921 368.286 62.9921 359.559 Q62.9921 350.809 66.0477 346.226 Q69.1264 341.619 74.9365 341.619 Z\" fill=\"#000000\" fill-rule=\"evenodd\" fill-opacity=\"1\" /><path clip-path=\"url(#clip750)\" d=\"M 0 0 M91.9503 370.925 L96.8345 370.925 L96.8345 376.804 L91.9503 376.804 L91.9503 370.925 Z\" fill=\"#000000\" fill-rule=\"evenodd\" fill-opacity=\"1\" /><path clip-path=\"url(#clip750)\" d=\"M 0 0 M111.904 345.323 Q108.293 345.323 106.464 348.888 Q104.659 352.429 104.659 359.559 Q104.659 366.665 106.464 370.23 Q108.293 373.772 111.904 373.772 Q115.538 373.772 117.344 370.23 Q119.172 366.665 119.172 359.559 Q119.172 352.429 117.344 348.888 Q115.538 345.323 111.904 345.323 M111.904 341.619 Q117.714 341.619 120.77 346.226 Q123.848 350.809 123.848 359.559 Q123.848 368.286 120.77 372.892 Q117.714 377.475 111.904 377.475 Q106.094 377.475 103.015 372.892 Q99.9595 368.286 99.9595 359.559 Q99.9595 350.809 103.015 346.226 Q106.094 341.619 111.904 341.619 Z\" fill=\"#000000\" fill-rule=\"evenodd\" fill-opacity=\"1\" /><path clip-path=\"url(#clip750)\" d=\"M 0 0 M138.918 345.323 Q135.307 345.323 133.478 348.888 Q131.672 352.429 131.672 359.559 Q131.672 366.665 133.478 370.23 Q135.307 373.772 138.918 373.772 Q142.552 373.772 144.357 370.23 Q146.186 366.665 146.186 359.559 Q146.186 352.429 144.357 348.888 Q142.552 345.323 138.918 345.323 M138.918 341.619 Q144.728 341.619 147.783 346.226 Q150.862 350.809 150.862 359.559 Q150.862 368.286 147.783 372.892 Q144.728 377.475 138.918 377.475 Q133.107 377.475 130.029 372.892 Q126.973 368.286 126.973 359.559 Q126.973 350.809 130.029 346.226 Q133.107 341.619 138.918 341.619 Z\" fill=\"#000000\" fill-rule=\"evenodd\" fill-opacity=\"1\" /><path clip-path=\"url(#clip750)\" d=\"M 0 0 M168.779 346.318 L156.973 364.767 L168.779 364.767 L168.779 346.318 M167.552 342.244 L173.431 342.244 L173.431 364.767 L178.362 364.767 L178.362 368.656 L173.431 368.656 L173.431 376.804 L168.779 376.804 L168.779 368.656 L153.177 368.656 L153.177 364.142 L167.552 342.244 Z\" fill=\"#000000\" fill-rule=\"evenodd\" fill-opacity=\"1\" /><path clip-path=\"url(#clip750)\" d=\"M 0 0 M76.418 73.775 Q72.8069 73.775 70.9782 77.3398 Q69.1726 80.8814 69.1726 88.011 Q69.1726 95.1174 70.9782 98.6822 Q72.8069 102.224 76.418 102.224 Q80.0522 102.224 81.8578 98.6822 Q83.6865 95.1174 83.6865 88.011 Q83.6865 80.8814 81.8578 77.3398 Q80.0522 73.775 76.418 73.775 M76.418 70.0713 Q82.2281 70.0713 85.2837 74.6777 Q88.3624 79.261 88.3624 88.011 Q88.3624 96.7378 85.2837 101.344 Q82.2281 105.928 76.418 105.928 Q70.6078 105.928 67.5291 101.344 Q64.4736 96.7378 64.4736 88.011 Q64.4736 79.261 67.5291 74.6777 Q70.6078 70.0713 76.418 70.0713 Z\" fill=\"#000000\" fill-rule=\"evenodd\" fill-opacity=\"1\" /><path clip-path=\"url(#clip750)\" d=\"M 0 0 M93.4318 99.3767 L98.316 99.3767 L98.316 105.256 L93.4318 105.256 L93.4318 99.3767 Z\" fill=\"#000000\" fill-rule=\"evenodd\" fill-opacity=\"1\" /><path clip-path=\"url(#clip750)\" d=\"M 0 0 M113.385 73.775 Q109.774 73.775 107.946 77.3398 Q106.14 80.8814 106.14 88.011 Q106.14 95.1174 107.946 98.6822 Q109.774 102.224 113.385 102.224 Q117.02 102.224 118.825 98.6822 Q120.654 95.1174 120.654 88.011 Q120.654 80.8814 118.825 77.3398 Q117.02 73.775 113.385 73.775 M113.385 70.0713 Q119.196 70.0713 122.251 74.6777 Q125.33 79.261 125.33 88.011 Q125.33 96.7378 122.251 101.344 Q119.196 105.928 113.385 105.928 Q107.575 105.928 104.497 101.344 Q101.441 96.7378 101.441 88.011 Q101.441 79.261 104.497 74.6777 Q107.575 70.0713 113.385 70.0713 Z\" fill=\"#000000\" fill-rule=\"evenodd\" fill-opacity=\"1\" /><path clip-path=\"url(#clip750)\" d=\"M 0 0 M140.399 73.775 Q136.788 73.775 134.959 77.3398 Q133.154 80.8814 133.154 88.011 Q133.154 95.1174 134.959 98.6822 Q136.788 102.224 140.399 102.224 Q144.033 102.224 145.839 98.6822 Q147.668 95.1174 147.668 88.011 Q147.668 80.8814 145.839 77.3398 Q144.033 73.775 140.399 73.775 M140.399 70.0713 Q146.209 70.0713 149.265 74.6777 Q152.343 79.261 152.343 88.011 Q152.343 96.7378 149.265 101.344 Q146.209 105.928 140.399 105.928 Q134.589 105.928 131.51 101.344 Q128.455 96.7378 128.455 88.011 Q128.455 79.261 131.51 74.6777 Q134.589 70.0713 140.399 70.0713 Z\" fill=\"#000000\" fill-rule=\"evenodd\" fill-opacity=\"1\" /><path clip-path=\"url(#clip750)\" d=\"M 0 0 M157.459 70.6963 L175.816 70.6963 L175.816 74.6314 L161.742 74.6314 L161.742 83.1036 Q162.76 82.7564 163.779 82.5944 Q164.797 82.4092 165.816 82.4092 Q171.603 82.4092 174.982 85.5805 Q178.362 88.7517 178.362 94.1684 Q178.362 99.747 174.89 102.849 Q171.417 105.928 165.098 105.928 Q162.922 105.928 160.654 105.557 Q158.408 105.187 156.001 104.446 L156.001 99.747 Q158.084 100.881 160.306 101.437 Q162.529 101.992 165.005 101.992 Q169.01 101.992 171.348 99.8859 Q173.686 97.7795 173.686 94.1684 Q173.686 90.5573 171.348 88.4508 Q169.01 86.3443 165.005 86.3443 Q163.13 86.3443 161.255 86.761 Q159.404 87.1777 157.459 88.0573 L157.459 70.6963 Z\" fill=\"#000000\" fill-rule=\"evenodd\" fill-opacity=\"1\" /><polyline clip-path=\"url(#clip752)\" style=\"stroke:#009af9; stroke-width:4; stroke-opacity:1; fill:none\" points=\"\n",
       "  263.222,1296.63 265.156,1351.41 267.09,1362.36 269.024,1363.54 270.958,1367.84 272.892,1382.22 274.826,1391.2 276.759,1393.11 278.693,1407.2 280.627,1409.72 \n",
       "  282.561,1410.35 284.495,1411.54 286.429,1414.2 288.363,1416.41 290.297,1417.83 292.231,1420.73 294.165,1420.99 296.099,1421.51 298.033,1421.98 299.966,1422.44 \n",
       "  301.9,1422.44 303.834,1422.28 305.768,1423.28 307.702,1424.23 309.636,1424.28 311.57,1424.09 313.504,1424.16 315.438,1424.36 317.372,1424.57 319.306,1424.69 \n",
       "  321.239,1424.62 323.173,1424.77 325.107,1424.83 327.041,1425.13 328.975,1425.22 330.909,1425.21 332.843,1425.21 334.777,1425.36 336.711,1425.59 338.645,1425.79 \n",
       "  340.579,1425.84 342.512,1425.79 344.446,1425.69 346.38,1425.74 348.314,1425.7 350.248,1425.71 352.182,1425.82 354.116,1425.74 356.05,1425.69 357.984,1421.44 \n",
       "  359.918,1422.05 361.852,1422.35 363.786,1422.23 365.719,1422.27 367.653,1422.25 369.587,1422.26 371.521,1422.28 373.455,1422.34 375.389,1422.51 377.323,1422.6 \n",
       "  379.257,1422.64 381.191,1422.66 383.125,1422.77 385.059,1423.13 386.992,1423.39 388.926,1423.46 390.86,1423.46 392.794,1423.53 394.728,1423.52 396.662,1423.53 \n",
       "  398.596,1423.54 400.53,1423.58 402.464,1423.57 404.398,1423.58 406.332,1423.58 408.265,1423.57 410.199,1423.59 412.133,1423.58 414.067,1423.58 416.001,1423.58 \n",
       "  417.935,1423.58 419.869,1423.57 421.803,1423.56 423.737,1423.56 425.671,1423.55 427.605,1423.53 429.539,1423.54 431.472,1423.55 433.406,1423.57 435.34,1423.52 \n",
       "  437.274,1423.51 439.208,1423.57 441.142,1423.62 443.076,1423.6 445.01,1423.59 446.944,1423.64 448.878,1423.64 450.812,1423.65 452.745,1403.55 454.679,1403.55 \n",
       "  456.613,1403.55 458.547,1403.55 460.481,1403.55 462.415,1403.55 464.349,1403.55 466.283,1403.55 468.217,1403.55 470.151,1403.55 472.085,1403.55 474.018,1403.55 \n",
       "  475.952,1403.55 477.886,1403.55 479.82,1403.55 481.754,1403.55 483.688,1403.55 485.622,1403.55 487.556,1403.55 489.49,1403.55 491.424,1403.55 493.358,1403.55 \n",
       "  495.292,1403.55 497.225,1403.55 499.159,1403.55 501.093,1403.55 503.027,1403.55 504.961,1403.55 506.895,1403.55 508.829,1403.55 510.763,1403.55 512.697,1403.55 \n",
       "  514.631,1403.55 516.565,1403.55 518.498,1403.55 520.432,1403.55 522.366,1403.55 524.3,1403.55 526.234,1403.55 528.168,1403.55 530.102,1403.55 532.036,1403.55 \n",
       "  533.97,1403.55 535.904,1403.55 537.838,1403.55 539.771,1403.55 541.705,1403.55 543.639,1403.55 545.573,1403.55 547.507,1390.98 549.441,1390.98 551.375,1390.98 \n",
       "  553.309,1390.98 555.243,1390.98 557.177,1390.98 559.111,1390.98 561.045,1390.98 562.978,1390.98 564.912,1390.98 566.846,1390.98 568.78,1390.98 570.714,1390.98 \n",
       "  572.648,1390.98 574.582,1390.98 576.516,1390.98 578.45,1390.98 580.384,1390.98 582.318,1390.98 584.251,1390.98 586.185,1390.98 588.119,1390.98 590.053,1390.98 \n",
       "  591.987,1390.98 593.921,1390.98 595.855,1390.98 597.789,1390.98 599.723,1390.98 601.657,1390.98 603.591,1390.98 605.524,1390.98 607.458,1390.98 609.392,1390.98 \n",
       "  611.326,1390.98 613.26,1390.98 615.194,1390.98 617.128,1390.98 619.062,1390.98 620.996,1390.98 622.93,1390.98 624.864,1390.98 626.798,1390.98 628.731,1390.98 \n",
       "  630.665,1390.98 632.599,1390.98 634.533,1390.98 636.467,1390.98 638.401,1390.98 640.335,1390.98 642.269,1390.12 644.203,1390.12 646.137,1390.12 648.071,1390.12 \n",
       "  650.004,1390.12 651.938,1390.12 653.872,1390.12 655.806,1390.12 657.74,1390.12 659.674,1390.12 661.608,1390.12 663.542,1390.12 665.476,1390.12 667.41,1390.12 \n",
       "  669.344,1390.12 671.278,1390.12 673.211,1390.12 675.145,1390.12 677.079,1390.12 679.013,1390.12 680.947,1390.12 682.881,1390.12 684.815,1390.12 686.749,1390.12 \n",
       "  688.683,1390.12 690.617,1390.12 692.551,1390.12 694.484,1390.12 696.418,1390.12 698.352,1390.12 700.286,1390.12 702.22,1390.12 704.154,1390.12 706.088,1390.12 \n",
       "  708.022,1390.12 709.956,1390.12 711.89,1390.12 713.824,1390.12 715.757,1390.12 717.691,1390.12 719.625,1390.12 721.559,1390.12 723.493,1390.12 725.427,1390.12 \n",
       "  727.361,1390.12 729.295,1390.12 731.229,1390.12 733.163,1390.12 735.097,1390.12 737.031,1390.04 738.964,1390.04 740.898,1390.04 742.832,1390.04 744.766,1390.04 \n",
       "  746.7,1390.04 748.634,1390.04 750.568,1390.04 752.502,1390.04 754.436,1390.04 756.37,1390.04 758.304,1390.04 760.237,1390.04 762.171,1390.04 764.105,1390.04 \n",
       "  766.039,1390.04 767.973,1390.04 769.907,1390.04 771.841,1390.04 773.775,1390.04 775.709,1390.04 777.643,1390.04 779.577,1390.04 781.51,1390.04 783.444,1390.04 \n",
       "  785.378,1390.04 787.312,1390.04 789.246,1390.04 791.18,1390.04 793.114,1390.04 795.048,1390.04 796.982,1390.04 798.916,1390.04 800.85,1390.04 802.784,1390.04 \n",
       "  804.717,1390.04 806.651,1390.04 808.585,1390.04 810.519,1390.04 812.453,1390.04 814.387,1390.04 816.321,1390.04 818.255,1390.04 820.189,1390.04 822.123,1390.04 \n",
       "  824.057,1390.04 825.99,1390.04 827.924,1390.04 829.858,1390.04 831.792,1400.21 833.726,1400.21 835.66,1400.21 837.594,1400.21 839.528,1400.21 841.462,1400.21 \n",
       "  843.396,1400.21 845.33,1400.21 847.263,1400.21 849.197,1400.21 851.131,1400.21 853.065,1400.21 854.999,1400.21 856.933,1400.21 858.867,1400.21 860.801,1400.21 \n",
       "  862.735,1400.21 864.669,1400.21 866.603,1400.21 868.537,1400.21 870.47,1400.21 872.404,1400.21 874.338,1400.21 876.272,1400.21 878.206,1400.21 880.14,1400.21 \n",
       "  882.074,1400.21 884.008,1400.21 885.942,1400.21 887.876,1400.21 889.81,1400.21 891.743,1400.21 893.677,1400.21 895.611,1400.21 897.545,1400.21 899.479,1400.21 \n",
       "  901.413,1400.21 903.347,1400.21 905.281,1400.21 907.215,1400.21 909.149,1400.21 911.083,1400.21 913.016,1400.21 914.95,1400.21 916.884,1400.21 918.818,1400.21 \n",
       "  920.752,1400.21 922.686,1400.21 924.62,1400.21 926.554,1411.33 928.488,1411.33 930.422,1411.33 932.356,1411.33 934.29,1411.33 936.223,1411.33 938.157,1411.33 \n",
       "  940.091,1411.33 942.025,1411.33 943.959,1411.33 945.893,1411.33 947.827,1411.33 949.761,1411.33 951.695,1411.33 953.629,1411.33 955.563,1411.33 957.496,1411.33 \n",
       "  959.43,1411.33 961.364,1411.33 963.298,1411.33 965.232,1411.33 967.166,1411.33 969.1,1411.33 971.034,1411.33 972.968,1411.33 974.902,1411.33 976.836,1411.33 \n",
       "  978.769,1411.33 980.703,1411.33 982.637,1411.33 984.571,1411.33 986.505,1411.33 988.439,1411.33 990.373,1411.33 992.307,1411.33 994.241,1411.33 996.175,1411.33 \n",
       "  998.109,1411.33 1000.04,1411.33 1001.98,1411.33 1003.91,1411.33 1005.84,1411.33 1007.78,1411.33 1009.71,1411.33 1011.65,1411.33 1013.58,1411.33 1015.51,1411.33 \n",
       "  1017.45,1411.33 1019.38,1411.33 1021.32,1407.55 1023.25,1407.55 1025.18,1407.55 1027.12,1407.55 1029.05,1407.55 1030.99,1407.55 1032.92,1407.55 1034.85,1407.55 \n",
       "  1036.79,1407.55 1038.72,1407.55 1040.65,1407.55 1042.59,1407.55 1044.52,1407.55 1046.46,1407.55 1048.39,1407.55 1050.32,1407.55 1052.26,1407.55 1054.19,1407.55 \n",
       "  1056.13,1407.55 1058.06,1407.55 1059.99,1407.55 1061.93,1407.55 1063.86,1407.55 1065.8,1407.55 1067.73,1407.55 1069.66,1407.55 1071.6,1407.55 1073.53,1407.55 \n",
       "  1075.47,1407.55 1077.4,1407.55 1079.33,1407.55 1081.27,1407.55 1083.2,1407.55 1085.13,1407.55 1087.07,1407.55 1089,1407.55 1090.94,1407.55 1092.87,1407.55 \n",
       "  1094.8,1407.55 1096.74,1407.55 1098.67,1407.55 1100.61,1407.55 1102.54,1407.55 1104.47,1407.55 1106.41,1407.55 1108.34,1407.55 1110.28,1407.55 1112.21,1407.55 \n",
       "  1114.14,1407.55 1116.08,1401.4 1118.01,1401.4 1119.95,1401.4 1121.88,1401.4 1123.81,1401.4 1125.75,1401.4 1127.68,1401.4 1129.61,1401.4 1131.55,1401.4 \n",
       "  1133.48,1401.4 1135.42,1401.4 1137.35,1401.4 1139.28,1401.4 1141.22,1401.4 1143.15,1401.4 1145.09,1401.4 1147.02,1401.4 1148.95,1401.4 1150.89,1401.4 \n",
       "  1152.82,1401.4 1154.76,1401.4 1156.69,1401.4 1158.62,1401.4 1160.56,1401.4 1162.49,1401.4 1164.43,1401.4 1166.36,1401.4 1168.29,1401.4 1170.23,1401.4 \n",
       "  1172.16,1401.4 1174.09,1401.4 1176.03,1401.4 1177.96,1401.4 1179.9,1401.4 1181.83,1401.4 1183.76,1401.4 1185.7,1401.4 1187.63,1401.4 1189.57,1401.4 \n",
       "  1191.5,1401.4 1193.43,1401.4 1195.37,1401.4 1197.3,1401.4 1199.24,1401.4 1201.17,1401.4 1203.1,1401.4 1205.04,1401.4 1206.97,1401.4 1208.91,1401.4 \n",
       "  1210.84,1401 1212.77,1401 1214.71,1401 1216.64,1401 1218.57,1401 1220.51,1401 1222.44,1401 1224.38,1401 1226.31,1401 1228.24,1401 \n",
       "  1230.18,1401 1232.11,1401 1234.05,1401 1235.98,1401 1237.91,1401 1239.85,1401 1241.78,1401 1243.72,1401 1245.65,1401 1247.58,1401 \n",
       "  1249.52,1401 1251.45,1401 1253.38,1401 1255.32,1401 1257.25,1401 1259.19,1401 1261.12,1401 1263.05,1401 1264.99,1401 1266.92,1401 \n",
       "  1268.86,1401 1270.79,1401 1272.72,1401 1274.66,1401 1276.59,1401 1278.53,1401 1280.46,1401 1282.39,1401 1284.33,1401 1286.26,1401 \n",
       "  1288.2,1401 1290.13,1401 1292.06,1401 1294,1401 1295.93,1401 1297.86,1401 1299.8,1401 1301.73,1401 1303.67,1401 1305.6,1388.66 \n",
       "  1307.53,1388.66 1309.47,1388.66 1311.4,1388.66 1313.34,1388.66 1315.27,1388.66 1317.2,1388.66 1319.14,1388.66 1321.07,1388.66 1323.01,1388.66 1324.94,1388.66 \n",
       "  1326.87,1388.66 1328.81,1388.66 1330.74,1388.66 1332.68,1388.66 1334.61,1388.66 1336.54,1388.66 1338.48,1388.66 1340.41,1388.66 1342.34,1388.66 1344.28,1388.66 \n",
       "  1346.21,1388.66 1348.15,1388.66 1350.08,1388.66 1352.01,1388.66 1353.95,1388.66 1355.88,1388.66 1357.82,1388.66 1359.75,1388.66 1361.68,1388.66 1363.62,1388.66 \n",
       "  1365.55,1388.66 1367.49,1388.66 1369.42,1388.66 1371.35,1388.66 1373.29,1388.66 1375.22,1388.66 1377.16,1388.66 1379.09,1388.66 1381.02,1388.66 1382.96,1388.66 \n",
       "  1384.89,1388.66 1386.82,1388.66 1388.76,1388.66 1390.69,1388.66 1392.63,1388.66 1394.56,1388.66 1396.49,1388.66 1398.43,1388.66 1400.36,1389.17 1402.3,1389.17 \n",
       "  1404.23,1389.17 1406.16,1389.17 1408.1,1389.17 1410.03,1389.17 1411.97,1389.17 1413.9,1389.17 1415.83,1389.17 1417.77,1389.17 1419.7,1389.17 1421.64,1389.17 \n",
       "  1423.57,1389.17 1425.5,1389.17 1427.44,1389.17 1429.37,1389.17 1431.3,1389.17 1433.24,1389.17 1435.17,1389.17 1437.11,1389.17 1439.04,1389.17 1440.97,1389.17 \n",
       "  1442.91,1389.17 1444.84,1389.17 1446.78,1389.17 1448.71,1389.17 1450.64,1389.17 1452.58,1389.17 1454.51,1389.17 1456.45,1389.17 1458.38,1389.17 1460.31,1389.17 \n",
       "  1462.25,1389.17 1464.18,1389.17 1466.12,1389.17 1468.05,1389.17 1469.98,1389.17 1471.92,1389.17 1473.85,1389.17 1475.78,1389.17 1477.72,1389.17 1479.65,1389.17 \n",
       "  1481.59,1389.17 1483.52,1389.17 1485.45,1389.17 1487.39,1389.17 1489.32,1389.17 1491.26,1389.17 1493.19,1389.17 1495.12,1397.34 1497.06,1397.34 1498.99,1397.34 \n",
       "  1500.93,1397.34 1502.86,1397.34 1504.79,1397.34 1506.73,1397.34 1508.66,1397.34 1510.6,1397.34 1512.53,1397.34 1514.46,1397.34 1516.4,1397.34 1518.33,1397.34 \n",
       "  1520.26,1397.34 1522.2,1397.34 1524.13,1397.34 1526.07,1397.34 1528,1397.34 1529.93,1397.34 1531.87,1397.34 1533.8,1397.34 1535.74,1397.34 1537.67,1397.34 \n",
       "  1539.6,1397.34 1541.54,1397.34 1543.47,1397.34 1545.41,1397.34 1547.34,1397.34 1549.27,1397.34 1551.21,1397.34 1553.14,1397.34 1555.08,1397.34 1557.01,1397.34 \n",
       "  1558.94,1397.34 1560.88,1397.34 1562.81,1397.34 1564.74,1397.34 1566.68,1397.34 1568.61,1397.34 1570.55,1397.34 1572.48,1397.34 1574.41,1397.34 1576.35,1397.34 \n",
       "  1578.28,1397.34 1580.22,1397.34 1582.15,1397.34 1584.08,1397.34 1586.02,1397.34 1587.95,1397.34 1589.89,1400.35 1591.82,1400.35 1593.75,1400.35 1595.69,1400.35 \n",
       "  1597.62,1400.35 1599.56,1400.35 1601.49,1400.35 1603.42,1400.35 1605.36,1400.35 1607.29,1400.35 1609.22,1400.35 1611.16,1400.35 1613.09,1400.35 1615.03,1400.35 \n",
       "  1616.96,1400.35 1618.89,1400.35 1620.83,1400.35 1622.76,1400.35 1624.7,1400.35 1626.63,1400.35 1628.56,1400.35 1630.5,1400.35 1632.43,1400.35 1634.37,1400.35 \n",
       "  1636.3,1400.35 1638.23,1400.35 1640.17,1400.35 1642.1,1400.35 1644.04,1400.35 1645.97,1400.35 1647.9,1400.35 1649.84,1400.35 1651.77,1400.35 1653.7,1400.35 \n",
       "  1655.64,1400.35 1657.57,1400.35 1659.51,1400.35 1661.44,1400.35 1663.37,1400.35 1665.31,1400.35 1667.24,1400.35 1669.18,1400.35 1671.11,1400.35 1673.04,1400.35 \n",
       "  1674.98,1400.35 1676.91,1400.35 1678.85,1400.35 1680.78,1400.35 1682.71,1400.35 1684.65,1399.91 1686.58,1399.91 1688.52,1399.91 1690.45,1399.91 1692.38,1399.91 \n",
       "  1694.32,1399.91 1696.25,1399.91 1698.18,1399.91 1700.12,1399.91 1702.05,1399.91 1703.99,1399.91 1705.92,1399.91 1707.85,1399.91 1709.79,1399.91 1711.72,1399.91 \n",
       "  1713.66,1399.91 1715.59,1399.91 1717.52,1399.91 1719.46,1399.91 1721.39,1399.91 1723.33,1399.91 1725.26,1399.91 1727.19,1399.91 1729.13,1399.91 1731.06,1399.91 \n",
       "  1733,1399.91 1734.93,1399.91 1736.86,1399.91 1738.8,1399.91 1740.73,1399.91 1742.66,1399.91 1744.6,1399.91 1746.53,1399.91 1748.47,1399.91 1750.4,1399.91 \n",
       "  1752.33,1399.91 1754.27,1399.91 1756.2,1399.91 1758.14,1399.91 1760.07,1399.91 1762,1399.91 1763.94,1399.91 1765.87,1399.91 1767.81,1399.91 1769.74,1399.91 \n",
       "  1771.67,1399.91 1773.61,1399.91 1775.54,1399.91 1777.48,1399.91 1779.41,1416.28 1781.34,1416.28 1783.28,1416.28 1785.21,1416.28 1787.14,1416.28 1789.08,1416.28 \n",
       "  1791.01,1416.28 1792.95,1416.28 1794.88,1416.28 1796.81,1416.28 1798.75,1416.28 1800.68,1416.28 1802.62,1416.28 1804.55,1416.28 1806.48,1416.28 1808.42,1416.28 \n",
       "  1810.35,1416.28 1812.29,1416.28 1814.22,1416.28 1816.15,1416.28 1818.09,1416.28 1820.02,1416.28 1821.96,1416.28 1823.89,1416.28 1825.82,1416.28 1827.76,1416.28 \n",
       "  1829.69,1416.28 1831.62,1416.28 1833.56,1416.28 1835.49,1416.28 1837.43,1416.28 1839.36,1416.28 1841.29,1416.28 1843.23,1416.28 1845.16,1416.28 1847.1,1416.28 \n",
       "  1849.03,1416.28 1850.96,1416.28 1852.9,1416.28 1854.83,1416.28 1856.77,1416.28 1858.7,1416.28 1860.63,1416.28 1862.57,1416.28 1864.5,1416.28 1866.44,1416.28 \n",
       "  1868.37,1416.28 1870.3,1416.28 1872.24,1416.28 1874.17,1419.08 1876.1,1419.08 1878.04,1419.08 1879.97,1419.08 1881.91,1419.08 1883.84,1419.08 1885.77,1419.08 \n",
       "  1887.71,1419.08 1889.64,1419.08 1891.58,1419.08 1893.51,1419.08 1895.44,1419.08 1897.38,1419.08 1899.31,1419.08 1901.25,1419.08 1903.18,1419.08 1905.11,1419.08 \n",
       "  1907.05,1419.08 1908.98,1419.08 1910.92,1419.08 1912.85,1419.08 1914.78,1419.08 1916.72,1419.08 1918.65,1419.08 1920.58,1419.08 1922.52,1419.08 1924.45,1419.08 \n",
       "  1926.39,1419.08 1928.32,1419.08 1930.25,1419.08 1932.19,1419.08 1934.12,1419.08 1936.06,1419.08 1937.99,1419.08 1939.92,1419.08 1941.86,1419.08 1943.79,1419.08 \n",
       "  1945.73,1419.08 1947.66,1419.08 1949.59,1419.08 1951.53,1419.08 1953.46,1419.08 1955.4,1419.08 1957.33,1419.08 1959.26,1419.08 1961.2,1419.08 1963.13,1419.08 \n",
       "  1965.06,1419.08 1967,1419.08 1968.93,1419.69 1970.87,1419.69 1972.8,1419.69 1974.73,1419.69 1976.67,1419.69 1978.6,1419.69 1980.54,1419.69 1982.47,1419.69 \n",
       "  1984.4,1419.69 1986.34,1419.69 1988.27,1419.69 1990.21,1419.69 1992.14,1419.69 1994.07,1419.69 1996.01,1419.69 1997.94,1419.69 1999.87,1419.69 2001.81,1419.69 \n",
       "  2003.74,1419.69 2005.68,1419.69 2007.61,1419.69 2009.54,1419.69 2011.48,1419.69 2013.41,1419.69 2015.35,1419.69 2017.28,1419.69 2019.21,1419.69 2021.15,1419.69 \n",
       "  2023.08,1419.69 2025.02,1419.69 2026.95,1419.69 2028.88,1419.69 2030.82,1419.69 2032.75,1419.69 2034.69,1419.69 2036.62,1419.69 2038.55,1419.69 2040.49,1419.69 \n",
       "  2042.42,1419.69 2044.35,1419.69 2046.29,1419.69 2048.22,1419.69 2050.16,1419.69 2052.09,1419.69 2054.02,1419.69 2055.96,1419.69 2057.89,1419.69 2059.83,1419.69 \n",
       "  2061.76,1419.69 2063.69,1399.91 2065.63,1399.91 2067.56,1399.91 2069.5,1399.91 2071.43,1399.91 2073.36,1399.91 2075.3,1399.91 2077.23,1399.91 2079.17,1399.91 \n",
       "  2081.1,1399.91 2083.03,1399.91 2084.97,1399.91 2086.9,1399.91 2088.83,1399.91 2090.77,1399.91 2092.7,1399.91 2094.64,1399.91 2096.57,1399.91 2098.5,1399.91 \n",
       "  2100.44,1399.91 2102.37,1399.91 2104.31,1399.91 2106.24,1399.91 2108.17,1399.91 2110.11,1399.91 2112.04,1399.91 2113.98,1399.91 2115.91,1399.91 2117.84,1399.91 \n",
       "  2119.78,1399.91 2121.71,1399.91 2123.65,1399.91 2125.58,1399.91 2127.51,1399.91 2129.45,1399.91 2131.38,1399.91 2133.31,1399.91 2135.25,1399.91 2137.18,1399.91 \n",
       "  2139.12,1399.91 2141.05,1399.91 2142.98,1399.91 2144.92,1399.91 2146.85,1399.91 2148.79,1399.91 2150.72,1399.91 2152.65,1399.91 2154.59,1399.91 2156.52,1399.91 \n",
       "  2158.46,1366 2160.39,1366 2162.32,1366 2164.26,1366 2166.19,1366 2168.13,1366 2170.06,1366 2171.99,1366 2173.93,1366 2175.86,1366 \n",
       "  2177.79,1366 2179.73,1366 2181.66,1366 2183.6,1366 2185.53,1366 2187.46,1366 2189.4,1366 2191.33,1366 2193.27,1366 2195.2,1366 \n",
       "  2197.13,1366 2199.07,1366 2201,1366 2202.94,1366 2204.87,1366 2206.8,1366 2208.74,1366 2210.67,1366 2212.61,1366 2214.54,1366 \n",
       "  2216.47,1366 2218.41,1366 2220.34,1366 2222.27,1366 2224.21,1366 2226.14,1366 2228.08,1366 2230.01,1366 2231.94,1366 2233.88,1366 \n",
       "  2235.81,1366 2237.75,1366 2239.68,1366 2241.61,1366 2243.55,1366 2245.48,1366 2247.42,1366 2249.35,1366 2251.28,1366 2253.22,1445.72 \n",
       "  2255.15,1445.72 2257.09,1445.72 2259.02,1445.72 2260.95,1445.72 2262.89,1445.72 2264.82,1445.72 2266.75,1445.72 2268.69,1445.72 2270.62,1445.72 2272.56,1445.72 \n",
       "  2274.49,1445.72 2276.42,1445.72 2278.36,1445.72 2280.29,1445.72 2282.23,1445.72 2284.16,1445.72 2286.09,1445.72 2288.03,1445.72 2289.96,1445.72 2291.9,1445.72 \n",
       "  \n",
       "  \"/>\n",
       "<polyline clip-path=\"url(#clip752)\" style=\"stroke:#e26f46; stroke-width:4; stroke-opacity:1; fill:none\" points=\"\n",
       "  263.222,1339.93 265.156,1378.19 267.09,1375.35 269.024,1367.05 270.958,1371.62 272.892,1385.63 274.826,1398.51 276.759,1400.37 278.693,1412.03 280.627,1415.3 \n",
       "  282.561,1414.38 284.495,1416.58 286.429,1421.74 288.363,1420.89 290.297,1420.88 292.231,1426.71 294.165,1426.06 296.099,1426.46 298.033,1426.46 299.966,1427.59 \n",
       "  301.9,1425.41 303.834,1423.42 305.768,1424.86 307.702,1426.5 309.636,1425.28 311.57,1424.19 313.504,1424.36 315.438,1424.86 317.372,1425.39 319.306,1425.43 \n",
       "  321.239,1424.96 323.173,1425.43 325.107,1425.22 327.041,1425.94 328.975,1425.98 330.909,1425.85 332.843,1425.84 334.777,1426.26 336.711,1426.83 338.645,1427.4 \n",
       "  340.579,1427.53 342.512,1427.34 344.446,1426.96 346.38,1427.05 348.314,1426.86 350.248,1426.84 352.182,1427.15 354.116,1426.85 356.05,1426.63 357.984,1408.26 \n",
       "  359.918,1409.7 361.852,1409.8 363.786,1409.37 365.719,1409.47 367.653,1409.38 369.587,1409.37 371.521,1409.37 373.455,1409.51 375.389,1409.92 377.323,1410.08 \n",
       "  379.257,1409.99 381.191,1409.84 383.125,1409.93 385.059,1410.86 386.992,1411.61 388.926,1411.75 390.86,1411.73 392.794,1411.92 394.728,1411.9 396.662,1411.92 \n",
       "  398.596,1411.95 400.53,1412.06 402.464,1412.05 404.398,1412.08 406.332,1412.07 408.265,1412.04 410.199,1412.08 412.133,1412.06 414.067,1412.06 416.001,1412.07 \n",
       "  417.935,1412.05 419.869,1412.03 421.803,1412 423.737,1411.98 425.671,1411.94 427.605,1411.88 429.539,1411.9 431.472,1411.95 433.406,1412 435.34,1411.84 \n",
       "  437.274,1411.81 439.208,1411.98 441.142,1412.14 443.076,1412.05 445.01,1412.02 446.944,1412.17 448.878,1412.18 450.812,1412.18 452.745,1361.97 454.679,1361.97 \n",
       "  456.613,1361.97 458.547,1361.97 460.481,1361.97 462.415,1361.97 464.349,1361.97 466.283,1361.97 468.217,1361.97 470.151,1361.97 472.085,1361.97 474.018,1361.97 \n",
       "  475.952,1361.97 477.886,1361.97 479.82,1361.97 481.754,1361.97 483.688,1361.97 485.622,1361.97 487.556,1361.97 489.49,1361.97 491.424,1361.97 493.358,1361.97 \n",
       "  495.292,1361.97 497.225,1361.97 499.159,1361.97 501.093,1361.97 503.027,1361.97 504.961,1361.97 506.895,1361.97 508.829,1361.97 510.763,1361.97 512.697,1361.97 \n",
       "  514.631,1361.97 516.565,1361.97 518.498,1361.97 520.432,1361.97 522.366,1361.97 524.3,1361.97 526.234,1361.97 528.168,1361.97 530.102,1361.97 532.036,1361.97 \n",
       "  533.97,1361.97 535.904,1361.97 537.838,1361.97 539.771,1361.97 541.705,1361.97 543.639,1361.97 545.573,1361.97 547.507,1369.29 549.441,1369.29 551.375,1369.29 \n",
       "  553.309,1369.29 555.243,1369.29 557.177,1369.29 559.111,1369.29 561.045,1369.29 562.978,1369.29 564.912,1369.29 566.846,1369.29 568.78,1369.29 570.714,1369.29 \n",
       "  572.648,1369.29 574.582,1369.29 576.516,1369.29 578.45,1369.29 580.384,1369.29 582.318,1369.29 584.251,1369.29 586.185,1369.29 588.119,1369.29 590.053,1369.29 \n",
       "  591.987,1369.29 593.921,1369.29 595.855,1369.29 597.789,1369.29 599.723,1369.29 601.657,1369.29 603.591,1369.29 605.524,1369.29 607.458,1369.29 609.392,1369.29 \n",
       "  611.326,1369.29 613.26,1369.29 615.194,1369.29 617.128,1369.29 619.062,1369.29 620.996,1369.29 622.93,1369.29 624.864,1369.29 626.798,1369.29 628.731,1369.29 \n",
       "  630.665,1369.29 632.599,1369.29 634.533,1369.29 636.467,1369.29 638.401,1369.29 640.335,1369.29 642.269,1399.16 644.203,1399.16 646.137,1399.16 648.071,1399.16 \n",
       "  650.004,1399.16 651.938,1399.16 653.872,1399.16 655.806,1399.16 657.74,1399.16 659.674,1399.16 661.608,1399.16 663.542,1399.16 665.476,1399.16 667.41,1399.16 \n",
       "  669.344,1399.16 671.278,1399.16 673.211,1399.16 675.145,1399.16 677.079,1399.16 679.013,1399.16 680.947,1399.16 682.881,1399.16 684.815,1399.16 686.749,1399.16 \n",
       "  688.683,1399.16 690.617,1399.16 692.551,1399.16 694.484,1399.16 696.418,1399.16 698.352,1399.16 700.286,1399.16 702.22,1399.16 704.154,1399.16 706.088,1399.16 \n",
       "  708.022,1399.16 709.956,1399.16 711.89,1399.16 713.824,1399.16 715.757,1399.16 717.691,1399.16 719.625,1399.16 721.559,1399.16 723.493,1399.16 725.427,1399.16 \n",
       "  727.361,1399.16 729.295,1399.16 731.229,1399.16 733.163,1399.16 735.097,1399.16 737.031,1415.98 738.964,1415.98 740.898,1415.98 742.832,1415.98 744.766,1415.98 \n",
       "  746.7,1415.98 748.634,1415.98 750.568,1415.98 752.502,1415.98 754.436,1415.98 756.37,1415.98 758.304,1415.98 760.237,1415.98 762.171,1415.98 764.105,1415.98 \n",
       "  766.039,1415.98 767.973,1415.98 769.907,1415.98 771.841,1415.98 773.775,1415.98 775.709,1415.98 777.643,1415.98 779.577,1415.98 781.51,1415.98 783.444,1415.98 \n",
       "  785.378,1415.98 787.312,1415.98 789.246,1415.98 791.18,1415.98 793.114,1415.98 795.048,1415.98 796.982,1415.98 798.916,1415.98 800.85,1415.98 802.784,1415.98 \n",
       "  804.717,1415.98 806.651,1415.98 808.585,1415.98 810.519,1415.98 812.453,1415.98 814.387,1415.98 816.321,1415.98 818.255,1415.98 820.189,1415.98 822.123,1415.98 \n",
       "  824.057,1415.98 825.99,1415.98 827.924,1415.98 829.858,1415.98 831.792,1410 833.726,1410 835.66,1410 837.594,1410 839.528,1410 841.462,1410 \n",
       "  843.396,1410 845.33,1410 847.263,1410 849.197,1410 851.131,1410 853.065,1410 854.999,1410 856.933,1410 858.867,1410 860.801,1410 \n",
       "  862.735,1410 864.669,1410 866.603,1410 868.537,1410 870.47,1410 872.404,1410 874.338,1410 876.272,1410 878.206,1410 880.14,1410 \n",
       "  882.074,1410 884.008,1410 885.942,1410 887.876,1410 889.81,1410 891.743,1410 893.677,1410 895.611,1410 897.545,1410 899.479,1410 \n",
       "  901.413,1410 903.347,1410 905.281,1410 907.215,1410 909.149,1410 911.083,1410 913.016,1410 914.95,1410 916.884,1410 918.818,1410 \n",
       "  920.752,1410 922.686,1410 924.62,1410 926.554,1423.69 928.488,1423.69 930.422,1423.69 932.356,1423.69 934.29,1423.69 936.223,1423.69 938.157,1423.69 \n",
       "  940.091,1423.69 942.025,1423.69 943.959,1423.69 945.893,1423.69 947.827,1423.69 949.761,1423.69 951.695,1423.69 953.629,1423.69 955.563,1423.69 957.496,1423.69 \n",
       "  959.43,1423.69 961.364,1423.69 963.298,1423.69 965.232,1423.69 967.166,1423.69 969.1,1423.69 971.034,1423.69 972.968,1423.69 974.902,1423.69 976.836,1423.69 \n",
       "  978.769,1423.69 980.703,1423.69 982.637,1423.69 984.571,1423.69 986.505,1423.69 988.439,1423.69 990.373,1423.69 992.307,1423.69 994.241,1423.69 996.175,1423.69 \n",
       "  998.109,1423.69 1000.04,1423.69 1001.98,1423.69 1003.91,1423.69 1005.84,1423.69 1007.78,1423.69 1009.71,1423.69 1011.65,1423.69 1013.58,1423.69 1015.51,1423.69 \n",
       "  1017.45,1423.69 1019.38,1423.69 1021.32,1379.2 1023.25,1379.2 1025.18,1379.2 1027.12,1379.2 1029.05,1379.2 1030.99,1379.2 1032.92,1379.2 1034.85,1379.2 \n",
       "  1036.79,1379.2 1038.72,1379.2 1040.65,1379.2 1042.59,1379.2 1044.52,1379.2 1046.46,1379.2 1048.39,1379.2 1050.32,1379.2 1052.26,1379.2 1054.19,1379.2 \n",
       "  1056.13,1379.2 1058.06,1379.2 1059.99,1379.2 1061.93,1379.2 1063.86,1379.2 1065.8,1379.2 1067.73,1379.2 1069.66,1379.2 1071.6,1379.2 1073.53,1379.2 \n",
       "  1075.47,1379.2 1077.4,1379.2 1079.33,1379.2 1081.27,1379.2 1083.2,1379.2 1085.13,1379.2 1087.07,1379.2 1089,1379.2 1090.94,1379.2 1092.87,1379.2 \n",
       "  1094.8,1379.2 1096.74,1379.2 1098.67,1379.2 1100.61,1379.2 1102.54,1379.2 1104.47,1379.2 1106.41,1379.2 1108.34,1379.2 1110.28,1379.2 1112.21,1379.2 \n",
       "  1114.14,1379.2 1116.08,1397.69 1118.01,1397.69 1119.95,1397.69 1121.88,1397.69 1123.81,1397.69 1125.75,1397.69 1127.68,1397.69 1129.61,1397.69 1131.55,1397.69 \n",
       "  1133.48,1397.69 1135.42,1397.69 1137.35,1397.69 1139.28,1397.69 1141.22,1397.69 1143.15,1397.69 1145.09,1397.69 1147.02,1397.69 1148.95,1397.69 1150.89,1397.69 \n",
       "  1152.82,1397.69 1154.76,1397.69 1156.69,1397.69 1158.62,1397.69 1160.56,1397.69 1162.49,1397.69 1164.43,1397.69 1166.36,1397.69 1168.29,1397.69 1170.23,1397.69 \n",
       "  1172.16,1397.69 1174.09,1397.69 1176.03,1397.69 1177.96,1397.69 1179.9,1397.69 1181.83,1397.69 1183.76,1397.69 1185.7,1397.69 1187.63,1397.69 1189.57,1397.69 \n",
       "  1191.5,1397.69 1193.43,1397.69 1195.37,1397.69 1197.3,1397.69 1199.24,1397.69 1201.17,1397.69 1203.1,1397.69 1205.04,1397.69 1206.97,1397.69 1208.91,1397.69 \n",
       "  1210.84,1404.7 1212.77,1404.7 1214.71,1404.7 1216.64,1404.7 1218.57,1404.7 1220.51,1404.7 1222.44,1404.7 1224.38,1404.7 1226.31,1404.7 1228.24,1404.7 \n",
       "  1230.18,1404.7 1232.11,1404.7 1234.05,1404.7 1235.98,1404.7 1237.91,1404.7 1239.85,1404.7 1241.78,1404.7 1243.72,1404.7 1245.65,1404.7 1247.58,1404.7 \n",
       "  1249.52,1404.7 1251.45,1404.7 1253.38,1404.7 1255.32,1404.7 1257.25,1404.7 1259.19,1404.7 1261.12,1404.7 1263.05,1404.7 1264.99,1404.7 1266.92,1404.7 \n",
       "  1268.86,1404.7 1270.79,1404.7 1272.72,1404.7 1274.66,1404.7 1276.59,1404.7 1278.53,1404.7 1280.46,1404.7 1282.39,1404.7 1284.33,1404.7 1286.26,1404.7 \n",
       "  1288.2,1404.7 1290.13,1404.7 1292.06,1404.7 1294,1404.7 1295.93,1404.7 1297.86,1404.7 1299.8,1404.7 1301.73,1404.7 1303.67,1404.7 1305.6,1384.98 \n",
       "  1307.53,1384.98 1309.47,1384.98 1311.4,1384.98 1313.34,1384.98 1315.27,1384.98 1317.2,1384.98 1319.14,1384.98 1321.07,1384.98 1323.01,1384.98 1324.94,1384.98 \n",
       "  1326.87,1384.98 1328.81,1384.98 1330.74,1384.98 1332.68,1384.98 1334.61,1384.98 1336.54,1384.98 1338.48,1384.98 1340.41,1384.98 1342.34,1384.98 1344.28,1384.98 \n",
       "  1346.21,1384.98 1348.15,1384.98 1350.08,1384.98 1352.01,1384.98 1353.95,1384.98 1355.88,1384.98 1357.82,1384.98 1359.75,1384.98 1361.68,1384.98 1363.62,1384.98 \n",
       "  1365.55,1384.98 1367.49,1384.98 1369.42,1384.98 1371.35,1384.98 1373.29,1384.98 1375.22,1384.98 1377.16,1384.98 1379.09,1384.98 1381.02,1384.98 1382.96,1384.98 \n",
       "  1384.89,1384.98 1386.82,1384.98 1388.76,1384.98 1390.69,1384.98 1392.63,1384.98 1394.56,1384.98 1396.49,1384.98 1398.43,1384.98 1400.36,1388.41 1402.3,1388.41 \n",
       "  1404.23,1388.41 1406.16,1388.41 1408.1,1388.41 1410.03,1388.41 1411.97,1388.41 1413.9,1388.41 1415.83,1388.41 1417.77,1388.41 1419.7,1388.41 1421.64,1388.41 \n",
       "  1423.57,1388.41 1425.5,1388.41 1427.44,1388.41 1429.37,1388.41 1431.3,1388.41 1433.24,1388.41 1435.17,1388.41 1437.11,1388.41 1439.04,1388.41 1440.97,1388.41 \n",
       "  1442.91,1388.41 1444.84,1388.41 1446.78,1388.41 1448.71,1388.41 1450.64,1388.41 1452.58,1388.41 1454.51,1388.41 1456.45,1388.41 1458.38,1388.41 1460.31,1388.41 \n",
       "  1462.25,1388.41 1464.18,1388.41 1466.12,1388.41 1468.05,1388.41 1469.98,1388.41 1471.92,1388.41 1473.85,1388.41 1475.78,1388.41 1477.72,1388.41 1479.65,1388.41 \n",
       "  1481.59,1388.41 1483.52,1388.41 1485.45,1388.41 1487.39,1388.41 1489.32,1388.41 1491.26,1388.41 1493.19,1388.41 1495.12,1434.56 1497.06,1434.56 1498.99,1434.56 \n",
       "  1500.93,1434.56 1502.86,1434.56 1504.79,1434.56 1506.73,1434.56 1508.66,1434.56 1510.6,1434.56 1512.53,1434.56 1514.46,1434.56 1516.4,1434.56 1518.33,1434.56 \n",
       "  1520.26,1434.56 1522.2,1434.56 1524.13,1434.56 1526.07,1434.56 1528,1434.56 1529.93,1434.56 1531.87,1434.56 1533.8,1434.56 1535.74,1434.56 1537.67,1434.56 \n",
       "  1539.6,1434.56 1541.54,1434.56 1543.47,1434.56 1545.41,1434.56 1547.34,1434.56 1549.27,1434.56 1551.21,1434.56 1553.14,1434.56 1555.08,1434.56 1557.01,1434.56 \n",
       "  1558.94,1434.56 1560.88,1434.56 1562.81,1434.56 1564.74,1434.56 1566.68,1434.56 1568.61,1434.56 1570.55,1434.56 1572.48,1434.56 1574.41,1434.56 1576.35,1434.56 \n",
       "  1578.28,1434.56 1580.22,1434.56 1582.15,1434.56 1584.08,1434.56 1586.02,1434.56 1587.95,1434.56 1589.89,1425.01 1591.82,1425.01 1593.75,1425.01 1595.69,1425.01 \n",
       "  1597.62,1425.01 1599.56,1425.01 1601.49,1425.01 1603.42,1425.01 1605.36,1425.01 1607.29,1425.01 1609.22,1425.01 1611.16,1425.01 1613.09,1425.01 1615.03,1425.01 \n",
       "  1616.96,1425.01 1618.89,1425.01 1620.83,1425.01 1622.76,1425.01 1624.7,1425.01 1626.63,1425.01 1628.56,1425.01 1630.5,1425.01 1632.43,1425.01 1634.37,1425.01 \n",
       "  1636.3,1425.01 1638.23,1425.01 1640.17,1425.01 1642.1,1425.01 1644.04,1425.01 1645.97,1425.01 1647.9,1425.01 1649.84,1425.01 1651.77,1425.01 1653.7,1425.01 \n",
       "  1655.64,1425.01 1657.57,1425.01 1659.51,1425.01 1661.44,1425.01 1663.37,1425.01 1665.31,1425.01 1667.24,1425.01 1669.18,1425.01 1671.11,1425.01 1673.04,1425.01 \n",
       "  1674.98,1425.01 1676.91,1425.01 1678.85,1425.01 1680.78,1425.01 1682.71,1425.01 1684.65,1414.94 1686.58,1414.94 1688.52,1414.94 1690.45,1414.94 1692.38,1414.94 \n",
       "  1694.32,1414.94 1696.25,1414.94 1698.18,1414.94 1700.12,1414.94 1702.05,1414.94 1703.99,1414.94 1705.92,1414.94 1707.85,1414.94 1709.79,1414.94 1711.72,1414.94 \n",
       "  1713.66,1414.94 1715.59,1414.94 1717.52,1414.94 1719.46,1414.94 1721.39,1414.94 1723.33,1414.94 1725.26,1414.94 1727.19,1414.94 1729.13,1414.94 1731.06,1414.94 \n",
       "  1733,1414.94 1734.93,1414.94 1736.86,1414.94 1738.8,1414.94 1740.73,1414.94 1742.66,1414.94 1744.6,1414.94 1746.53,1414.94 1748.47,1414.94 1750.4,1414.94 \n",
       "  1752.33,1414.94 1754.27,1414.94 1756.2,1414.94 1758.14,1414.94 1760.07,1414.94 1762,1414.94 1763.94,1414.94 1765.87,1414.94 1767.81,1414.94 1769.74,1414.94 \n",
       "  1771.67,1414.94 1773.61,1414.94 1775.54,1414.94 1777.48,1414.94 1779.41,1401.72 1781.34,1401.72 1783.28,1401.72 1785.21,1401.72 1787.14,1401.72 1789.08,1401.72 \n",
       "  1791.01,1401.72 1792.95,1401.72 1794.88,1401.72 1796.81,1401.72 1798.75,1401.72 1800.68,1401.72 1802.62,1401.72 1804.55,1401.72 1806.48,1401.72 1808.42,1401.72 \n",
       "  1810.35,1401.72 1812.29,1401.72 1814.22,1401.72 1816.15,1401.72 1818.09,1401.72 1820.02,1401.72 1821.96,1401.72 1823.89,1401.72 1825.82,1401.72 1827.76,1401.72 \n",
       "  1829.69,1401.72 1831.62,1401.72 1833.56,1401.72 1835.49,1401.72 1837.43,1401.72 1839.36,1401.72 1841.29,1401.72 1843.23,1401.72 1845.16,1401.72 1847.1,1401.72 \n",
       "  1849.03,1401.72 1850.96,1401.72 1852.9,1401.72 1854.83,1401.72 1856.77,1401.72 1858.7,1401.72 1860.63,1401.72 1862.57,1401.72 1864.5,1401.72 1866.44,1401.72 \n",
       "  1868.37,1401.72 1870.3,1401.72 1872.24,1401.72 1874.17,1421.83 1876.1,1421.83 1878.04,1421.83 1879.97,1421.83 1881.91,1421.83 1883.84,1421.83 1885.77,1421.83 \n",
       "  1887.71,1421.83 1889.64,1421.83 1891.58,1421.83 1893.51,1421.83 1895.44,1421.83 1897.38,1421.83 1899.31,1421.83 1901.25,1421.83 1903.18,1421.83 1905.11,1421.83 \n",
       "  1907.05,1421.83 1908.98,1421.83 1910.92,1421.83 1912.85,1421.83 1914.78,1421.83 1916.72,1421.83 1918.65,1421.83 1920.58,1421.83 1922.52,1421.83 1924.45,1421.83 \n",
       "  1926.39,1421.83 1928.32,1421.83 1930.25,1421.83 1932.19,1421.83 1934.12,1421.83 1936.06,1421.83 1937.99,1421.83 1939.92,1421.83 1941.86,1421.83 1943.79,1421.83 \n",
       "  1945.73,1421.83 1947.66,1421.83 1949.59,1421.83 1951.53,1421.83 1953.46,1421.83 1955.4,1421.83 1957.33,1421.83 1959.26,1421.83 1961.2,1421.83 1963.13,1421.83 \n",
       "  1965.06,1421.83 1967,1421.83 1968.93,1432.69 1970.87,1432.69 1972.8,1432.69 1974.73,1432.69 1976.67,1432.69 1978.6,1432.69 1980.54,1432.69 1982.47,1432.69 \n",
       "  1984.4,1432.69 1986.34,1432.69 1988.27,1432.69 1990.21,1432.69 1992.14,1432.69 1994.07,1432.69 1996.01,1432.69 1997.94,1432.69 1999.87,1432.69 2001.81,1432.69 \n",
       "  2003.74,1432.69 2005.68,1432.69 2007.61,1432.69 2009.54,1432.69 2011.48,1432.69 2013.41,1432.69 2015.35,1432.69 2017.28,1432.69 2019.21,1432.69 2021.15,1432.69 \n",
       "  2023.08,1432.69 2025.02,1432.69 2026.95,1432.69 2028.88,1432.69 2030.82,1432.69 2032.75,1432.69 2034.69,1432.69 2036.62,1432.69 2038.55,1432.69 2040.49,1432.69 \n",
       "  2042.42,1432.69 2044.35,1432.69 2046.29,1432.69 2048.22,1432.69 2050.16,1432.69 2052.09,1432.69 2054.02,1432.69 2055.96,1432.69 2057.89,1432.69 2059.83,1432.69 \n",
       "  2061.76,1432.69 2063.69,1364.23 2065.63,1364.23 2067.56,1364.23 2069.5,1364.23 2071.43,1364.23 2073.36,1364.23 2075.3,1364.23 2077.23,1364.23 2079.17,1364.23 \n",
       "  2081.1,1364.23 2083.03,1364.23 2084.97,1364.23 2086.9,1364.23 2088.83,1364.23 2090.77,1364.23 2092.7,1364.23 2094.64,1364.23 2096.57,1364.23 2098.5,1364.23 \n",
       "  2100.44,1364.23 2102.37,1364.23 2104.31,1364.23 2106.24,1364.23 2108.17,1364.23 2110.11,1364.23 2112.04,1364.23 2113.98,1364.23 2115.91,1364.23 2117.84,1364.23 \n",
       "  2119.78,1364.23 2121.71,1364.23 2123.65,1364.23 2125.58,1364.23 2127.51,1364.23 2129.45,1364.23 2131.38,1364.23 2133.31,1364.23 2135.25,1364.23 2137.18,1364.23 \n",
       "  2139.12,1364.23 2141.05,1364.23 2142.98,1364.23 2144.92,1364.23 2146.85,1364.23 2148.79,1364.23 2150.72,1364.23 2152.65,1364.23 2154.59,1364.23 2156.52,1364.23 \n",
       "  2158.46,1273.74 2160.39,1273.74 2162.32,1273.74 2164.26,1273.74 2166.19,1273.74 2168.13,1273.74 2170.06,1273.74 2171.99,1273.74 2173.93,1273.74 2175.86,1273.74 \n",
       "  2177.79,1273.74 2179.73,1273.74 2181.66,1273.74 2183.6,1273.74 2185.53,1273.74 2187.46,1273.74 2189.4,1273.74 2191.33,1273.74 2193.27,1273.74 2195.2,1273.74 \n",
       "  2197.13,1273.74 2199.07,1273.74 2201,1273.74 2202.94,1273.74 2204.87,1273.74 2206.8,1273.74 2208.74,1273.74 2210.67,1273.74 2212.61,1273.74 2214.54,1273.74 \n",
       "  2216.47,1273.74 2218.41,1273.74 2220.34,1273.74 2222.27,1273.74 2224.21,1273.74 2226.14,1273.74 2228.08,1273.74 2230.01,1273.74 2231.94,1273.74 2233.88,1273.74 \n",
       "  2235.81,1273.74 2237.75,1273.74 2239.68,1273.74 2241.61,1273.74 2243.55,1273.74 2245.48,1273.74 2247.42,1273.74 2249.35,1273.74 2251.28,1273.74 2253.22,1445.72 \n",
       "  2255.15,1445.72 2257.09,1445.72 2259.02,1445.72 2260.95,1445.72 2262.89,1445.72 2264.82,1445.72 2266.75,1445.72 2268.69,1445.72 2270.62,1445.72 2272.56,1445.72 \n",
       "  2274.49,1445.72 2276.42,1445.72 2278.36,1445.72 2280.29,1445.72 2282.23,1445.72 2284.16,1445.72 2286.09,1445.72 2288.03,1445.72 2289.96,1445.72 2291.9,1445.72 \n",
       "  \n",
       "  \"/>\n",
       "<polyline clip-path=\"url(#clip752)\" style=\"stroke:#3da44d; stroke-width:4; stroke-opacity:1; fill:none\" points=\"\n",
       "  263.222,1027.36 265.156,1188.95 267.09,1205.37 269.024,1255.77 270.958,1266.49 272.892,1285.69 274.826,1291.49 276.759,1280.82 278.693,1342.77 280.627,1356.24 \n",
       "  282.561,1362.74 284.495,1358.88 286.429,1333.11 288.363,1334.24 290.297,1346.46 292.231,1345.55 294.165,1356.25 296.099,1349.28 298.033,1345.46 299.966,1343.03 \n",
       "  301.9,1344.7 303.834,1351.3 305.768,1351.96 307.702,1354.06 309.636,1361.76 311.57,1367.64 313.504,1367.34 315.438,1366.77 317.372,1365.96 319.306,1368.09 \n",
       "  321.239,1371.12 323.173,1368.97 325.107,1371.92 327.041,1371.55 328.975,1374.63 330.909,1377.61 332.843,1376.01 334.777,1378.46 336.711,1377.49 338.645,1377.82 \n",
       "  340.579,1379.29 342.512,1377.07 344.446,1377.4 346.38,1378.59 348.314,1379.86 350.248,1379.6 352.182,1379.52 354.116,1380.5 356.05,1380.28 357.984,1345.53 \n",
       "  359.918,1352.52 361.852,1353.98 363.786,1350.89 365.719,1351.57 367.653,1350.61 369.587,1349.98 371.521,1348.35 373.455,1350.63 375.389,1350.65 377.323,1349.96 \n",
       "  379.257,1348.85 381.191,1345.44 383.125,1340.3 385.059,1339.73 386.992,1347.91 388.926,1342.56 390.86,1345.1 392.794,1346.69 394.728,1344.45 396.662,1345.54 \n",
       "  398.596,1345.67 400.53,1345.96 402.464,1346.18 404.398,1346.09 406.332,1346.09 408.265,1345.95 410.199,1346.38 412.133,1346.49 414.067,1346.05 416.001,1345.87 \n",
       "  417.935,1346.01 419.869,1345.77 421.803,1345.14 423.737,1345.31 425.671,1344.53 427.605,1343.94 429.539,1344.09 431.472,1344.14 433.406,1344.33 435.34,1343.94 \n",
       "  437.274,1343.87 439.208,1344.91 441.142,1345.87 443.076,1345.76 445.01,1345.68 446.944,1346.46 448.878,1346.8 450.812,1347.28 452.745,1383 454.679,1383 \n",
       "  456.613,1383 458.547,1383 460.481,1383 462.415,1383 464.349,1383 466.283,1383 468.217,1383 470.151,1383 472.085,1383 474.018,1383 \n",
       "  475.952,1383 477.886,1383 479.82,1383 481.754,1383 483.688,1383 485.622,1383 487.556,1383 489.49,1383 491.424,1383 493.358,1383 \n",
       "  495.292,1383 497.225,1383 499.159,1383 501.093,1383 503.027,1383 504.961,1383 506.895,1383 508.829,1383 510.763,1383 512.697,1383 \n",
       "  514.631,1383 516.565,1383 518.498,1383 520.432,1383 522.366,1383 524.3,1383 526.234,1383 528.168,1383 530.102,1383 532.036,1383 \n",
       "  533.97,1383 535.904,1383 537.838,1383 539.771,1383 541.705,1383 543.639,1383 545.573,1383 547.507,1423.31 549.441,1423.31 551.375,1423.31 \n",
       "  553.309,1423.31 555.243,1423.31 557.177,1423.31 559.111,1423.31 561.045,1423.31 562.978,1423.31 564.912,1423.31 566.846,1423.31 568.78,1423.31 570.714,1423.31 \n",
       "  572.648,1423.31 574.582,1423.31 576.516,1423.31 578.45,1423.31 580.384,1423.31 582.318,1423.31 584.251,1423.31 586.185,1423.31 588.119,1423.31 590.053,1423.31 \n",
       "  591.987,1423.31 593.921,1423.31 595.855,1423.31 597.789,1423.31 599.723,1423.31 601.657,1423.31 603.591,1423.31 605.524,1423.31 607.458,1423.31 609.392,1423.31 \n",
       "  611.326,1423.31 613.26,1423.31 615.194,1423.31 617.128,1423.31 619.062,1423.31 620.996,1423.31 622.93,1423.31 624.864,1423.31 626.798,1423.31 628.731,1423.31 \n",
       "  630.665,1423.31 632.599,1423.31 634.533,1423.31 636.467,1423.31 638.401,1423.31 640.335,1423.31 642.269,1411.7 644.203,1411.7 646.137,1411.7 648.071,1411.7 \n",
       "  650.004,1411.7 651.938,1411.7 653.872,1411.7 655.806,1411.7 657.74,1411.7 659.674,1411.7 661.608,1411.7 663.542,1411.7 665.476,1411.7 667.41,1411.7 \n",
       "  669.344,1411.7 671.278,1411.7 673.211,1411.7 675.145,1411.7 677.079,1411.7 679.013,1411.7 680.947,1411.7 682.881,1411.7 684.815,1411.7 686.749,1411.7 \n",
       "  688.683,1411.7 690.617,1411.7 692.551,1411.7 694.484,1411.7 696.418,1411.7 698.352,1411.7 700.286,1411.7 702.22,1411.7 704.154,1411.7 706.088,1411.7 \n",
       "  708.022,1411.7 709.956,1411.7 711.89,1411.7 713.824,1411.7 715.757,1411.7 717.691,1411.7 719.625,1411.7 721.559,1411.7 723.493,1411.7 725.427,1411.7 \n",
       "  727.361,1411.7 729.295,1411.7 731.229,1411.7 733.163,1411.7 735.097,1411.7 737.031,1423.2 738.964,1423.2 740.898,1423.2 742.832,1423.2 744.766,1423.2 \n",
       "  746.7,1423.2 748.634,1423.2 750.568,1423.2 752.502,1423.2 754.436,1423.2 756.37,1423.2 758.304,1423.2 760.237,1423.2 762.171,1423.2 764.105,1423.2 \n",
       "  766.039,1423.2 767.973,1423.2 769.907,1423.2 771.841,1423.2 773.775,1423.2 775.709,1423.2 777.643,1423.2 779.577,1423.2 781.51,1423.2 783.444,1423.2 \n",
       "  785.378,1423.2 787.312,1423.2 789.246,1423.2 791.18,1423.2 793.114,1423.2 795.048,1423.2 796.982,1423.2 798.916,1423.2 800.85,1423.2 802.784,1423.2 \n",
       "  804.717,1423.2 806.651,1423.2 808.585,1423.2 810.519,1423.2 812.453,1423.2 814.387,1423.2 816.321,1423.2 818.255,1423.2 820.189,1423.2 822.123,1423.2 \n",
       "  824.057,1423.2 825.99,1423.2 827.924,1423.2 829.858,1423.2 831.792,1391.44 833.726,1391.44 835.66,1391.44 837.594,1391.44 839.528,1391.44 841.462,1391.44 \n",
       "  843.396,1391.44 845.33,1391.44 847.263,1391.44 849.197,1391.44 851.131,1391.44 853.065,1391.44 854.999,1391.44 856.933,1391.44 858.867,1391.44 860.801,1391.44 \n",
       "  862.735,1391.44 864.669,1391.44 866.603,1391.44 868.537,1391.44 870.47,1391.44 872.404,1391.44 874.338,1391.44 876.272,1391.44 878.206,1391.44 880.14,1391.44 \n",
       "  882.074,1391.44 884.008,1391.44 885.942,1391.44 887.876,1391.44 889.81,1391.44 891.743,1391.44 893.677,1391.44 895.611,1391.44 897.545,1391.44 899.479,1391.44 \n",
       "  901.413,1391.44 903.347,1391.44 905.281,1391.44 907.215,1391.44 909.149,1391.44 911.083,1391.44 913.016,1391.44 914.95,1391.44 916.884,1391.44 918.818,1391.44 \n",
       "  920.752,1391.44 922.686,1391.44 924.62,1391.44 926.554,1363.95 928.488,1363.95 930.422,1363.95 932.356,1363.95 934.29,1363.95 936.223,1363.95 938.157,1363.95 \n",
       "  940.091,1363.95 942.025,1363.95 943.959,1363.95 945.893,1363.95 947.827,1363.95 949.761,1363.95 951.695,1363.95 953.629,1363.95 955.563,1363.95 957.496,1363.95 \n",
       "  959.43,1363.95 961.364,1363.95 963.298,1363.95 965.232,1363.95 967.166,1363.95 969.1,1363.95 971.034,1363.95 972.968,1363.95 974.902,1363.95 976.836,1363.95 \n",
       "  978.769,1363.95 980.703,1363.95 982.637,1363.95 984.571,1363.95 986.505,1363.95 988.439,1363.95 990.373,1363.95 992.307,1363.95 994.241,1363.95 996.175,1363.95 \n",
       "  998.109,1363.95 1000.04,1363.95 1001.98,1363.95 1003.91,1363.95 1005.84,1363.95 1007.78,1363.95 1009.71,1363.95 1011.65,1363.95 1013.58,1363.95 1015.51,1363.95 \n",
       "  1017.45,1363.95 1019.38,1363.95 1021.32,1400.53 1023.25,1400.53 1025.18,1400.53 1027.12,1400.53 1029.05,1400.53 1030.99,1400.53 1032.92,1400.53 1034.85,1400.53 \n",
       "  1036.79,1400.53 1038.72,1400.53 1040.65,1400.53 1042.59,1400.53 1044.52,1400.53 1046.46,1400.53 1048.39,1400.53 1050.32,1400.53 1052.26,1400.53 1054.19,1400.53 \n",
       "  1056.13,1400.53 1058.06,1400.53 1059.99,1400.53 1061.93,1400.53 1063.86,1400.53 1065.8,1400.53 1067.73,1400.53 1069.66,1400.53 1071.6,1400.53 1073.53,1400.53 \n",
       "  1075.47,1400.53 1077.4,1400.53 1079.33,1400.53 1081.27,1400.53 1083.2,1400.53 1085.13,1400.53 1087.07,1400.53 1089,1400.53 1090.94,1400.53 1092.87,1400.53 \n",
       "  1094.8,1400.53 1096.74,1400.53 1098.67,1400.53 1100.61,1400.53 1102.54,1400.53 1104.47,1400.53 1106.41,1400.53 1108.34,1400.53 1110.28,1400.53 1112.21,1400.53 \n",
       "  1114.14,1400.53 1116.08,1410.12 1118.01,1410.12 1119.95,1410.12 1121.88,1410.12 1123.81,1410.12 1125.75,1410.12 1127.68,1410.12 1129.61,1410.12 1131.55,1410.12 \n",
       "  1133.48,1410.12 1135.42,1410.12 1137.35,1410.12 1139.28,1410.12 1141.22,1410.12 1143.15,1410.12 1145.09,1410.12 1147.02,1410.12 1148.95,1410.12 1150.89,1410.12 \n",
       "  1152.82,1410.12 1154.76,1410.12 1156.69,1410.12 1158.62,1410.12 1160.56,1410.12 1162.49,1410.12 1164.43,1410.12 1166.36,1410.12 1168.29,1410.12 1170.23,1410.12 \n",
       "  1172.16,1410.12 1174.09,1410.12 1176.03,1410.12 1177.96,1410.12 1179.9,1410.12 1181.83,1410.12 1183.76,1410.12 1185.7,1410.12 1187.63,1410.12 1189.57,1410.12 \n",
       "  1191.5,1410.12 1193.43,1410.12 1195.37,1410.12 1197.3,1410.12 1199.24,1410.12 1201.17,1410.12 1203.1,1410.12 1205.04,1410.12 1206.97,1410.12 1208.91,1410.12 \n",
       "  1210.84,1352.52 1212.77,1352.52 1214.71,1352.52 1216.64,1352.52 1218.57,1352.52 1220.51,1352.52 1222.44,1352.52 1224.38,1352.52 1226.31,1352.52 1228.24,1352.52 \n",
       "  1230.18,1352.52 1232.11,1352.52 1234.05,1352.52 1235.98,1352.52 1237.91,1352.52 1239.85,1352.52 1241.78,1352.52 1243.72,1352.52 1245.65,1352.52 1247.58,1352.52 \n",
       "  1249.52,1352.52 1251.45,1352.52 1253.38,1352.52 1255.32,1352.52 1257.25,1352.52 1259.19,1352.52 1261.12,1352.52 1263.05,1352.52 1264.99,1352.52 1266.92,1352.52 \n",
       "  1268.86,1352.52 1270.79,1352.52 1272.72,1352.52 1274.66,1352.52 1276.59,1352.52 1278.53,1352.52 1280.46,1352.52 1282.39,1352.52 1284.33,1352.52 1286.26,1352.52 \n",
       "  1288.2,1352.52 1290.13,1352.52 1292.06,1352.52 1294,1352.52 1295.93,1352.52 1297.86,1352.52 1299.8,1352.52 1301.73,1352.52 1303.67,1352.52 1305.6,1391.63 \n",
       "  1307.53,1391.63 1309.47,1391.63 1311.4,1391.63 1313.34,1391.63 1315.27,1391.63 1317.2,1391.63 1319.14,1391.63 1321.07,1391.63 1323.01,1391.63 1324.94,1391.63 \n",
       "  1326.87,1391.63 1328.81,1391.63 1330.74,1391.63 1332.68,1391.63 1334.61,1391.63 1336.54,1391.63 1338.48,1391.63 1340.41,1391.63 1342.34,1391.63 1344.28,1391.63 \n",
       "  1346.21,1391.63 1348.15,1391.63 1350.08,1391.63 1352.01,1391.63 1353.95,1391.63 1355.88,1391.63 1357.82,1391.63 1359.75,1391.63 1361.68,1391.63 1363.62,1391.63 \n",
       "  1365.55,1391.63 1367.49,1391.63 1369.42,1391.63 1371.35,1391.63 1373.29,1391.63 1375.22,1391.63 1377.16,1391.63 1379.09,1391.63 1381.02,1391.63 1382.96,1391.63 \n",
       "  1384.89,1391.63 1386.82,1391.63 1388.76,1391.63 1390.69,1391.63 1392.63,1391.63 1394.56,1391.63 1396.49,1391.63 1398.43,1391.63 1400.36,1428.76 1402.3,1428.76 \n",
       "  1404.23,1428.76 1406.16,1428.76 1408.1,1428.76 1410.03,1428.76 1411.97,1428.76 1413.9,1428.76 1415.83,1428.76 1417.77,1428.76 1419.7,1428.76 1421.64,1428.76 \n",
       "  1423.57,1428.76 1425.5,1428.76 1427.44,1428.76 1429.37,1428.76 1431.3,1428.76 1433.24,1428.76 1435.17,1428.76 1437.11,1428.76 1439.04,1428.76 1440.97,1428.76 \n",
       "  1442.91,1428.76 1444.84,1428.76 1446.78,1428.76 1448.71,1428.76 1450.64,1428.76 1452.58,1428.76 1454.51,1428.76 1456.45,1428.76 1458.38,1428.76 1460.31,1428.76 \n",
       "  1462.25,1428.76 1464.18,1428.76 1466.12,1428.76 1468.05,1428.76 1469.98,1428.76 1471.92,1428.76 1473.85,1428.76 1475.78,1428.76 1477.72,1428.76 1479.65,1428.76 \n",
       "  1481.59,1428.76 1483.52,1428.76 1485.45,1428.76 1487.39,1428.76 1489.32,1428.76 1491.26,1428.76 1493.19,1428.76 1495.12,1423.22 1497.06,1423.22 1498.99,1423.22 \n",
       "  1500.93,1423.22 1502.86,1423.22 1504.79,1423.22 1506.73,1423.22 1508.66,1423.22 1510.6,1423.22 1512.53,1423.22 1514.46,1423.22 1516.4,1423.22 1518.33,1423.22 \n",
       "  1520.26,1423.22 1522.2,1423.22 1524.13,1423.22 1526.07,1423.22 1528,1423.22 1529.93,1423.22 1531.87,1423.22 1533.8,1423.22 1535.74,1423.22 1537.67,1423.22 \n",
       "  1539.6,1423.22 1541.54,1423.22 1543.47,1423.22 1545.41,1423.22 1547.34,1423.22 1549.27,1423.22 1551.21,1423.22 1553.14,1423.22 1555.08,1423.22 1557.01,1423.22 \n",
       "  1558.94,1423.22 1560.88,1423.22 1562.81,1423.22 1564.74,1423.22 1566.68,1423.22 1568.61,1423.22 1570.55,1423.22 1572.48,1423.22 1574.41,1423.22 1576.35,1423.22 \n",
       "  1578.28,1423.22 1580.22,1423.22 1582.15,1423.22 1584.08,1423.22 1586.02,1423.22 1587.95,1423.22 1589.89,1411.99 1591.82,1411.99 1593.75,1411.99 1595.69,1411.99 \n",
       "  1597.62,1411.99 1599.56,1411.99 1601.49,1411.99 1603.42,1411.99 1605.36,1411.99 1607.29,1411.99 1609.22,1411.99 1611.16,1411.99 1613.09,1411.99 1615.03,1411.99 \n",
       "  1616.96,1411.99 1618.89,1411.99 1620.83,1411.99 1622.76,1411.99 1624.7,1411.99 1626.63,1411.99 1628.56,1411.99 1630.5,1411.99 1632.43,1411.99 1634.37,1411.99 \n",
       "  1636.3,1411.99 1638.23,1411.99 1640.17,1411.99 1642.1,1411.99 1644.04,1411.99 1645.97,1411.99 1647.9,1411.99 1649.84,1411.99 1651.77,1411.99 1653.7,1411.99 \n",
       "  1655.64,1411.99 1657.57,1411.99 1659.51,1411.99 1661.44,1411.99 1663.37,1411.99 1665.31,1411.99 1667.24,1411.99 1669.18,1411.99 1671.11,1411.99 1673.04,1411.99 \n",
       "  1674.98,1411.99 1676.91,1411.99 1678.85,1411.99 1680.78,1411.99 1682.71,1411.99 1684.65,1405.49 1686.58,1405.49 1688.52,1405.49 1690.45,1405.49 1692.38,1405.49 \n",
       "  1694.32,1405.49 1696.25,1405.49 1698.18,1405.49 1700.12,1405.49 1702.05,1405.49 1703.99,1405.49 1705.92,1405.49 1707.85,1405.49 1709.79,1405.49 1711.72,1405.49 \n",
       "  1713.66,1405.49 1715.59,1405.49 1717.52,1405.49 1719.46,1405.49 1721.39,1405.49 1723.33,1405.49 1725.26,1405.49 1727.19,1405.49 1729.13,1405.49 1731.06,1405.49 \n",
       "  1733,1405.49 1734.93,1405.49 1736.86,1405.49 1738.8,1405.49 1740.73,1405.49 1742.66,1405.49 1744.6,1405.49 1746.53,1405.49 1748.47,1405.49 1750.4,1405.49 \n",
       "  1752.33,1405.49 1754.27,1405.49 1756.2,1405.49 1758.14,1405.49 1760.07,1405.49 1762,1405.49 1763.94,1405.49 1765.87,1405.49 1767.81,1405.49 1769.74,1405.49 \n",
       "  1771.67,1405.49 1773.61,1405.49 1775.54,1405.49 1777.48,1405.49 1779.41,1428.58 1781.34,1428.58 1783.28,1428.58 1785.21,1428.58 1787.14,1428.58 1789.08,1428.58 \n",
       "  1791.01,1428.58 1792.95,1428.58 1794.88,1428.58 1796.81,1428.58 1798.75,1428.58 1800.68,1428.58 1802.62,1428.58 1804.55,1428.58 1806.48,1428.58 1808.42,1428.58 \n",
       "  1810.35,1428.58 1812.29,1428.58 1814.22,1428.58 1816.15,1428.58 1818.09,1428.58 1820.02,1428.58 1821.96,1428.58 1823.89,1428.58 1825.82,1428.58 1827.76,1428.58 \n",
       "  1829.69,1428.58 1831.62,1428.58 1833.56,1428.58 1835.49,1428.58 1837.43,1428.58 1839.36,1428.58 1841.29,1428.58 1843.23,1428.58 1845.16,1428.58 1847.1,1428.58 \n",
       "  1849.03,1428.58 1850.96,1428.58 1852.9,1428.58 1854.83,1428.58 1856.77,1428.58 1858.7,1428.58 1860.63,1428.58 1862.57,1428.58 1864.5,1428.58 1866.44,1428.58 \n",
       "  1868.37,1428.58 1870.3,1428.58 1872.24,1428.58 1874.17,1400.51 1876.1,1400.51 1878.04,1400.51 1879.97,1400.51 1881.91,1400.51 1883.84,1400.51 1885.77,1400.51 \n",
       "  1887.71,1400.51 1889.64,1400.51 1891.58,1400.51 1893.51,1400.51 1895.44,1400.51 1897.38,1400.51 1899.31,1400.51 1901.25,1400.51 1903.18,1400.51 1905.11,1400.51 \n",
       "  1907.05,1400.51 1908.98,1400.51 1910.92,1400.51 1912.85,1400.51 1914.78,1400.51 1916.72,1400.51 1918.65,1400.51 1920.58,1400.51 1922.52,1400.51 1924.45,1400.51 \n",
       "  1926.39,1400.51 1928.32,1400.51 1930.25,1400.51 1932.19,1400.51 1934.12,1400.51 1936.06,1400.51 1937.99,1400.51 1939.92,1400.51 1941.86,1400.51 1943.79,1400.51 \n",
       "  1945.73,1400.51 1947.66,1400.51 1949.59,1400.51 1951.53,1400.51 1953.46,1400.51 1955.4,1400.51 1957.33,1400.51 1959.26,1400.51 1961.2,1400.51 1963.13,1400.51 \n",
       "  1965.06,1400.51 1967,1400.51 1968.93,1300.93 1970.87,1300.93 1972.8,1300.93 1974.73,1300.93 1976.67,1300.93 1978.6,1300.93 1980.54,1300.93 1982.47,1300.93 \n",
       "  1984.4,1300.93 1986.34,1300.93 1988.27,1300.93 1990.21,1300.93 1992.14,1300.93 1994.07,1300.93 1996.01,1300.93 1997.94,1300.93 1999.87,1300.93 2001.81,1300.93 \n",
       "  2003.74,1300.93 2005.68,1300.93 2007.61,1300.93 2009.54,1300.93 2011.48,1300.93 2013.41,1300.93 2015.35,1300.93 2017.28,1300.93 2019.21,1300.93 2021.15,1300.93 \n",
       "  2023.08,1300.93 2025.02,1300.93 2026.95,1300.93 2028.88,1300.93 2030.82,1300.93 2032.75,1300.93 2034.69,1300.93 2036.62,1300.93 2038.55,1300.93 2040.49,1300.93 \n",
       "  2042.42,1300.93 2044.35,1300.93 2046.29,1300.93 2048.22,1300.93 2050.16,1300.93 2052.09,1300.93 2054.02,1300.93 2055.96,1300.93 2057.89,1300.93 2059.83,1300.93 \n",
       "  2061.76,1300.93 2063.69,1285.71 2065.63,1285.71 2067.56,1285.71 2069.5,1285.71 2071.43,1285.71 2073.36,1285.71 2075.3,1285.71 2077.23,1285.71 2079.17,1285.71 \n",
       "  2081.1,1285.71 2083.03,1285.71 2084.97,1285.71 2086.9,1285.71 2088.83,1285.71 2090.77,1285.71 2092.7,1285.71 2094.64,1285.71 2096.57,1285.71 2098.5,1285.71 \n",
       "  2100.44,1285.71 2102.37,1285.71 2104.31,1285.71 2106.24,1285.71 2108.17,1285.71 2110.11,1285.71 2112.04,1285.71 2113.98,1285.71 2115.91,1285.71 2117.84,1285.71 \n",
       "  2119.78,1285.71 2121.71,1285.71 2123.65,1285.71 2125.58,1285.71 2127.51,1285.71 2129.45,1285.71 2131.38,1285.71 2133.31,1285.71 2135.25,1285.71 2137.18,1285.71 \n",
       "  2139.12,1285.71 2141.05,1285.71 2142.98,1285.71 2144.92,1285.71 2146.85,1285.71 2148.79,1285.71 2150.72,1285.71 2152.65,1285.71 2154.59,1285.71 2156.52,1285.71 \n",
       "  2158.46,1374.4 2160.39,1374.4 2162.32,1374.4 2164.26,1374.4 2166.19,1374.4 2168.13,1374.4 2170.06,1374.4 2171.99,1374.4 2173.93,1374.4 2175.86,1374.4 \n",
       "  2177.79,1374.4 2179.73,1374.4 2181.66,1374.4 2183.6,1374.4 2185.53,1374.4 2187.46,1374.4 2189.4,1374.4 2191.33,1374.4 2193.27,1374.4 2195.2,1374.4 \n",
       "  2197.13,1374.4 2199.07,1374.4 2201,1374.4 2202.94,1374.4 2204.87,1374.4 2206.8,1374.4 2208.74,1374.4 2210.67,1374.4 2212.61,1374.4 2214.54,1374.4 \n",
       "  2216.47,1374.4 2218.41,1374.4 2220.34,1374.4 2222.27,1374.4 2224.21,1374.4 2226.14,1374.4 2228.08,1374.4 2230.01,1374.4 2231.94,1374.4 2233.88,1374.4 \n",
       "  2235.81,1374.4 2237.75,1374.4 2239.68,1374.4 2241.61,1374.4 2243.55,1374.4 2245.48,1374.4 2247.42,1374.4 2249.35,1374.4 2251.28,1374.4 2253.22,1445.72 \n",
       "  2255.15,1445.72 2257.09,1445.72 2259.02,1445.72 2260.95,1445.72 2262.89,1445.72 2264.82,1445.72 2266.75,1445.72 2268.69,1445.72 2270.62,1445.72 2272.56,1445.72 \n",
       "  2274.49,1445.72 2276.42,1445.72 2278.36,1445.72 2280.29,1445.72 2282.23,1445.72 2284.16,1445.72 2286.09,1445.72 2288.03,1445.72 2289.96,1445.72 2291.9,1445.72 \n",
       "  \n",
       "  \"/>\n",
       "<path clip-path=\"url(#clip750)\" d=\"\n",
       "M1849.9 337.138 L2281.08 337.138 L2281.08 95.2176 L1849.9 95.2176  Z\n",
       "  \" fill=\"#ffffff\" fill-rule=\"evenodd\" fill-opacity=\"1\"/>\n",
       "<polyline clip-path=\"url(#clip750)\" style=\"stroke:#000000; stroke-width:4; stroke-opacity:1; fill:none\" points=\"\n",
       "  1849.9,337.138 2281.08,337.138 2281.08,95.2176 1849.9,95.2176 1849.9,337.138 \n",
       "  \"/>\n",
       "<polyline clip-path=\"url(#clip750)\" style=\"stroke:#009af9; stroke-width:4; stroke-opacity:1; fill:none\" points=\"\n",
       "  1873.79,155.698 2017.15,155.698 \n",
       "  \"/>\n",
       "<path clip-path=\"url(#clip750)\" d=\"M 0 0 M2048.45 139.691 L2048.45 147.052 L2057.23 147.052 L2057.23 150.362 L2048.45 150.362 L2048.45 164.436 Q2048.45 167.607 2049.31 168.51 Q2050.19 169.413 2052.85 169.413 L2057.23 169.413 L2057.23 172.978 L2052.85 172.978 Q2047.92 172.978 2046.05 171.149 Q2044.17 169.297 2044.17 164.436 L2044.17 150.362 L2041.05 150.362 L2041.05 147.052 L2044.17 147.052 L2044.17 139.691 L2048.45 139.691 Z\" fill=\"#000000\" fill-rule=\"evenodd\" fill-opacity=\"1\" /><path clip-path=\"url(#clip750)\" d=\"M 0 0 M2076.72 151.033 Q2076 150.617 2075.14 150.431 Q2074.31 150.223 2073.29 150.223 Q2069.68 150.223 2067.73 152.584 Q2065.81 154.922 2065.81 159.32 L2065.81 172.978 L2061.53 172.978 L2061.53 147.052 L2065.81 147.052 L2065.81 151.08 Q2067.16 148.718 2069.31 147.584 Q2071.46 146.427 2074.54 146.427 Q2074.98 146.427 2075.51 146.496 Q2076.05 146.543 2076.69 146.658 L2076.72 151.033 Z\" fill=\"#000000\" fill-rule=\"evenodd\" fill-opacity=\"1\" /><path clip-path=\"url(#clip750)\" d=\"M 0 0 M2102.32 158.95 L2102.32 161.033 L2082.73 161.033 Q2083.01 165.431 2085.37 167.746 Q2087.76 170.038 2091.99 170.038 Q2094.45 170.038 2096.74 169.436 Q2099.05 168.834 2101.32 167.63 L2101.32 171.658 Q2099.03 172.63 2096.62 173.14 Q2094.22 173.649 2091.74 173.649 Q2085.54 173.649 2081.9 170.038 Q2078.29 166.427 2078.29 160.269 Q2078.29 153.904 2081.72 150.177 Q2085.17 146.427 2091 146.427 Q2096.23 146.427 2099.26 149.806 Q2102.32 153.163 2102.32 158.95 M2098.06 157.7 Q2098.01 154.205 2096.09 152.121 Q2094.19 150.038 2091.04 150.038 Q2087.48 150.038 2085.33 152.052 Q2083.2 154.066 2082.87 157.723 L2098.06 157.7 Z\" fill=\"#000000\" fill-rule=\"evenodd\" fill-opacity=\"1\" /><path clip-path=\"url(#clip750)\" d=\"M 0 0 M2106.79 147.052 L2111.04 147.052 L2111.04 172.978 L2106.79 172.978 L2106.79 147.052 M2106.79 136.959 L2111.04 136.959 L2111.04 142.353 L2106.79 142.353 L2106.79 136.959 Z\" fill=\"#000000\" fill-rule=\"evenodd\" fill-opacity=\"1\" /><path clip-path=\"url(#clip750)\" d=\"M 0 0 M2137.06 157.329 L2137.06 172.978 L2132.8 172.978 L2132.8 157.468 Q2132.8 153.788 2131.37 151.959 Q2129.93 150.13 2127.06 150.13 Q2123.61 150.13 2121.62 152.33 Q2119.63 154.529 2119.63 158.325 L2119.63 172.978 L2115.35 172.978 L2115.35 147.052 L2119.63 147.052 L2119.63 151.08 Q2121.16 148.742 2123.22 147.584 Q2125.3 146.427 2128.01 146.427 Q2132.48 146.427 2134.77 149.205 Q2137.06 151.959 2137.06 157.329 Z\" fill=\"#000000\" fill-rule=\"evenodd\" fill-opacity=\"1\" /><path clip-path=\"url(#clip750)\" d=\"M 0 0 M2151.58 150.038 Q2148.15 150.038 2146.16 152.723 Q2144.17 155.385 2144.17 160.038 Q2144.17 164.691 2146.14 167.376 Q2148.13 170.038 2151.58 170.038 Q2154.98 170.038 2156.97 167.353 Q2158.96 164.667 2158.96 160.038 Q2158.96 155.431 2156.97 152.746 Q2154.98 150.038 2151.58 150.038 M2151.58 146.427 Q2157.13 146.427 2160.3 150.038 Q2163.48 153.649 2163.48 160.038 Q2163.48 166.404 2160.3 170.038 Q2157.13 173.649 2151.58 173.649 Q2146 173.649 2142.83 170.038 Q2139.68 166.404 2139.68 160.038 Q2139.68 153.649 2142.83 150.038 Q2146 146.427 2151.58 146.427 Z\" fill=\"#000000\" fill-rule=\"evenodd\" fill-opacity=\"1\" /><polyline clip-path=\"url(#clip750)\" style=\"stroke:#e26f46; stroke-width:4; stroke-opacity:1; fill:none\" points=\"\n",
       "  1873.79,216.178 2017.15,216.178 \n",
       "  \"/>\n",
       "<path clip-path=\"url(#clip750)\" d=\"M 0 0 M2041.05 207.532 L2045.56 207.532 L2053.66 229.291 L2061.76 207.532 L2066.28 207.532 L2056.55 233.458 L2050.77 233.458 L2041.05 207.532 Z\" fill=\"#000000\" fill-rule=\"evenodd\" fill-opacity=\"1\" /><path clip-path=\"url(#clip750)\" d=\"M 0 0 M2082.53 220.425 Q2077.36 220.425 2075.37 221.606 Q2073.38 222.786 2073.38 225.634 Q2073.38 227.902 2074.86 229.245 Q2076.37 230.564 2078.94 230.564 Q2082.48 230.564 2084.61 228.064 Q2086.76 225.541 2086.76 221.374 L2086.76 220.425 L2082.53 220.425 M2091.02 218.666 L2091.02 233.458 L2086.76 233.458 L2086.76 229.522 Q2085.3 231.883 2083.13 233.018 Q2080.95 234.129 2077.8 234.129 Q2073.82 234.129 2071.46 231.907 Q2069.12 229.661 2069.12 225.911 Q2069.12 221.536 2072.04 219.314 Q2074.98 217.092 2080.79 217.092 L2086.76 217.092 L2086.76 216.675 Q2086.76 213.735 2084.82 212.138 Q2082.9 210.518 2079.4 210.518 Q2077.18 210.518 2075.07 211.05 Q2072.97 211.583 2071.02 212.647 L2071.02 208.712 Q2073.36 207.81 2075.56 207.37 Q2077.76 206.907 2079.84 206.907 Q2085.47 206.907 2088.24 209.823 Q2091.02 212.74 2091.02 218.666 Z\" fill=\"#000000\" fill-rule=\"evenodd\" fill-opacity=\"1\" /><path clip-path=\"url(#clip750)\" d=\"M 0 0 M2095.49 197.439 L2099.75 197.439 L2099.75 233.458 L2095.49 233.458 L2095.49 197.439 Z\" fill=\"#000000\" fill-rule=\"evenodd\" fill-opacity=\"1\" /><path clip-path=\"url(#clip750)\" d=\"M 0 0 M2104.22 207.532 L2108.48 207.532 L2108.48 233.458 L2104.22 233.458 L2104.22 207.532 M2104.22 197.439 L2108.48 197.439 L2108.48 202.833 L2104.22 202.833 L2104.22 197.439 Z\" fill=\"#000000\" fill-rule=\"evenodd\" fill-opacity=\"1\" /><path clip-path=\"url(#clip750)\" d=\"M 0 0 M2130 211.467 L2130 197.439 L2134.26 197.439 L2134.26 233.458 L2130 233.458 L2130 229.569 Q2128.66 231.883 2126.6 233.018 Q2124.56 234.129 2121.69 234.129 Q2116.99 234.129 2114.03 230.379 Q2111.09 226.629 2111.09 220.518 Q2111.09 214.407 2114.03 210.657 Q2116.99 206.907 2121.69 206.907 Q2124.56 206.907 2126.6 208.041 Q2128.66 209.152 2130 211.467 M2115.49 220.518 Q2115.49 225.217 2117.41 227.902 Q2119.35 230.564 2122.73 230.564 Q2126.11 230.564 2128.06 227.902 Q2130 225.217 2130 220.518 Q2130 215.819 2128.06 213.157 Q2126.11 210.472 2122.73 210.472 Q2119.35 210.472 2117.41 213.157 Q2115.49 215.819 2115.49 220.518 Z\" fill=\"#000000\" fill-rule=\"evenodd\" fill-opacity=\"1\" /><path clip-path=\"url(#clip750)\" d=\"M 0 0 M2150.51 220.425 Q2145.35 220.425 2143.36 221.606 Q2141.37 222.786 2141.37 225.634 Q2141.37 227.902 2142.85 229.245 Q2144.35 230.564 2146.92 230.564 Q2150.47 230.564 2152.6 228.064 Q2154.75 225.541 2154.75 221.374 L2154.75 220.425 L2150.51 220.425 M2159.01 218.666 L2159.01 233.458 L2154.75 233.458 L2154.75 229.522 Q2153.29 231.883 2151.11 233.018 Q2148.94 234.129 2145.79 234.129 Q2141.81 234.129 2139.45 231.907 Q2137.11 229.661 2137.11 225.911 Q2137.11 221.536 2140.03 219.314 Q2142.97 217.092 2148.78 217.092 L2154.75 217.092 L2154.75 216.675 Q2154.75 213.735 2152.8 212.138 Q2150.88 210.518 2147.39 210.518 Q2145.17 210.518 2143.06 211.05 Q2140.95 211.583 2139.01 212.647 L2139.01 208.712 Q2141.35 207.81 2143.54 207.37 Q2145.74 206.907 2147.83 206.907 Q2153.45 206.907 2156.23 209.823 Q2159.01 212.74 2159.01 218.666 Z\" fill=\"#000000\" fill-rule=\"evenodd\" fill-opacity=\"1\" /><path clip-path=\"url(#clip750)\" d=\"M 0 0 M2182.13 208.527 L2182.13 212.509 Q2180.33 211.513 2178.5 211.027 Q2176.69 210.518 2174.84 210.518 Q2170.7 210.518 2168.41 213.157 Q2166.11 215.772 2166.11 220.518 Q2166.11 225.263 2168.41 227.902 Q2170.7 230.518 2174.84 230.518 Q2176.69 230.518 2178.5 230.032 Q2180.33 229.522 2182.13 228.527 L2182.13 232.462 Q2180.35 233.296 2178.43 233.712 Q2176.53 234.129 2174.38 234.129 Q2168.52 234.129 2165.07 230.448 Q2161.62 226.768 2161.62 220.518 Q2161.62 214.175 2165.1 210.541 Q2168.59 206.907 2174.66 206.907 Q2176.62 206.907 2178.5 207.323 Q2180.37 207.717 2182.13 208.527 M2176.11 233.458 Q2177.39 234.893 2178.01 236.096 Q2178.64 237.323 2178.64 238.434 Q2178.64 240.495 2177.25 241.536 Q2175.86 242.601 2173.13 242.601 Q2172.06 242.601 2171.04 242.462 Q2170.05 242.323 2169.05 242.045 L2169.05 239.013 Q2169.84 239.407 2170.7 239.569 Q2171.55 239.754 2172.64 239.754 Q2174.01 239.754 2174.7 239.198 Q2175.4 238.643 2175.4 237.578 Q2175.4 236.883 2174.89 235.865 Q2174.4 234.87 2173.36 233.458 L2176.11 233.458 Z\" fill=\"#000000\" fill-rule=\"evenodd\" fill-opacity=\"1\" /><path clip-path=\"url(#clip750)\" d=\"M 0 0 M2198.38 220.425 Q2193.22 220.425 2191.23 221.606 Q2189.24 222.786 2189.24 225.634 Q2189.24 227.902 2190.72 229.245 Q2192.22 230.564 2194.79 230.564 Q2198.34 230.564 2200.47 228.064 Q2202.62 225.541 2202.62 221.374 L2202.62 220.425 L2198.38 220.425 M2206.88 218.666 L2206.88 233.458 L2202.62 233.458 L2202.62 229.522 Q2201.16 231.883 2198.98 233.018 Q2196.81 234.129 2193.66 234.129 Q2189.68 234.129 2187.32 231.907 Q2184.98 229.661 2184.98 225.911 Q2184.98 221.536 2187.9 219.314 Q2190.84 217.092 2196.65 217.092 L2202.62 217.092 L2202.62 216.675 Q2202.62 213.735 2200.67 212.138 Q2198.75 210.518 2195.26 210.518 Q2193.04 210.518 2190.93 211.05 Q2188.82 211.583 2186.88 212.647 L2186.88 208.712 Q2189.22 207.81 2191.41 207.37 Q2193.61 206.907 2195.7 206.907 Q2201.32 206.907 2204.1 209.823 Q2206.88 212.74 2206.88 218.666 M2195.79 201.745 L2194.47 200.472 Q2193.96 200.009 2193.57 199.8 Q2193.2 199.569 2192.9 199.569 Q2192.02 199.569 2191.6 200.425 Q2191.18 201.259 2191.14 203.157 L2188.24 203.157 Q2188.29 200.032 2189.47 198.342 Q2190.65 196.629 2192.76 196.629 Q2193.64 196.629 2194.38 196.953 Q2195.12 197.277 2195.97 198.041 L2197.29 199.314 Q2197.8 199.777 2198.17 200.009 Q2198.57 200.217 2198.87 200.217 Q2199.75 200.217 2200.16 199.384 Q2200.58 198.527 2200.63 196.629 L2203.52 196.629 Q2203.47 199.754 2202.29 201.467 Q2201.11 203.157 2199.01 203.157 Q2198.13 203.157 2197.39 202.833 Q2196.65 202.509 2195.79 201.745 Z\" fill=\"#000000\" fill-rule=\"evenodd\" fill-opacity=\"1\" /><path clip-path=\"url(#clip750)\" d=\"M 0 0 M2221.39 210.518 Q2217.97 210.518 2215.97 213.203 Q2213.98 215.865 2213.98 220.518 Q2213.98 225.171 2215.95 227.856 Q2217.94 230.518 2221.39 230.518 Q2224.79 230.518 2226.78 227.833 Q2228.78 225.147 2228.78 220.518 Q2228.78 215.911 2226.78 213.226 Q2224.79 210.518 2221.39 210.518 M2221.39 206.907 Q2226.95 206.907 2230.12 210.518 Q2233.29 214.129 2233.29 220.518 Q2233.29 226.884 2230.12 230.518 Q2226.95 234.129 2221.39 234.129 Q2215.81 234.129 2212.64 230.518 Q2209.49 226.884 2209.49 220.518 Q2209.49 214.129 2212.64 210.518 Q2215.81 206.907 2221.39 206.907 Z\" fill=\"#000000\" fill-rule=\"evenodd\" fill-opacity=\"1\" /><polyline clip-path=\"url(#clip750)\" style=\"stroke:#3da44d; stroke-width:4; stroke-opacity:1; fill:none\" points=\"\n",
       "  1873.79,276.658 2017.15,276.658 \n",
       "  \"/>\n",
       "<path clip-path=\"url(#clip750)\" d=\"M 0 0 M2048.45 260.651 L2048.45 268.012 L2057.23 268.012 L2057.23 271.322 L2048.45 271.322 L2048.45 285.396 Q2048.45 288.567 2049.31 289.47 Q2050.19 290.373 2052.85 290.373 L2057.23 290.373 L2057.23 293.938 L2052.85 293.938 Q2047.92 293.938 2046.05 292.109 Q2044.17 290.257 2044.17 285.396 L2044.17 271.322 L2041.05 271.322 L2041.05 268.012 L2044.17 268.012 L2044.17 260.651 L2048.45 260.651 Z\" fill=\"#000000\" fill-rule=\"evenodd\" fill-opacity=\"1\" /><path clip-path=\"url(#clip750)\" d=\"M 0 0 M2083.87 279.91 L2083.87 281.993 L2064.29 281.993 Q2064.56 286.391 2066.92 288.706 Q2069.31 290.998 2073.55 290.998 Q2076 290.998 2078.29 290.396 Q2080.61 289.794 2082.87 288.59 L2082.87 292.618 Q2080.58 293.59 2078.17 294.1 Q2075.77 294.609 2073.29 294.609 Q2067.09 294.609 2063.45 290.998 Q2059.84 287.387 2059.84 281.229 Q2059.84 274.864 2063.27 271.137 Q2066.72 267.387 2072.55 267.387 Q2077.78 267.387 2080.81 270.766 Q2083.87 274.123 2083.87 279.91 M2079.61 278.66 Q2079.56 275.165 2077.64 273.081 Q2075.74 270.998 2072.6 270.998 Q2069.03 270.998 2066.88 273.012 Q2064.75 275.026 2064.42 278.683 L2079.61 278.66 Z\" fill=\"#000000\" fill-rule=\"evenodd\" fill-opacity=\"1\" /><path clip-path=\"url(#clip750)\" d=\"M 0 0 M2104.86 268.776 L2104.86 272.803 Q2103.06 271.877 2101.11 271.415 Q2099.17 270.952 2097.09 270.952 Q2093.92 270.952 2092.32 271.924 Q2090.74 272.896 2090.74 274.84 Q2090.74 276.322 2091.88 277.178 Q2093.01 278.012 2096.44 278.776 L2097.9 279.1 Q2102.43 280.072 2104.33 281.854 Q2106.25 283.614 2106.25 286.785 Q2106.25 290.396 2103.38 292.502 Q2100.54 294.609 2095.54 294.609 Q2093.45 294.609 2091.18 294.192 Q2088.94 293.799 2086.44 292.988 L2086.44 288.59 Q2088.8 289.817 2091.09 290.442 Q2093.38 291.044 2095.63 291.044 Q2098.64 291.044 2100.26 290.026 Q2101.88 288.984 2101.88 287.109 Q2101.88 285.373 2100.7 284.447 Q2099.54 283.521 2095.58 282.664 L2094.1 282.317 Q2090.14 281.484 2088.38 279.771 Q2086.62 278.035 2086.62 275.026 Q2086.62 271.368 2089.22 269.378 Q2091.81 267.387 2096.58 267.387 Q2098.94 267.387 2101.02 267.734 Q2103.11 268.081 2104.86 268.776 Z\" fill=\"#000000\" fill-rule=\"evenodd\" fill-opacity=\"1\" /><path clip-path=\"url(#clip750)\" d=\"M 0 0 M2114.93 260.651 L2114.93 268.012 L2123.71 268.012 L2123.71 271.322 L2114.93 271.322 L2114.93 285.396 Q2114.93 288.567 2115.79 289.47 Q2116.67 290.373 2119.33 290.373 L2123.71 290.373 L2123.71 293.938 L2119.33 293.938 Q2114.4 293.938 2112.53 292.109 Q2110.65 290.257 2110.65 285.396 L2110.65 271.322 L2107.53 271.322 L2107.53 268.012 L2110.65 268.012 L2110.65 260.651 L2114.93 260.651 Z\" fill=\"#000000\" fill-rule=\"evenodd\" fill-opacity=\"1\" /><path clip-path=\"url(#clip750)\" d=\"M 0 0 M2150.35 279.91 L2150.35 281.993 L2130.77 281.993 Q2131.04 286.391 2133.41 288.706 Q2135.79 290.998 2140.03 290.998 Q2142.48 290.998 2144.77 290.396 Q2147.09 289.794 2149.35 288.59 L2149.35 292.618 Q2147.06 293.59 2144.66 294.1 Q2142.25 294.609 2139.77 294.609 Q2133.57 294.609 2129.93 290.998 Q2126.32 287.387 2126.32 281.229 Q2126.32 274.864 2129.75 271.137 Q2133.2 267.387 2139.03 267.387 Q2144.26 267.387 2147.29 270.766 Q2150.35 274.123 2150.35 279.91 M2146.09 278.66 Q2146.04 275.165 2144.12 273.081 Q2142.23 270.998 2139.08 270.998 Q2135.51 270.998 2133.36 273.012 Q2131.23 275.026 2130.91 278.683 L2146.09 278.66 Z\" fill=\"#000000\" fill-rule=\"evenodd\" fill-opacity=\"1\" /></svg>\n"
      ]
     },
     "execution_count": 198,
     "metadata": {},
     "output_type": "execute_result"
    }
   ],
   "source": [
    "plot(mse_treino_cqso, label = \"treino\", ylims = [0.0,0.005])\n",
    "plot!(mse_val_cqso, label = \"validação\")\n",
    "plot!(mse_teste_cqso, label = \"teste\")"
   ]
  },
  {
   "cell_type": "markdown",
   "metadata": {},
   "source": [
    "#### Função n_model_cqso para preparar o CQSO para rodar "
   ]
  },
  {
   "cell_type": "code",
   "execution_count": 199,
   "metadata": {},
   "outputs": [
    {
     "data": {
      "text/plain": [
       "n_model_cqso (generic function with 1 method)"
      ]
     },
     "execution_count": 199,
     "metadata": {},
     "output_type": "execute_result"
    }
   ],
   "source": [
    "function n_model_cqso(X, y, n_h::Int64, num_iteracoes::Int64, perc_treino::Float64, perc_val::Float64, neutral_p::Int64, rcloud::Float64)\n",
    "    \n",
    "    n_in = size(X)[2]\n",
    "    \n",
    "    parametros = init_params(n_in, n_h)\n",
    "    \n",
    "    println(\"Neuronios: \", n_h)\n",
    "#     A2 = forward_prop(X', parametros)\n",
    "\n",
    "#     best_cost = compute_cost(A2, y')\n",
    "    \n",
    "    W1 = parametros[1]\n",
    "    b1 = parametros[2]\n",
    "    W2 = parametros[3]\n",
    "    b2 = parametros[4]\n",
    "    \n",
    "    dim_list = [prod(size(W1)), prod(size(b1)), prod(size(W2)), prod(size(b2))]\n",
    "    \n",
    "    println(\"dim list: \", dim_list)\n",
    "    \n",
    "    qtd_particulas_dim = convert(Int64,(size(W1)[2] + 1) * size(W1)[1] + (size(W1)[1] + 1)* size(W2)[1])\n",
    "    \n",
    "    println(\"qtd particulas dim: \", qtd_particulas_dim)\n",
    "\n",
    "    mse_treino, mse_val, mse_teste = CQSO(X, y, parametros, qtd_particulas_dim, dim_list, num_iteracoes, -1.0, 1.0, perc_treino, perc_val, neutral_p, rcloud)    \n",
    "        \n",
    "    return mse_treino, mse_val, mse_teste\n",
    "end"
   ]
  },
  {
   "cell_type": "markdown",
   "metadata": {},
   "source": [
    "#### Função Cenários execucoes CQSO"
   ]
  },
  {
   "cell_type": "code",
   "execution_count": 200,
   "metadata": {},
   "outputs": [
    {
     "data": {
      "text/plain": [
       "cenarios_execucoes_cqso (generic function with 1 method)"
      ]
     },
     "execution_count": 200,
     "metadata": {},
     "output_type": "execute_result"
    }
   ],
   "source": [
    "# Criando cenários\n",
    "function cenarios_execucoes_cqso(X, y, w, s, f::Int64, perc_treino::Float64, perc_val::Float64,qtd_execucoes::Int64, netural_p::Int64, rcloud::Float64)\n",
    "    \n",
    "    # gerando os cenários dinâmicos\n",
    "    X_I = cenarios_dinamicos(X, w, s)\n",
    "    y_I = cenarios_dinamicos(y, w, s)\n",
    " \n",
    "    # calculando a quantidade de iterações\n",
    "    T = f * size(y_I)[2] \n",
    "\n",
    "    println(\"Quantidade de iterações: \", T)\n",
    "    \n",
    "    neuronios = 2:25\n",
    "    \n",
    "    mse_treino = zeros(qtd_execucoes, size(neuronios)[1], size(y_I)[2] * f)\n",
    "    mse_val = zeros(qtd_execucoes, size(neuronios)[1], size(y_I)[2] * f)\n",
    "    mse_teste = zeros(qtd_execucoes, size(neuronios)[1], size(y_I)[2] * f)\n",
    " \n",
    "    execucoes = 1:qtd_execucoes\n",
    "\n",
    "    for execucao in eachindex(execucoes)\n",
    "\n",
    "        println(\"Execução: \", execucao)\n",
    "        \n",
    "        # Neuronios\n",
    "        for (j,z) in zip(neuronios, eachindex(neuronios))\n",
    "            \n",
    "            mse_treino_lista_temp, mse_val_lista_temp, mse_teste_lista_temp = n_model_cqso(X_I, y_I, j, f, perc_treino, perc_val, neutral_p, rcloud)\n",
    "\n",
    "            # salvar lista com os mse de treino para todas as iterações\n",
    "            mse_treino[execucao, z,:] = mse_treino_lista_temp\n",
    "            # salvar lista com os mse de validacao para todas as iteracoes\n",
    "            mse_val[execucao, z,:] = mse_val_lista_temp\n",
    "            # salvar lista com os mse de teste para todas as iterações\n",
    "            mse_teste[execucao, z,:] = mse_teste_lista_temp\n",
    "\n",
    "        end\n",
    "    end\n",
    "    return mse_treino, mse_val, mse_teste\n",
    "end\n",
    "            "
   ]
  },
  {
   "cell_type": "markdown",
   "metadata": {},
   "source": [
    "### Teste cenários CQSO SUNSPOT - Cenário 1"
   ]
  },
  {
   "cell_type": "code",
   "execution_count": 201,
   "metadata": {},
   "outputs": [
    {
     "name": "stdout",
     "output_type": "stream",
     "text": [
      "Quantidade de iterações: 1050\n",
      "Execução: 1\n",
      "Neuronios: 2\n",
      "dim list: [20, 2, 2, 1]\n",
      "qtd particulas dim: 25\n",
      "Dimensao: 25\n",
      "Neuronios: 3\n",
      "dim list: [30, 3, 3, 1]\n",
      "qtd particulas dim: 37\n",
      "Dimensao: 37\n"
     ]
    },
    {
     "ename": "InterruptException",
     "evalue": "InterruptException:",
     "output_type": "error",
     "traceback": [
      "InterruptException:",
      "",
      "Stacktrace:",
      " [1] vect(::Array{Float64,2}, ::Vararg{Any,N} where N) at ./array.jl:151",
      " [2] params_reshape(::Array{Float64,1}, ::Array{Array{Float64,N} where N,1}) at ./In[5]:58",
      " [3] CQSO(::Array{Float64,3}, ::Array{Float64,2}, ::Array{Array{Float64,N} where N,1}, ::Int64, ::Array{Int64,1}, ::Int64, ::Float64, ::Float64, ::Float64, ::Float64, ::Int64, ::Float64) at ./In[129]:106",
      " [4] n_model_cqso(::Array{Float64,3}, ::Array{Float64,2}, ::Int64, ::Int64, ::Float64, ::Float64, ::Int64, ::Float64) at ./In[199]:25",
      " [5] cenarios_execucoes_cqso(::Array{Float64,2}, ::Array{Float64,1}, ::Int64, ::Int64, ::Int64, ::Float64, ::Float64, ::Int64, ::Int64, ::Float64) at ./In[200]:28",
      " [6] macro expansion at ./util.jl:175 [inlined]",
      " [7] top-level scope at ./In[201]:1"
     ]
    }
   ],
   "source": [
    "@time sunspot_mse_treino_1_cqso, sunspot_mse_val_1_cqso, sunspot_mse_teste_1_cqso = cenarios_execucoes_cqso(X, y, w, s, f, 0.54, 0.24, 3, 25, 0.2)"
   ]
  },
  {
   "cell_type": "code",
   "execution_count": null,
   "metadata": {},
   "outputs": [],
   "source": []
  }
 ],
 "metadata": {
  "kernelspec": {
   "display_name": "Julia 1.4.1",
   "language": "julia",
   "name": "julia-1.4"
  },
  "language_info": {
   "file_extension": ".jl",
   "mimetype": "application/julia",
   "name": "julia",
   "version": "1.4.1"
  }
 },
 "nbformat": 4,
 "nbformat_minor": 4
}
