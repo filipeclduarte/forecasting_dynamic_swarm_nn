{
 "metadata": {
  "language_info": {
   "codemirror_mode": {
    "name": "ipython",
    "version": 3
   },
   "file_extension": ".py",
   "mimetype": "text/x-python",
   "name": "python",
   "nbconvert_exporter": "python",
   "pygments_lexer": "ipython3",
   "version": "3.7.5-final"
  },
  "orig_nbformat": 2,
  "kernelspec": {
   "name": "python_defaultSpec_1595810548624",
   "display_name": "Python 3.7.5 64-bit ('base': conda)"
  }
 },
 "nbformat": 4,
 "nbformat_minor": 2,
 "cells": [
  {
   "cell_type": "code",
   "execution_count": 126,
   "metadata": {},
   "outputs": [],
   "source": [
    "import numpy as np\n",
    "import h5py\n",
    "import matplotlib.pyplot as plt\n",
    "\n",
    "%matplotlib inline\n",
    "plt.rcParams['figure.figsize'] = (12.0, 9.0) # set default size of plots\n",
    "\n",
    "np.random.seed(1)"
   ]
  },
  {
   "cell_type": "code",
   "execution_count": 127,
   "metadata": {},
   "outputs": [],
   "source": [
    "# Funções\n",
    "### Sigmoid (Logística)\n",
    "def sigmoid(z):\n",
    "    \"\"\"\n",
    "    Compute the sigmoid of z\n",
    "\n",
    "    Arguments:\n",
    "    z -- A scalar or numpy array of any size.\n",
    "\n",
    "    Return:\n",
    "    s -- sigmoid(z)\n",
    "    \"\"\"\n",
    "    s = 1 / (1+np.exp(-z))\n",
    "    \n",
    "    return s"
   ]
  },
  {
   "cell_type": "code",
   "execution_count": 128,
   "metadata": {},
   "outputs": [],
   "source": [
    "###  Modelo para Regressão\n",
    "\n",
    "def layer_sizes2(X, Y, n_h=4):\n",
    "    \"\"\"\n",
    "    Argumentos:\n",
    "    X -- shape do input (quantidade de features, quantidade de exemplos)\n",
    "    Y -- shape do target (1, quantidade de exemplos)\n",
    "    \"\"\"\n",
    "    n_x = X.shape[0]\n",
    "    n_y = Y.shape[0]\n",
    "    return (n_x, n_h, n_y)\n",
    "\n",
    "def initialize_parameters2(n_x, n_h, n_y):\n",
    "    \"\"\"\n",
    "    Argument:\n",
    "    n_x -- tamanho da camada de entrada\n",
    "    n_h -- tamanho da camada escondida\n",
    "    n_y -- tamanho da camada de saída\n",
    "    \n",
    "    Retorna:\n",
    "    params -- dicionário com os parâmetros (pesos) iniciais do modelo:\n",
    "                    W1 -- weight matrix of shape (n_h, n_x)\n",
    "                    b1 -- bias vector of shape (n_h, 1)\n",
    "                    W2 -- weight matrix of shape (n_y, n_h)\n",
    "                    b2 -- bias vector of shape (n_y, 1)\n",
    "    \"\"\"\n",
    "    \n",
    "    \n",
    "    np.random.seed(2) # garantir a reprodução do código\n",
    "    \n",
    "    \n",
    "    W1 = np.random.randn(n_h, n_x) * 0.01\n",
    "    b1 = np.zeros((n_h, 1))\n",
    "    W2 = np.random.randn(n_y, n_h) * 0.01\n",
    "    b2 = np.zeros((n_y, 1))\n",
    "    \n",
    "    \n",
    "    assert (W1.shape == (n_h, n_x))\n",
    "    assert (b1.shape == (n_h, 1))\n",
    "    assert (W2.shape == (n_y, n_h))\n",
    "    assert (b2.shape == (n_y, 1))\n",
    "    \n",
    "    parameters = {\"W1\": W1,\n",
    "                  \"b1\": b1,\n",
    "                  \"W2\": W2,\n",
    "                  \"b2\": b2}\n",
    "    \n",
    "    return parameters\n",
    "\n",
    "def forward_propagation2(X, parameters):\n",
    "    \"\"\"\n",
    "    Argumentos:\n",
    "    X -- input de tamanho (n_x, m)\n",
    "    parametros -- python dicionário contendo os parâmetros (saída da função de inicialização dos parametros)\n",
    "    \n",
    "    Retorna:\n",
    "    A2 -- A saída da função sigmoidal ou tangente hiberbólica ou relu\n",
    "    cache -- dicionário contendo \"Z1\", \"A1\", \"Z2\" e \"A2\"\n",
    "    \"\"\"\n",
    "\n",
    "    # Recupere cada parâmetro do dicionário parameters\n",
    "    W1 = parameters['W1']\n",
    "    b1 = parameters['b1']\n",
    "    W2 = parameters['W2']\n",
    "    b2 = parameters['b2']\n",
    "    \n",
    "    # Implementando a Forward Propagation para calcular A1 tanh e A2 linear\n",
    "    Z1 = np.dot(W1,X) + b1\n",
    "    A1 = np.tanh(Z1)\n",
    "    Z2 = np.dot(W2, A1) + b2\n",
    "    A2 = Z2\n",
    "    \n",
    "    assert(A2.shape == (1, X.shape[1]))\n",
    "    \n",
    "    cache = {\"Z1\": Z1,\n",
    "             \"A1\": A1,\n",
    "             \"Z2\": Z2,\n",
    "             \"A2\": A2}\n",
    "    \n",
    "    return A2, cache\n",
    "\n",
    "\n",
    "def compute_cost2(A2, Y, parameters):\n",
    "    \"\"\"\n",
    "    Computa o custo dado os argumentos\n",
    "    \n",
    "    Arguments:\n",
    "    A2 -- Saída linear da segunda ativação de shape (1, qtd de exemplos)\n",
    "    Y -- Valor verdadeiro do rótulo de shape (1, qtd de exemplos)\n",
    "    parameters -- dicionário contendo os parâmetros W1, b1, W2 and b2\n",
    "    \n",
    "    Retorna:\n",
    "    cost\n",
    "    \n",
    "    \"\"\"\n",
    "    \n",
    "    m = Y.shape[1] # quantidade de exemplos\n",
    "\n",
    "    # Computa o custo (cost)\n",
    "    err = A2 - Y\n",
    "    cost = 1/m * np.sum(err**2)\n",
    "    \n",
    "    cost = float(np.squeeze(cost))  # garanta que o custo tem a dimensão esperada\n",
    "    assert(isinstance(cost, float))\n",
    "    \n",
    "    return cost\n",
    "\n",
    "def backward_propagation2(parameters, cache, X, Y):\n",
    "    \"\"\"\n",
    "    Implementa a retropropagação \n",
    "    \n",
    "    Argumentos:\n",
    "    parameters -- dicionário contendo os parâmetros\n",
    "    cache -- dicionário contendo \"Z1\", \"A1\", \"Z2\" and \"A2\".\n",
    "    X -- input de shape (qtd de features, qtd de examplos)\n",
    "    Y -- valor verdadeiro do rótulo de shape (1, qtd de examplos)\n",
    "    \n",
    "    Retorna:\n",
    "    grads -- dicionário contendo os gradientes em relação aos diferentes parâmetros\n",
    "    \"\"\"\n",
    "    m = X.shape[1]\n",
    "    \n",
    "    # Primeiro, recuperamos W1 e W2 do dicinário \"parameters\"\n",
    "    W1 = parameters['W1']\n",
    "    W2 = parameters['W2']\n",
    "        \n",
    "    # Recuperamos também A1 e A2 do dicionário \"cache\".\n",
    "    A1 = cache['A1']\n",
    "    A2 = cache['A2']\n",
    "    \n",
    "    # Retropropagação: calcula-se dW1, db1, dW2, db2.\n",
    "    dZ2 = A2 - Y\n",
    "    dW2 = 1/m * np.dot(dZ2,A1.T)\n",
    "    db2 = 1/m * np.sum(dZ2, axis = 1, keepdims=True)\n",
    "    dZ1 = np.dot(W2.T, dZ2) * (1-np.power(A1, 2))\n",
    "    dW1 = 1/m * np.dot(dZ1, X.T)\n",
    "    db1 = 1/m * np.sum(dZ1, axis = 1, keepdims=True)\n",
    "    \n",
    "    grads = {\"dW1\": dW1,\n",
    "             \"db1\": db1,\n",
    "             \"dW2\": dW2,\n",
    "             \"db2\": db2}\n",
    "    \n",
    "    return grads\n",
    "\n",
    "def update_parameters2(parameters, grads, learning_rate = 1.2):\n",
    "    \"\"\"\n",
    "    Atualiza os parâmetros utilizando o gradient descendente \n",
    "    \n",
    "    Argumentos:\n",
    "    parameters -- dicionário contendo os parâmetros\n",
    "    grads -- dicionário contendo os gradientes\n",
    "    \n",
    "    Retorna:\n",
    "    parameters -- dicionário contendo os parâmetros atualizados\n",
    "    \"\"\"\n",
    "    # Recupera-se cada parâmetro do dicionário \"parameters\"\n",
    "    W1 = parameters['W1']\n",
    "    b1 = parameters['b1']\n",
    "    W2 = parameters['W2']\n",
    "    b2 = parameters['b2']\n",
    "    \n",
    "    # Recupera-se cada gradiente do dicionário \"grads\"\n",
    "    dW1 = grads['dW1']\n",
    "    db1 = grads['db1']\n",
    "    dW2 = grads['dW2']\n",
    "    db2 = grads['db2']\n",
    "    \n",
    "    # Regra de atualização para cada parâmetro\n",
    "    W1 = W1 - learning_rate * dW1\n",
    "    b1 = b1 - learning_rate * db1\n",
    "    W2 = W2 - learning_rate * dW2\n",
    "    b2 = b2 - learning_rate * db2\n",
    "    \n",
    "    parameters = {\"W1\": W1,\n",
    "                  \"b1\": b1,\n",
    "                  \"W2\": W2,\n",
    "                  \"b2\": b2}\n",
    "    \n",
    "    return parameters\n",
    "\n",
    "def nn_model2(X, Y, n_h, num_iterations = 10000, print_cost=False):\n",
    "    \"\"\"\n",
    "    Argumentos:\n",
    "    X -- dataset de shape (2, qtd de examplos)\n",
    "    Y -- labels de shape (1, qtd de examplos)\n",
    "    n_h -- tamanho da camada escondida\n",
    "    num_iterations -- quantidade de iterações do gradiente descendente\n",
    "    print_cost -- se True, mostra o custo a cada 1000 iterações\n",
    "    \n",
    "    Retorna:\n",
    "    parameters -- parâmetros aprendidos pelo modelo. Eles podem ser utilizados para fazer previsões (predict).\n",
    "    \"\"\"\n",
    "    \n",
    "    np.random.seed(3)\n",
    "    n_x = layer_sizes2(X, Y)[0]\n",
    "    n_y = layer_sizes2(X, Y)[2]\n",
    "    \n",
    "    # Inicialização dos parâmetros\n",
    "    parameters = initialize_parameters2(n_x, n_h, n_y)\n",
    "\n",
    "    # Gradiente descendente (loop)\n",
    "    for i in range(0, num_iterations):\n",
    "         \n",
    "        # Forward propagation. Inputs: \"X, parameters\". Outputs: \"A2, cache\".\n",
    "        A2, cache = forward_propagation2(X, parameters)\n",
    "        \n",
    "        # Função de custo. Inputs: \"A2, Y, parameters\". Outputs: \"cost\".\n",
    "        cost = compute_cost2(A2, Y, parameters)\n",
    " \n",
    "        # Retropropagação (Backpropagation). Inputs: \"parameters, cache, X, Y\". Outputs: \"grads\".\n",
    "        grads = backward_propagation2(parameters, cache, X, Y)\n",
    " \n",
    "        # Atualização dos parâmetros pelo gradiente descendente. Inputs: \"parameters, grads\". Outputs: \"parameters\".\n",
    "        parameters = update_parameters2(parameters, grads, learning_rate=1.2)\n",
    "        \n",
    "        # Print o custo (cost) a cada 1000 iterações\n",
    "        if print_cost and i % 1000 == 0:\n",
    "            print (\"Custo após iteração %i: %f\" %(i, cost))\n",
    "\n",
    "    return parameters\n",
    "\n",
    "def predict2(parameters, X):\n",
    "    \"\"\"\n",
    "    Utiliza os parâmetros aprendidos para prever o valor da saída para cada exemplo X \n",
    "    \n",
    "    Argumentos:\n",
    "    parameters -- dicionário contendo os parâmetros\n",
    "    X -- input de tamanho (n_x, m)\n",
    "    \n",
    "    Retorna\n",
    "    predictions -- vetor de valores previstos do modelo treinado\n",
    "    \"\"\"\n",
    "    \n",
    "    A2, cache = forward_propagation2(X, parameters)\n",
    "    predictions = A2\n",
    "    \n",
    "    return predictions"
   ]
  },
  {
   "cell_type": "code",
   "execution_count": 269,
   "metadata": {},
   "outputs": [],
   "source": [
    "#### Resilient Backpropagation RProp ####\n",
    "\n",
    "def rprop_update(parameter, grad_old, grad_new, step_size,learning_rate_max, learning_rate_min):\n",
    "    \n",
    "    n_i = parameter.shape[0]\n",
    "    n_j = parameter.shape[1]\n",
    "\n",
    "    for i in range(n_i):\n",
    "\n",
    "        for j in range(n_j):\n",
    "\n",
    "            if grad_old[i, j] * grad_new[i, j] > 0:\n",
    "                step_size[i, j] = min(step_size[i,j] * learning_rate_max, step_size.max())\n",
    "                grad_new[i, j] = - np.sign(grad_new[i, j]) * step_size[i, j]\n",
    "                parameter[i, j] = parameter[i, j] + grad_new[i, j]\n",
    "            \n",
    "            elif grad_old[i, j] * grad_new[i, j] < 0:\n",
    "                step_size[i, j] = max(step_size[i,j] * learning_rate_min, step_size.min())\n",
    "                grad_new[i, j] = 0\n",
    "            \n",
    "            else: \n",
    "                grad_new[i, j] = - np.sign(grad_new[i, j]) * step_size[i, j]\n",
    "                parameter[i, j] = parameter[i, j] + grad_new[i, j]\n",
    "\n",
    "    return parameter, grad_new, step_size\n",
    "    \n",
    "\n",
    "def update_parameters_rprop2(parameters, grads_old, grads_new, step_size,learning_rate_max = 1.2, learning_rate_min = 0.5):\n",
    "    \"\"\"\n",
    "    Atualiza os parâmetros utilizando o Resilient backpropagation\n",
    "    \n",
    "    Argumentos:\n",
    "    parameters -- dicionário contendo os parâmetros\n",
    "    grads -- dicionário contendo os gradientes\n",
    "    \n",
    "    Retorna:\n",
    "    parameters -- dicionário contendo os parâmetros atualizados\n",
    "    \"\"\"\n",
    "    # Recupera-se cada parâmetro do dicionário \"parameters\"\n",
    "    W1 = parameters['W1']\n",
    "    b1 = parameters['b1']\n",
    "    W2 = parameters['W2']\n",
    "    b2 = parameters['b2']\n",
    "    \n",
    "    # Recupera-se cada gradiente do dicionário \"grads_old\" e \"grads_new\"\n",
    "    dW1_old = grads_old['dW1']\n",
    "    db1_old = grads_old['db1']\n",
    "    dW2_old = grads_old['dW2']\n",
    "    db2_old = grads_old['db2']\n",
    "\n",
    "    dW1_new = grads_new['dW1']\n",
    "    db1_new = grads_new['db1']\n",
    "    dW2_new = grads_new['dW2']\n",
    "    db2_new = grads_new['db2']\n",
    "\n",
    "    W1_step = step_size['W1']\n",
    "    b1_step = step_size['b1']\n",
    "    W2_step = step_size['W2']\n",
    "    b2_step = step_size['b2']\n",
    "\n",
    "\n",
    "    W1, dW1_new, W1_step = rprop_update(W1, dW1_old, dW1_new, W1_step, learning_rate_max, learning_rate_min)\n",
    "    b1, db1_new, b1_step = rprop_update(b1,db1_old, db1_new, b1_step, learning_rate_max, learning_rate_min) \n",
    "    W2, dW2_new, W2_step = rprop_update(W2,dW2_old, dW2_new, W2_step, learning_rate_max, learning_rate_min)\n",
    "    b2, db2_new, b2_step = rprop_update(b2,db2_old, db2_new, b2_step, learning_rate_max, learning_rate_min)\n",
    "\n",
    "    parameters = {\"W1\": W1,\n",
    "                  \"b1\": b1,\n",
    "                  \"W2\": W2,\n",
    "                  \"b2\": b2}\n",
    "    \n",
    "    grads = {\"dW1\": dW1_new,\n",
    "             \"db1\": db1_new,\n",
    "             \"dW2\": dW2_new,\n",
    "             \"db2\": db2_new}\n",
    "\n",
    "    step_size = {\"W1\": W1_step,\n",
    "                 \"b1\": b1_step,\n",
    "                 \"W2\": W2_step,\n",
    "                 \"b2\": b2_step}\n",
    "\n",
    "    return parameters, grads, step_size\n",
    "\n",
    "def nn_model_rprop(X, Y, n_h, num_iterations = 10000, print_cost=False):\n",
    "    \"\"\"\n",
    "    Argumentos:\n",
    "    X -- dataset de shape (2, qtd de examplos)\n",
    "    Y -- labels de shape (1, qtd de examplos)\n",
    "    n_h -- tamanho da camada escondida\n",
    "    num_iterations -- quantidade de iterações do gradiente descendente\n",
    "    print_cost -- se True, mostra o custo a cada 1000 iterações\n",
    "    \n",
    "    Retorna:\n",
    "    parameters -- parâmetros aprendidos pelo modelo. Eles podem ser utilizados para fazer previsões (predict).\n",
    "    \"\"\"\n",
    "    \n",
    "    np.random.seed(3)\n",
    "    n_x = layer_sizes2(X, Y)[0]\n",
    "    n_y = layer_sizes2(X, Y)[2]\n",
    "    \n",
    "    # Inicialização dos parâmetros\n",
    "    parameters = initialize_parameters2(n_x, n_h, n_y)\n",
    "    \n",
    "    # Gradiente descendente (loop)\n",
    "    grads_old = {\"dW1\": np.zeros((n_h, n_x)),\n",
    "                 \"db1\": np.zeros((n_h, 1)),\n",
    "                 \"dW2\": np.zeros((n_y, n_h)),\n",
    "                 \"db2\": np.zeros((n_y, 1))}\n",
    "\n",
    "    step_size = {\"W1\": np.random.rand(n_h, n_x),\n",
    "                \"b1\": np.random.rand(n_h, 1),\n",
    "                \"W2\": np.random.rand(n_y, n_h),\n",
    "                \"b2\": np.random.rand(n_y, 1)}\n",
    "\n",
    "    for i in range(0, num_iterations):\n",
    "         \n",
    "        # Forward propagation. Inputs: \"X, parameters\". Outputs: \"A2, cache\".\n",
    "        A2, cache = forward_propagation2(X, parameters)\n",
    "        \n",
    "        # Função de custo. Inputs: \"A2, Y, parameters\". Outputs: \"cost\".\n",
    "        cost = compute_cost2(A2, Y, parameters)\n",
    " \n",
    "        # Retropropagação (Backpropagation). Inputs: \"parameters, cache, X, Y\". Outputs: \"grads\".\n",
    "        grads_new = backward_propagation2(parameters, cache, X, Y)\n",
    " \n",
    "        # Atualização dos parâmetros pelo gradiente descendente. Inputs: \"parameters, grads\". Outputs: \"parameters\".\n",
    "        parameters, grads_old, step_size = update_parameters_rprop2(parameters, grads_old, grads_new, step_size, learning_rate_max=1.2, learning_rate_min=0.5)\n",
    "\n",
    "        # Print o custo (cost) a cada 1000 iterações\n",
    "        if print_cost and i % 1000 == 0:\n",
    "            print (\"Custo após iteração %i: %f\" %(i, cost))\n",
    "\n",
    "    return parameters\n"
   ]
  },
  {
   "cell_type": "code",
   "execution_count": null,
   "metadata": {},
   "outputs": [],
   "source": []
  },
  {
   "cell_type": "code",
   "execution_count": 255,
   "metadata": {},
   "outputs": [],
   "source": [
    "X = np.random.rand(2, 10)\n",
    "Y = np.random.randn(1, 10)\n"
   ]
  },
  {
   "cell_type": "code",
   "execution_count": 256,
   "metadata": {},
   "outputs": [],
   "source": [
    "shape_X = X.shape\n",
    "shape_Y = Y.shape\n",
    "m = X.shape[1]  # training set size"
   ]
  },
  {
   "cell_type": "code",
   "execution_count": 257,
   "metadata": {
    "tags": []
   },
   "outputs": [
    {
     "output_type": "stream",
     "name": "stdout",
     "text": "The shape of X is: (2, 10)\nThe shape of Y is: (1, 10)\nI have m = 10 training examples!\n"
    }
   ],
   "source": [
    "\n",
    "print ('The shape of X is: ' + str(shape_X))\n",
    "print ('The shape of Y is: ' + str(shape_Y))\n",
    "print ('I have m = %d training examples!' % (m))\n",
    "\n",
    "(n_x, n_h, n_y) = layer_sizes2(X,Y)"
   ]
  },
  {
   "cell_type": "code",
   "execution_count": 258,
   "metadata": {
    "tags": []
   },
   "outputs": [
    {
     "output_type": "stream",
     "name": "stdout",
     "text": "W1 = [[-0.00416758 -0.00056267]\n [-0.02136196  0.01640271]\n [-0.01793436 -0.00841747]\n [ 0.00502881 -0.01245288]]\nb1 = [[0.]\n [0.]\n [0.]\n [0.]]\nW2 = [[-0.01057952 -0.00909008  0.00551454  0.02292208]]\nb2 = [[0.]]\n"
    }
   ],
   "source": [
    "parameters = initialize_parameters2(n_x, n_h, n_y)\n",
    "\n",
    "print(\"W1 = \" + str(parameters[\"W1\"]))\n",
    "print(\"b1 = \" + str(parameters[\"b1\"]))\n",
    "print(\"W2 = \" + str(parameters[\"W2\"]))\n",
    "print(\"b2 = \" + str(parameters[\"b2\"]))"
   ]
  },
  {
   "cell_type": "code",
   "execution_count": 259,
   "metadata": {
    "tags": []
   },
   "outputs": [
    {
     "output_type": "stream",
     "name": "stdout",
     "text": "-0.005954650674829288 -0.005954269272852108 -8.568589375418496e-05 -8.568589375418496e-05\n"
    }
   ],
   "source": [
    "A2, cache = forward_propagation2(X, parameters)\n",
    "\n",
    "print(np.mean(cache['Z1']) ,np.mean(cache['A1']),np.mean(cache['Z2']),np.mean(cache['A2']))"
   ]
  },
  {
   "cell_type": "code",
   "execution_count": 260,
   "metadata": {
    "tags": []
   },
   "outputs": [
    {
     "output_type": "stream",
     "name": "stdout",
     "text": "cost = 1.8830368402571542\n"
    }
   ],
   "source": [
    "print(\"cost = \" + str(compute_cost2(A2, Y, parameters)))"
   ]
  },
  {
   "cell_type": "code",
   "execution_count": 261,
   "metadata": {
    "tags": []
   },
   "outputs": [
    {
     "output_type": "stream",
     "name": "stdout",
     "text": "dW1 = [[-0.00370895 -0.00093768]\n [-0.00318659 -0.0008056 ]\n [ 0.00193293  0.00048861]\n [ 0.00803605  0.00203171]]\ndb1 = [[-0.00632902]\n [-0.00543764]\n [ 0.00329849]\n [ 0.01371291]]\ndW2 = [[-0.00151094 -0.00603516 -0.00703303  0.00065927]]\ndb2 = [[0.59823671]]\n"
    }
   ],
   "source": [
    "grads = backward_propagation2(parameters, cache, X, Y)\n",
    "print (\"dW1 = \"+ str(grads[\"dW1\"]))\n",
    "print (\"db1 = \"+ str(grads[\"db1\"]))\n",
    "print (\"dW2 = \"+ str(grads[\"dW2\"]))\n",
    "print (\"db2 = \"+ str(grads[\"db2\"]))"
   ]
  },
  {
   "cell_type": "code",
   "execution_count": 208,
   "metadata": {
    "tags": []
   },
   "outputs": [
    {
     "output_type": "stream",
     "name": "stdout",
     "text": "W1 = [[-0.00687229 -0.00057768]\n [-0.02368557  0.01638988]\n [-0.0165248  -0.00840972]\n [ 0.010889   -0.01242034]]\nb1 = [[-0.00199385]\n [-0.00171267]\n [ 0.00103892]\n [ 0.00432007]]\nW2 = [[-0.01164579 -0.01452792  0.00091788  0.02419006]]\nb2 = [[0.1884668]]\n"
    }
   ],
   "source": [
    "parameters = update_parameters2(parameters, grads)\n",
    "\n",
    "print(\"W1 = \" + str(parameters[\"W1\"]))\n",
    "print(\"b1 = \" + str(parameters[\"b1\"]))\n",
    "print(\"W2 = \" + str(parameters[\"W2\"]))\n",
    "print(\"b2 = \" + str(parameters[\"b2\"]))"
   ]
  },
  {
   "cell_type": "code",
   "execution_count": 270,
   "metadata": {},
   "outputs": [
    {
     "output_type": "error",
     "ename": "IndexError",
     "evalue": "index 2 is out of bounds for axis 1 with size 2",
     "traceback": [
      "\u001b[0;31m---------------------------------------------------------------------------\u001b[0m",
      "\u001b[0;31mIndexError\u001b[0m                                Traceback (most recent call last)",
      "\u001b[0;32m<ipython-input-270-141e4f03cd4b>\u001b[0m in \u001b[0;36m<module>\u001b[0;34m\u001b[0m\n\u001b[1;32m     10\u001b[0m \u001b[0;34m\u001b[0m\u001b[0m\n\u001b[1;32m     11\u001b[0m \u001b[0;34m\u001b[0m\u001b[0m\n\u001b[0;32m---> 12\u001b[0;31m \u001b[0mparameters_rprop\u001b[0m \u001b[0;34m=\u001b[0m \u001b[0mupdate_parameters_rprop2\u001b[0m\u001b[0;34m(\u001b[0m\u001b[0mparameters\u001b[0m\u001b[0;34m,\u001b[0m \u001b[0mgrads_old\u001b[0m\u001b[0;34m,\u001b[0m \u001b[0mgrads\u001b[0m\u001b[0;34m,\u001b[0m \u001b[0mstep_size\u001b[0m\u001b[0;34m,\u001b[0m\u001b[0mlearning_rate_max\u001b[0m\u001b[0;34m=\u001b[0m\u001b[0;36m1.2\u001b[0m\u001b[0;34m,\u001b[0m \u001b[0mlearning_rate_min\u001b[0m\u001b[0;34m=\u001b[0m\u001b[0;36m0.5\u001b[0m\u001b[0;34m)\u001b[0m\u001b[0;34m\u001b[0m\u001b[0;34m\u001b[0m\u001b[0m\n\u001b[0m\u001b[1;32m     13\u001b[0m \u001b[0mparameters_rprop\u001b[0m\u001b[0;34m\u001b[0m\u001b[0;34m\u001b[0m\u001b[0m\n",
      "\u001b[0;32m<ipython-input-269-d2bfebcf2e2a>\u001b[0m in \u001b[0;36mupdate_parameters_rprop2\u001b[0;34m(parameters, grads_old, grads_new, step_size, learning_rate_max, learning_rate_min)\u001b[0m\n\u001b[1;32m     60\u001b[0m \u001b[0;34m\u001b[0m\u001b[0m\n\u001b[1;32m     61\u001b[0m \u001b[0;34m\u001b[0m\u001b[0m\n\u001b[0;32m---> 62\u001b[0;31m     \u001b[0mW1\u001b[0m\u001b[0;34m,\u001b[0m \u001b[0mdW1_new\u001b[0m\u001b[0;34m,\u001b[0m \u001b[0mW1_step\u001b[0m \u001b[0;34m=\u001b[0m \u001b[0mrprop_update\u001b[0m\u001b[0;34m(\u001b[0m\u001b[0mW1\u001b[0m\u001b[0;34m,\u001b[0m \u001b[0mdW1_old\u001b[0m\u001b[0;34m,\u001b[0m \u001b[0mdW1_new\u001b[0m\u001b[0;34m,\u001b[0m \u001b[0mW1_step\u001b[0m\u001b[0;34m,\u001b[0m \u001b[0mlearning_rate_max\u001b[0m\u001b[0;34m,\u001b[0m \u001b[0mlearning_rate_min\u001b[0m\u001b[0;34m)\u001b[0m\u001b[0;34m\u001b[0m\u001b[0;34m\u001b[0m\u001b[0m\n\u001b[0m\u001b[1;32m     63\u001b[0m     \u001b[0mb1\u001b[0m\u001b[0;34m,\u001b[0m \u001b[0mdb1_new\u001b[0m\u001b[0;34m,\u001b[0m \u001b[0mb1_step\u001b[0m \u001b[0;34m=\u001b[0m \u001b[0mrprop_update\u001b[0m\u001b[0;34m(\u001b[0m\u001b[0mb1\u001b[0m\u001b[0;34m,\u001b[0m\u001b[0mdb1_old\u001b[0m\u001b[0;34m,\u001b[0m \u001b[0mdb1_new\u001b[0m\u001b[0;34m,\u001b[0m \u001b[0mb1_step\u001b[0m\u001b[0;34m,\u001b[0m \u001b[0mlearning_rate_max\u001b[0m\u001b[0;34m,\u001b[0m \u001b[0mlearning_rate_min\u001b[0m\u001b[0;34m)\u001b[0m\u001b[0;34m\u001b[0m\u001b[0;34m\u001b[0m\u001b[0m\n\u001b[1;32m     64\u001b[0m     \u001b[0mW2\u001b[0m\u001b[0;34m,\u001b[0m \u001b[0mdW2_new\u001b[0m\u001b[0;34m,\u001b[0m \u001b[0mW2_step\u001b[0m \u001b[0;34m=\u001b[0m \u001b[0mrprop_update\u001b[0m\u001b[0;34m(\u001b[0m\u001b[0mW2\u001b[0m\u001b[0;34m,\u001b[0m\u001b[0mdW2_old\u001b[0m\u001b[0;34m,\u001b[0m \u001b[0mdW2_new\u001b[0m\u001b[0;34m,\u001b[0m \u001b[0mW2_step\u001b[0m\u001b[0;34m,\u001b[0m \u001b[0mlearning_rate_max\u001b[0m\u001b[0;34m,\u001b[0m \u001b[0mlearning_rate_min\u001b[0m\u001b[0;34m)\u001b[0m\u001b[0;34m\u001b[0m\u001b[0;34m\u001b[0m\u001b[0m\n",
      "\u001b[0;32m<ipython-input-269-d2bfebcf2e2a>\u001b[0m in \u001b[0;36mrprop_update\u001b[0;34m(parameter, grad_old, grad_new, step_size, learning_rate_max, learning_rate_min)\u001b[0m\n\u001b[1;32m     10\u001b[0m         \u001b[0;32mfor\u001b[0m \u001b[0mj\u001b[0m \u001b[0;32min\u001b[0m \u001b[0mrange\u001b[0m\u001b[0;34m(\u001b[0m\u001b[0mn_j\u001b[0m\u001b[0;34m)\u001b[0m\u001b[0;34m:\u001b[0m\u001b[0;34m\u001b[0m\u001b[0;34m\u001b[0m\u001b[0m\n\u001b[1;32m     11\u001b[0m \u001b[0;34m\u001b[0m\u001b[0m\n\u001b[0;32m---> 12\u001b[0;31m             \u001b[0;32mif\u001b[0m \u001b[0mgrad_old\u001b[0m\u001b[0;34m[\u001b[0m\u001b[0mi\u001b[0m\u001b[0;34m,\u001b[0m \u001b[0mj\u001b[0m\u001b[0;34m]\u001b[0m \u001b[0;34m*\u001b[0m \u001b[0mgrad_new\u001b[0m\u001b[0;34m[\u001b[0m\u001b[0mi\u001b[0m\u001b[0;34m,\u001b[0m \u001b[0mj\u001b[0m\u001b[0;34m]\u001b[0m \u001b[0;34m>\u001b[0m \u001b[0;36m0\u001b[0m\u001b[0;34m:\u001b[0m\u001b[0;34m\u001b[0m\u001b[0;34m\u001b[0m\u001b[0m\n\u001b[0m\u001b[1;32m     13\u001b[0m                 \u001b[0mstep_size\u001b[0m\u001b[0;34m[\u001b[0m\u001b[0mi\u001b[0m\u001b[0;34m,\u001b[0m \u001b[0mj\u001b[0m\u001b[0;34m]\u001b[0m \u001b[0;34m=\u001b[0m \u001b[0mmin\u001b[0m\u001b[0;34m(\u001b[0m\u001b[0mstep_size\u001b[0m\u001b[0;34m[\u001b[0m\u001b[0mi\u001b[0m\u001b[0;34m,\u001b[0m\u001b[0mj\u001b[0m\u001b[0;34m]\u001b[0m \u001b[0;34m*\u001b[0m \u001b[0mlearning_rate_max\u001b[0m\u001b[0;34m,\u001b[0m \u001b[0mstep_size\u001b[0m\u001b[0;34m.\u001b[0m\u001b[0mmax\u001b[0m\u001b[0;34m(\u001b[0m\u001b[0;34m)\u001b[0m\u001b[0;34m)\u001b[0m\u001b[0;34m\u001b[0m\u001b[0;34m\u001b[0m\u001b[0m\n\u001b[1;32m     14\u001b[0m                 \u001b[0mgrad_new\u001b[0m\u001b[0;34m[\u001b[0m\u001b[0mi\u001b[0m\u001b[0;34m,\u001b[0m \u001b[0mj\u001b[0m\u001b[0;34m]\u001b[0m \u001b[0;34m=\u001b[0m \u001b[0;34m-\u001b[0m \u001b[0mnp\u001b[0m\u001b[0;34m.\u001b[0m\u001b[0msign\u001b[0m\u001b[0;34m(\u001b[0m\u001b[0mgrad_new\u001b[0m\u001b[0;34m[\u001b[0m\u001b[0mi\u001b[0m\u001b[0;34m,\u001b[0m \u001b[0mj\u001b[0m\u001b[0;34m]\u001b[0m\u001b[0;34m)\u001b[0m \u001b[0;34m*\u001b[0m \u001b[0mstep_size\u001b[0m\u001b[0;34m[\u001b[0m\u001b[0mi\u001b[0m\u001b[0;34m,\u001b[0m \u001b[0mj\u001b[0m\u001b[0;34m]\u001b[0m\u001b[0;34m\u001b[0m\u001b[0;34m\u001b[0m\u001b[0m\n",
      "\u001b[0;31mIndexError\u001b[0m: index 2 is out of bounds for axis 1 with size 2"
     ]
    }
   ],
   "source": [
    "grads_old = {\"dW1\": np.zeros((n_h, n_x)),\n",
    "                 \"db1\": np.zeros((n_h, 1)),\n",
    "                 \"dW2\": np.zeros((n_y, n_h)),\n",
    "                 \"db2\": np.zeros((n_y, 1))}\n",
    "\n",
    "step_size = {\"W1\": np.random.rand(n_h, n_x),\n",
    "                 \"b1\": np.random.rand(n_h, 1),\n",
    "                 \"W2\": np.random.rand(n_y, n_h),\n",
    "                 \"b2\": np.random.rand(n_y, 1)}\n",
    "\n",
    "\n",
    "parameters_rprop = update_parameters_rprop2(parameters, grads_old, grads, step_size,learning_rate_max=1.2, learning_rate_min=0.5)\n",
    "parameters_rprop"
   ]
  },
  {
   "cell_type": "code",
   "execution_count": 271,
   "metadata": {
    "tags": []
   },
   "outputs": [
    {
     "output_type": "stream",
     "name": "stdout",
     "text": "Custo após iteração 0: 1.883037\nCusto após iteração 1000: 1.494173\nCusto após iteração 2000: 1.416127\nCusto após iteração 3000: 1.430944\nCusto após iteração 4000: 1.429608\nCusto após iteração 5000: 1.444651\nCusto após iteração 6000: 1.428968\nCusto após iteração 7000: 1.442086\nCusto após iteração 8000: 1.428527\nCusto após iteração 9000: 1.426838\nW1 = [[ 0.06937357 -1.62450334]\n [-0.30774512  0.6830912 ]\n [-1.00582664  2.05892161]\n [ 0.04292893  0.08681724]]\nb1 = [[ 0.39960028]\n [-0.1573598 ]\n [-0.26229162]\n [-0.16482437]]\nW2 = [[-0.13726489  0.00774362  0.41070886  0.10313706]]\nb2 = [[-0.22030621]]\n"
    }
   ],
   "source": [
    "parameters = nn_model_rprop(X, Y, n_h = 4, num_iterations=10000, print_cost=True)\n",
    "print(\"W1 = \" + str(parameters[\"W1\"]))\n",
    "print(\"b1 = \" + str(parameters[\"b1\"]))\n",
    "print(\"W2 = \" + str(parameters[\"W2\"]))\n",
    "print(\"b2 = \" + str(parameters[\"b2\"]))"
   ]
  },
  {
   "cell_type": "code",
   "execution_count": 152,
   "metadata": {
    "tags": []
   },
   "outputs": [
    {
     "output_type": "stream",
     "name": "stdout",
     "text": "Custo após iteração 0: 1.423565\nCusto após iteração 1000: nan\nCusto após iteração 2000: nan\nCusto após iteração 3000: nan\nCusto após iteração 4000: nan\nCusto após iteração 5000: nan\nCusto após iteração 6000: nan\nCusto após iteração 7000: nan\nCusto após iteração 8000: nan\nCusto após iteração 9000: nan\nW1 = [[nan nan]\n [nan nan]\n [nan nan]\n [nan nan]]\nb1 = [[nan]\n [nan]\n [nan]\n [nan]]\nW2 = [[nan nan nan nan]]\nb2 = [[nan]]\n"
    }
   ],
   "source": [
    "parameters = nn_model2(X, Y, n_h = 4, num_iterations=10000, print_cost=True)\n",
    "print(\"W1 = \" + str(parameters[\"W1\"]))\n",
    "print(\"b1 = \" + str(parameters[\"b1\"]))\n",
    "print(\"W2 = \" + str(parameters[\"W2\"]))\n",
    "print(\"b2 = \" + str(parameters[\"b2\"]))"
   ]
  },
  {
   "cell_type": "code",
   "execution_count": null,
   "metadata": {},
   "outputs": [],
   "source": []
  },
  {
   "cell_type": "code",
   "execution_count": null,
   "metadata": {},
   "outputs": [],
   "source": []
  },
  {
   "cell_type": "code",
   "execution_count": 211,
   "metadata": {},
   "outputs": [],
   "source": [
    "import pandas as pd\n",
    "import numpy as np\n",
    "import matplotlib.pyplot as plt\n",
    "import seaborn as sns\n",
    "from sklearn.preprocessing import MinMaxScaler\n",
    "import tensorflow as tf\n",
    "import pandas_datareader.data as web\n",
    "from datetime import datetime"
   ]
  },
  {
   "cell_type": "code",
   "execution_count": 212,
   "metadata": {
    "tags": []
   },
   "outputs": [],
   "source": [
    "df = web.DataReader('^DJI', 'stooq', start='2019-09-10', end='2019-10-09')\n",
    "df.reset_index(inplace = True)"
   ]
  },
  {
   "cell_type": "code",
   "execution_count": 213,
   "metadata": {},
   "outputs": [
    {
     "output_type": "execute_result",
     "data": {
      "text/plain": "           Date      Open      High       Low     Close     Volume\n0    2020-07-24  26533.41  26625.70  26402.86  26469.89  498367414\n1    2020-07-23  26955.97  26973.85  26560.04  26652.33  432001397\n2    2020-07-22  26824.56  27035.24  26794.19  27005.84  414798714\n3    2020-07-21  26833.14  27025.38  26766.22  26840.40  367856994\n4    2020-07-20  26660.29  26765.02  26504.20  26680.87  313720152\n...         ...       ...       ...       ...       ...        ...\n1252 2015-08-04  17596.93  17635.78  17505.50  17550.69   99064484\n1253 2015-08-03  17696.74  17704.76  17496.61  17598.20   87875896\n1254 2015-07-31  17755.87  17783.59  17671.59  17689.86  106052869\n1255 2015-07-30  17743.24  17761.25  17640.85  17745.98   76641341\n1256 2015-07-29  17631.40  17776.78  17629.20  17751.39   93144945\n\n[1257 rows x 6 columns]",
      "text/html": "<div>\n<style scoped>\n    .dataframe tbody tr th:only-of-type {\n        vertical-align: middle;\n    }\n\n    .dataframe tbody tr th {\n        vertical-align: top;\n    }\n\n    .dataframe thead th {\n        text-align: right;\n    }\n</style>\n<table border=\"1\" class=\"dataframe\">\n  <thead>\n    <tr style=\"text-align: right;\">\n      <th></th>\n      <th>Date</th>\n      <th>Open</th>\n      <th>High</th>\n      <th>Low</th>\n      <th>Close</th>\n      <th>Volume</th>\n    </tr>\n  </thead>\n  <tbody>\n    <tr>\n      <th>0</th>\n      <td>2020-07-24</td>\n      <td>26533.41</td>\n      <td>26625.70</td>\n      <td>26402.86</td>\n      <td>26469.89</td>\n      <td>498367414</td>\n    </tr>\n    <tr>\n      <th>1</th>\n      <td>2020-07-23</td>\n      <td>26955.97</td>\n      <td>26973.85</td>\n      <td>26560.04</td>\n      <td>26652.33</td>\n      <td>432001397</td>\n    </tr>\n    <tr>\n      <th>2</th>\n      <td>2020-07-22</td>\n      <td>26824.56</td>\n      <td>27035.24</td>\n      <td>26794.19</td>\n      <td>27005.84</td>\n      <td>414798714</td>\n    </tr>\n    <tr>\n      <th>3</th>\n      <td>2020-07-21</td>\n      <td>26833.14</td>\n      <td>27025.38</td>\n      <td>26766.22</td>\n      <td>26840.40</td>\n      <td>367856994</td>\n    </tr>\n    <tr>\n      <th>4</th>\n      <td>2020-07-20</td>\n      <td>26660.29</td>\n      <td>26765.02</td>\n      <td>26504.20</td>\n      <td>26680.87</td>\n      <td>313720152</td>\n    </tr>\n    <tr>\n      <th>...</th>\n      <td>...</td>\n      <td>...</td>\n      <td>...</td>\n      <td>...</td>\n      <td>...</td>\n      <td>...</td>\n    </tr>\n    <tr>\n      <th>1252</th>\n      <td>2015-08-04</td>\n      <td>17596.93</td>\n      <td>17635.78</td>\n      <td>17505.50</td>\n      <td>17550.69</td>\n      <td>99064484</td>\n    </tr>\n    <tr>\n      <th>1253</th>\n      <td>2015-08-03</td>\n      <td>17696.74</td>\n      <td>17704.76</td>\n      <td>17496.61</td>\n      <td>17598.20</td>\n      <td>87875896</td>\n    </tr>\n    <tr>\n      <th>1254</th>\n      <td>2015-07-31</td>\n      <td>17755.87</td>\n      <td>17783.59</td>\n      <td>17671.59</td>\n      <td>17689.86</td>\n      <td>106052869</td>\n    </tr>\n    <tr>\n      <th>1255</th>\n      <td>2015-07-30</td>\n      <td>17743.24</td>\n      <td>17761.25</td>\n      <td>17640.85</td>\n      <td>17745.98</td>\n      <td>76641341</td>\n    </tr>\n    <tr>\n      <th>1256</th>\n      <td>2015-07-29</td>\n      <td>17631.40</td>\n      <td>17776.78</td>\n      <td>17629.20</td>\n      <td>17751.39</td>\n      <td>93144945</td>\n    </tr>\n  </tbody>\n</table>\n<p>1257 rows × 6 columns</p>\n</div>"
     },
     "metadata": {},
     "execution_count": 213
    }
   ],
   "source": [
    "df"
   ]
  },
  {
   "cell_type": "code",
   "execution_count": 214,
   "metadata": {},
   "outputs": [],
   "source": [
    "df = df.drop(['Date'],axis=1) # Drop Date feature\n",
    "df = df.dropna(inplace=False)  # Remove all nan entries.\n",
    "\n",
    "df = df.drop(['Volume'],axis=1) # Drop Adj close and volume feature\n",
    "df_train = df[:1059]    # 60% training data and 40% testing data\n",
    "df_test = df[1059:]\n",
    "scaler = MinMaxScaler() # For normalizing dataset"
   ]
  },
  {
   "cell_type": "code",
   "execution_count": 215,
   "metadata": {},
   "outputs": [],
   "source": [
    "# We want to predict Close value of stock \n",
    "X_train = scaler.fit_transform(df_train.drop(['Close'],axis=1))\n",
    "y_train = scaler.fit_transform(df_train['Close'].values.reshape(-1,1))\n",
    "\n",
    "# y is output and x is features.\n",
    "X_test = scaler.fit_transform(df_test.drop(['Close'],axis=1))\n",
    "y_test = scaler.fit_transform(df_test['Close'].values.reshape(-1,1))"
   ]
  },
  {
   "cell_type": "code",
   "execution_count": 216,
   "metadata": {
    "tags": []
   },
   "outputs": [],
   "source": [
    "def denormalize(df,norm_data):\n",
    "    df = df['Close'].values.reshape(-1,1)\n",
    "    norm_data = norm_data.reshape(-1,1)\n",
    "    scl = MinMaxScaler()\n",
    "    a = scl.fit_transform(df)\n",
    "    new = scl.inverse_transform(norm_data)\n",
    "    return new\n"
   ]
  },
  {
   "cell_type": "code",
   "execution_count": 272,
   "metadata": {
    "tags": []
   },
   "outputs": [
    {
     "output_type": "stream",
     "name": "stdout",
     "text": "Custo após iteração 0: 0.337478\nCusto após iteração 1000: 0.411719\nCusto após iteração 2000: 0.411719\nCusto após iteração 3000: 0.411719\nCusto após iteração 4000: 0.411719\nCusto após iteração 5000: 0.411719\nCusto após iteração 6000: 0.411719\nCusto após iteração 7000: 0.411719\nCusto após iteração 8000: 0.411719\nCusto após iteração 9000: 0.411719\n"
    }
   ],
   "source": [
    "parameters = nn_model_rprop(X_train.T, y_train.T, n_h=4, print_cost=True)"
   ]
  },
  {
   "cell_type": "code",
   "execution_count": 160,
   "metadata": {
    "tags": []
   },
   "outputs": [
    {
     "output_type": "stream",
     "name": "stdout",
     "text": "Custo após iteração 0: 0.337478\nCusto após iteração 1000: 0.000548\nCusto após iteração 2000: 0.000359\nCusto após iteração 3000: 0.000323\nCusto após iteração 4000: 0.000306\nCusto após iteração 5000: 0.000297\nCusto após iteração 6000: 0.000289\nCusto após iteração 7000: 0.000283\nCusto após iteração 8000: 0.000278\nCusto após iteração 9000: 0.000272\n"
    }
   ],
   "source": [
    "parameters = nn_model2(X_train.T, y_train.T, n_h = 4, print_cost = True)"
   ]
  },
  {
   "cell_type": "code",
   "execution_count": 273,
   "metadata": {
    "tags": []
   },
   "outputs": [
    {
     "output_type": "stream",
     "name": "stdout",
     "text": "W1 = [[ 0.10257933 -0.02527451  0.07797114]\n [-0.2173111  -0.57370505 -0.22777231]\n [-0.01744546 -0.09704557 -0.09028854]\n [-0.06113008  0.01477315  0.07617103]]\nb1 = [[-0.24580447]\n [-0.3819768 ]\n [-0.16959271]\n [ 0.07249916]]\nW2 = [[ 4.15393930e-04 -4.94249090e-01  1.06437927e-01  3.03552524e-01]]\nb2 = [[0.79363745]]\n"
    }
   ],
   "source": [
    "print(\"W1 = \" + str(parameters[\"W1\"]))\n",
    "print(\"b1 = \" + str(parameters[\"b1\"]))\n",
    "print(\"W2 = \" + str(parameters[\"W2\"]))\n",
    "print(\"b2 = \" + str(parameters[\"b2\"]))"
   ]
  },
  {
   "cell_type": "code",
   "execution_count": 274,
   "metadata": {
    "tags": []
   },
   "outputs": [
    {
     "output_type": "stream",
     "name": "stdout",
     "text": "predictions mean = 1.1517013204538336\n"
    }
   ],
   "source": [
    "predictions = predict2(parameters, X_test.T)\n",
    "print(\"predictions mean = \" + str(np.mean(predictions)))"
   ]
  },
  {
   "cell_type": "code",
   "execution_count": 275,
   "metadata": {},
   "outputs": [],
   "source": [
    "pred = denormalize(df_test, predictions.T)"
   ]
  },
  {
   "cell_type": "code",
   "execution_count": 276,
   "metadata": {},
   "outputs": [
    {
     "output_type": "execute_result",
     "data": {
      "text/plain": "[<matplotlib.lines.Line2D at 0x7ff9ca513b10>]"
     },
     "metadata": {},
     "execution_count": 276
    },
    {
     "output_type": "display_data",
     "data": {
      "text/plain": "<Figure size 864x648 with 1 Axes>",
      "image/svg+xml": "<?xml version=\"1.0\" encoding=\"utf-8\" standalone=\"no\"?>\n<!DOCTYPE svg PUBLIC \"-//W3C//DTD SVG 1.1//EN\"\n  \"http://www.w3.org/Graphics/SVG/1.1/DTD/svg11.dtd\">\n<!-- Created with matplotlib (https://matplotlib.org/) -->\n<svg height=\"520.318125pt\" version=\"1.1\" viewBox=\"0 0 722.8125 520.318125\" width=\"722.8125pt\" xmlns=\"http://www.w3.org/2000/svg\" xmlns:xlink=\"http://www.w3.org/1999/xlink\">\n <defs>\n  <style type=\"text/css\">\n*{stroke-linecap:butt;stroke-linejoin:round;}\n  </style>\n </defs>\n <g id=\"figure_1\">\n  <g id=\"patch_1\">\n   <path d=\"M 0 520.318125 \nL 722.8125 520.318125 \nL 722.8125 0 \nL 0 0 \nz\n\" style=\"fill:none;\"/>\n  </g>\n  <g id=\"axes_1\">\n   <g id=\"patch_2\">\n    <path d=\"M 46.0125 496.44 \nL 715.6125 496.44 \nL 715.6125 7.2 \nL 46.0125 7.2 \nz\n\" style=\"fill:#ffffff;\"/>\n   </g>\n   <g id=\"matplotlib.axis_1\">\n    <g id=\"xtick_1\">\n     <g id=\"line2d_1\">\n      <defs>\n       <path d=\"M 0 0 \nL 0 3.5 \n\" id=\"md84ab32545\" style=\"stroke:#000000;stroke-width:0.8;\"/>\n      </defs>\n      <g>\n       <use style=\"stroke:#000000;stroke-width:0.8;\" x=\"76.448864\" xlink:href=\"#md84ab32545\" y=\"496.44\"/>\n      </g>\n     </g>\n     <g id=\"text_1\">\n      <!-- 0 -->\n      <defs>\n       <path d=\"M 31.78125 66.40625 \nQ 24.171875 66.40625 20.328125 58.90625 \nQ 16.5 51.421875 16.5 36.375 \nQ 16.5 21.390625 20.328125 13.890625 \nQ 24.171875 6.390625 31.78125 6.390625 \nQ 39.453125 6.390625 43.28125 13.890625 \nQ 47.125 21.390625 47.125 36.375 \nQ 47.125 51.421875 43.28125 58.90625 \nQ 39.453125 66.40625 31.78125 66.40625 \nz\nM 31.78125 74.21875 \nQ 44.046875 74.21875 50.515625 64.515625 \nQ 56.984375 54.828125 56.984375 36.375 \nQ 56.984375 17.96875 50.515625 8.265625 \nQ 44.046875 -1.421875 31.78125 -1.421875 \nQ 19.53125 -1.421875 13.0625 8.265625 \nQ 6.59375 17.96875 6.59375 36.375 \nQ 6.59375 54.828125 13.0625 64.515625 \nQ 19.53125 74.21875 31.78125 74.21875 \nz\n\" id=\"DejaVuSans-48\"/>\n      </defs>\n      <g transform=\"translate(73.267614 511.038437)scale(0.1 -0.1)\">\n       <use xlink:href=\"#DejaVuSans-48\"/>\n      </g>\n     </g>\n    </g>\n    <g id=\"xtick_2\">\n     <g id=\"line2d_2\">\n      <g>\n       <use style=\"stroke:#000000;stroke-width:0.8;\" x=\"153.698518\" xlink:href=\"#md84ab32545\" y=\"496.44\"/>\n      </g>\n     </g>\n     <g id=\"text_2\">\n      <!-- 25 -->\n      <defs>\n       <path d=\"M 19.1875 8.296875 \nL 53.609375 8.296875 \nL 53.609375 0 \nL 7.328125 0 \nL 7.328125 8.296875 \nQ 12.9375 14.109375 22.625 23.890625 \nQ 32.328125 33.6875 34.8125 36.53125 \nQ 39.546875 41.84375 41.421875 45.53125 \nQ 43.3125 49.21875 43.3125 52.78125 \nQ 43.3125 58.59375 39.234375 62.25 \nQ 35.15625 65.921875 28.609375 65.921875 \nQ 23.96875 65.921875 18.8125 64.3125 \nQ 13.671875 62.703125 7.8125 59.421875 \nL 7.8125 69.390625 \nQ 13.765625 71.78125 18.9375 73 \nQ 24.125 74.21875 28.421875 74.21875 \nQ 39.75 74.21875 46.484375 68.546875 \nQ 53.21875 62.890625 53.21875 53.421875 \nQ 53.21875 48.921875 51.53125 44.890625 \nQ 49.859375 40.875 45.40625 35.40625 \nQ 44.1875 33.984375 37.640625 27.21875 \nQ 31.109375 20.453125 19.1875 8.296875 \nz\n\" id=\"DejaVuSans-50\"/>\n       <path d=\"M 10.796875 72.90625 \nL 49.515625 72.90625 \nL 49.515625 64.59375 \nL 19.828125 64.59375 \nL 19.828125 46.734375 \nQ 21.96875 47.46875 24.109375 47.828125 \nQ 26.265625 48.1875 28.421875 48.1875 \nQ 40.625 48.1875 47.75 41.5 \nQ 54.890625 34.8125 54.890625 23.390625 \nQ 54.890625 11.625 47.5625 5.09375 \nQ 40.234375 -1.421875 26.90625 -1.421875 \nQ 22.3125 -1.421875 17.546875 -0.640625 \nQ 12.796875 0.140625 7.71875 1.703125 \nL 7.71875 11.625 \nQ 12.109375 9.234375 16.796875 8.0625 \nQ 21.484375 6.890625 26.703125 6.890625 \nQ 35.15625 6.890625 40.078125 11.328125 \nQ 45.015625 15.765625 45.015625 23.390625 \nQ 45.015625 31 40.078125 35.4375 \nQ 35.15625 39.890625 26.703125 39.890625 \nQ 22.75 39.890625 18.8125 39.015625 \nQ 14.890625 38.140625 10.796875 36.28125 \nz\n\" id=\"DejaVuSans-53\"/>\n      </defs>\n      <g transform=\"translate(147.336018 511.038437)scale(0.1 -0.1)\">\n       <use xlink:href=\"#DejaVuSans-50\"/>\n       <use x=\"63.623047\" xlink:href=\"#DejaVuSans-53\"/>\n      </g>\n     </g>\n    </g>\n    <g id=\"xtick_3\">\n     <g id=\"line2d_3\">\n      <g>\n       <use style=\"stroke:#000000;stroke-width:0.8;\" x=\"230.948171\" xlink:href=\"#md84ab32545\" y=\"496.44\"/>\n      </g>\n     </g>\n     <g id=\"text_3\">\n      <!-- 50 -->\n      <g transform=\"translate(224.585671 511.038437)scale(0.1 -0.1)\">\n       <use xlink:href=\"#DejaVuSans-53\"/>\n       <use x=\"63.623047\" xlink:href=\"#DejaVuSans-48\"/>\n      </g>\n     </g>\n    </g>\n    <g id=\"xtick_4\">\n     <g id=\"line2d_4\">\n      <g>\n       <use style=\"stroke:#000000;stroke-width:0.8;\" x=\"308.197825\" xlink:href=\"#md84ab32545\" y=\"496.44\"/>\n      </g>\n     </g>\n     <g id=\"text_4\">\n      <!-- 75 -->\n      <defs>\n       <path d=\"M 8.203125 72.90625 \nL 55.078125 72.90625 \nL 55.078125 68.703125 \nL 28.609375 0 \nL 18.3125 0 \nL 43.21875 64.59375 \nL 8.203125 64.59375 \nz\n\" id=\"DejaVuSans-55\"/>\n      </defs>\n      <g transform=\"translate(301.835325 511.038437)scale(0.1 -0.1)\">\n       <use xlink:href=\"#DejaVuSans-55\"/>\n       <use x=\"63.623047\" xlink:href=\"#DejaVuSans-53\"/>\n      </g>\n     </g>\n    </g>\n    <g id=\"xtick_5\">\n     <g id=\"line2d_5\">\n      <g>\n       <use style=\"stroke:#000000;stroke-width:0.8;\" x=\"385.447479\" xlink:href=\"#md84ab32545\" y=\"496.44\"/>\n      </g>\n     </g>\n     <g id=\"text_5\">\n      <!-- 100 -->\n      <defs>\n       <path d=\"M 12.40625 8.296875 \nL 28.515625 8.296875 \nL 28.515625 63.921875 \nL 10.984375 60.40625 \nL 10.984375 69.390625 \nL 28.421875 72.90625 \nL 38.28125 72.90625 \nL 38.28125 8.296875 \nL 54.390625 8.296875 \nL 54.390625 0 \nL 12.40625 0 \nz\n\" id=\"DejaVuSans-49\"/>\n      </defs>\n      <g transform=\"translate(375.903729 511.038437)scale(0.1 -0.1)\">\n       <use xlink:href=\"#DejaVuSans-49\"/>\n       <use x=\"63.623047\" xlink:href=\"#DejaVuSans-48\"/>\n       <use x=\"127.246094\" xlink:href=\"#DejaVuSans-48\"/>\n      </g>\n     </g>\n    </g>\n    <g id=\"xtick_6\">\n     <g id=\"line2d_6\">\n      <g>\n       <use style=\"stroke:#000000;stroke-width:0.8;\" x=\"462.697133\" xlink:href=\"#md84ab32545\" y=\"496.44\"/>\n      </g>\n     </g>\n     <g id=\"text_6\">\n      <!-- 125 -->\n      <g transform=\"translate(453.153383 511.038437)scale(0.1 -0.1)\">\n       <use xlink:href=\"#DejaVuSans-49\"/>\n       <use x=\"63.623047\" xlink:href=\"#DejaVuSans-50\"/>\n       <use x=\"127.246094\" xlink:href=\"#DejaVuSans-53\"/>\n      </g>\n     </g>\n    </g>\n    <g id=\"xtick_7\">\n     <g id=\"line2d_7\">\n      <g>\n       <use style=\"stroke:#000000;stroke-width:0.8;\" x=\"539.946787\" xlink:href=\"#md84ab32545\" y=\"496.44\"/>\n      </g>\n     </g>\n     <g id=\"text_7\">\n      <!-- 150 -->\n      <g transform=\"translate(530.403037 511.038437)scale(0.1 -0.1)\">\n       <use xlink:href=\"#DejaVuSans-49\"/>\n       <use x=\"63.623047\" xlink:href=\"#DejaVuSans-53\"/>\n       <use x=\"127.246094\" xlink:href=\"#DejaVuSans-48\"/>\n      </g>\n     </g>\n    </g>\n    <g id=\"xtick_8\">\n     <g id=\"line2d_8\">\n      <g>\n       <use style=\"stroke:#000000;stroke-width:0.8;\" x=\"617.196441\" xlink:href=\"#md84ab32545\" y=\"496.44\"/>\n      </g>\n     </g>\n     <g id=\"text_8\">\n      <!-- 175 -->\n      <g transform=\"translate(607.652691 511.038437)scale(0.1 -0.1)\">\n       <use xlink:href=\"#DejaVuSans-49\"/>\n       <use x=\"63.623047\" xlink:href=\"#DejaVuSans-55\"/>\n       <use x=\"127.246094\" xlink:href=\"#DejaVuSans-53\"/>\n      </g>\n     </g>\n    </g>\n    <g id=\"xtick_9\">\n     <g id=\"line2d_9\">\n      <g>\n       <use style=\"stroke:#000000;stroke-width:0.8;\" x=\"694.446095\" xlink:href=\"#md84ab32545\" y=\"496.44\"/>\n      </g>\n     </g>\n     <g id=\"text_9\">\n      <!-- 200 -->\n      <g transform=\"translate(684.902345 511.038437)scale(0.1 -0.1)\">\n       <use xlink:href=\"#DejaVuSans-50\"/>\n       <use x=\"63.623047\" xlink:href=\"#DejaVuSans-48\"/>\n       <use x=\"127.246094\" xlink:href=\"#DejaVuSans-48\"/>\n      </g>\n     </g>\n    </g>\n   </g>\n   <g id=\"matplotlib.axis_2\">\n    <g id=\"ytick_1\">\n     <g id=\"line2d_10\">\n      <defs>\n       <path d=\"M 0 0 \nL -3.5 0 \n\" id=\"m875281711a\" style=\"stroke:#000000;stroke-width:0.8;\"/>\n      </defs>\n      <g>\n       <use style=\"stroke:#000000;stroke-width:0.8;\" x=\"46.0125\" xlink:href=\"#m875281711a\" y=\"423.517544\"/>\n      </g>\n     </g>\n     <g id=\"text_10\">\n      <!-- 16000 -->\n      <defs>\n       <path d=\"M 33.015625 40.375 \nQ 26.375 40.375 22.484375 35.828125 \nQ 18.609375 31.296875 18.609375 23.390625 \nQ 18.609375 15.53125 22.484375 10.953125 \nQ 26.375 6.390625 33.015625 6.390625 \nQ 39.65625 6.390625 43.53125 10.953125 \nQ 47.40625 15.53125 47.40625 23.390625 \nQ 47.40625 31.296875 43.53125 35.828125 \nQ 39.65625 40.375 33.015625 40.375 \nz\nM 52.59375 71.296875 \nL 52.59375 62.3125 \nQ 48.875 64.0625 45.09375 64.984375 \nQ 41.3125 65.921875 37.59375 65.921875 \nQ 27.828125 65.921875 22.671875 59.328125 \nQ 17.53125 52.734375 16.796875 39.40625 \nQ 19.671875 43.65625 24.015625 45.921875 \nQ 28.375 48.1875 33.59375 48.1875 \nQ 44.578125 48.1875 50.953125 41.515625 \nQ 57.328125 34.859375 57.328125 23.390625 \nQ 57.328125 12.15625 50.6875 5.359375 \nQ 44.046875 -1.421875 33.015625 -1.421875 \nQ 20.359375 -1.421875 13.671875 8.265625 \nQ 6.984375 17.96875 6.984375 36.375 \nQ 6.984375 53.65625 15.1875 63.9375 \nQ 23.390625 74.21875 37.203125 74.21875 \nQ 40.921875 74.21875 44.703125 73.484375 \nQ 48.484375 72.75 52.59375 71.296875 \nz\n\" id=\"DejaVuSans-54\"/>\n      </defs>\n      <g transform=\"translate(7.2 427.316763)scale(0.1 -0.1)\">\n       <use xlink:href=\"#DejaVuSans-49\"/>\n       <use x=\"63.623047\" xlink:href=\"#DejaVuSans-54\"/>\n       <use x=\"127.246094\" xlink:href=\"#DejaVuSans-48\"/>\n       <use x=\"190.869141\" xlink:href=\"#DejaVuSans-48\"/>\n       <use x=\"254.492188\" xlink:href=\"#DejaVuSans-48\"/>\n      </g>\n     </g>\n    </g>\n    <g id=\"ytick_2\">\n     <g id=\"line2d_11\">\n      <g>\n       <use style=\"stroke:#000000;stroke-width:0.8;\" x=\"46.0125\" xlink:href=\"#m875281711a\" y=\"348.942367\"/>\n      </g>\n     </g>\n     <g id=\"text_11\">\n      <!-- 16500 -->\n      <g transform=\"translate(7.2 352.741586)scale(0.1 -0.1)\">\n       <use xlink:href=\"#DejaVuSans-49\"/>\n       <use x=\"63.623047\" xlink:href=\"#DejaVuSans-54\"/>\n       <use x=\"127.246094\" xlink:href=\"#DejaVuSans-53\"/>\n       <use x=\"190.869141\" xlink:href=\"#DejaVuSans-48\"/>\n       <use x=\"254.492188\" xlink:href=\"#DejaVuSans-48\"/>\n      </g>\n     </g>\n    </g>\n    <g id=\"ytick_3\">\n     <g id=\"line2d_12\">\n      <g>\n       <use style=\"stroke:#000000;stroke-width:0.8;\" x=\"46.0125\" xlink:href=\"#m875281711a\" y=\"274.367189\"/>\n      </g>\n     </g>\n     <g id=\"text_12\">\n      <!-- 17000 -->\n      <g transform=\"translate(7.2 278.166408)scale(0.1 -0.1)\">\n       <use xlink:href=\"#DejaVuSans-49\"/>\n       <use x=\"63.623047\" xlink:href=\"#DejaVuSans-55\"/>\n       <use x=\"127.246094\" xlink:href=\"#DejaVuSans-48\"/>\n       <use x=\"190.869141\" xlink:href=\"#DejaVuSans-48\"/>\n       <use x=\"254.492188\" xlink:href=\"#DejaVuSans-48\"/>\n      </g>\n     </g>\n    </g>\n    <g id=\"ytick_4\">\n     <g id=\"line2d_13\">\n      <g>\n       <use style=\"stroke:#000000;stroke-width:0.8;\" x=\"46.0125\" xlink:href=\"#m875281711a\" y=\"199.792011\"/>\n      </g>\n     </g>\n     <g id=\"text_13\">\n      <!-- 17500 -->\n      <g transform=\"translate(7.2 203.59123)scale(0.1 -0.1)\">\n       <use xlink:href=\"#DejaVuSans-49\"/>\n       <use x=\"63.623047\" xlink:href=\"#DejaVuSans-55\"/>\n       <use x=\"127.246094\" xlink:href=\"#DejaVuSans-53\"/>\n       <use x=\"190.869141\" xlink:href=\"#DejaVuSans-48\"/>\n       <use x=\"254.492188\" xlink:href=\"#DejaVuSans-48\"/>\n      </g>\n     </g>\n    </g>\n    <g id=\"ytick_5\">\n     <g id=\"line2d_14\">\n      <g>\n       <use style=\"stroke:#000000;stroke-width:0.8;\" x=\"46.0125\" xlink:href=\"#m875281711a\" y=\"125.216834\"/>\n      </g>\n     </g>\n     <g id=\"text_14\">\n      <!-- 18000 -->\n      <defs>\n       <path d=\"M 31.78125 34.625 \nQ 24.75 34.625 20.71875 30.859375 \nQ 16.703125 27.09375 16.703125 20.515625 \nQ 16.703125 13.921875 20.71875 10.15625 \nQ 24.75 6.390625 31.78125 6.390625 \nQ 38.8125 6.390625 42.859375 10.171875 \nQ 46.921875 13.96875 46.921875 20.515625 \nQ 46.921875 27.09375 42.890625 30.859375 \nQ 38.875 34.625 31.78125 34.625 \nz\nM 21.921875 38.8125 \nQ 15.578125 40.375 12.03125 44.71875 \nQ 8.5 49.078125 8.5 55.328125 \nQ 8.5 64.0625 14.71875 69.140625 \nQ 20.953125 74.21875 31.78125 74.21875 \nQ 42.671875 74.21875 48.875 69.140625 \nQ 55.078125 64.0625 55.078125 55.328125 \nQ 55.078125 49.078125 51.53125 44.71875 \nQ 48 40.375 41.703125 38.8125 \nQ 48.828125 37.15625 52.796875 32.3125 \nQ 56.78125 27.484375 56.78125 20.515625 \nQ 56.78125 9.90625 50.3125 4.234375 \nQ 43.84375 -1.421875 31.78125 -1.421875 \nQ 19.734375 -1.421875 13.25 4.234375 \nQ 6.78125 9.90625 6.78125 20.515625 \nQ 6.78125 27.484375 10.78125 32.3125 \nQ 14.796875 37.15625 21.921875 38.8125 \nz\nM 18.3125 54.390625 \nQ 18.3125 48.734375 21.84375 45.5625 \nQ 25.390625 42.390625 31.78125 42.390625 \nQ 38.140625 42.390625 41.71875 45.5625 \nQ 45.3125 48.734375 45.3125 54.390625 \nQ 45.3125 60.0625 41.71875 63.234375 \nQ 38.140625 66.40625 31.78125 66.40625 \nQ 25.390625 66.40625 21.84375 63.234375 \nQ 18.3125 60.0625 18.3125 54.390625 \nz\n\" id=\"DejaVuSans-56\"/>\n      </defs>\n      <g transform=\"translate(7.2 129.016053)scale(0.1 -0.1)\">\n       <use xlink:href=\"#DejaVuSans-49\"/>\n       <use x=\"63.623047\" xlink:href=\"#DejaVuSans-56\"/>\n       <use x=\"127.246094\" xlink:href=\"#DejaVuSans-48\"/>\n       <use x=\"190.869141\" xlink:href=\"#DejaVuSans-48\"/>\n       <use x=\"254.492188\" xlink:href=\"#DejaVuSans-48\"/>\n      </g>\n     </g>\n    </g>\n    <g id=\"ytick_6\">\n     <g id=\"line2d_15\">\n      <g>\n       <use style=\"stroke:#000000;stroke-width:0.8;\" x=\"46.0125\" xlink:href=\"#m875281711a\" y=\"50.641656\"/>\n      </g>\n     </g>\n     <g id=\"text_15\">\n      <!-- 18500 -->\n      <g transform=\"translate(7.2 54.440875)scale(0.1 -0.1)\">\n       <use xlink:href=\"#DejaVuSans-49\"/>\n       <use x=\"63.623047\" xlink:href=\"#DejaVuSans-56\"/>\n       <use x=\"127.246094\" xlink:href=\"#DejaVuSans-53\"/>\n       <use x=\"190.869141\" xlink:href=\"#DejaVuSans-48\"/>\n       <use x=\"254.492188\" xlink:href=\"#DejaVuSans-48\"/>\n      </g>\n     </g>\n    </g>\n   </g>\n   <g id=\"line2d_16\">\n    <path clip-path=\"url(#p081cfbfd8f)\" d=\"M 76.448864 135.903457 \nL 79.53885 169.080462 \nL 82.628836 163.901961 \nL 85.718822 175.822058 \nL 88.808808 177.231529 \nL 91.898794 162.368696 \nL 94.988781 141.450358 \nL 98.078767 158.978508 \nL 101.168753 150.45904 \nL 104.258739 119.019637 \nL 107.348725 126.660609 \nL 110.438711 128.611496 \nL 113.528698 124.65752 \nL 116.618684 127.823982 \nL 119.70867 110.858129 \nL 122.798656 117.222375 \nL 125.888642 124.596368 \nL 128.978628 140.510711 \nL 132.068614 136.189825 \nL 135.158601 138.896904 \nL 138.248587 166.792495 \nL 141.338573 191.37844 \nL 144.428559 188.3134 \nL 147.518545 193.533663 \nL 150.608531 167.568077 \nL 153.698518 184.381797 \nL 156.788504 164.443377 \nL 159.87849 156.128245 \nL 162.968476 172.185772 \nL 166.058462 167.477095 \nL 169.148448 179.938608 \nL 172.238434 194.51358 \nL 175.328421 197.445876 \nL 178.418407 199.405712 \nL 181.508393 187.476667 \nL 184.598379 181.316757 \nL 187.688365 184.53393 \nL 190.778351 202.552785 \nL 193.868338 225.779969 \nL 196.958324 236.8514 \nL 200.04831 240.192368 \nL 203.138296 242.551927 \nL 206.228282 275.093551 \nL 209.318268 274.313495 \nL 212.408254 279.721687 \nL 215.498241 263.33752 \nL 218.588227 273.357441 \nL 221.678213 282.734524 \nL 224.768199 289.383647 \nL 227.858185 294.490555 \nL 230.948171 346.481386 \nL 234.038158 328.065792 \nL 237.128144 319.516493 \nL 240.21813 351.181114 \nL 243.308116 359.117404 \nL 246.398102 330.945885 \nL 249.488088 365.052097 \nL 252.578075 361.854313 \nL 255.668061 355.828639 \nL 258.758047 394.222923 \nL 261.848033 427.419318 \nL 264.938019 474.201818 \nL 268.028005 436.234104 \nL 271.117991 421.372762 \nL 274.207978 419.483027 \nL 277.297964 392.946196 \nL 280.38795 361.384489 \nL 283.477936 373.304586 \nL 286.567922 400.616999 \nL 289.657908 356.522188 \nL 292.747895 353.968734 \nL 295.837881 413.130714 \nL 298.927867 431.801355 \nL 302.017853 398.575131 \nL 305.107839 440.637022 \nL 308.197825 409.570495 \nL 311.287811 441.015864 \nL 314.377798 458.308356 \nL 317.467784 421.128156 \nL 320.55777 425.295417 \nL 323.647756 366.982102 \nL 326.737742 400.934689 \nL 329.827728 346.523148 \nL 332.917715 364.070687 \nL 336.007701 371.844404 \nL 339.097687 346.839347 \nL 342.187673 288.311256 \nL 345.277659 250.702994 \nL 348.367645 252.152735 \nL 351.457632 210.973814 \nL 354.547618 184.299764 \nL 357.637604 166.832766 \nL 360.72759 195.575531 \nL 363.817576 192.010837 \nL 366.907562 184.487693 \nL 369.997548 212.13122 \nL 373.087535 236.837977 \nL 376.177521 255.193911 \nL 379.267507 200.412477 \nL 382.357493 162.640149 \nL 385.447479 196.076676 \nL 388.537465 219.405283 \nL 391.627452 234.811023 \nL 394.717438 188.643022 \nL 397.807424 200.940469 \nL 400.89741 189.649787 \nL 403.987396 165.411363 \nL 407.077382 147.942873 \nL 410.167368 203.122539 \nL 413.257355 165.535158 \nL 416.347341 141.869471 \nL 419.437327 166.990865 \nL 422.527313 155.272122 \nL 425.617299 153.049782 \nL 428.707285 153.228762 \nL 431.797272 156.138685 \nL 434.887258 151.495635 \nL 437.977244 165.077266 \nL 441.06723 164.419513 \nL 444.157216 201.35809 \nL 447.247202 202.326076 \nL 450.337189 237.789556 \nL 453.427175 207.537389 \nL 456.517161 169.630827 \nL 459.607147 161.279898 \nL 462.697133 165.415838 \nL 465.787119 138.591146 \nL 468.877105 145.586298 \nL 471.967092 144.967324 \nL 475.057078 137.42479 \nL 478.147064 150.757341 \nL 481.23705 175.399962 \nL 484.327036 161.639351 \nL 487.417022 158.101504 \nL 490.507009 187.646698 \nL 493.596995 181.43906 \nL 496.686981 177.911654 \nL 499.776967 201.408801 \nL 502.866953 249.218948 \nL 505.956939 241.985155 \nL 509.046925 239.982066 \nL 512.136912 242.155187 \nL 515.226898 253.225126 \nL 518.316884 285.590753 \nL 521.40687 262.153267 \nL 524.496856 254.700223 \nL 527.586842 261.765476 \nL 530.676829 266.797809 \nL 533.766815 287.449167 \nL 536.856801 305.660425 \nL 539.946787 307.712734 \nL 543.036773 353.063391 \nL 546.126759 382.947156 \nL 549.216746 381.054438 \nL 552.306732 416.189787 \nL 555.396718 423.23565 \nL 558.486704 376.584402 \nL 561.57669 393.490595 \nL 564.666676 381.771851 \nL 567.756662 374.227827 \nL 570.846649 347.422525 \nL 573.936635 366.157301 \nL 577.026621 322.879834 \nL 580.116607 313.153739 \nL 583.206593 334.049704 \nL 586.296579 368.188729 \nL 589.386566 358.922017 \nL 592.476552 374.238267 \nL 595.566538 385.697489 \nL 598.656524 350.034147 \nL 601.74651 408.247531 \nL 604.836496 367.621957 \nL 607.926482 371.109093 \nL 611.016469 414.814621 \nL 614.106455 344.761682 \nL 617.196441 327.612374 \nL 620.286427 325.858366 \nL 623.376413 380.933626 \nL 626.466399 473.268137 \nL 629.556386 442.705738 \nL 632.646372 354.945669 \nL 635.736358 275.755779 \nL 638.826344 222.353986 \nL 641.91633 198.100646 \nL 645.006316 193.053398 \nL 651.186289 213.476557 \nL 654.276275 214.33268 \nL 657.366261 214.28346 \nL 660.456247 182.614365 \nL 663.546233 218.677429 \nL 666.636219 211.761327 \nL 669.726206 193.755897 \nL 672.816192 192.23158 \nL 675.906178 185.145447 \nL 678.996164 171.474325 \nL 682.08615 163.104007 \nL 685.176136 162.297104 \nL 685.176136 162.297104 \n\" style=\"fill:none;stroke:#1f77b4;stroke-linecap:square;stroke-width:1.5;\"/>\n   </g>\n   <g id=\"line2d_17\">\n    <path clip-path=\"url(#p081cfbfd8f)\" d=\"M 76.448864 33.827742 \nL 79.53885 35.937722 \nL 82.628836 37.142392 \nL 88.808808 36.889175 \nL 91.898794 34.703515 \nL 94.988781 33.721941 \nL 98.078767 35.55359 \nL 101.168753 32.019052 \nL 104.258739 30.862191 \nL 107.348725 31.1942 \nL 110.438711 32.170746 \nL 113.528698 31.501676 \nL 116.618684 30.340655 \nL 119.70867 29.438182 \nL 122.798656 30.316748 \nL 125.888642 32.115845 \nL 128.978628 32.725661 \nL 132.068614 32.374972 \nL 135.158601 33.901392 \nL 138.248587 37.464394 \nL 141.338573 37.586413 \nL 144.428559 38.31957 \nL 147.518545 38.44903 \nL 150.608531 37.743946 \nL 153.698518 37.363618 \nL 156.788504 35.307957 \nL 159.87849 36.363469 \nL 162.968476 36.311042 \nL 166.058462 36.103042 \nL 169.148448 39.753475 \nL 172.238434 40.140421 \nL 175.328421 41.870957 \nL 178.418407 39.975626 \nL 181.508393 38.750626 \nL 184.598379 38.757282 \nL 187.688365 39.758912 \nL 190.778351 42.864751 \nL 193.868338 46.192501 \nL 196.958324 49.183687 \nL 200.04831 48.467354 \nL 203.138296 51.426313 \nL 206.228282 54.92138 \nL 209.318268 55.60084 \nL 212.408254 54.978945 \nL 215.498241 54.538473 \nL 218.588227 55.876304 \nL 221.678213 59.355854 \nL 224.768199 61.098693 \nL 227.858185 65.861407 \nL 230.948171 69.161353 \nL 234.038158 65.748168 \nL 237.128144 71.290482 \nL 240.21813 80.520772 \nL 243.308116 73.511504 \nL 246.398102 73.231365 \nL 249.488088 82.045176 \nL 252.578075 77.252843 \nL 255.668061 82.0595 \nL 258.758047 95.580464 \nL 261.848033 111.095559 \nL 264.938019 114.555806 \nL 268.028005 96.704388 \nL 271.117991 99.460123 \nL 274.207978 98.814649 \nL 277.297964 83.426978 \nL 280.38795 80.619593 \nL 283.477936 88.728902 \nL 286.567922 83.77402 \nL 289.657908 78.566715 \nL 292.747895 85.257363 \nL 295.837881 101.323871 \nL 298.927867 94.677711 \nL 302.017853 98.672485 \nL 305.107839 100.4274 \nL 308.197825 99.703256 \nL 311.287811 107.741034 \nL 314.377798 110.965078 \nL 317.467784 97.953541 \nL 320.55777 89.685092 \nL 323.647756 84.410075 \nL 326.737742 77.774257 \nL 329.827728 76.295114 \nL 332.917715 81.510787 \nL 336.007701 74.023724 \nL 339.097687 64.185428 \nL 342.187673 53.82583 \nL 345.277659 51.154956 \nL 348.367645 47.190342 \nL 351.457632 40.398782 \nL 354.547618 37.363444 \nL 357.637604 37.477896 \nL 360.72759 41.181589 \nL 363.817576 39.325222 \nL 366.907562 40.486117 \nL 373.087535 49.070221 \nL 376.177521 44.175298 \nL 379.267507 36.865254 \nL 382.357493 37.484756 \nL 385.447479 40.941564 \nL 388.537465 46.639366 \nL 391.627452 42.012637 \nL 394.717438 38.764946 \nL 397.807424 38.181263 \nL 400.89741 38.190328 \nL 403.987396 35.224406 \nL 407.077382 36.531916 \nL 410.167368 37.531736 \nL 413.257355 34.112601 \nL 416.347341 34.324651 \nL 419.437327 34.883739 \nL 422.527313 34.777243 \nL 425.617299 34.152999 \nL 428.707285 34.857117 \nL 431.797272 34.304153 \nL 434.887258 34.012429 \nL 441.06723 37.980226 \nL 444.157216 40.30237 \nL 447.247202 44.502777 \nL 450.337189 44.369697 \nL 453.427175 38.65086 \nL 456.517161 35.429068 \nL 459.607147 36.214668 \nL 462.697133 34.342916 \nL 465.787119 33.668105 \nL 468.877105 33.393548 \nL 471.967092 32.665318 \nL 475.057078 32.827348 \nL 478.147064 35.376009 \nL 481.23705 35.749168 \nL 484.327036 35.756544 \nL 487.417022 36.960537 \nL 490.507009 38.922431 \nL 493.596995 38.08278 \nL 496.686981 38.604368 \nL 499.776967 44.519117 \nL 502.866953 47.769653 \nL 505.956939 48.680703 \nL 512.136912 50.146737 \nL 515.226898 53.901144 \nL 518.316884 54.38487 \nL 521.40687 51.758834 \nL 524.496856 52.26609 \nL 527.586842 53.259028 \nL 530.676829 56.03772 \nL 533.766815 59.939608 \nL 536.856801 62.517077 \nL 539.946787 68.251933 \nL 543.036773 84.656845 \nL 546.126759 87.531914 \nL 549.216746 91.264097 \nL 552.306732 99.257907 \nL 555.396718 89.53133 \nL 558.486704 82.941019 \nL 561.57669 91.354054 \nL 564.666676 85.148536 \nL 567.756662 80.273963 \nL 570.846649 75.933331 \nL 573.936635 72.044181 \nL 577.026621 62.200003 \nL 580.116607 67.730353 \nL 583.206593 74.406184 \nL 586.296579 79.936626 \nL 589.386566 82.376458 \nL 592.476552 83.175157 \nL 595.566538 74.848261 \nL 598.656524 83.72669 \nL 601.74651 86.651734 \nL 604.836496 77.905342 \nL 607.926482 89.476419 \nL 611.016469 81.325773 \nL 614.106455 72.337673 \nL 617.196441 70.230524 \nL 620.286427 75.583902 \nL 623.376413 99.675532 \nL 626.466399 97.763252 \nL 629.556386 91.535413 \nL 632.646372 61.341506 \nL 635.736358 48.146854 \nL 638.826344 42.65671 \nL 641.91633 40.378929 \nL 645.006316 41.810186 \nL 651.186289 43.046819 \nL 654.276275 45.646062 \nL 657.366261 40.830454 \nL 660.456247 40.677381 \nL 663.546233 44.52085 \nL 666.636219 41.186455 \nL 669.726206 39.003994 \nL 672.816192 39.17822 \nL 675.906178 38.119681 \nL 678.996164 35.893116 \nL 682.08615 36.382239 \nL 685.176136 36.452391 \nL 685.176136 36.452391 \n\" style=\"fill:none;stroke:#ff7f0e;stroke-linecap:square;stroke-width:1.5;\"/>\n   </g>\n   <g id=\"patch_3\">\n    <path d=\"M 46.0125 496.44 \nL 46.0125 7.2 \n\" style=\"fill:none;stroke:#000000;stroke-linecap:square;stroke-linejoin:miter;stroke-width:0.8;\"/>\n   </g>\n   <g id=\"patch_4\">\n    <path d=\"M 715.6125 496.44 \nL 715.6125 7.2 \n\" style=\"fill:none;stroke:#000000;stroke-linecap:square;stroke-linejoin:miter;stroke-width:0.8;\"/>\n   </g>\n   <g id=\"patch_5\">\n    <path d=\"M 46.0125 496.44 \nL 715.6125 496.44 \n\" style=\"fill:none;stroke:#000000;stroke-linecap:square;stroke-linejoin:miter;stroke-width:0.8;\"/>\n   </g>\n   <g id=\"patch_6\">\n    <path d=\"M 46.0125 7.2 \nL 715.6125 7.2 \n\" style=\"fill:none;stroke:#000000;stroke-linecap:square;stroke-linejoin:miter;stroke-width:0.8;\"/>\n   </g>\n  </g>\n </g>\n <defs>\n  <clipPath id=\"p081cfbfd8f\">\n   <rect height=\"489.24\" width=\"669.6\" x=\"46.0125\" y=\"7.2\"/>\n  </clipPath>\n </defs>\n</svg>\n",
      "image/png": "[encoded data removed]"
     },
     "metadata": {
      "needs_background": "light"
     }
    }
   ],
   "source": [
    "plt.plot(range(y_test.shape[0]),df_test['Close'])\n",
    "plt.plot(range(y_test.shape[0]),pred)"
   ]
  },
  {
   "cell_type": "code",
   "execution_count": null,
   "metadata": {},
   "outputs": [],
   "source": []
  },
  {
   "cell_type": "code",
   "execution_count": null,
   "metadata": {},
   "outputs": [],
   "source": []
  }
 ]
}