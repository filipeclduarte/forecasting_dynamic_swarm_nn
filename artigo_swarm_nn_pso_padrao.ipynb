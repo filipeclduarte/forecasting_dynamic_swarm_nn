{
 "metadata": {
  "language_info": {
   "codemirror_mode": {
    "name": "ipython",
    "version": 3
   },
   "file_extension": ".py",
   "mimetype": "text/x-python",
   "name": "python",
   "nbconvert_exporter": "python",
   "pygments_lexer": "ipython3",
   "version": "3.7.5-final"
  },
  "orig_nbformat": 2,
  "kernelspec": {
   "name": "python_defaultSpec_1595549947924",
   "display_name": "Python 3.7.5 64-bit ('base': conda)"
  }
 },
 "nbformat": 4,
 "nbformat_minor": 2,
 "cells": [
  {
   "cell_type": "code",
   "execution_count": 1,
   "metadata": {},
   "outputs": [],
   "source": [
    "import numpy as np\n",
    "import h5py\n",
    "import matplotlib.pyplot as plt\n",
    "\n",
    "%matplotlib inline\n",
    "plt.rcParams['figure.figsize'] = (12.0, 9.0) # set default size of plots\n",
    "\n",
    "np.random.seed(1)"
   ]
  },
  {
   "cell_type": "code",
   "execution_count": 2,
   "metadata": {},
   "outputs": [],
   "source": [
    "# Funções\n",
    "### Sigmoid (Logística)\n",
    "def sigmoid(z):\n",
    "    \"\"\"\n",
    "    Compute the sigmoid of z\n",
    "\n",
    "    Arguments:\n",
    "    z -- A scalar or numpy array of any size.\n",
    "\n",
    "    Return:\n",
    "    s -- sigmoid(z)\n",
    "    \"\"\"\n",
    "    s = 1 / (1+np.exp(-z))\n",
    "    \n",
    "    return s"
   ]
  },
  {
   "cell_type": "code",
   "execution_count": 16,
   "metadata": {},
   "outputs": [],
   "source": [
    "###  Modelo para Regressão\n",
    "\n",
    "def layer_sizes2(X, Y, n_h=4):\n",
    "    \"\"\"\n",
    "    Argumentos:\n",
    "    X -- shape do input (quantidade de features, quantidade de exemplos)\n",
    "    Y -- shape do target (1, quantidade de exemplos)\n",
    "    \"\"\"\n",
    "    n_x = X.shape[0]\n",
    "    n_y = Y.shape[0]\n",
    "    return (n_x, n_h, n_y)\n",
    "\n",
    "def initialize_parameters2(n_x, n_h, n_y):\n",
    "    \"\"\"\n",
    "    Argument:\n",
    "    n_x -- tamanho da camada de entrada\n",
    "    n_h -- tamanho da camada escondida\n",
    "    n_y -- tamanho da camada de saída\n",
    "    \n",
    "    Retorna:\n",
    "    params -- dicionário com os parâmetros (pesos) iniciais do modelo:\n",
    "                    W1 -- weight matrix of shape (n_h, n_x)\n",
    "                    b1 -- bias vector of shape (n_h, 1)\n",
    "                    W2 -- weight matrix of shape (n_y, n_h)\n",
    "                    b2 -- bias vector of shape (n_y, 1)\n",
    "    \"\"\"\n",
    "    \n",
    "    \n",
    "    np.random.seed(2) # garantir a reprodução do código\n",
    "    \n",
    "    \n",
    "    W1 = np.random.randn(n_h, n_x) * 0.01\n",
    "    b1 = np.zeros((n_h, 1))\n",
    "    W2 = np.random.randn(n_y, n_h) * 0.01\n",
    "    b2 = np.zeros((n_y, 1))\n",
    "    \n",
    "    \n",
    "    assert (W1.shape == (n_h, n_x))\n",
    "    assert (b1.shape == (n_h, 1))\n",
    "    assert (W2.shape == (n_y, n_h))\n",
    "    assert (b2.shape == (n_y, 1))\n",
    "    \n",
    "    parameters = {\"W1\": W1,\n",
    "                  \"b1\": b1,\n",
    "                  \"W2\": W2,\n",
    "                  \"b2\": b2}\n",
    "    \n",
    "    return parameters\n",
    "\n",
    "def forward_propagation2(X, parameters):\n",
    "    \"\"\"\n",
    "    Argumentos:\n",
    "    X -- input de tamanho (n_x, m)\n",
    "    parametros -- python dicionário contendo os parâmetros (saída da função de inicialização dos parametros)\n",
    "    \n",
    "    Retorna:\n",
    "    A2 -- A saída da função sigmoidal ou tangente hiberbólica ou relu\n",
    "    cache -- dicionário contendo \"Z1\", \"A1\", \"Z2\" e \"A2\"\n",
    "    \"\"\"\n",
    "\n",
    "    # Recupere cada parâmetro do dicionário parameters\n",
    "    W1 = parameters['W1']\n",
    "    b1 = parameters['b1']\n",
    "    W2 = parameters['W2']\n",
    "    b2 = parameters['b2']\n",
    "    \n",
    "    # Implementando a Forward Propagation para calcular A1 tanh e A2 linear\n",
    "    Z1 = np.dot(W1,X) + b1\n",
    "    A1 = np.tanh(Z1)\n",
    "    Z2 = np.dot(W2, A1) + b2\n",
    "    A2 = Z2\n",
    "    \n",
    "    assert(A2.shape == (1, X.shape[1]))\n",
    "    \n",
    "    cache = {\"Z1\": Z1,\n",
    "             \"A1\": A1,\n",
    "             \"Z2\": Z2,\n",
    "             \"A2\": A2}\n",
    "    \n",
    "    return A2, cache\n",
    "\n",
    "\n",
    "def compute_cost2(A2, Y, parameters):\n",
    "    \"\"\"\n",
    "    Computa o custo dado os argumentos\n",
    "    \n",
    "    Arguments:\n",
    "    A2 -- Saída linear da segunda ativação de shape (1, qtd de exemplos)\n",
    "    Y -- Valor verdadeiro do rótulo de shape (1, qtd de exemplos)\n",
    "    parameters -- dicionário contendo os parâmetros W1, b1, W2 and b2\n",
    "    \n",
    "    Retorna:\n",
    "    cost\n",
    "    \n",
    "    \"\"\"\n",
    "    \n",
    "    m = Y.shape[1] # quantidade de exemplos\n",
    "\n",
    "    # Computa o custo (cost)\n",
    "    err = A2 - Y\n",
    "    cost = 1/m * np.sum(err**2)\n",
    "    \n",
    "    cost = float(np.squeeze(cost))  # garanta que o custo tem a dimensão esperada\n",
    "    assert(isinstance(cost, float))\n",
    "    \n",
    "    return cost\n",
    "\n",
    "def backward_propagation2(parameters, cache, X, Y):\n",
    "    \"\"\"\n",
    "    Implementa a retropropagação \n",
    "    \n",
    "    Argumentos:\n",
    "    parameters -- dicionário contendo os parâmetros\n",
    "    cache -- dicionário contendo \"Z1\", \"A1\", \"Z2\" and \"A2\".\n",
    "    X -- input de shape (qtd de features, qtd de examplos)\n",
    "    Y -- valor verdadeiro do rótulo de shape (1, qtd de examplos)\n",
    "    \n",
    "    Retorna:\n",
    "    grads -- dicionário contendo os gradientes em relação aos diferentes parâmetros\n",
    "    \"\"\"\n",
    "    m = X.shape[1]\n",
    "    \n",
    "    # Primeiro, recuperamos W1 e W2 do dicinário \"parameters\"\n",
    "    W1 = parameters['W1']\n",
    "    W2 = parameters['W2']\n",
    "        \n",
    "    # Recuperamos também A1 e A2 do dicionário \"cache\".\n",
    "    A1 = cache['A1']\n",
    "    A2 = cache['A2']\n",
    "    \n",
    "    # Retropropagação: calcula-se dW1, db1, dW2, db2.\n",
    "    dZ2 = A2 - Y\n",
    "    dW2 = 1/m * np.dot(dZ2,A1.T)\n",
    "    db2 = 1/m * np.sum(dZ2, axis = 1, keepdims=True)\n",
    "    dZ1 = np.dot(W2.T, dZ2) * (1-np.power(A1, 2))\n",
    "    dW1 = 1/m * np.dot(dZ1, X.T)\n",
    "    db1 = 1/m * np.sum(dZ1, axis = 1, keepdims=True)\n",
    "    \n",
    "    grads = {\"dW1\": dW1,\n",
    "             \"db1\": db1,\n",
    "             \"dW2\": dW2,\n",
    "             \"db2\": db2}\n",
    "    \n",
    "    return grads\n",
    "\n",
    "def update_parameters2(parameters, grads, learning_rate = 1.2):\n",
    "    \"\"\"\n",
    "    Atualiza os parâmetros utilizando o gradient descendente \n",
    "    \n",
    "    Argumentos:\n",
    "    parameters -- dicionário contendo os parâmetros\n",
    "    grads -- dicionário contendo os gradientes\n",
    "    \n",
    "    Retorna:\n",
    "    parameters -- dicionário contendo os parâmetros atualizados\n",
    "    \"\"\"\n",
    "    # Recupera-se cada parâmetro do dicionário \"parameters\"\n",
    "    W1 = parameters['W1']\n",
    "    b1 = parameters['b1']\n",
    "    W2 = parameters['W2']\n",
    "    b2 = parameters['b2']\n",
    "    \n",
    "    # Recupera-se cada gradiente do dicionário \"grads\"\n",
    "    dW1 = grads['dW1']\n",
    "    db1 = grads['db1']\n",
    "    dW2 = grads['dW2']\n",
    "    db2 = grads['db2']\n",
    "    \n",
    "    # Regra de atualização para cada parâmetro\n",
    "    W1 = W1 - learning_rate * dW1\n",
    "    b1 = b1 - learning_rate * db1\n",
    "    W2 = W2 - learning_rate * dW2\n",
    "    b2 = b2 - learning_rate * db2\n",
    "    \n",
    "    parameters = {\"W1\": W1,\n",
    "                  \"b1\": b1,\n",
    "                  \"W2\": W2,\n",
    "                  \"b2\": b2}\n",
    "    \n",
    "    return parameters\n",
    "\n",
    "def nn_model2(X, Y, n_h, num_iterations = 10000, print_cost=False):\n",
    "    \"\"\"\n",
    "    Argumentos:\n",
    "    X -- dataset de shape (2, qtd de examplos)\n",
    "    Y -- labels de shape (1, qtd de examplos)\n",
    "    n_h -- tamanho da camada escondida\n",
    "    num_iterations -- quantidade de iterações do gradiente descendente\n",
    "    print_cost -- se True, mostra o custo a cada 1000 iterações\n",
    "    \n",
    "    Retorna:\n",
    "    parameters -- parâmetros aprendidos pelo modelo. Eles podem ser utilizados para fazer previsões (predict).\n",
    "    \"\"\"\n",
    "    \n",
    "    np.random.seed(3)\n",
    "    n_x = layer_sizes2(X, Y)[0]\n",
    "    n_y = layer_sizes2(X, Y)[2]\n",
    "    \n",
    "    # Inicialização dos parâmetros\n",
    "    parameters = initialize_parameters2(n_x, n_h, n_y)\n",
    "    \n",
    "    # Gradiente descendente (loop)\n",
    "    for i in range(0, num_iterations):\n",
    "         \n",
    "        # Forward propagation. Inputs: \"X, parameters\". Outputs: \"A2, cache\".\n",
    "        A2, cache = forward_propagation2(X, parameters)\n",
    "        \n",
    "        # Função de custo. Inputs: \"A2, Y, parameters\". Outputs: \"cost\".\n",
    "        cost = compute_cost2(A2, Y, parameters)\n",
    " \n",
    "        # Retropropagação (Backpropagation). Inputs: \"parameters, cache, X, Y\". Outputs: \"grads\".\n",
    "        grads = backward_propagation2(parameters, cache, X, Y)\n",
    " \n",
    "        # Atualização dos parâmetros pelo gradiente descendente. Inputs: \"parameters, grads\". Outputs: \"parameters\".\n",
    "        parameters = update_parameters2(parameters, grads, learning_rate=1.2)\n",
    "        \n",
    "        # Print o custo (cost) a cada 1000 iterações\n",
    "        if print_cost and i % 1000 == 0:\n",
    "            print (\"Custo após iteração %i: %f\" %(i, cost))\n",
    "\n",
    "    return parameters\n",
    "\n",
    "def predict2(parameters, X):\n",
    "    \"\"\"\n",
    "    Utiliza os parâmetros aprendidos para prever o valor da saída para cada exemplo X \n",
    "    \n",
    "    Argumentos:\n",
    "    parameters -- dicionário contendo os parâmetros\n",
    "    X -- input de tamanho (n_x, m)\n",
    "    \n",
    "    Retorna\n",
    "    predictions -- vetor de valores previstos do modelo treinado\n",
    "    \"\"\"\n",
    "    \n",
    "    A2, cache = forward_propagation2(X, parameters)\n",
    "    predictions = A2\n",
    "    \n",
    "    return predictions"
   ]
  },
  {
   "cell_type": "code",
   "execution_count": 17,
   "metadata": {},
   "outputs": [],
   "source": [
    "X = np.random.rand(2, 10)\n",
    "Y = np.random.randn(1, 10)\n"
   ]
  },
  {
   "cell_type": "code",
   "execution_count": 18,
   "metadata": {},
   "outputs": [],
   "source": [
    "shape_X = X.shape\n",
    "shape_Y = Y.shape\n",
    "m = X.shape[1]  # training set size"
   ]
  },
  {
   "cell_type": "code",
   "execution_count": 19,
   "metadata": {
    "tags": []
   },
   "outputs": [
    {
     "output_type": "stream",
     "name": "stdout",
     "text": "The shape of X is: (2, 10)\nThe shape of Y is: (1, 10)\nI have m = 10 training examples!\n"
    }
   ],
   "source": [
    "\n",
    "print ('The shape of X is: ' + str(shape_X))\n",
    "print ('The shape of Y is: ' + str(shape_Y))\n",
    "print ('I have m = %d training examples!' % (m))\n",
    "\n",
    "(n_x, n_h, n_y) = layer_sizes2(X,Y)"
   ]
  },
  {
   "cell_type": "code",
   "execution_count": 20,
   "metadata": {
    "tags": []
   },
   "outputs": [
    {
     "output_type": "stream",
     "name": "stdout",
     "text": "W1 = [[-0.00416758 -0.00056267]\n [-0.02136196  0.01640271]\n [-0.01793436 -0.00841747]\n [ 0.00502881 -0.01245288]]\nb1 = [[0.]\n [0.]\n [0.]\n [0.]]\nW2 = [[-0.01057952 -0.00909008  0.00551454  0.02292208]]\nb2 = [[0.]]\n"
    }
   ],
   "source": [
    "parameters = initialize_parameters2(n_x, n_h, n_y)\n",
    "\n",
    "print(\"W1 = \" + str(parameters[\"W1\"]))\n",
    "print(\"b1 = \" + str(parameters[\"b1\"]))\n",
    "print(\"W2 = \" + str(parameters[\"W2\"]))\n",
    "print(\"b2 = \" + str(parameters[\"b2\"]))"
   ]
  },
  {
   "cell_type": "code",
   "execution_count": 21,
   "metadata": {
    "tags": []
   },
   "outputs": [
    {
     "output_type": "stream",
     "name": "stdout",
     "text": "-0.004987438526408736 -0.0049871542538398065 -6.803953423372227e-05 -6.803953423372227e-05\n"
    }
   ],
   "source": [
    "A2, cache = forward_propagation2(X, parameters)\n",
    "\n",
    "print(np.mean(cache['Z1']) ,np.mean(cache['A1']),np.mean(cache['Z2']),np.mean(cache['A2']))"
   ]
  },
  {
   "cell_type": "code",
   "execution_count": 22,
   "metadata": {
    "tags": []
   },
   "outputs": [
    {
     "output_type": "stream",
     "name": "stdout",
     "text": "cost = 0.7861153983744453\n"
    }
   ],
   "source": [
    "print(\"cost = \" + str(compute_cost2(A2, Y, parameters)))"
   ]
  },
  {
   "cell_type": "code",
   "execution_count": 23,
   "metadata": {
    "tags": []
   },
   "outputs": [
    {
     "output_type": "stream",
     "name": "stdout",
     "text": "dW1 = [[ 0.00056718 -0.00051038]\n [ 0.00048724 -0.00043854]\n [-0.00029538  0.00026618]\n [-0.00122892  0.00110571]]\ndb1 = [[-0.00111922]\n [-0.00096175]\n [ 0.00058359]\n [ 0.00242481]]\ndW2 = [[ 0.00019629  0.0019365   0.00055508 -0.00087034]]\ndb2 = [[0.10578983]]\n"
    }
   ],
   "source": [
    "grads = backward_propagation2(parameters, cache, X, Y)\n",
    "print (\"dW1 = \"+ str(grads[\"dW1\"]))\n",
    "print (\"db1 = \"+ str(grads[\"db1\"]))\n",
    "print (\"dW2 = \"+ str(grads[\"dW2\"]))\n",
    "print (\"db2 = \"+ str(grads[\"db2\"]))"
   ]
  },
  {
   "cell_type": "code",
   "execution_count": 24,
   "metadata": {
    "tags": []
   },
   "outputs": [
    {
     "output_type": "stream",
     "name": "stdout",
     "text": "W1 = [[-4.84819273e-03  4.97883970e-05]\n [-2.19466530e-02  1.69289554e-02]\n [-1.75798984e-02 -8.73688587e-03]\n [ 6.50351294e-03 -1.37797381e-02]]\nb1 = [[ 0.00134307]\n [ 0.00115411]\n [-0.0007003 ]\n [-0.00290978]]\nW2 = [[-0.01081507 -0.01141387  0.00484845  0.02396648]]\nb2 = [[-0.1269478]]\n"
    }
   ],
   "source": [
    "parameters = update_parameters2(parameters, grads)\n",
    "\n",
    "print(\"W1 = \" + str(parameters[\"W1\"]))\n",
    "print(\"b1 = \" + str(parameters[\"b1\"]))\n",
    "print(\"W2 = \" + str(parameters[\"W2\"]))\n",
    "print(\"b2 = \" + str(parameters[\"b2\"]))"
   ]
  },
  {
   "cell_type": "code",
   "execution_count": 25,
   "metadata": {
    "tags": []
   },
   "outputs": [
    {
     "output_type": "stream",
     "name": "stdout",
     "text": "Cost after iteration 0: 0.786115\nCost after iteration 1000: nan\nCost after iteration 2000: nan\nCost after iteration 3000: nan\nCost after iteration 4000: nan\nCost after iteration 5000: nan\nCost after iteration 6000: nan\nCost after iteration 7000: nan\nCost after iteration 8000: nan\nCost after iteration 9000: nan\nW1 = [[nan nan]\n [nan nan]\n [nan nan]\n [nan nan]]\nb1 = [[nan]\n [nan]\n [nan]\n [nan]]\nW2 = [[nan nan nan nan]]\nb2 = [[nan]]\n"
    }
   ],
   "source": [
    "parameters = nn_model2(X, Y, n_h = 4, num_iterations=10000, print_cost=True)\n",
    "print(\"W1 = \" + str(parameters[\"W1\"]))\n",
    "print(\"b1 = \" + str(parameters[\"b1\"]))\n",
    "print(\"W2 = \" + str(parameters[\"W2\"]))\n",
    "print(\"b2 = \" + str(parameters[\"b2\"]))"
   ]
  },
  {
   "cell_type": "code",
   "execution_count": 26,
   "metadata": {},
   "outputs": [],
   "source": [
    "import pandas as pd\n",
    "import numpy as np\n",
    "import matplotlib.pyplot as plt\n",
    "import seaborn as sns\n",
    "from sklearn.preprocessing import MinMaxScaler\n",
    "import tensorflow as tf\n",
    "import pandas_datareader.data as web\n",
    "from datetime import datetime"
   ]
  },
  {
   "cell_type": "code",
   "execution_count": 27,
   "metadata": {
    "tags": []
   },
   "outputs": [],
   "source": [
    "df = web.DataReader('^DJI', 'stooq', start='2019-09-10', end='2019-10-09')\n",
    "df.reset_index(inplace = True)"
   ]
  },
  {
   "cell_type": "code",
   "execution_count": 28,
   "metadata": {},
   "outputs": [
    {
     "output_type": "execute_result",
     "data": {
      "text/plain": "           Date      Open      High       Low     Close     Volume\n0    2020-07-23  26955.97  26973.85  26560.04  26652.33  338631832\n1    2020-07-22  26824.56  27035.24  26794.19  27005.84  414798714\n2    2020-07-21  26833.14  27025.38  26766.22  26840.40  367856994\n3    2020-07-20  26660.29  26765.02  26504.20  26680.87  313720152\n4    2020-07-17  26774.62  26808.43  26619.88  26671.95  301176755\n...         ...       ...       ...       ...       ...        ...\n1253 2015-07-31  17755.87  17783.59  17671.59  17689.86  106052869\n1254 2015-07-30  17743.24  17761.25  17640.85  17745.98   76641341\n1255 2015-07-29  17631.40  17776.78  17629.20  17751.39   93144945\n1256 2015-07-28  17449.81  17650.07  17449.81  17630.27  103356746\n1257 2015-07-27  17561.78  17561.78  17399.17  17440.59  117871721\n\n[1258 rows x 6 columns]",
      "text/html": "<div>\n<style scoped>\n    .dataframe tbody tr th:only-of-type {\n        vertical-align: middle;\n    }\n\n    .dataframe tbody tr th {\n        vertical-align: top;\n    }\n\n    .dataframe thead th {\n        text-align: right;\n    }\n</style>\n<table border=\"1\" class=\"dataframe\">\n  <thead>\n    <tr style=\"text-align: right;\">\n      <th></th>\n      <th>Date</th>\n      <th>Open</th>\n      <th>High</th>\n      <th>Low</th>\n      <th>Close</th>\n      <th>Volume</th>\n    </tr>\n  </thead>\n  <tbody>\n    <tr>\n      <th>0</th>\n      <td>2020-07-23</td>\n      <td>26955.97</td>\n      <td>26973.85</td>\n      <td>26560.04</td>\n      <td>26652.33</td>\n      <td>338631832</td>\n    </tr>\n    <tr>\n      <th>1</th>\n      <td>2020-07-22</td>\n      <td>26824.56</td>\n      <td>27035.24</td>\n      <td>26794.19</td>\n      <td>27005.84</td>\n      <td>414798714</td>\n    </tr>\n    <tr>\n      <th>2</th>\n      <td>2020-07-21</td>\n      <td>26833.14</td>\n      <td>27025.38</td>\n      <td>26766.22</td>\n      <td>26840.40</td>\n      <td>367856994</td>\n    </tr>\n    <tr>\n      <th>3</th>\n      <td>2020-07-20</td>\n      <td>26660.29</td>\n      <td>26765.02</td>\n      <td>26504.20</td>\n      <td>26680.87</td>\n      <td>313720152</td>\n    </tr>\n    <tr>\n      <th>4</th>\n      <td>2020-07-17</td>\n      <td>26774.62</td>\n      <td>26808.43</td>\n      <td>26619.88</td>\n      <td>26671.95</td>\n      <td>301176755</td>\n    </tr>\n    <tr>\n      <th>...</th>\n      <td>...</td>\n      <td>...</td>\n      <td>...</td>\n      <td>...</td>\n      <td>...</td>\n      <td>...</td>\n    </tr>\n    <tr>\n      <th>1253</th>\n      <td>2015-07-31</td>\n      <td>17755.87</td>\n      <td>17783.59</td>\n      <td>17671.59</td>\n      <td>17689.86</td>\n      <td>106052869</td>\n    </tr>\n    <tr>\n      <th>1254</th>\n      <td>2015-07-30</td>\n      <td>17743.24</td>\n      <td>17761.25</td>\n      <td>17640.85</td>\n      <td>17745.98</td>\n      <td>76641341</td>\n    </tr>\n    <tr>\n      <th>1255</th>\n      <td>2015-07-29</td>\n      <td>17631.40</td>\n      <td>17776.78</td>\n      <td>17629.20</td>\n      <td>17751.39</td>\n      <td>93144945</td>\n    </tr>\n    <tr>\n      <th>1256</th>\n      <td>2015-07-28</td>\n      <td>17449.81</td>\n      <td>17650.07</td>\n      <td>17449.81</td>\n      <td>17630.27</td>\n      <td>103356746</td>\n    </tr>\n    <tr>\n      <th>1257</th>\n      <td>2015-07-27</td>\n      <td>17561.78</td>\n      <td>17561.78</td>\n      <td>17399.17</td>\n      <td>17440.59</td>\n      <td>117871721</td>\n    </tr>\n  </tbody>\n</table>\n<p>1258 rows × 6 columns</p>\n</div>"
     },
     "metadata": {},
     "execution_count": 28
    }
   ],
   "source": [
    "df"
   ]
  },
  {
   "cell_type": "code",
   "execution_count": 29,
   "metadata": {},
   "outputs": [],
   "source": [
    "df = df.drop(['Date'],axis=1) # Drop Date feature\n",
    "df = df.dropna(inplace=False)  # Remove all nan entries.\n",
    "\n",
    "df = df.drop(['Volume'],axis=1) # Drop Adj close and volume feature\n",
    "df_train = df[:1059]    # 60% training data and 40% testing data\n",
    "df_test = df[1059:]\n",
    "scaler = MinMaxScaler() # For normalizing dataset"
   ]
  },
  {
   "cell_type": "code",
   "execution_count": 30,
   "metadata": {},
   "outputs": [],
   "source": [
    "# We want to predict Close value of stock \n",
    "X_train = scaler.fit_transform(df_train.drop(['Close'],axis=1))\n",
    "y_train = scaler.fit_transform(df_train['Close'].values.reshape(-1,1))\n",
    "\n",
    "# y is output and x is features.\n",
    "X_test = scaler.fit_transform(df_test.drop(['Close'],axis=1))\n",
    "y_test = scaler.fit_transform(df_test['Close'].values.reshape(-1,1))"
   ]
  },
  {
   "cell_type": "code",
   "execution_count": 31,
   "metadata": {
    "tags": []
   },
   "outputs": [],
   "source": [
    "def denormalize(df,norm_data):\n",
    "    df = df['Close'].values.reshape(-1,1)\n",
    "    norm_data = norm_data.reshape(-1,1)\n",
    "    scl = MinMaxScaler()\n",
    "    a = scl.fit_transform(df)\n",
    "    new = scl.inverse_transform(norm_data)\n",
    "    return new\n"
   ]
  },
  {
   "cell_type": "code",
   "execution_count": 32,
   "metadata": {
    "tags": []
   },
   "outputs": [
    {
     "output_type": "stream",
     "name": "stdout",
     "text": "Cost after iteration 0: 0.336948\nCost after iteration 1000: 0.000551\nCost after iteration 2000: 0.000359\nCost after iteration 3000: 0.000322\nCost after iteration 4000: 0.000306\nCost after iteration 5000: 0.000296\nCost after iteration 6000: 0.000289\nCost after iteration 7000: 0.000283\nCost after iteration 8000: 0.000277\nCost after iteration 9000: 0.000272\n"
    }
   ],
   "source": [
    "parameters = nn_model2(X_train.T, y_train.T, n_h = 4, print_cost = True)"
   ]
  },
  {
   "cell_type": "code",
   "execution_count": 33,
   "metadata": {
    "tags": []
   },
   "outputs": [
    {
     "output_type": "stream",
     "name": "stdout",
     "text": "W1 = [[-0.08998939 -0.39789693 -0.49145489]\n [-0.06517168 -0.43403467 -0.50479412]\n [-0.07371311 -0.24902063 -0.2820429 ]\n [ 0.06971755  0.24691751  0.3002507 ]]\nb1 = [[ 0.48467439]\n [ 0.53339877]\n [ 0.2351149 ]\n [-0.23999128]]\nW2 = [[-0.36344628 -0.37905357 -0.22678042  0.23376225]]\nb2 = [[0.46685603]]\n"
    }
   ],
   "source": [
    "print(\"W1 = \" + str(parameters[\"W1\"]))\n",
    "print(\"b1 = \" + str(parameters[\"b1\"]))\n",
    "print(\"W2 = \" + str(parameters[\"W2\"]))\n",
    "print(\"b2 = \" + str(parameters[\"b2\"]))"
   ]
  },
  {
   "cell_type": "code",
   "execution_count": 34,
   "metadata": {
    "tags": []
   },
   "outputs": [
    {
     "output_type": "stream",
     "name": "stdout",
     "text": "predictions mean = 0.5825986319271204\n"
    }
   ],
   "source": [
    "predictions = predict2(parameters, X_test.T)\n",
    "print(\"predictions mean = \" + str(np.mean(predictions)))"
   ]
  },
  {
   "cell_type": "code",
   "execution_count": 35,
   "metadata": {},
   "outputs": [],
   "source": [
    "pred = denormalize(df_test, predictions.T)"
   ]
  },
  {
   "cell_type": "code",
   "execution_count": 239,
   "metadata": {},
   "outputs": [
    {
     "output_type": "execute_result",
     "data": {
      "text/plain": "[<matplotlib.lines.Line2D at 0x7f895764a1d0>]"
     },
     "metadata": {},
     "execution_count": 239
    },
    {
     "output_type": "display_data",
     "data": {
      "text/plain": "<Figure size 864x648 with 1 Axes>",
      "image/svg+xml": "<?xml version=\"1.0\" encoding=\"utf-8\" standalone=\"no\"?>\n<!DOCTYPE svg PUBLIC \"-//W3C//DTD SVG 1.1//EN\"\n  \"http://www.w3.org/Graphics/SVG/1.1/DTD/svg11.dtd\">\n<!-- Created with matplotlib (https://matplotlib.org/) -->\n<svg height=\"520.318125pt\" version=\"1.1\" viewBox=\"0 0 722.8125 520.318125\" width=\"722.8125pt\" xmlns=\"http://www.w3.org/2000/svg\" xmlns:xlink=\"http://www.w3.org/1999/xlink\">\n <defs>\n  <style type=\"text/css\">\n*{stroke-linecap:butt;stroke-linejoin:round;}\n  </style>\n </defs>\n <g id=\"figure_1\">\n  <g id=\"patch_1\">\n   <path d=\"M 0 520.318125 \nL 722.8125 520.318125 \nL 722.8125 0 \nL 0 0 \nz\n\" style=\"fill:none;\"/>\n  </g>\n  <g id=\"axes_1\">\n   <g id=\"patch_2\">\n    <path d=\"M 46.0125 496.44 \nL 715.6125 496.44 \nL 715.6125 7.2 \nL 46.0125 7.2 \nz\n\" style=\"fill:#ffffff;\"/>\n   </g>\n   <g id=\"matplotlib.axis_1\">\n    <g id=\"xtick_1\">\n     <g id=\"line2d_1\">\n      <defs>\n       <path d=\"M 0 0 \nL 0 3.5 \n\" id=\"ma6ba603a63\" style=\"stroke:#000000;stroke-width:0.8;\"/>\n      </defs>\n      <g>\n       <use style=\"stroke:#000000;stroke-width:0.8;\" x=\"76.448864\" xlink:href=\"#ma6ba603a63\" y=\"496.44\"/>\n      </g>\n     </g>\n     <g id=\"text_1\">\n      <!-- 0 -->\n      <defs>\n       <path d=\"M 31.78125 66.40625 \nQ 24.171875 66.40625 20.328125 58.90625 \nQ 16.5 51.421875 16.5 36.375 \nQ 16.5 21.390625 20.328125 13.890625 \nQ 24.171875 6.390625 31.78125 6.390625 \nQ 39.453125 6.390625 43.28125 13.890625 \nQ 47.125 21.390625 47.125 36.375 \nQ 47.125 51.421875 43.28125 58.90625 \nQ 39.453125 66.40625 31.78125 66.40625 \nz\nM 31.78125 74.21875 \nQ 44.046875 74.21875 50.515625 64.515625 \nQ 56.984375 54.828125 56.984375 36.375 \nQ 56.984375 17.96875 50.515625 8.265625 \nQ 44.046875 -1.421875 31.78125 -1.421875 \nQ 19.53125 -1.421875 13.0625 8.265625 \nQ 6.59375 17.96875 6.59375 36.375 \nQ 6.59375 54.828125 13.0625 64.515625 \nQ 19.53125 74.21875 31.78125 74.21875 \nz\n\" id=\"DejaVuSans-48\"/>\n      </defs>\n      <g transform=\"translate(73.267614 511.038438)scale(0.1 -0.1)\">\n       <use xlink:href=\"#DejaVuSans-48\"/>\n      </g>\n     </g>\n    </g>\n    <g id=\"xtick_2\">\n     <g id=\"line2d_2\">\n      <g>\n       <use style=\"stroke:#000000;stroke-width:0.8;\" x=\"153.308368\" xlink:href=\"#ma6ba603a63\" y=\"496.44\"/>\n      </g>\n     </g>\n     <g id=\"text_2\">\n      <!-- 25 -->\n      <defs>\n       <path d=\"M 19.1875 8.296875 \nL 53.609375 8.296875 \nL 53.609375 0 \nL 7.328125 0 \nL 7.328125 8.296875 \nQ 12.9375 14.109375 22.625 23.890625 \nQ 32.328125 33.6875 34.8125 36.53125 \nQ 39.546875 41.84375 41.421875 45.53125 \nQ 43.3125 49.21875 43.3125 52.78125 \nQ 43.3125 58.59375 39.234375 62.25 \nQ 35.15625 65.921875 28.609375 65.921875 \nQ 23.96875 65.921875 18.8125 64.3125 \nQ 13.671875 62.703125 7.8125 59.421875 \nL 7.8125 69.390625 \nQ 13.765625 71.78125 18.9375 73 \nQ 24.125 74.21875 28.421875 74.21875 \nQ 39.75 74.21875 46.484375 68.546875 \nQ 53.21875 62.890625 53.21875 53.421875 \nQ 53.21875 48.921875 51.53125 44.890625 \nQ 49.859375 40.875 45.40625 35.40625 \nQ 44.1875 33.984375 37.640625 27.21875 \nQ 31.109375 20.453125 19.1875 8.296875 \nz\n\" id=\"DejaVuSans-50\"/>\n       <path d=\"M 10.796875 72.90625 \nL 49.515625 72.90625 \nL 49.515625 64.59375 \nL 19.828125 64.59375 \nL 19.828125 46.734375 \nQ 21.96875 47.46875 24.109375 47.828125 \nQ 26.265625 48.1875 28.421875 48.1875 \nQ 40.625 48.1875 47.75 41.5 \nQ 54.890625 34.8125 54.890625 23.390625 \nQ 54.890625 11.625 47.5625 5.09375 \nQ 40.234375 -1.421875 26.90625 -1.421875 \nQ 22.3125 -1.421875 17.546875 -0.640625 \nQ 12.796875 0.140625 7.71875 1.703125 \nL 7.71875 11.625 \nQ 12.109375 9.234375 16.796875 8.0625 \nQ 21.484375 6.890625 26.703125 6.890625 \nQ 35.15625 6.890625 40.078125 11.328125 \nQ 45.015625 15.765625 45.015625 23.390625 \nQ 45.015625 31 40.078125 35.4375 \nQ 35.15625 39.890625 26.703125 39.890625 \nQ 22.75 39.890625 18.8125 39.015625 \nQ 14.890625 38.140625 10.796875 36.28125 \nz\n\" id=\"DejaVuSans-53\"/>\n      </defs>\n      <g transform=\"translate(146.945868 511.038438)scale(0.1 -0.1)\">\n       <use xlink:href=\"#DejaVuSans-50\"/>\n       <use x=\"63.623047\" xlink:href=\"#DejaVuSans-53\"/>\n      </g>\n     </g>\n    </g>\n    <g id=\"xtick_3\">\n     <g id=\"line2d_3\">\n      <g>\n       <use style=\"stroke:#000000;stroke-width:0.8;\" x=\"230.167872\" xlink:href=\"#ma6ba603a63\" y=\"496.44\"/>\n      </g>\n     </g>\n     <g id=\"text_3\">\n      <!-- 50 -->\n      <g transform=\"translate(223.805372 511.038438)scale(0.1 -0.1)\">\n       <use xlink:href=\"#DejaVuSans-53\"/>\n       <use x=\"63.623047\" xlink:href=\"#DejaVuSans-48\"/>\n      </g>\n     </g>\n    </g>\n    <g id=\"xtick_4\">\n     <g id=\"line2d_4\">\n      <g>\n       <use style=\"stroke:#000000;stroke-width:0.8;\" x=\"307.027376\" xlink:href=\"#ma6ba603a63\" y=\"496.44\"/>\n      </g>\n     </g>\n     <g id=\"text_4\">\n      <!-- 75 -->\n      <defs>\n       <path d=\"M 8.203125 72.90625 \nL 55.078125 72.90625 \nL 55.078125 68.703125 \nL 28.609375 0 \nL 18.3125 0 \nL 43.21875 64.59375 \nL 8.203125 64.59375 \nz\n\" id=\"DejaVuSans-55\"/>\n      </defs>\n      <g transform=\"translate(300.664876 511.038438)scale(0.1 -0.1)\">\n       <use xlink:href=\"#DejaVuSans-55\"/>\n       <use x=\"63.623047\" xlink:href=\"#DejaVuSans-53\"/>\n      </g>\n     </g>\n    </g>\n    <g id=\"xtick_5\">\n     <g id=\"line2d_5\">\n      <g>\n       <use style=\"stroke:#000000;stroke-width:0.8;\" x=\"383.88688\" xlink:href=\"#ma6ba603a63\" y=\"496.44\"/>\n      </g>\n     </g>\n     <g id=\"text_5\">\n      <!-- 100 -->\n      <defs>\n       <path d=\"M 12.40625 8.296875 \nL 28.515625 8.296875 \nL 28.515625 63.921875 \nL 10.984375 60.40625 \nL 10.984375 69.390625 \nL 28.421875 72.90625 \nL 38.28125 72.90625 \nL 38.28125 8.296875 \nL 54.390625 8.296875 \nL 54.390625 0 \nL 12.40625 0 \nz\n\" id=\"DejaVuSans-49\"/>\n      </defs>\n      <g transform=\"translate(374.34313 511.038438)scale(0.1 -0.1)\">\n       <use xlink:href=\"#DejaVuSans-49\"/>\n       <use x=\"63.623047\" xlink:href=\"#DejaVuSans-48\"/>\n       <use x=\"127.246094\" xlink:href=\"#DejaVuSans-48\"/>\n      </g>\n     </g>\n    </g>\n    <g id=\"xtick_6\">\n     <g id=\"line2d_6\">\n      <g>\n       <use style=\"stroke:#000000;stroke-width:0.8;\" x=\"460.746384\" xlink:href=\"#ma6ba603a63\" y=\"496.44\"/>\n      </g>\n     </g>\n     <g id=\"text_6\">\n      <!-- 125 -->\n      <g transform=\"translate(451.202634 511.038438)scale(0.1 -0.1)\">\n       <use xlink:href=\"#DejaVuSans-49\"/>\n       <use x=\"63.623047\" xlink:href=\"#DejaVuSans-50\"/>\n       <use x=\"127.246094\" xlink:href=\"#DejaVuSans-53\"/>\n      </g>\n     </g>\n    </g>\n    <g id=\"xtick_7\">\n     <g id=\"line2d_7\">\n      <g>\n       <use style=\"stroke:#000000;stroke-width:0.8;\" x=\"537.605888\" xlink:href=\"#ma6ba603a63\" y=\"496.44\"/>\n      </g>\n     </g>\n     <g id=\"text_7\">\n      <!-- 150 -->\n      <g transform=\"translate(528.062138 511.038438)scale(0.1 -0.1)\">\n       <use xlink:href=\"#DejaVuSans-49\"/>\n       <use x=\"63.623047\" xlink:href=\"#DejaVuSans-53\"/>\n       <use x=\"127.246094\" xlink:href=\"#DejaVuSans-48\"/>\n      </g>\n     </g>\n    </g>\n    <g id=\"xtick_8\">\n     <g id=\"line2d_8\">\n      <g>\n       <use style=\"stroke:#000000;stroke-width:0.8;\" x=\"614.465393\" xlink:href=\"#ma6ba603a63\" y=\"496.44\"/>\n      </g>\n     </g>\n     <g id=\"text_8\">\n      <!-- 175 -->\n      <g transform=\"translate(604.921643 511.038438)scale(0.1 -0.1)\">\n       <use xlink:href=\"#DejaVuSans-49\"/>\n       <use x=\"63.623047\" xlink:href=\"#DejaVuSans-55\"/>\n       <use x=\"127.246094\" xlink:href=\"#DejaVuSans-53\"/>\n      </g>\n     </g>\n    </g>\n    <g id=\"xtick_9\">\n     <g id=\"line2d_9\">\n      <g>\n       <use style=\"stroke:#000000;stroke-width:0.8;\" x=\"691.324897\" xlink:href=\"#ma6ba603a63\" y=\"496.44\"/>\n      </g>\n     </g>\n     <g id=\"text_9\">\n      <!-- 200 -->\n      <g transform=\"translate(681.781147 511.038438)scale(0.1 -0.1)\">\n       <use xlink:href=\"#DejaVuSans-50\"/>\n       <use x=\"63.623047\" xlink:href=\"#DejaVuSans-48\"/>\n       <use x=\"127.246094\" xlink:href=\"#DejaVuSans-48\"/>\n      </g>\n     </g>\n    </g>\n   </g>\n   <g id=\"matplotlib.axis_2\">\n    <g id=\"ytick_1\">\n     <g id=\"line2d_10\">\n      <defs>\n       <path d=\"M 0 0 \nL -3.5 0 \n\" id=\"m8e166586fb\" style=\"stroke:#000000;stroke-width:0.8;\"/>\n      </defs>\n      <g>\n       <use style=\"stroke:#000000;stroke-width:0.8;\" x=\"46.0125\" xlink:href=\"#m8e166586fb\" y=\"412.159948\"/>\n      </g>\n     </g>\n     <g id=\"text_10\">\n      <!-- 16000 -->\n      <defs>\n       <path d=\"M 33.015625 40.375 \nQ 26.375 40.375 22.484375 35.828125 \nQ 18.609375 31.296875 18.609375 23.390625 \nQ 18.609375 15.53125 22.484375 10.953125 \nQ 26.375 6.390625 33.015625 6.390625 \nQ 39.65625 6.390625 43.53125 10.953125 \nQ 47.40625 15.53125 47.40625 23.390625 \nQ 47.40625 31.296875 43.53125 35.828125 \nQ 39.65625 40.375 33.015625 40.375 \nz\nM 52.59375 71.296875 \nL 52.59375 62.3125 \nQ 48.875 64.0625 45.09375 64.984375 \nQ 41.3125 65.921875 37.59375 65.921875 \nQ 27.828125 65.921875 22.671875 59.328125 \nQ 17.53125 52.734375 16.796875 39.40625 \nQ 19.671875 43.65625 24.015625 45.921875 \nQ 28.375 48.1875 33.59375 48.1875 \nQ 44.578125 48.1875 50.953125 41.515625 \nQ 57.328125 34.859375 57.328125 23.390625 \nQ 57.328125 12.15625 50.6875 5.359375 \nQ 44.046875 -1.421875 33.015625 -1.421875 \nQ 20.359375 -1.421875 13.671875 8.265625 \nQ 6.984375 17.96875 6.984375 36.375 \nQ 6.984375 53.65625 15.1875 63.9375 \nQ 23.390625 74.21875 37.203125 74.21875 \nQ 40.921875 74.21875 44.703125 73.484375 \nQ 48.484375 72.75 52.59375 71.296875 \nz\n\" id=\"DejaVuSans-54\"/>\n      </defs>\n      <g transform=\"translate(7.2 415.959167)scale(0.1 -0.1)\">\n       <use xlink:href=\"#DejaVuSans-49\"/>\n       <use x=\"63.623047\" xlink:href=\"#DejaVuSans-54\"/>\n       <use x=\"127.246094\" xlink:href=\"#DejaVuSans-48\"/>\n       <use x=\"190.869141\" xlink:href=\"#DejaVuSans-48\"/>\n       <use x=\"254.492188\" xlink:href=\"#DejaVuSans-48\"/>\n      </g>\n     </g>\n    </g>\n    <g id=\"ytick_2\">\n     <g id=\"line2d_11\">\n      <g>\n       <use style=\"stroke:#000000;stroke-width:0.8;\" x=\"46.0125\" xlink:href=\"#m8e166586fb\" y=\"320.873576\"/>\n      </g>\n     </g>\n     <g id=\"text_11\">\n      <!-- 16500 -->\n      <g transform=\"translate(7.2 324.672795)scale(0.1 -0.1)\">\n       <use xlink:href=\"#DejaVuSans-49\"/>\n       <use x=\"63.623047\" xlink:href=\"#DejaVuSans-54\"/>\n       <use x=\"127.246094\" xlink:href=\"#DejaVuSans-53\"/>\n       <use x=\"190.869141\" xlink:href=\"#DejaVuSans-48\"/>\n       <use x=\"254.492188\" xlink:href=\"#DejaVuSans-48\"/>\n      </g>\n     </g>\n    </g>\n    <g id=\"ytick_3\">\n     <g id=\"line2d_12\">\n      <g>\n       <use style=\"stroke:#000000;stroke-width:0.8;\" x=\"46.0125\" xlink:href=\"#m8e166586fb\" y=\"229.587204\"/>\n      </g>\n     </g>\n     <g id=\"text_12\">\n      <!-- 17000 -->\n      <g transform=\"translate(7.2 233.386423)scale(0.1 -0.1)\">\n       <use xlink:href=\"#DejaVuSans-49\"/>\n       <use x=\"63.623047\" xlink:href=\"#DejaVuSans-55\"/>\n       <use x=\"127.246094\" xlink:href=\"#DejaVuSans-48\"/>\n       <use x=\"190.869141\" xlink:href=\"#DejaVuSans-48\"/>\n       <use x=\"254.492188\" xlink:href=\"#DejaVuSans-48\"/>\n      </g>\n     </g>\n    </g>\n    <g id=\"ytick_4\">\n     <g id=\"line2d_13\">\n      <g>\n       <use style=\"stroke:#000000;stroke-width:0.8;\" x=\"46.0125\" xlink:href=\"#m8e166586fb\" y=\"138.300832\"/>\n      </g>\n     </g>\n     <g id=\"text_13\">\n      <!-- 17500 -->\n      <g transform=\"translate(7.2 142.100051)scale(0.1 -0.1)\">\n       <use xlink:href=\"#DejaVuSans-49\"/>\n       <use x=\"63.623047\" xlink:href=\"#DejaVuSans-55\"/>\n       <use x=\"127.246094\" xlink:href=\"#DejaVuSans-53\"/>\n       <use x=\"190.869141\" xlink:href=\"#DejaVuSans-48\"/>\n       <use x=\"254.492188\" xlink:href=\"#DejaVuSans-48\"/>\n      </g>\n     </g>\n    </g>\n    <g id=\"ytick_5\">\n     <g id=\"line2d_14\">\n      <g>\n       <use style=\"stroke:#000000;stroke-width:0.8;\" x=\"46.0125\" xlink:href=\"#m8e166586fb\" y=\"47.01446\"/>\n      </g>\n     </g>\n     <g id=\"text_14\">\n      <!-- 18000 -->\n      <defs>\n       <path d=\"M 31.78125 34.625 \nQ 24.75 34.625 20.71875 30.859375 \nQ 16.703125 27.09375 16.703125 20.515625 \nQ 16.703125 13.921875 20.71875 10.15625 \nQ 24.75 6.390625 31.78125 6.390625 \nQ 38.8125 6.390625 42.859375 10.171875 \nQ 46.921875 13.96875 46.921875 20.515625 \nQ 46.921875 27.09375 42.890625 30.859375 \nQ 38.875 34.625 31.78125 34.625 \nz\nM 21.921875 38.8125 \nQ 15.578125 40.375 12.03125 44.71875 \nQ 8.5 49.078125 8.5 55.328125 \nQ 8.5 64.0625 14.71875 69.140625 \nQ 20.953125 74.21875 31.78125 74.21875 \nQ 42.671875 74.21875 48.875 69.140625 \nQ 55.078125 64.0625 55.078125 55.328125 \nQ 55.078125 49.078125 51.53125 44.71875 \nQ 48 40.375 41.703125 38.8125 \nQ 48.828125 37.15625 52.796875 32.3125 \nQ 56.78125 27.484375 56.78125 20.515625 \nQ 56.78125 9.90625 50.3125 4.234375 \nQ 43.84375 -1.421875 31.78125 -1.421875 \nQ 19.734375 -1.421875 13.25 4.234375 \nQ 6.78125 9.90625 6.78125 20.515625 \nQ 6.78125 27.484375 10.78125 32.3125 \nQ 14.796875 37.15625 21.921875 38.8125 \nz\nM 18.3125 54.390625 \nQ 18.3125 48.734375 21.84375 45.5625 \nQ 25.390625 42.390625 31.78125 42.390625 \nQ 38.140625 42.390625 41.71875 45.5625 \nQ 45.3125 48.734375 45.3125 54.390625 \nQ 45.3125 60.0625 41.71875 63.234375 \nQ 38.140625 66.40625 31.78125 66.40625 \nQ 25.390625 66.40625 21.84375 63.234375 \nQ 18.3125 60.0625 18.3125 54.390625 \nz\n\" id=\"DejaVuSans-56\"/>\n      </defs>\n      <g transform=\"translate(7.2 50.813679)scale(0.1 -0.1)\">\n       <use xlink:href=\"#DejaVuSans-49\"/>\n       <use x=\"63.623047\" xlink:href=\"#DejaVuSans-56\"/>\n       <use x=\"127.246094\" xlink:href=\"#DejaVuSans-48\"/>\n       <use x=\"190.869141\" xlink:href=\"#DejaVuSans-48\"/>\n       <use x=\"254.492188\" xlink:href=\"#DejaVuSans-48\"/>\n      </g>\n     </g>\n    </g>\n   </g>\n   <g id=\"line2d_15\">\n    <path clip-path=\"url(#pdfdca625ee)\" d=\"M 76.448864 100.707278 \nL 79.523244 94.368353 \nL 82.597624 108.959566 \nL 85.672004 110.684879 \nL 88.746384 92.491505 \nL 91.820764 66.885677 \nL 94.895145 88.341626 \nL 97.969525 77.913071 \nL 101.043905 39.428562 \nL 104.118285 48.781764 \nL 107.192665 51.169816 \nL 110.267045 46.329812 \nL 113.341426 50.205831 \nL 116.415806 29.438182 \nL 119.490186 37.228561 \nL 122.564566 46.254957 \nL 125.638946 65.735469 \nL 128.713326 60.446337 \nL 131.787707 63.760032 \nL 134.862087 97.906612 \nL 137.936467 128.001903 \nL 141.010847 124.250034 \nL 144.085227 130.64008 \nL 147.159607 98.855991 \nL 150.233988 119.437416 \nL 153.308368 95.031092 \nL 156.382748 84.852661 \nL 159.457128 104.508443 \nL 162.531508 98.744621 \nL 165.605888 113.998574 \nL 168.680269 131.839583 \nL 171.754649 135.428963 \nL 174.829029 137.827969 \nL 177.903409 123.225801 \nL 180.977789 115.685546 \nL 184.052169 119.62364 \nL 187.12655 141.680253 \nL 190.20093 170.112307 \nL 193.27531 183.664682 \nL 196.34969 187.754311 \nL 199.42407 190.642612 \nL 202.49845 230.476333 \nL 205.572831 229.521478 \nL 208.647211 236.141566 \nL 211.721591 216.08595 \nL 214.795971 228.351187 \nL 217.870351 239.829535 \nL 220.944731 247.968628 \nL 224.019112 254.219919 \nL 227.093492 317.861126 \nL 230.167872 295.318869 \nL 233.242252 284.853799 \nL 236.316632 323.613993 \nL 239.391012 333.328689 \nL 242.465393 298.844349 \nL 245.539773 340.593258 \nL 248.614153 336.678899 \nL 251.688533 329.30296 \nL 254.762913 376.300836 \nL 257.837293 416.936051 \nL 260.911674 474.201818 \nL 263.986054 427.7261 \nL 267.060434 409.534552 \nL 270.134814 407.221356 \nL 273.209194 374.738013 \nL 276.283574 336.103794 \nL 279.357955 350.695008 \nL 282.432335 384.127729 \nL 285.506715 330.151923 \nL 288.581095 327.026278 \nL 291.655475 399.445582 \nL 294.729855 422.300038 \nL 297.804236 381.628308 \nL 300.878616 433.115648 \nL 303.952996 395.087571 \nL 307.027376 433.579383 \nL 310.101756 454.746867 \nL 313.176136 409.235133 \nL 316.250517 414.336215 \nL 319.324897 342.95575 \nL 322.399277 384.516609 \nL 325.473657 317.912246 \nL 328.548037 339.39193 \nL 331.622417 348.907621 \nL 334.696798 318.2993 \nL 337.771178 246.65593 \nL 340.845558 200.620212 \nL 343.919938 202.39482 \nL 346.994318 151.988311 \nL 350.068698 119.337001 \nL 353.143079 97.955907 \nL 356.217459 133.139501 \nL 359.291839 128.776012 \nL 362.366219 119.567043 \nL 365.440599 153.405075 \nL 368.514979 183.64825 \nL 371.58936 206.117478 \nL 374.66374 139.060335 \nL 377.73812 92.823787 \nL 380.8125 133.752945 \nL 383.88688 162.309148 \nL 386.96126 181.167087 \nL 390.03564 124.653519 \nL 393.110021 139.706642 \nL 396.184401 125.885885 \nL 399.258781 96.215989 \nL 402.333161 74.833069 \nL 405.407541 142.377681 \nL 408.481921 96.367524 \nL 411.556302 67.398707 \nL 414.630682 98.149434 \nL 417.705062 83.804694 \nL 420.779442 81.08436 \nL 423.853822 81.303447 \nL 426.928202 84.865441 \nL 430.002583 79.181952 \nL 433.076963 95.807026 \nL 436.151343 95.00188 \nL 439.225723 140.217846 \nL 442.300103 141.402743 \nL 445.374483 184.813064 \nL 448.448864 147.781835 \nL 451.523244 101.380972 \nL 454.597624 91.158724 \nL 457.672004 96.221466 \nL 460.746384 63.385758 \nL 463.820764 71.94842 \nL 466.895145 71.190743 \nL 469.969525 61.958039 \nL 473.043905 78.278217 \nL 476.118285 108.442885 \nL 479.192665 91.598724 \nL 482.267045 87.268099 \nL 485.341426 123.433933 \nL 488.415806 115.835256 \nL 491.490186 111.51741 \nL 494.564566 140.279921 \nL 497.638946 198.803614 \nL 500.713326 189.948836 \nL 503.787707 187.496884 \nL 506.862087 190.156969 \nL 509.936467 203.707518 \nL 513.010847 243.325803 \nL 516.085227 214.636322 \nL 519.159607 205.513162 \nL 522.233988 214.161633 \nL 525.308368 220.321637 \nL 528.382748 245.600659 \nL 531.457128 267.892792 \nL 534.531508 270.404992 \nL 537.605888 325.918061 \nL 540.680269 362.498336 \nL 543.754649 360.181488 \nL 546.829029 403.190149 \nL 549.903409 411.814886 \nL 552.977789 354.709783 \nL 556.052169 375.404403 \nL 559.12655 361.059663 \nL 562.20093 351.825133 \nL 565.27531 319.01316 \nL 568.34969 341.946122 \nL 571.42407 288.970815 \nL 574.49845 277.065246 \nL 577.572831 302.643688 \nL 580.647211 344.432763 \nL 583.721591 333.089518 \nL 586.795971 351.837914 \nL 589.870351 365.864978 \nL 592.944731 322.210009 \nL 596.019112 393.468151 \nL 599.093492 343.738987 \nL 602.167872 348.007537 \nL 605.242252 401.506829 \nL 608.316632 315.756062 \nL 611.391012 294.763848 \nL 614.465393 292.616793 \nL 617.539773 360.033604 \nL 620.614153 473.058913 \nL 623.688533 435.647932 \nL 626.762913 328.222129 \nL 629.837293 231.286956 \nL 632.911674 165.918611 \nL 635.986054 136.230457 \nL 639.060434 130.052195 \nL 645.209194 155.051881 \nL 648.283574 156.099849 \nL 651.357955 156.0396 \nL 654.432335 117.273929 \nL 657.506715 161.418193 \nL 660.581095 152.952295 \nL 663.655475 130.912113 \nL 666.729855 129.04622 \nL 669.804236 120.372189 \nL 672.878616 103.637571 \nL 675.952996 93.391588 \nL 679.027376 92.40387 \nL 682.101756 114.517081 \nL 685.176136 149.147479 \nL 685.176136 149.147479 \n\" style=\"fill:none;stroke:#1f77b4;stroke-linecap:square;stroke-width:1.5;\"/>\n   </g>\n   <g id=\"line2d_16\">\n    <path clip-path=\"url(#pdfdca625ee)\" d=\"M 76.448864 104.438846 \nL 79.523244 115.53366 \nL 82.597624 113.222211 \nL 85.672004 112.523864 \nL 88.746384 95.812077 \nL 91.820764 86.349253 \nL 94.895145 102.270777 \nL 97.969525 72.259184 \nL 101.043905 60.313565 \nL 104.118285 62.313103 \nL 107.192665 71.653649 \nL 110.267045 65.272548 \nL 113.341426 54.301224 \nL 116.415806 45.936574 \nL 119.490186 54.251071 \nL 122.564566 72.307221 \nL 125.638946 75.545277 \nL 128.713326 72.670639 \nL 131.787707 88.914221 \nL 134.862087 118.828336 \nL 137.936467 119.393571 \nL 141.010847 124.88209 \nL 144.085227 126.837029 \nL 147.159607 120.758946 \nL 150.233988 116.580309 \nL 153.308368 98.658805 \nL 156.382748 111.230106 \nL 159.457128 106.820422 \nL 162.531508 106.520746 \nL 165.605888 136.942267 \nL 168.680269 136.67834 \nL 171.754649 150.046129 \nL 174.829029 135.842848 \nL 177.903409 126.702083 \nL 180.977789 126.359105 \nL 184.052169 134.96024 \nL 187.12655 159.877494 \nL 190.20093 180.693535 \nL 193.27531 198.489716 \nL 196.34969 193.361008 \nL 199.42407 213.165164 \nL 202.49845 236.906861 \nL 205.572831 233.677619 \nL 208.647211 232.539337 \nL 211.721591 229.745648 \nL 214.795971 237.053242 \nL 217.870351 254.201737 \nL 220.944731 263.181645 \nL 224.019112 289.646222 \nL 227.093492 302.611388 \nL 230.167872 286.061377 \nL 233.242252 311.388954 \nL 236.316632 352.267465 \nL 239.391012 321.354245 \nL 242.465393 319.008531 \nL 245.539773 350.997443 \nL 248.614153 332.509601 \nL 251.688533 352.974354 \nL 254.762913 395.272398 \nL 257.837293 440.88154 \nL 260.911674 456.885953 \nL 263.986054 403.207868 \nL 267.060434 410.045439 \nL 270.134814 412.974524 \nL 273.209194 361.85703 \nL 276.283574 347.278662 \nL 279.357955 382.328519 \nL 282.432335 363.809881 \nL 285.506715 340.531018 \nL 288.581095 366.893729 \nL 291.655475 414.643714 \nL 294.729855 400.30423 \nL 297.804236 407.134637 \nL 300.878616 412.648625 \nL 303.952996 408.26277 \nL 307.027376 434.117163 \nL 310.101756 452.879285 \nL 313.176136 405.851409 \nL 316.250517 391.106452 \nL 319.324897 365.767955 \nL 322.399277 347.104781 \nL 325.473657 332.748916 \nL 328.548037 351.504965 \nL 331.622417 326.823383 \nL 334.696798 288.96271 \nL 337.771178 232.755372 \nL 340.845558 211.00553 \nL 343.919938 196.348697 \nL 346.994318 140.833812 \nL 350.068698 116.250203 \nL 353.143079 119.250324 \nL 356.217459 144.627212 \nL 359.291839 129.86333 \nL 362.366219 141.528773 \nL 365.440599 171.650923 \nL 368.514979 198.120833 \nL 371.58936 173.785582 \nL 374.66374 116.651383 \nL 377.73812 121.827834 \nL 380.8125 147.712071 \nL 383.88688 185.73264 \nL 390.03564 129.79038 \nL 393.110021 128.959487 \nL 396.184401 125.199667 \nL 399.258781 100.458782 \nL 402.333161 116.368125 \nL 405.407541 123.400747 \nL 408.481921 90.5514 \nL 411.556302 92.559845 \nL 414.630682 95.626803 \nL 417.705062 93.868613 \nL 420.779442 87.91728 \nL 423.853822 96.955162 \nL 426.928202 90.652771 \nL 430.002583 90.004894 \nL 433.076963 104.227819 \nL 436.151343 124.860353 \nL 439.225723 139.378973 \nL 442.300103 172.1148 \nL 445.374483 169.937947 \nL 448.448864 129.601856 \nL 451.523244 100.088284 \nL 454.597624 106.63993 \nL 457.672004 93.375167 \nL 460.746384 85.700468 \nL 463.820764 83.407757 \nL 466.895145 76.406019 \nL 469.969525 79.414122 \nL 473.043905 101.827992 \nL 476.118285 103.40643 \nL 479.192665 102.565884 \nL 482.267045 115.640553 \nL 485.341426 127.656528 \nL 488.415806 120.229709 \nL 491.490186 126.755714 \nL 494.564566 173.536593 \nL 497.638946 190.47518 \nL 500.713326 194.938768 \nL 506.862087 203.394228 \nL 509.936467 227.364811 \nL 513.010847 231.720815 \nL 516.085227 213.803075 \nL 519.159607 214.564066 \nL 522.233988 220.472009 \nL 528.382748 258.824752 \nL 531.457128 269.07382 \nL 534.531508 299.547287 \nL 537.605888 369.840064 \nL 540.680269 374.445562 \nL 543.754649 383.266012 \nL 546.829029 406.746992 \nL 549.903409 383.95647 \nL 552.977789 355.893671 \nL 556.052169 386.471028 \nL 559.12655 362.020656 \nL 562.20093 349.178383 \nL 565.27531 328.246066 \nL 568.34969 320.002973 \nL 571.42407 272.934678 \nL 574.49845 293.74916 \nL 577.572831 324.074629 \nL 580.647211 342.84718 \nL 583.721591 353.100762 \nL 586.795971 356.417778 \nL 589.870351 333.799005 \nL 592.944731 362.064744 \nL 596.019112 374.933261 \nL 599.093492 337.368821 \nL 602.167872 378.866492 \nL 605.242252 363.882725 \nL 608.316632 315.877006 \nL 611.391012 304.902759 \nL 614.465393 331.834422 \nL 617.539773 418.114753 \nL 620.614153 416.20291 \nL 623.688533 417.773949 \nL 626.762913 279.159593 \nL 629.837293 199.502628 \nL 632.911674 159.059465 \nL 635.986054 138.228897 \nL 639.060434 152.138396 \nL 642.134814 153.554226 \nL 645.209194 158.823791 \nL 648.283574 181.340414 \nL 651.357955 146.021032 \nL 654.432335 144.870059 \nL 657.506715 169.004095 \nL 660.581095 147.705096 \nL 663.655475 130.207472 \nL 666.729855 130.550326 \nL 669.804236 124.375345 \nL 672.878616 103.980814 \nL 675.952996 108.199599 \nL 679.027376 109.616677 \nL 682.101756 136.127879 \nL 685.176136 145.306977 \nL 685.176136 145.306977 \n\" style=\"fill:none;stroke:#ff7f0e;stroke-linecap:square;stroke-width:1.5;\"/>\n   </g>\n   <g id=\"patch_3\">\n    <path d=\"M 46.0125 496.44 \nL 46.0125 7.2 \n\" style=\"fill:none;stroke:#000000;stroke-linecap:square;stroke-linejoin:miter;stroke-width:0.8;\"/>\n   </g>\n   <g id=\"patch_4\">\n    <path d=\"M 715.6125 496.44 \nL 715.6125 7.2 \n\" style=\"fill:none;stroke:#000000;stroke-linecap:square;stroke-linejoin:miter;stroke-width:0.8;\"/>\n   </g>\n   <g id=\"patch_5\">\n    <path d=\"M 46.0125 496.44 \nL 715.6125 496.44 \n\" style=\"fill:none;stroke:#000000;stroke-linecap:square;stroke-linejoin:miter;stroke-width:0.8;\"/>\n   </g>\n   <g id=\"patch_6\">\n    <path d=\"M 46.0125 7.2 \nL 715.6125 7.2 \n\" style=\"fill:none;stroke:#000000;stroke-linecap:square;stroke-linejoin:miter;stroke-width:0.8;\"/>\n   </g>\n  </g>\n </g>\n <defs>\n  <clipPath id=\"pdfdca625ee\">\n   <rect height=\"489.24\" width=\"669.6\" x=\"46.0125\" y=\"7.2\"/>\n  </clipPath>\n </defs>\n</svg>\n",
      "image/png": "[encoded data removed]"
     },
     "metadata": {
      "needs_background": "light"
     }
    }
   ],
   "source": [
    "plt.plot(range(y_test.shape[0]),df_test['Close'])\n",
    "plt.plot(range(y_test.shape[0]),pred)"
   ]
  },
  {
   "cell_type": "code",
   "execution_count": null,
   "metadata": {},
   "outputs": [],
   "source": []
  },
  {
   "cell_type": "code",
   "execution_count": null,
   "metadata": {},
   "outputs": [],
   "source": []
  }
 ]
}